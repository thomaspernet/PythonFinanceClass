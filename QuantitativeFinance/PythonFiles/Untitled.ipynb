{
 "cells": [
  {
   "cell_type": "code",
   "execution_count": 1,
   "metadata": {
    "Collapsed": "false"
   },
   "outputs": [],
   "source": [
    "import pandas as pd"
   ]
  },
  {
   "cell_type": "code",
   "execution_count": 2,
   "metadata": {
    "Collapsed": "false"
   },
   "outputs": [],
   "source": [
    "df = pd.read_csv('https://raw.githubusercontent.com/thomaspernet/PythonFinanceClass/master/QuantitativeFinance/Datasets/R_data/2016_10_12_bank_prices.csv', sep = \";\")"
   ]
  },
  {
   "cell_type": "code",
   "execution_count": 3,
   "metadata": {
    "Collapsed": "false"
   },
   "outputs": [
    {
     "data": {
      "text/html": [
       "<div>\n",
       "<style scoped>\n",
       "    .dataframe tbody tr th:only-of-type {\n",
       "        vertical-align: middle;\n",
       "    }\n",
       "\n",
       "    .dataframe tbody tr th {\n",
       "        vertical-align: top;\n",
       "    }\n",
       "\n",
       "    .dataframe thead th {\n",
       "        text-align: right;\n",
       "    }\n",
       "</style>\n",
       "<table border=\"1\" class=\"dataframe\">\n",
       "  <thead>\n",
       "    <tr style=\"text-align: right;\">\n",
       "      <th></th>\n",
       "      <th>Date</th>\n",
       "      <th>MSCIWorldpreviousdayquote</th>\n",
       "      <th>FTSEALLWORLDINDEX</th>\n",
       "      <th>Eurostoxx</th>\n",
       "      <th>Eurostoxxbanks</th>\n",
       "      <th>USbanksDowJonesindex</th>\n",
       "      <th>VIXindexofVolatilityonChicagoDerivativesmarket%</th>\n",
       "      <th>FXEURUSD</th>\n",
       "      <th>FXEURGBP</th>\n",
       "      <th>FXEURCHF</th>\n",
       "      <th>...</th>\n",
       "      <th>CREDITSUISSEGROUPAGREG</th>\n",
       "      <th>BARCLAYSPLCGB</th>\n",
       "      <th>HSBCHOLDINGSPLCGB</th>\n",
       "      <th>ROYALBANKOFSCOTLANDGROUPGB</th>\n",
       "      <th>NORDEABANKAB</th>\n",
       "      <th>JPMORGANCHASECo</th>\n",
       "      <th>CITIGROUPINC</th>\n",
       "      <th>BANKOFAMERICA</th>\n",
       "      <th>GOLDMANSACHSGroup</th>\n",
       "      <th>MORGANSTANLEY</th>\n",
       "    </tr>\n",
       "  </thead>\n",
       "  <tbody>\n",
       "    <tr>\n",
       "      <th>0</th>\n",
       "      <td>12/10/2016</td>\n",
       "      <td>1700,33</td>\n",
       "      <td>272,35</td>\n",
       "      <td>339,97</td>\n",
       "      <td>96,14</td>\n",
       "      <td>3839,01</td>\n",
       "      <td>15,77</td>\n",
       "      <td>1,1025</td>\n",
       "      <td>0,89807</td>\n",
       "      <td>1,09108</td>\n",
       "      <td>...</td>\n",
       "      <td>13,13</td>\n",
       "      <td>171,9</td>\n",
       "      <td>614,3</td>\n",
       "      <td>179,8</td>\n",
       "      <td>88,9</td>\n",
       "      <td>68,31</td>\n",
       "      <td>48,99</td>\n",
       "      <td>16,11</td>\n",
       "      <td>169,04</td>\n",
       "      <td>32,18</td>\n",
       "    </tr>\n",
       "    <tr>\n",
       "      <th>1</th>\n",
       "      <td>11/10/2016</td>\n",
       "      <td>1700,33</td>\n",
       "      <td>272,81</td>\n",
       "      <td>340,17</td>\n",
       "      <td>95,6</td>\n",
       "      <td>3839,01</td>\n",
       "      <td>15,36</td>\n",
       "      <td>1,1054</td>\n",
       "      <td>0,91182</td>\n",
       "      <td>1,09312</td>\n",
       "      <td>...</td>\n",
       "      <td>13,18</td>\n",
       "      <td>172,4</td>\n",
       "      <td>618,5</td>\n",
       "      <td>181</td>\n",
       "      <td>88</td>\n",
       "      <td>68,31</td>\n",
       "      <td>48,99</td>\n",
       "      <td>16,11</td>\n",
       "      <td>169,04</td>\n",
       "      <td>32,18</td>\n",
       "    </tr>\n",
       "    <tr>\n",
       "      <th>2</th>\n",
       "      <td>10/10/2016</td>\n",
       "      <td>1719,29</td>\n",
       "      <td>275,88</td>\n",
       "      <td>341,98</td>\n",
       "      <td>95,87</td>\n",
       "      <td>3873,53</td>\n",
       "      <td>13,38</td>\n",
       "      <td>1,1139</td>\n",
       "      <td>0,90104</td>\n",
       "      <td>1,09454</td>\n",
       "      <td>...</td>\n",
       "      <td>13,16</td>\n",
       "      <td>172,3</td>\n",
       "      <td>624,8</td>\n",
       "      <td>178,6</td>\n",
       "      <td>90,3</td>\n",
       "      <td>68,64</td>\n",
       "      <td>49,55</td>\n",
       "      <td>16,3</td>\n",
       "      <td>171,04</td>\n",
       "      <td>32,56</td>\n",
       "    </tr>\n",
       "    <tr>\n",
       "      <th>3</th>\n",
       "      <td>09/10/2016</td>\n",
       "      <td>1712,4</td>\n",
       "      <td>274,84</td>\n",
       "      <td>339,64</td>\n",
       "      <td>95,51</td>\n",
       "      <td>3847,27</td>\n",
       "      <td>13,48</td>\n",
       "      <td>1,1201</td>\n",
       "      <td>0,90005</td>\n",
       "      <td>1,09423</td>\n",
       "      <td>...</td>\n",
       "      <td>13,06</td>\n",
       "      <td>173,6</td>\n",
       "      <td>619,5</td>\n",
       "      <td>181,9</td>\n",
       "      <td>90,4</td>\n",
       "      <td>68,11</td>\n",
       "      <td>49,28</td>\n",
       "      <td>16,13</td>\n",
       "      <td>169,83</td>\n",
       "      <td>32,31</td>\n",
       "    </tr>\n",
       "    <tr>\n",
       "      <th>4</th>\n",
       "      <td>08/10/2016</td>\n",
       "      <td>1712,4</td>\n",
       "      <td>274,84</td>\n",
       "      <td>339,64</td>\n",
       "      <td>95,51</td>\n",
       "      <td>3847,27</td>\n",
       "      <td>13,48</td>\n",
       "      <td>1,1201</td>\n",
       "      <td>0,90005</td>\n",
       "      <td>1,09423</td>\n",
       "      <td>...</td>\n",
       "      <td>13,06</td>\n",
       "      <td>173,6</td>\n",
       "      <td>619,5</td>\n",
       "      <td>181,9</td>\n",
       "      <td>90,4</td>\n",
       "      <td>68,11</td>\n",
       "      <td>49,28</td>\n",
       "      <td>16,13</td>\n",
       "      <td>169,83</td>\n",
       "      <td>32,31</td>\n",
       "    </tr>\n",
       "  </tbody>\n",
       "</table>\n",
       "<p>5 rows × 107 columns</p>\n",
       "</div>"
      ],
      "text/plain": [
       "         Date MSCIWorldpreviousdayquote FTSEALLWORLDINDEX Eurostoxx  \\\n",
       "0  12/10/2016                   1700,33            272,35    339,97   \n",
       "1  11/10/2016                   1700,33            272,81    340,17   \n",
       "2  10/10/2016                   1719,29            275,88    341,98   \n",
       "3  09/10/2016                    1712,4            274,84    339,64   \n",
       "4  08/10/2016                    1712,4            274,84    339,64   \n",
       "\n",
       "  Eurostoxxbanks USbanksDowJonesindex  \\\n",
       "0          96,14              3839,01   \n",
       "1           95,6              3839,01   \n",
       "2          95,87              3873,53   \n",
       "3          95,51              3847,27   \n",
       "4          95,51              3847,27   \n",
       "\n",
       "  VIXindexofVolatilityonChicagoDerivativesmarket% FXEURUSD FXEURGBP FXEURCHF  \\\n",
       "0                                           15,77   1,1025  0,89807  1,09108   \n",
       "1                                           15,36   1,1054  0,91182  1,09312   \n",
       "2                                           13,38   1,1139  0,90104  1,09454   \n",
       "3                                           13,48   1,1201  0,90005  1,09423   \n",
       "4                                           13,48   1,1201  0,90005  1,09423   \n",
       "\n",
       "   ... CREDITSUISSEGROUPAGREG BARCLAYSPLCGB HSBCHOLDINGSPLCGB  \\\n",
       "0  ...                  13,13         171,9             614,3   \n",
       "1  ...                  13,18         172,4             618,5   \n",
       "2  ...                  13,16         172,3             624,8   \n",
       "3  ...                  13,06         173,6             619,5   \n",
       "4  ...                  13,06         173,6             619,5   \n",
       "\n",
       "  ROYALBANKOFSCOTLANDGROUPGB NORDEABANKAB JPMORGANCHASECo CITIGROUPINC  \\\n",
       "0                      179,8         88,9           68,31        48,99   \n",
       "1                        181           88           68,31        48,99   \n",
       "2                      178,6         90,3           68,64        49,55   \n",
       "3                      181,9         90,4           68,11        49,28   \n",
       "4                      181,9         90,4           68,11        49,28   \n",
       "\n",
       "  BANKOFAMERICA GOLDMANSACHSGroup MORGANSTANLEY  \n",
       "0         16,11            169,04         32,18  \n",
       "1         16,11            169,04         32,18  \n",
       "2          16,3            171,04         32,56  \n",
       "3         16,13            169,83         32,31  \n",
       "4         16,13            169,83         32,31  \n",
       "\n",
       "[5 rows x 107 columns]"
      ]
     },
     "execution_count": 3,
     "metadata": {},
     "output_type": "execute_result"
    }
   ],
   "source": [
    "df.head()"
   ]
  },
  {
   "cell_type": "code",
   "execution_count": 4,
   "metadata": {
    "Collapsed": "false"
   },
   "outputs": [],
   "source": [
    "df_final = df[['Date','BNPPARIBAS', 'CREDITAGRICOLESA', 'BPCE','SOCIETEGENERALESA']]\n",
    "df_final = df_final.set_index('Date')\n",
    "df_final = df_final.apply(lambda x: x.str.replace(',','.'))"
   ]
  },
  {
   "cell_type": "code",
   "execution_count": 5,
   "metadata": {
    "Collapsed": "false"
   },
   "outputs": [],
   "source": [
    "for x in ['BNPPARIBAS', 'CREDITAGRICOLESA','BPCE','SOCIETEGENERALESA']:\n",
    "    df_final[x] = pd.to_numeric(df_final[x], errors='ignore')"
   ]
  },
  {
   "cell_type": "code",
   "execution_count": 6,
   "metadata": {
    "Collapsed": "false"
   },
   "outputs": [
    {
     "data": {
      "text/plain": [
       "BNPPARIBAS           float64\n",
       "CREDITAGRICOLESA     float64\n",
       "BPCE                 float64\n",
       "SOCIETEGENERALESA    float64\n",
       "dtype: object"
      ]
     },
     "execution_count": 6,
     "metadata": {},
     "output_type": "execute_result"
    }
   ],
   "source": [
    "df_final.dtypes"
   ]
  },
  {
   "cell_type": "code",
   "execution_count": 7,
   "metadata": {
    "Collapsed": "false"
   },
   "outputs": [
    {
     "data": {
      "text/html": [
       "<div>\n",
       "<style scoped>\n",
       "    .dataframe tbody tr th:only-of-type {\n",
       "        vertical-align: middle;\n",
       "    }\n",
       "\n",
       "    .dataframe tbody tr th {\n",
       "        vertical-align: top;\n",
       "    }\n",
       "\n",
       "    .dataframe thead th {\n",
       "        text-align: right;\n",
       "    }\n",
       "</style>\n",
       "<table border=\"1\" class=\"dataframe\">\n",
       "  <thead>\n",
       "    <tr style=\"text-align: right;\">\n",
       "      <th></th>\n",
       "      <th>BNPPARIBAS</th>\n",
       "      <th>CREDITAGRICOLESA</th>\n",
       "      <th>BPCE</th>\n",
       "      <th>SOCIETEGENERALESA</th>\n",
       "    </tr>\n",
       "    <tr>\n",
       "      <th>Date</th>\n",
       "      <th></th>\n",
       "      <th></th>\n",
       "      <th></th>\n",
       "      <th></th>\n",
       "    </tr>\n",
       "  </thead>\n",
       "  <tbody>\n",
       "    <tr>\n",
       "      <th>12/10/2016</th>\n",
       "      <td>48.355</td>\n",
       "      <td>9.420</td>\n",
       "      <td>4.431</td>\n",
       "      <td>33.215</td>\n",
       "    </tr>\n",
       "    <tr>\n",
       "      <th>11/10/2016</th>\n",
       "      <td>48.550</td>\n",
       "      <td>9.255</td>\n",
       "      <td>4.415</td>\n",
       "      <td>33.040</td>\n",
       "    </tr>\n",
       "    <tr>\n",
       "      <th>10/10/2016</th>\n",
       "      <td>49.100</td>\n",
       "      <td>9.189</td>\n",
       "      <td>4.446</td>\n",
       "      <td>33.075</td>\n",
       "    </tr>\n",
       "    <tr>\n",
       "      <th>09/10/2016</th>\n",
       "      <td>49.310</td>\n",
       "      <td>9.105</td>\n",
       "      <td>4.440</td>\n",
       "      <td>32.870</td>\n",
       "    </tr>\n",
       "    <tr>\n",
       "      <th>08/10/2016</th>\n",
       "      <td>49.310</td>\n",
       "      <td>9.105</td>\n",
       "      <td>4.440</td>\n",
       "      <td>32.870</td>\n",
       "    </tr>\n",
       "  </tbody>\n",
       "</table>\n",
       "</div>"
      ],
      "text/plain": [
       "            BNPPARIBAS  CREDITAGRICOLESA   BPCE  SOCIETEGENERALESA\n",
       "Date                                                              \n",
       "12/10/2016      48.355             9.420  4.431             33.215\n",
       "11/10/2016      48.550             9.255  4.415             33.040\n",
       "10/10/2016      49.100             9.189  4.446             33.075\n",
       "09/10/2016      49.310             9.105  4.440             32.870\n",
       "08/10/2016      49.310             9.105  4.440             32.870"
      ]
     },
     "execution_count": 7,
     "metadata": {},
     "output_type": "execute_result"
    }
   ],
   "source": [
    "df_final.head()"
   ]
  },
  {
   "cell_type": "code",
   "execution_count": 8,
   "metadata": {
    "Collapsed": "false"
   },
   "outputs": [
    {
     "data": {
      "text/plain": [
       "<matplotlib.axes._subplots.AxesSubplot at 0x11439b588>"
      ]
     },
     "execution_count": 8,
     "metadata": {},
     "output_type": "execute_result"
    }
   ],
   "source": [
    "df_final.plot()"
   ]
  },
  {
   "cell_type": "code",
   "execution_count": 9,
   "metadata": {
    "Collapsed": "false"
   },
   "outputs": [],
   "source": [
    "from statsmodels.tsa.stattools import adfuller"
   ]
  },
  {
   "cell_type": "code",
   "execution_count": 10,
   "metadata": {
    "Collapsed": "false"
   },
   "outputs": [],
   "source": [
    "def adf_test(y):\n",
    "    # perform Augmented Dickey Fuller test\n",
    "    print('Results of Augmented Dickey-Fuller test:')\n",
    "    dftest = adfuller(y, autolag='AIC')\n",
    "    dfoutput = pd.Series(dftest[0:4], index=['test statistic', 'p-value', '# of lags', '# of observations'])\n",
    "    for key, value in dftest[4].items():\n",
    "        dfoutput['Critical Value ({})'.format(key)] = value\n",
    "    print(dfoutput)"
   ]
  },
  {
   "cell_type": "markdown",
   "metadata": {
    "Collapsed": "false"
   },
   "source": [
    "Stationartity"
   ]
  },
  {
   "cell_type": "code",
   "execution_count": 11,
   "metadata": {
    "Collapsed": "false"
   },
   "outputs": [
    {
     "name": "stdout",
     "output_type": "stream",
     "text": [
      "Results of Augmented Dickey-Fuller test:\n",
      "test statistic            -1.707166\n",
      "p-value                    0.427424\n",
      "# of lags                 23.000000\n",
      "# of observations       3914.000000\n",
      "Critical Value (1%)       -3.432022\n",
      "Critical Value (5%)       -2.862279\n",
      "Critical Value (10%)      -2.567163\n",
      "dtype: float64\n",
      "Results of Augmented Dickey-Fuller test:\n",
      "test statistic            -0.691067\n",
      "p-value                    0.849050\n",
      "# of lags                  5.000000\n",
      "# of observations       3932.000000\n",
      "Critical Value (1%)       -3.432014\n",
      "Critical Value (5%)       -2.862275\n",
      "Critical Value (10%)      -2.567161\n",
      "dtype: float64\n",
      "Results of Augmented Dickey-Fuller test:\n",
      "test statistic            -0.903803\n",
      "p-value                    0.786718\n",
      "# of lags                 13.000000\n",
      "# of observations       3924.000000\n",
      "Critical Value (1%)       -3.432018\n",
      "Critical Value (5%)       -2.862277\n",
      "Critical Value (10%)      -2.567162\n",
      "dtype: float64\n",
      "Results of Augmented Dickey-Fuller test:\n",
      "test statistic            -0.915812\n",
      "p-value                    0.782721\n",
      "# of lags                 28.000000\n",
      "# of observations       3909.000000\n",
      "Critical Value (1%)       -3.432024\n",
      "Critical Value (5%)       -2.862280\n",
      "Critical Value (10%)      -2.567164\n",
      "dtype: float64\n"
     ]
    },
    {
     "data": {
      "text/plain": [
       "BNPPARIBAS           None\n",
       "CREDITAGRICOLESA     None\n",
       "BPCE                 None\n",
       "SOCIETEGENERALESA    None\n",
       "dtype: object"
      ]
     },
     "execution_count": 11,
     "metadata": {},
     "output_type": "execute_result"
    }
   ],
   "source": [
    "df_final.apply(lambda x: adf_test(x))"
   ]
  },
  {
   "cell_type": "markdown",
   "metadata": {
    "Collapsed": "false"
   },
   "source": [
    "Cointegration\n",
    "\n",
    "All series are cointegrated"
   ]
  },
  {
   "cell_type": "code",
   "execution_count": 56,
   "metadata": {
    "Collapsed": "false"
   },
   "outputs": [
    {
     "name": "stdout",
     "output_type": "stream",
     "text": [
      "Name   ::  Test Stat > C(95%)    =>   Signif  \n",
      " ----------------------------------------\n",
      "BNPPARIBAS ::  32.27     > 40.1749   =>   False\n",
      "CREDITAGRICOLESA ::  9.66      > 24.2761   =>   False\n",
      "BPCE   ::  2.68      > 12.3212   =>   False\n",
      "SOCIETEGENERALESA ::  0.01      > 4.1296    =>   False\n"
     ]
    }
   ],
   "source": [
    "from statsmodels.tsa.vector_ar.vecm import coint_johansen\n",
    "\n",
    "def cointegration_test(df, alpha=0.05): \n",
    "    \"\"\"Perform Johanson's Cointegration Test and Report Summary\"\"\"\n",
    "    out = coint_johansen(df,-1,5)\n",
    "    d = {'0.90':0, '0.95':1, '0.99':2}\n",
    "    traces = out.lr1\n",
    "    cvts = out.cvt[:, d[str(1-alpha)]]\n",
    "    def adjust(val, length= 6): return str(val).ljust(length)\n",
    "\n",
    "    # Summary\n",
    "    print('Name   ::  Test Stat > C(95%)    =>   Signif  \\n', '--'*20)\n",
    "    for col, trace, cvt in zip(df.columns, traces, cvts):\n",
    "        print(adjust(col), ':: ', adjust(round(trace,2), 9), \">\", adjust(cvt, 8), ' =>  ' , trace > cvt)\n",
    "\n",
    "cointegration_test(df_final)"
   ]
  },
  {
   "cell_type": "markdown",
   "metadata": {
    "Collapsed": "false"
   },
   "source": [
    "Daily return"
   ]
  },
  {
   "cell_type": "code",
   "execution_count": 12,
   "metadata": {
    "Collapsed": "false"
   },
   "outputs": [
    {
     "data": {
      "text/html": [
       "<div>\n",
       "<style scoped>\n",
       "    .dataframe tbody tr th:only-of-type {\n",
       "        vertical-align: middle;\n",
       "    }\n",
       "\n",
       "    .dataframe tbody tr th {\n",
       "        vertical-align: top;\n",
       "    }\n",
       "\n",
       "    .dataframe thead th {\n",
       "        text-align: right;\n",
       "    }\n",
       "</style>\n",
       "<table border=\"1\" class=\"dataframe\">\n",
       "  <thead>\n",
       "    <tr style=\"text-align: right;\">\n",
       "      <th></th>\n",
       "      <th>BNPPARIBAS</th>\n",
       "      <th>CREDITAGRICOLESA</th>\n",
       "      <th>BPCE</th>\n",
       "      <th>SOCIETEGENERALESA</th>\n",
       "    </tr>\n",
       "    <tr>\n",
       "      <th>Date</th>\n",
       "      <th></th>\n",
       "      <th></th>\n",
       "      <th></th>\n",
       "      <th></th>\n",
       "    </tr>\n",
       "  </thead>\n",
       "  <tbody>\n",
       "    <tr>\n",
       "      <th>12/10/2016</th>\n",
       "      <td>48.355</td>\n",
       "      <td>9.420</td>\n",
       "      <td>4.431</td>\n",
       "      <td>33.215</td>\n",
       "    </tr>\n",
       "    <tr>\n",
       "      <th>11/10/2016</th>\n",
       "      <td>48.550</td>\n",
       "      <td>9.255</td>\n",
       "      <td>4.415</td>\n",
       "      <td>33.040</td>\n",
       "    </tr>\n",
       "    <tr>\n",
       "      <th>10/10/2016</th>\n",
       "      <td>49.100</td>\n",
       "      <td>9.189</td>\n",
       "      <td>4.446</td>\n",
       "      <td>33.075</td>\n",
       "    </tr>\n",
       "    <tr>\n",
       "      <th>09/10/2016</th>\n",
       "      <td>49.310</td>\n",
       "      <td>9.105</td>\n",
       "      <td>4.440</td>\n",
       "      <td>32.870</td>\n",
       "    </tr>\n",
       "    <tr>\n",
       "      <th>08/10/2016</th>\n",
       "      <td>49.310</td>\n",
       "      <td>9.105</td>\n",
       "      <td>4.440</td>\n",
       "      <td>32.870</td>\n",
       "    </tr>\n",
       "  </tbody>\n",
       "</table>\n",
       "</div>"
      ],
      "text/plain": [
       "            BNPPARIBAS  CREDITAGRICOLESA   BPCE  SOCIETEGENERALESA\n",
       "Date                                                              \n",
       "12/10/2016      48.355             9.420  4.431             33.215\n",
       "11/10/2016      48.550             9.255  4.415             33.040\n",
       "10/10/2016      49.100             9.189  4.446             33.075\n",
       "09/10/2016      49.310             9.105  4.440             32.870\n",
       "08/10/2016      49.310             9.105  4.440             32.870"
      ]
     },
     "execution_count": 12,
     "metadata": {},
     "output_type": "execute_result"
    }
   ],
   "source": [
    "df_final.head()"
   ]
  },
  {
   "cell_type": "code",
   "execution_count": 13,
   "metadata": {
    "Collapsed": "false"
   },
   "outputs": [
    {
     "data": {
      "text/html": [
       "<div>\n",
       "<style scoped>\n",
       "    .dataframe tbody tr th:only-of-type {\n",
       "        vertical-align: middle;\n",
       "    }\n",
       "\n",
       "    .dataframe tbody tr th {\n",
       "        vertical-align: top;\n",
       "    }\n",
       "\n",
       "    .dataframe thead th {\n",
       "        text-align: right;\n",
       "    }\n",
       "</style>\n",
       "<table border=\"1\" class=\"dataframe\">\n",
       "  <thead>\n",
       "    <tr style=\"text-align: right;\">\n",
       "      <th></th>\n",
       "      <th>BNPPARIBAS</th>\n",
       "      <th>CREDITAGRICOLESA</th>\n",
       "      <th>BPCE</th>\n",
       "      <th>SOCIETEGENERALESA</th>\n",
       "    </tr>\n",
       "    <tr>\n",
       "      <th>Date</th>\n",
       "      <th></th>\n",
       "      <th></th>\n",
       "      <th></th>\n",
       "      <th></th>\n",
       "    </tr>\n",
       "  </thead>\n",
       "  <tbody>\n",
       "    <tr>\n",
       "      <th>12/10/2016</th>\n",
       "      <td>48.355</td>\n",
       "      <td>9.420</td>\n",
       "      <td>4.431</td>\n",
       "      <td>33.215</td>\n",
       "    </tr>\n",
       "    <tr>\n",
       "      <th>11/10/2016</th>\n",
       "      <td>48.550</td>\n",
       "      <td>9.255</td>\n",
       "      <td>4.415</td>\n",
       "      <td>33.040</td>\n",
       "    </tr>\n",
       "    <tr>\n",
       "      <th>10/10/2016</th>\n",
       "      <td>49.100</td>\n",
       "      <td>9.189</td>\n",
       "      <td>4.446</td>\n",
       "      <td>33.075</td>\n",
       "    </tr>\n",
       "    <tr>\n",
       "      <th>09/10/2016</th>\n",
       "      <td>49.310</td>\n",
       "      <td>9.105</td>\n",
       "      <td>4.440</td>\n",
       "      <td>32.870</td>\n",
       "    </tr>\n",
       "    <tr>\n",
       "      <th>08/10/2016</th>\n",
       "      <td>49.310</td>\n",
       "      <td>9.105</td>\n",
       "      <td>4.440</td>\n",
       "      <td>32.870</td>\n",
       "    </tr>\n",
       "  </tbody>\n",
       "</table>\n",
       "</div>"
      ],
      "text/plain": [
       "            BNPPARIBAS  CREDITAGRICOLESA   BPCE  SOCIETEGENERALESA\n",
       "Date                                                              \n",
       "12/10/2016      48.355             9.420  4.431             33.215\n",
       "11/10/2016      48.550             9.255  4.415             33.040\n",
       "10/10/2016      49.100             9.189  4.446             33.075\n",
       "09/10/2016      49.310             9.105  4.440             32.870\n",
       "08/10/2016      49.310             9.105  4.440             32.870"
      ]
     },
     "execution_count": 13,
     "metadata": {},
     "output_type": "execute_result"
    }
   ],
   "source": [
    "df_return = df_final.copy()\n",
    "df_return.head()"
   ]
  },
  {
   "cell_type": "code",
   "execution_count": 14,
   "metadata": {
    "Collapsed": "false"
   },
   "outputs": [
    {
     "data": {
      "text/plain": [
       "BNPPARIBAS           float64\n",
       "CREDITAGRICOLESA     float64\n",
       "BPCE                 float64\n",
       "SOCIETEGENERALESA    float64\n",
       "dtype: object"
      ]
     },
     "execution_count": 14,
     "metadata": {},
     "output_type": "execute_result"
    }
   ],
   "source": [
    "df_return.dtypes"
   ]
  },
  {
   "cell_type": "code",
   "execution_count": 15,
   "metadata": {
    "Collapsed": "false"
   },
   "outputs": [],
   "source": [
    "df_return = df_return.pct_change().dropna()"
   ]
  },
  {
   "cell_type": "markdown",
   "metadata": {
    "Collapsed": "false"
   },
   "source": [
    "corr matrix"
   ]
  },
  {
   "cell_type": "code",
   "execution_count": 16,
   "metadata": {
    "Collapsed": "false"
   },
   "outputs": [
    {
     "data": {
      "text/html": [
       "<div>\n",
       "<style scoped>\n",
       "    .dataframe tbody tr th:only-of-type {\n",
       "        vertical-align: middle;\n",
       "    }\n",
       "\n",
       "    .dataframe tbody tr th {\n",
       "        vertical-align: top;\n",
       "    }\n",
       "\n",
       "    .dataframe thead th {\n",
       "        text-align: right;\n",
       "    }\n",
       "</style>\n",
       "<table border=\"1\" class=\"dataframe\">\n",
       "  <thead>\n",
       "    <tr style=\"text-align: right;\">\n",
       "      <th></th>\n",
       "      <th>BNPPARIBAS</th>\n",
       "      <th>CREDITAGRICOLESA</th>\n",
       "      <th>BPCE</th>\n",
       "      <th>SOCIETEGENERALESA</th>\n",
       "    </tr>\n",
       "  </thead>\n",
       "  <tbody>\n",
       "    <tr>\n",
       "      <th>BNPPARIBAS</th>\n",
       "      <td>1.000000</td>\n",
       "      <td>0.807486</td>\n",
       "      <td>0.643463</td>\n",
       "      <td>0.817679</td>\n",
       "    </tr>\n",
       "    <tr>\n",
       "      <th>CREDITAGRICOLESA</th>\n",
       "      <td>0.807486</td>\n",
       "      <td>1.000000</td>\n",
       "      <td>0.665605</td>\n",
       "      <td>0.821440</td>\n",
       "    </tr>\n",
       "    <tr>\n",
       "      <th>BPCE</th>\n",
       "      <td>0.643463</td>\n",
       "      <td>0.665605</td>\n",
       "      <td>1.000000</td>\n",
       "      <td>0.657938</td>\n",
       "    </tr>\n",
       "    <tr>\n",
       "      <th>SOCIETEGENERALESA</th>\n",
       "      <td>0.817679</td>\n",
       "      <td>0.821440</td>\n",
       "      <td>0.657938</td>\n",
       "      <td>1.000000</td>\n",
       "    </tr>\n",
       "  </tbody>\n",
       "</table>\n",
       "</div>"
      ],
      "text/plain": [
       "                   BNPPARIBAS  CREDITAGRICOLESA      BPCE  SOCIETEGENERALESA\n",
       "BNPPARIBAS           1.000000          0.807486  0.643463           0.817679\n",
       "CREDITAGRICOLESA     0.807486          1.000000  0.665605           0.821440\n",
       "BPCE                 0.643463          0.665605  1.000000           0.657938\n",
       "SOCIETEGENERALESA    0.817679          0.821440  0.657938           1.000000"
      ]
     },
     "execution_count": 16,
     "metadata": {},
     "output_type": "execute_result"
    }
   ],
   "source": [
    "df_return.corr()"
   ]
  },
  {
   "cell_type": "markdown",
   "metadata": {
    "Collapsed": "false"
   },
   "source": [
    "regress each serei"
   ]
  },
  {
   "cell_type": "code",
   "execution_count": 17,
   "metadata": {
    "Collapsed": "false"
   },
   "outputs": [],
   "source": [
    "import statsmodels.api as sm\n",
    "import statsmodels.formula.api as smf"
   ]
  },
  {
   "cell_type": "code",
   "execution_count": 21,
   "metadata": {
    "Collapsed": "false"
   },
   "outputs": [],
   "source": [
    "mod1 = smf.ols(formula='BNPPARIBAS ~ CREDITAGRICOLESA + SOCIETEGENERALESA +BPCE', data=df_return).fit()\n",
    "mod2 = smf.ols(formula='CREDITAGRICOLESA ~ BNPPARIBAS + SOCIETEGENERALESA+BPCE', data=df_return).fit()\n",
    "mod3 = smf.ols(formula='SOCIETEGENERALESA ~ CREDITAGRICOLESA + BNPPARIBAS+BPCE', data=df_return).fit()\n",
    "mod4 = smf.ols(formula='BPCE ~SOCIETEGENERALESA+ CREDITAGRICOLESA + BNPPARIBAS', data=df_return).fit()"
   ]
  },
  {
   "cell_type": "markdown",
   "metadata": {
    "Collapsed": "false"
   },
   "source": [
    "AR(q)"
   ]
  },
  {
   "cell_type": "code",
   "execution_count": 27,
   "metadata": {
    "Collapsed": "false"
   },
   "outputs": [],
   "source": [
    "from statsmodels.graphics.tsaplots import plot_acf, plot_pacf\n",
    "from statsmodels.tsa.arima_model import ARIMA\n",
    "import matplotlib\n",
    "import matplotlib.pyplot as plt"
   ]
  },
  {
   "cell_type": "code",
   "execution_count": 29,
   "metadata": {
    "Collapsed": "false"
   },
   "outputs": [
    {
     "name": "stdout",
     "output_type": "stream",
     "text": [
      "Results of Augmented Dickey-Fuller test:\n",
      "test statistic         -1.150753e+01\n",
      "p-value                 4.339275e-21\n",
      "# of lags               2.800000e+01\n",
      "# of observations       3.908000e+03\n",
      "Critical Value (1%)    -3.432024e+00\n",
      "Critical Value (5%)    -2.862280e+00\n",
      "Critical Value (10%)   -2.567164e+00\n",
      "dtype: float64\n",
      "Results of Augmented Dickey-Fuller test:\n",
      "test statistic           -33.141061\n",
      "p-value                    0.000000\n",
      "# of lags                  3.000000\n",
      "# of observations       3933.000000\n",
      "Critical Value (1%)       -3.432014\n",
      "Critical Value (5%)       -2.862275\n",
      "Critical Value (10%)      -2.567161\n",
      "dtype: float64\n",
      "Results of Augmented Dickey-Fuller test:\n",
      "test statistic         -9.776296e+00\n",
      "p-value                 6.920565e-17\n",
      "# of lags               2.700000e+01\n",
      "# of observations       3.909000e+03\n",
      "Critical Value (1%)    -3.432024e+00\n",
      "Critical Value (5%)    -2.862280e+00\n",
      "Critical Value (10%)   -2.567164e+00\n",
      "dtype: float64\n",
      "Results of Augmented Dickey-Fuller test:\n",
      "test statistic         -1.089248e+01\n",
      "p-value                 1.215267e-19\n",
      "# of lags               2.700000e+01\n",
      "# of observations       3.909000e+03\n",
      "Critical Value (1%)    -3.432024e+00\n",
      "Critical Value (5%)    -2.862280e+00\n",
      "Critical Value (10%)   -2.567164e+00\n",
      "dtype: float64\n"
     ]
    },
    {
     "data": {
      "text/plain": [
       "BNPPARIBAS           None\n",
       "CREDITAGRICOLESA     None\n",
       "BPCE                 None\n",
       "SOCIETEGENERALESA    None\n",
       "dtype: object"
      ]
     },
     "execution_count": 29,
     "metadata": {},
     "output_type": "execute_result"
    }
   ],
   "source": [
    "df_return.apply(lambda x: adf_test(x))"
   ]
  },
  {
   "cell_type": "code",
   "execution_count": 24,
   "metadata": {
    "Collapsed": "false"
   },
   "outputs": [],
   "source": [
    "def PAC(y, lag = 10): \n",
    "    f, (ax1, ax2) = plt.subplots(2, sharex=True)\n",
    "    plot_acf(y, ax=ax1, lags = lag)\n",
    "    plot_pacf(y, ax=ax2, lags = lag)\n",
    "    plt.show()"
   ]
  },
  {
   "cell_type": "code",
   "execution_count": 28,
   "metadata": {
    "Collapsed": "false"
   },
   "outputs": [
    {
     "data": {
      "image/png": "[encoded data removed]",
      "text/plain": [
       "<Figure size 432x288 with 2 Axes>"
      ]
     },
     "metadata": {
      "needs_background": "light"
     },
     "output_type": "display_data"
    }
   ],
   "source": [
    "PAC(y = df_return['BNPPARIBAS'])"
   ]
  },
  {
   "cell_type": "markdown",
   "metadata": {
    "Collapsed": "false"
   },
   "source": [
    "From the PAC, AR 1"
   ]
  },
  {
   "cell_type": "code",
   "execution_count": 38,
   "metadata": {
    "Collapsed": "false"
   },
   "outputs": [],
   "source": [
    "def AR(x):\n",
    "    \n",
    "    modelAR1 = ARIMA(df_return[x], order=(1,0,0)).fit(\n",
    "    trend = 'nc',\n",
    ")\n",
    "    \n",
    "    return modelAR1.summary()\n",
    "    "
   ]
  },
  {
   "cell_type": "code",
   "execution_count": 39,
   "metadata": {
    "Collapsed": "false"
   },
   "outputs": [
    {
     "name": "stderr",
     "output_type": "stream",
     "text": [
      "/Users/thomas/anaconda3/lib/python3.7/site-packages/statsmodels/tsa/base/tsa_model.py:215: ValueWarning: An unsupported index was provided and will be ignored when e.g. forecasting.\n",
      "  ' ignored when e.g. forecasting.', ValueWarning)\n"
     ]
    },
    {
     "data": {
      "text/html": [
       "<table class=\"simpletable\">\n",
       "<caption>ARMA Model Results</caption>\n",
       "<tr>\n",
       "  <th>Dep. Variable:</th>    <td>BNPPARIBAS</td>    <th>  No. Observations:  </th>    <td>3937</td>   \n",
       "</tr>\n",
       "<tr>\n",
       "  <th>Model:</th>            <td>ARMA(1, 0)</td>    <th>  Log Likelihood     </th>  <td>9383.835</td> \n",
       "</tr>\n",
       "<tr>\n",
       "  <th>Method:</th>             <td>css-mle</td>     <th>  S.D. of innovations</th>    <td>0.022</td>  \n",
       "</tr>\n",
       "<tr>\n",
       "  <th>Date:</th>          <td>Wed, 25 Sep 2019</td> <th>  AIC                </th> <td>-18763.670</td>\n",
       "</tr>\n",
       "<tr>\n",
       "  <th>Time:</th>              <td>19:19:40</td>     <th>  BIC                </th> <td>-18751.113</td>\n",
       "</tr>\n",
       "<tr>\n",
       "  <th>Sample:</th>                <td>0</td>        <th>  HQIC               </th> <td>-18759.215</td>\n",
       "</tr>\n",
       "<tr>\n",
       "  <th></th>                       <td> </td>        <th>                     </th>      <td> </td>    \n",
       "</tr>\n",
       "</table>\n",
       "<table class=\"simpletable\">\n",
       "<tr>\n",
       "          <td></td>            <th>coef</th>     <th>std err</th>      <th>z</th>      <th>P>|z|</th>  <th>[0.025</th>    <th>0.975]</th>  \n",
       "</tr>\n",
       "<tr>\n",
       "  <th>ar.L1.BNPPARIBAS</th> <td>    0.0014</td> <td>    0.016</td> <td>    0.091</td> <td> 0.928</td> <td>   -0.030</td> <td>    0.033</td>\n",
       "</tr>\n",
       "</table>\n",
       "<table class=\"simpletable\">\n",
       "<caption>Roots</caption>\n",
       "<tr>\n",
       "    <td></td>   <th>            Real</th>  <th>         Imaginary</th> <th>         Modulus</th>  <th>        Frequency</th>\n",
       "</tr>\n",
       "<tr>\n",
       "  <th>AR.1</th> <td>         691.8443</td> <td>          +0.0000j</td> <td>         691.8443</td> <td>           0.0000</td>\n",
       "</tr>\n",
       "</table>"
      ],
      "text/plain": [
       "<class 'statsmodels.iolib.summary.Summary'>\n",
       "\"\"\"\n",
       "                              ARMA Model Results                              \n",
       "==============================================================================\n",
       "Dep. Variable:             BNPPARIBAS   No. Observations:                 3937\n",
       "Model:                     ARMA(1, 0)   Log Likelihood                9383.835\n",
       "Method:                       css-mle   S.D. of innovations              0.022\n",
       "Date:                Wed, 25 Sep 2019   AIC                         -18763.670\n",
       "Time:                        19:19:40   BIC                         -18751.113\n",
       "Sample:                             0   HQIC                        -18759.215\n",
       "                                                                              \n",
       "====================================================================================\n",
       "                       coef    std err          z      P>|z|      [0.025      0.975]\n",
       "------------------------------------------------------------------------------------\n",
       "ar.L1.BNPPARIBAS     0.0014      0.016      0.091      0.928      -0.030       0.033\n",
       "                                    Roots                                    \n",
       "=============================================================================\n",
       "                  Real          Imaginary           Modulus         Frequency\n",
       "-----------------------------------------------------------------------------\n",
       "AR.1          691.8443           +0.0000j          691.8443            0.0000\n",
       "-----------------------------------------------------------------------------\n",
       "\"\"\""
      ]
     },
     "execution_count": 39,
     "metadata": {},
     "output_type": "execute_result"
    }
   ],
   "source": [
    "AR(x = 'BNPPARIBAS')"
   ]
  },
  {
   "cell_type": "code",
   "execution_count": 40,
   "metadata": {
    "Collapsed": "false"
   },
   "outputs": [
    {
     "name": "stderr",
     "output_type": "stream",
     "text": [
      "/Users/thomas/anaconda3/lib/python3.7/site-packages/statsmodels/tsa/base/tsa_model.py:215: ValueWarning: An unsupported index was provided and will be ignored when e.g. forecasting.\n",
      "  ' ignored when e.g. forecasting.', ValueWarning)\n"
     ]
    },
    {
     "data": {
      "text/html": [
       "<table class=\"simpletable\">\n",
       "<caption>ARMA Model Results</caption>\n",
       "<tr>\n",
       "  <th>Dep. Variable:</th> <td>CREDITAGRICOLESA</td> <th>  No. Observations:  </th>    <td>3937</td>   \n",
       "</tr>\n",
       "<tr>\n",
       "  <th>Model:</th>            <td>ARMA(1, 0)</td>    <th>  Log Likelihood     </th>  <td>9074.126</td> \n",
       "</tr>\n",
       "<tr>\n",
       "  <th>Method:</th>             <td>css-mle</td>     <th>  S.D. of innovations</th>    <td>0.024</td>  \n",
       "</tr>\n",
       "<tr>\n",
       "  <th>Date:</th>          <td>Wed, 25 Sep 2019</td> <th>  AIC                </th> <td>-18144.252</td>\n",
       "</tr>\n",
       "<tr>\n",
       "  <th>Time:</th>              <td>19:20:17</td>     <th>  BIC                </th> <td>-18131.696</td>\n",
       "</tr>\n",
       "<tr>\n",
       "  <th>Sample:</th>                <td>0</td>        <th>  HQIC               </th> <td>-18139.798</td>\n",
       "</tr>\n",
       "<tr>\n",
       "  <th></th>                       <td> </td>        <th>                     </th>      <td> </td>    \n",
       "</tr>\n",
       "</table>\n",
       "<table class=\"simpletable\">\n",
       "<tr>\n",
       "             <td></td>               <th>coef</th>     <th>std err</th>      <th>z</th>      <th>P>|z|</th>  <th>[0.025</th>    <th>0.975]</th>  \n",
       "</tr>\n",
       "<tr>\n",
       "  <th>ar.L1.CREDITAGRICOLESA</th> <td>    0.0315</td> <td>    0.016</td> <td>    1.978</td> <td> 0.048</td> <td>    0.000</td> <td>    0.063</td>\n",
       "</tr>\n",
       "</table>\n",
       "<table class=\"simpletable\">\n",
       "<caption>Roots</caption>\n",
       "<tr>\n",
       "    <td></td>   <th>            Real</th>  <th>         Imaginary</th> <th>         Modulus</th>  <th>        Frequency</th>\n",
       "</tr>\n",
       "<tr>\n",
       "  <th>AR.1</th> <td>          31.7309</td> <td>          +0.0000j</td> <td>          31.7309</td> <td>           0.0000</td>\n",
       "</tr>\n",
       "</table>"
      ],
      "text/plain": [
       "<class 'statsmodels.iolib.summary.Summary'>\n",
       "\"\"\"\n",
       "                              ARMA Model Results                              \n",
       "==============================================================================\n",
       "Dep. Variable:       CREDITAGRICOLESA   No. Observations:                 3937\n",
       "Model:                     ARMA(1, 0)   Log Likelihood                9074.126\n",
       "Method:                       css-mle   S.D. of innovations              0.024\n",
       "Date:                Wed, 25 Sep 2019   AIC                         -18144.252\n",
       "Time:                        19:20:17   BIC                         -18131.696\n",
       "Sample:                             0   HQIC                        -18139.798\n",
       "                                                                              \n",
       "==========================================================================================\n",
       "                             coef    std err          z      P>|z|      [0.025      0.975]\n",
       "------------------------------------------------------------------------------------------\n",
       "ar.L1.CREDITAGRICOLESA     0.0315      0.016      1.978      0.048       0.000       0.063\n",
       "                                    Roots                                    \n",
       "=============================================================================\n",
       "                  Real          Imaginary           Modulus         Frequency\n",
       "-----------------------------------------------------------------------------\n",
       "AR.1           31.7309           +0.0000j           31.7309            0.0000\n",
       "-----------------------------------------------------------------------------\n",
       "\"\"\""
      ]
     },
     "execution_count": 40,
     "metadata": {},
     "output_type": "execute_result"
    }
   ],
   "source": [
    "# CREDITAGRICOLESA + SOCIETEGENERALESA +BPCE\n",
    "AR(x = 'CREDITAGRICOLESA')"
   ]
  },
  {
   "cell_type": "code",
   "execution_count": 41,
   "metadata": {
    "Collapsed": "false"
   },
   "outputs": [
    {
     "name": "stderr",
     "output_type": "stream",
     "text": [
      "/Users/thomas/anaconda3/lib/python3.7/site-packages/statsmodels/tsa/base/tsa_model.py:215: ValueWarning: An unsupported index was provided and will be ignored when e.g. forecasting.\n",
      "  ' ignored when e.g. forecasting.', ValueWarning)\n"
     ]
    },
    {
     "data": {
      "text/html": [
       "<table class=\"simpletable\">\n",
       "<caption>ARMA Model Results</caption>\n",
       "<tr>\n",
       "  <th>Dep. Variable:</th> <td>SOCIETEGENERALESA</td> <th>  No. Observations:  </th>    <td>3937</td>   \n",
       "</tr>\n",
       "<tr>\n",
       "  <th>Model:</th>            <td>ARMA(1, 0)</td>     <th>  Log Likelihood     </th>  <td>8903.369</td> \n",
       "</tr>\n",
       "<tr>\n",
       "  <th>Method:</th>             <td>css-mle</td>      <th>  S.D. of innovations</th>    <td>0.025</td>  \n",
       "</tr>\n",
       "<tr>\n",
       "  <th>Date:</th>          <td>Wed, 25 Sep 2019</td>  <th>  AIC                </th> <td>-17802.738</td>\n",
       "</tr>\n",
       "<tr>\n",
       "  <th>Time:</th>              <td>19:20:19</td>      <th>  BIC                </th> <td>-17790.181</td>\n",
       "</tr>\n",
       "<tr>\n",
       "  <th>Sample:</th>                <td>0</td>         <th>  HQIC               </th> <td>-17798.283</td>\n",
       "</tr>\n",
       "<tr>\n",
       "  <th></th>                       <td> </td>         <th>                     </th>      <td> </td>    \n",
       "</tr>\n",
       "</table>\n",
       "<table class=\"simpletable\">\n",
       "<tr>\n",
       "             <td></td>                <th>coef</th>     <th>std err</th>      <th>z</th>      <th>P>|z|</th>  <th>[0.025</th>    <th>0.975]</th>  \n",
       "</tr>\n",
       "<tr>\n",
       "  <th>ar.L1.SOCIETEGENERALESA</th> <td>    0.0497</td> <td>    0.016</td> <td>    3.121</td> <td> 0.002</td> <td>    0.018</td> <td>    0.081</td>\n",
       "</tr>\n",
       "</table>\n",
       "<table class=\"simpletable\">\n",
       "<caption>Roots</caption>\n",
       "<tr>\n",
       "    <td></td>   <th>            Real</th>  <th>         Imaginary</th> <th>         Modulus</th>  <th>        Frequency</th>\n",
       "</tr>\n",
       "<tr>\n",
       "  <th>AR.1</th> <td>          20.1296</td> <td>          +0.0000j</td> <td>          20.1296</td> <td>           0.0000</td>\n",
       "</tr>\n",
       "</table>"
      ],
      "text/plain": [
       "<class 'statsmodels.iolib.summary.Summary'>\n",
       "\"\"\"\n",
       "                              ARMA Model Results                              \n",
       "==============================================================================\n",
       "Dep. Variable:      SOCIETEGENERALESA   No. Observations:                 3937\n",
       "Model:                     ARMA(1, 0)   Log Likelihood                8903.369\n",
       "Method:                       css-mle   S.D. of innovations              0.025\n",
       "Date:                Wed, 25 Sep 2019   AIC                         -17802.738\n",
       "Time:                        19:20:19   BIC                         -17790.181\n",
       "Sample:                             0   HQIC                        -17798.283\n",
       "                                                                              \n",
       "===========================================================================================\n",
       "                              coef    std err          z      P>|z|      [0.025      0.975]\n",
       "-------------------------------------------------------------------------------------------\n",
       "ar.L1.SOCIETEGENERALESA     0.0497      0.016      3.121      0.002       0.018       0.081\n",
       "                                    Roots                                    \n",
       "=============================================================================\n",
       "                  Real          Imaginary           Modulus         Frequency\n",
       "-----------------------------------------------------------------------------\n",
       "AR.1           20.1296           +0.0000j           20.1296            0.0000\n",
       "-----------------------------------------------------------------------------\n",
       "\"\"\""
      ]
     },
     "execution_count": 41,
     "metadata": {},
     "output_type": "execute_result"
    }
   ],
   "source": [
    "AR(x = 'SOCIETEGENERALESA')"
   ]
  },
  {
   "cell_type": "code",
   "execution_count": 42,
   "metadata": {
    "Collapsed": "false"
   },
   "outputs": [
    {
     "name": "stderr",
     "output_type": "stream",
     "text": [
      "/Users/thomas/anaconda3/lib/python3.7/site-packages/statsmodels/tsa/base/tsa_model.py:215: ValueWarning: An unsupported index was provided and will be ignored when e.g. forecasting.\n",
      "  ' ignored when e.g. forecasting.', ValueWarning)\n"
     ]
    },
    {
     "data": {
      "text/html": [
       "<table class=\"simpletable\">\n",
       "<caption>ARMA Model Results</caption>\n",
       "<tr>\n",
       "  <th>Dep. Variable:</th>       <td>BPCE</td>       <th>  No. Observations:  </th>    <td>3937</td>   \n",
       "</tr>\n",
       "<tr>\n",
       "  <th>Model:</th>            <td>ARMA(1, 0)</td>    <th>  Log Likelihood     </th>  <td>8617.710</td> \n",
       "</tr>\n",
       "<tr>\n",
       "  <th>Method:</th>             <td>css-mle</td>     <th>  S.D. of innovations</th>    <td>0.027</td>  \n",
       "</tr>\n",
       "<tr>\n",
       "  <th>Date:</th>          <td>Wed, 25 Sep 2019</td> <th>  AIC                </th> <td>-17231.419</td>\n",
       "</tr>\n",
       "<tr>\n",
       "  <th>Time:</th>              <td>19:20:21</td>     <th>  BIC                </th> <td>-17218.863</td>\n",
       "</tr>\n",
       "<tr>\n",
       "  <th>Sample:</th>                <td>0</td>        <th>  HQIC               </th> <td>-17226.965</td>\n",
       "</tr>\n",
       "<tr>\n",
       "  <th></th>                       <td> </td>        <th>                     </th>      <td> </td>    \n",
       "</tr>\n",
       "</table>\n",
       "<table class=\"simpletable\">\n",
       "<tr>\n",
       "       <td></td>         <th>coef</th>     <th>std err</th>      <th>z</th>      <th>P>|z|</th>  <th>[0.025</th>    <th>0.975]</th>  \n",
       "</tr>\n",
       "<tr>\n",
       "  <th>ar.L1.BPCE</th> <td>    0.0322</td> <td>    0.016</td> <td>    2.020</td> <td> 0.043</td> <td>    0.001</td> <td>    0.063</td>\n",
       "</tr>\n",
       "</table>\n",
       "<table class=\"simpletable\">\n",
       "<caption>Roots</caption>\n",
       "<tr>\n",
       "    <td></td>   <th>            Real</th>  <th>         Imaginary</th> <th>         Modulus</th>  <th>        Frequency</th>\n",
       "</tr>\n",
       "<tr>\n",
       "  <th>AR.1</th> <td>          31.0876</td> <td>          +0.0000j</td> <td>          31.0876</td> <td>           0.0000</td>\n",
       "</tr>\n",
       "</table>"
      ],
      "text/plain": [
       "<class 'statsmodels.iolib.summary.Summary'>\n",
       "\"\"\"\n",
       "                              ARMA Model Results                              \n",
       "==============================================================================\n",
       "Dep. Variable:                   BPCE   No. Observations:                 3937\n",
       "Model:                     ARMA(1, 0)   Log Likelihood                8617.710\n",
       "Method:                       css-mle   S.D. of innovations              0.027\n",
       "Date:                Wed, 25 Sep 2019   AIC                         -17231.419\n",
       "Time:                        19:20:21   BIC                         -17218.863\n",
       "Sample:                             0   HQIC                        -17226.965\n",
       "                                                                              \n",
       "==============================================================================\n",
       "                 coef    std err          z      P>|z|      [0.025      0.975]\n",
       "------------------------------------------------------------------------------\n",
       "ar.L1.BPCE     0.0322      0.016      2.020      0.043       0.001       0.063\n",
       "                                    Roots                                    \n",
       "=============================================================================\n",
       "                  Real          Imaginary           Modulus         Frequency\n",
       "-----------------------------------------------------------------------------\n",
       "AR.1           31.0876           +0.0000j           31.0876            0.0000\n",
       "-----------------------------------------------------------------------------\n",
       "\"\"\""
      ]
     },
     "execution_count": 42,
     "metadata": {},
     "output_type": "execute_result"
    }
   ],
   "source": [
    "AR(x = 'BPCE')"
   ]
  },
  {
   "cell_type": "markdown",
   "metadata": {
    "Collapsed": "false"
   },
   "source": [
    "VAR"
   ]
  },
  {
   "cell_type": "code",
   "execution_count": 43,
   "metadata": {
    "Collapsed": "false"
   },
   "outputs": [],
   "source": [
    "from statsmodels.tsa.api import VAR"
   ]
  },
  {
   "cell_type": "code",
   "execution_count": 45,
   "metadata": {
    "Collapsed": "false"
   },
   "outputs": [
    {
     "name": "stderr",
     "output_type": "stream",
     "text": [
      "/Users/thomas/anaconda3/lib/python3.7/site-packages/statsmodels/tsa/base/tsa_model.py:215: ValueWarning: An unsupported index was provided and will be ignored when e.g. forecasting.\n",
      "  ' ignored when e.g. forecasting.', ValueWarning)\n"
     ]
    }
   ],
   "source": [
    "varmodel = VAR(df_return)"
   ]
  },
  {
   "cell_type": "code",
   "execution_count": 47,
   "metadata": {
    "Collapsed": "false"
   },
   "outputs": [
    {
     "name": "stdout",
     "output_type": "stream",
     "text": [
      "<statsmodels.tsa.vector_ar.var_model.LagOrderResults object. Selected orders are: AIC -> 6, BIC -> 0, FPE -> 6, HQIC -> 0>\n"
     ]
    }
   ],
   "source": [
    "print(varmodel.select_order(maxlags = 10,\n",
    "                            trend = 'c')\n",
    "     )"
   ]
  },
  {
   "cell_type": "code",
   "execution_count": 48,
   "metadata": {
    "Collapsed": "false"
   },
   "outputs": [
    {
     "data": {
      "text/plain": [
       "  Summary of Regression Results   \n",
       "==================================\n",
       "Model:                         VAR\n",
       "Method:                        OLS\n",
       "Date:           Wed, 25, Sep, 2019\n",
       "Time:                     19:26:10\n",
       "--------------------------------------------------------------------\n",
       "No. of Equations:         4.00000    BIC:                   -32.5787\n",
       "Nobs:                     3931.00    HQIC:                  -32.6817\n",
       "Log likelihood:           42135.8    FPE:                6.05235e-15\n",
       "AIC:                     -32.7383    Det(Omega_mle):     5.90081e-15\n",
       "--------------------------------------------------------------------\n",
       "Results for equation BNPPARIBAS\n",
       "=======================================================================================\n",
       "                          coefficient       std. error           t-stat            prob\n",
       "---------------------------------------------------------------------------------------\n",
       "const                        0.000301         0.000354            0.850           0.396\n",
       "L1.BNPPARIBAS               -0.083599         0.030749           -2.719           0.007\n",
       "L1.CREDITAGRICOLESA          0.006082         0.029073            0.209           0.834\n",
       "L1.BPCE                      0.022246         0.018397            1.209           0.227\n",
       "L1.SOCIETEGENERALESA         0.073539         0.028229            2.605           0.009\n",
       "L2.BNPPARIBAS                0.106955         0.030742            3.479           0.001\n",
       "L2.CREDITAGRICOLESA         -0.066819         0.029026           -2.302           0.021\n",
       "L2.BPCE                      0.008461         0.018390            0.460           0.645\n",
       "L2.SOCIETEGENERALESA        -0.029813         0.028302           -1.053           0.292\n",
       "L3.BNPPARIBAS               -0.087992         0.030810           -2.856           0.004\n",
       "L3.CREDITAGRICOLESA         -0.035472         0.029061           -1.221           0.222\n",
       "L3.BPCE                     -0.036701         0.018364           -1.999           0.046\n",
       "L3.SOCIETEGENERALESA         0.136588         0.028323            4.823           0.000\n",
       "L4.BNPPARIBAS                0.028064         0.030794            0.911           0.362\n",
       "L4.CREDITAGRICOLESA          0.012393         0.029054            0.427           0.670\n",
       "L4.BPCE                      0.005002         0.018362            0.272           0.785\n",
       "L4.SOCIETEGENERALESA        -0.070046         0.028374           -2.469           0.014\n",
       "L5.BNPPARIBAS               -0.085713         0.030739           -2.788           0.005\n",
       "L5.CREDITAGRICOLESA         -0.067566         0.029043           -2.326           0.020\n",
       "L5.BPCE                      0.037762         0.018376            2.055           0.040\n",
       "L5.SOCIETEGENERALESA         0.085740         0.028343            3.025           0.002\n",
       "L6.BNPPARIBAS               -0.063375         0.030748           -2.061           0.039\n",
       "L6.CREDITAGRICOLESA          0.022932         0.029084            0.788           0.430\n",
       "L6.BPCE                      0.018640         0.018380            1.014           0.310\n",
       "L6.SOCIETEGENERALESA         0.023460         0.028355            0.827           0.408\n",
       "=======================================================================================\n",
       "\n",
       "Results for equation CREDITAGRICOLESA\n",
       "=======================================================================================\n",
       "                          coefficient       std. error           t-stat            prob\n",
       "---------------------------------------------------------------------------------------\n",
       "const                        0.000525         0.000384            1.368           0.171\n",
       "L1.BNPPARIBAS               -0.097390         0.033359           -2.919           0.004\n",
       "L1.CREDITAGRICOLESA          0.003520         0.031540            0.112           0.911\n",
       "L1.BPCE                      0.005008         0.019958            0.251           0.802\n",
       "L1.SOCIETEGENERALESA         0.112231         0.030625            3.665           0.000\n",
       "L2.BNPPARIBAS                0.068837         0.033351            2.064           0.039\n",
       "L2.CREDITAGRICOLESA         -0.060285         0.031490           -1.914           0.056\n",
       "L2.BPCE                     -0.010429         0.019951           -0.523           0.601\n",
       "L2.SOCIETEGENERALESA         0.023418         0.030704            0.763           0.446\n",
       "L3.BNPPARIBAS               -0.049272         0.033425           -1.474           0.140\n",
       "L3.CREDITAGRICOLESA         -0.075330         0.031528           -2.389           0.017\n",
       "L3.BPCE                     -0.015461         0.019922           -0.776           0.438\n",
       "L3.SOCIETEGENERALESA         0.098137         0.030726            3.194           0.001\n",
       "L4.BNPPARIBAS                0.042427         0.033407            1.270           0.204\n",
       "L4.CREDITAGRICOLESA         -0.028121         0.031520           -0.892           0.372\n",
       "L4.BPCE                      0.014298         0.019921            0.718           0.473\n",
       "L4.SOCIETEGENERALESA        -0.061975         0.030782           -2.013           0.044\n",
       "L5.BNPPARIBAS               -0.052463         0.033347           -1.573           0.116\n",
       "L5.CREDITAGRICOLESA         -0.055231         0.031508           -1.753           0.080\n",
       "L5.BPCE                      0.050342         0.019936            2.525           0.012\n",
       "L5.SOCIETEGENERALESA         0.066153         0.030749            2.151           0.031\n",
       "L6.BNPPARIBAS               -0.015040         0.033358           -0.451           0.652\n",
       "L6.CREDITAGRICOLESA         -0.025823         0.031552           -0.818           0.413\n",
       "L6.BPCE                     -0.006931         0.019940           -0.348           0.728\n",
       "L6.SOCIETEGENERALESA         0.038450         0.030762            1.250           0.211\n",
       "=======================================================================================\n",
       "\n",
       "Results for equation BPCE\n",
       "=======================================================================================\n",
       "                          coefficient       std. error           t-stat            prob\n",
       "---------------------------------------------------------------------------------------\n",
       "const                        0.000508         0.000431            1.178           0.239\n",
       "L1.BNPPARIBAS               -0.133722         0.037467           -3.569           0.000\n",
       "L1.CREDITAGRICOLESA          0.021877         0.035425            0.618           0.537\n",
       "L1.BPCE                      0.000849         0.022416            0.038           0.970\n",
       "L1.SOCIETEGENERALESA         0.146312         0.034398            4.254           0.000\n",
       "L2.BNPPARIBAS                0.050068         0.037459            1.337           0.181\n",
       "L2.CREDITAGRICOLESA          0.019405         0.035368            0.549           0.583\n",
       "L2.BPCE                     -0.054602         0.022408           -2.437           0.015\n",
       "L2.SOCIETEGENERALESA        -0.017483         0.034486           -0.507           0.612\n",
       "L3.BNPPARIBAS               -0.079887         0.037542           -2.128           0.033\n",
       "L3.CREDITAGRICOLESA         -0.002277         0.035411           -0.064           0.949\n",
       "L3.BPCE                     -0.013579         0.022376           -0.607           0.544\n",
       "L3.SOCIETEGENERALESA         0.066708         0.034511            1.933           0.053\n",
       "L4.BNPPARIBAS               -0.014763         0.037522           -0.393           0.694\n",
       "L4.CREDITAGRICOLESA          0.065574         0.035402            1.852           0.064\n",
       "L4.BPCE                     -0.059603         0.022375           -2.664           0.008\n",
       "L4.SOCIETEGENERALESA        -0.022656         0.034573           -0.655           0.512\n",
       "L5.BNPPARIBAS               -0.092795         0.037455           -2.478           0.013\n",
       "L5.CREDITAGRICOLESA         -0.024914         0.035389           -0.704           0.481\n",
       "L5.BPCE                      0.008021         0.022392            0.358           0.720\n",
       "L5.SOCIETEGENERALESA         0.074299         0.034536            2.151           0.031\n",
       "L6.BNPPARIBAS               -0.023573         0.037466           -0.629           0.529\n",
       "L6.CREDITAGRICOLESA          0.003694         0.035439            0.104           0.917\n",
       "L6.BPCE                      0.044341         0.022396            1.980           0.048\n",
       "L6.SOCIETEGENERALESA        -0.000176         0.034551           -0.005           0.996\n",
       "=======================================================================================\n",
       "\n",
       "Results for equation SOCIETEGENERALESA\n",
       "=======================================================================================\n",
       "                          coefficient       std. error           t-stat            prob\n",
       "---------------------------------------------------------------------------------------\n",
       "const                        0.000556         0.000401            1.386           0.166\n",
       "L1.BNPPARIBAS               -0.123084         0.034863           -3.531           0.000\n",
       "L1.CREDITAGRICOLESA         -0.011630         0.032962           -0.353           0.724\n",
       "L1.BPCE                      0.016183         0.020858            0.776           0.438\n",
       "L1.SOCIETEGENERALESA         0.141616         0.032006            4.425           0.000\n",
       "L2.BNPPARIBAS                0.053375         0.034855            1.531           0.126\n",
       "L2.CREDITAGRICOLESA         -0.009632         0.032910           -0.293           0.770\n",
       "L2.BPCE                     -0.001666         0.020850           -0.080           0.936\n",
       "L2.SOCIETEGENERALESA        -0.046591         0.032089           -1.452           0.147\n",
       "L3.BNPPARIBAS               -0.037780         0.034932           -1.082           0.279\n",
       "L3.CREDITAGRICOLESA         -0.076072         0.032949           -2.309           0.021\n",
       "L3.BPCE                     -0.023136         0.020821           -1.111           0.266\n",
       "L3.SOCIETEGENERALESA         0.135810         0.032112            4.229           0.000\n",
       "L4.BNPPARIBAS                0.002636         0.034914            0.076           0.940\n",
       "L4.CREDITAGRICOLESA          0.029316         0.032941            0.890           0.373\n",
       "L4.BPCE                      0.010072         0.020819            0.484           0.629\n",
       "L4.SOCIETEGENERALESA        -0.089490         0.032170           -2.782           0.005\n",
       "L5.BNPPARIBAS               -0.087152         0.034851           -2.501           0.012\n",
       "L5.CREDITAGRICOLESA         -0.012389         0.032929           -0.376           0.707\n",
       "L5.BPCE                      0.033911         0.020835            1.628           0.104\n",
       "L5.SOCIETEGENERALESA         0.055600         0.032135            1.730           0.084\n",
       "L6.BNPPARIBAS                0.004005         0.034862            0.115           0.909\n",
       "L6.CREDITAGRICOLESA         -0.000862         0.032975           -0.026           0.979\n",
       "L6.BPCE                      0.027426         0.020839            1.316           0.188\n",
       "L6.SOCIETEGENERALESA        -0.033343         0.032149           -1.037           0.300\n",
       "=======================================================================================\n",
       "\n",
       "Correlation matrix of residuals\n",
       "                     BNPPARIBAS  CREDITAGRICOLESA      BPCE  SOCIETEGENERALESA\n",
       "BNPPARIBAS             1.000000          0.807368  0.643144           0.817658\n",
       "CREDITAGRICOLESA       0.807368          1.000000  0.666914           0.821937\n",
       "BPCE                   0.643144          0.666914  1.000000           0.656929\n",
       "SOCIETEGENERALESA      0.817658          0.821937  0.656929           1.000000\n",
       "\n"
      ]
     },
     "execution_count": 48,
     "metadata": {},
     "output_type": "execute_result"
    }
   ],
   "source": [
    "results = varmodel.fit(6)\n",
    "results.summary()"
   ]
  },
  {
   "cell_type": "markdown",
   "metadata": {
    "Collapsed": "false"
   },
   "source": [
    "Granger\n",
    "\n",
    "Need to do all the vars"
   ]
  },
  {
   "cell_type": "code",
   "execution_count": 51,
   "metadata": {
    "Collapsed": "false"
   },
   "outputs": [
    {
     "name": "stdout",
     "output_type": "stream",
     "text": [
      "<statsmodels.tsa.vector_ar.hypothesis_test_results.CausalityTestResults object. H_0: CREDITAGRICOLESA does not Granger-cause BNPPARIBAS: reject at 5% significance level. Test statistic: 2.155, critical value: 2.099>, p-value: 0.044>\n"
     ]
    }
   ],
   "source": [
    "# Granger causality\n",
    "print(results.test_causality('BNPPARIBAS', 'CREDITAGRICOLESA'))"
   ]
  },
  {
   "cell_type": "markdown",
   "metadata": {
    "Collapsed": "false"
   },
   "source": [
    "Predict"
   ]
  },
  {
   "cell_type": "code",
   "execution_count": 58,
   "metadata": {
    "Collapsed": "false"
   },
   "outputs": [
    {
     "data": {
      "text/plain": [
       "6"
      ]
     },
     "execution_count": 58,
     "metadata": {},
     "output_type": "execute_result"
    }
   ],
   "source": [
    "results.k_ar"
   ]
  },
  {
   "cell_type": "code",
   "execution_count": 63,
   "metadata": {
    "Collapsed": "false"
   },
   "outputs": [
    {
     "data": {
      "text/plain": [
       "array([[-0.00364449, -0.00967845,  0.00715933,  0.00386454]])"
      ]
     },
     "execution_count": 63,
     "metadata": {},
     "output_type": "execute_result"
    }
   ],
   "source": [
    "df_return.tail(1).to_numpy()"
   ]
  },
  {
   "cell_type": "code",
   "execution_count": 66,
   "metadata": {
    "Collapsed": "false"
   },
   "outputs": [],
   "source": [
    "forcast = results.forecast(y=df_return.tail(6).to_numpy(), steps=1)"
   ]
  },
  {
   "cell_type": "code",
   "execution_count": 73,
   "metadata": {
    "Collapsed": "false"
   },
   "outputs": [
    {
     "data": {
      "text/plain": [
       "-0.0003860825973820822"
      ]
     },
     "execution_count": 73,
     "metadata": {},
     "output_type": "execute_result"
    }
   ],
   "source": []
  },
  {
   "cell_type": "code",
   "execution_count": 74,
   "metadata": {
    "Collapsed": "false"
   },
   "outputs": [
    {
     "name": "stdout",
     "output_type": "stream",
     "text": [
      "forecast is  -0.0003860825973820822 and sd is 0.001136351334427499  and  -0.00040272655851726743\n"
     ]
    }
   ],
   "source": [
    "print('forecast is  {0} and sd is {1}  and  {2}'.format(forcast[0][0],\n",
    "                                                        forcast[0][1],\n",
    "                                                       forcast[0][2]))"
   ]
  },
  {
   "cell_type": "markdown",
   "metadata": {
    "Collapsed": "false"
   },
   "source": [
    "CAPM"
   ]
  },
  {
   "cell_type": "code",
   "execution_count": 88,
   "metadata": {
    "Collapsed": "false"
   },
   "outputs": [],
   "source": [
    "stock_index = pd.Series(df_final.sum(axis = 1), name = 'index')"
   ]
  },
  {
   "cell_type": "code",
   "execution_count": 89,
   "metadata": {
    "Collapsed": "false"
   },
   "outputs": [],
   "source": [
    "return_index = stock_index.pct_change(1).dropna()"
   ]
  },
  {
   "cell_type": "code",
   "execution_count": 91,
   "metadata": {
    "Collapsed": "false"
   },
   "outputs": [
    {
     "data": {
      "text/html": [
       "<div>\n",
       "<style scoped>\n",
       "    .dataframe tbody tr th:only-of-type {\n",
       "        vertical-align: middle;\n",
       "    }\n",
       "\n",
       "    .dataframe tbody tr th {\n",
       "        vertical-align: top;\n",
       "    }\n",
       "\n",
       "    .dataframe thead th {\n",
       "        text-align: right;\n",
       "    }\n",
       "</style>\n",
       "<table border=\"1\" class=\"dataframe\">\n",
       "  <thead>\n",
       "    <tr style=\"text-align: right;\">\n",
       "      <th></th>\n",
       "      <th>index</th>\n",
       "      <th>BNPPARIBAS</th>\n",
       "      <th>CREDITAGRICOLESA</th>\n",
       "      <th>BPCE</th>\n",
       "      <th>SOCIETEGENERALESA</th>\n",
       "    </tr>\n",
       "    <tr>\n",
       "      <th>Date</th>\n",
       "      <th></th>\n",
       "      <th></th>\n",
       "      <th></th>\n",
       "      <th></th>\n",
       "      <th></th>\n",
       "    </tr>\n",
       "  </thead>\n",
       "  <tbody>\n",
       "    <tr>\n",
       "      <th>11/10/2016</th>\n",
       "      <td>-0.001687</td>\n",
       "      <td>0.004033</td>\n",
       "      <td>-0.017516</td>\n",
       "      <td>-0.003611</td>\n",
       "      <td>-0.005269</td>\n",
       "    </tr>\n",
       "    <tr>\n",
       "      <th>10/10/2016</th>\n",
       "      <td>0.005774</td>\n",
       "      <td>0.011329</td>\n",
       "      <td>-0.007131</td>\n",
       "      <td>0.007022</td>\n",
       "      <td>0.001059</td>\n",
       "    </tr>\n",
       "    <tr>\n",
       "      <th>09/10/2016</th>\n",
       "      <td>-0.000887</td>\n",
       "      <td>0.004277</td>\n",
       "      <td>-0.009141</td>\n",
       "      <td>-0.001350</td>\n",
       "      <td>-0.006198</td>\n",
       "    </tr>\n",
       "    <tr>\n",
       "      <th>08/10/2016</th>\n",
       "      <td>0.000000</td>\n",
       "      <td>0.000000</td>\n",
       "      <td>0.000000</td>\n",
       "      <td>0.000000</td>\n",
       "      <td>0.000000</td>\n",
       "    </tr>\n",
       "    <tr>\n",
       "      <th>07/10/2016</th>\n",
       "      <td>0.000000</td>\n",
       "      <td>0.000000</td>\n",
       "      <td>0.000000</td>\n",
       "      <td>0.000000</td>\n",
       "      <td>0.000000</td>\n",
       "    </tr>\n",
       "  </tbody>\n",
       "</table>\n",
       "</div>"
      ],
      "text/plain": [
       "               index  BNPPARIBAS  CREDITAGRICOLESA      BPCE  \\\n",
       "Date                                                           \n",
       "11/10/2016 -0.001687    0.004033         -0.017516 -0.003611   \n",
       "10/10/2016  0.005774    0.011329         -0.007131  0.007022   \n",
       "09/10/2016 -0.000887    0.004277         -0.009141 -0.001350   \n",
       "08/10/2016  0.000000    0.000000          0.000000  0.000000   \n",
       "07/10/2016  0.000000    0.000000          0.000000  0.000000   \n",
       "\n",
       "            SOCIETEGENERALESA  \n",
       "Date                           \n",
       "11/10/2016          -0.005269  \n",
       "10/10/2016           0.001059  \n",
       "09/10/2016          -0.006198  \n",
       "08/10/2016           0.000000  \n",
       "07/10/2016           0.000000  "
      ]
     },
     "execution_count": 91,
     "metadata": {},
     "output_type": "execute_result"
    }
   ],
   "source": [
    "df_return_serie=  pd.concat([return_index, df_return], axis = 1)\n",
    "df_return_serie.head()"
   ]
  },
  {
   "cell_type": "markdown",
   "metadata": {
    "Collapsed": "false"
   },
   "source": [
    "regress each bank on stock"
   ]
  },
  {
   "cell_type": "code",
   "execution_count": 98,
   "metadata": {
    "Collapsed": "false"
   },
   "outputs": [],
   "source": [
    "mod1 = smf.ols(formula='index ~ CREDITAGRICOLESA', data=df_return_serie).fit()\n",
    "mod2 = smf.ols(formula='index ~ BNPPARIBAS ', data=df_return_serie).fit()\n",
    "mod3 = smf.ols(formula='index ~ CREDITAGRICOLESA', data=df_return_serie).fit()\n",
    "mod4 = smf.ols(formula='index ~BPCE', data=df_return_serie).fit()"
   ]
  },
  {
   "cell_type": "code",
   "execution_count": 103,
   "metadata": {
    "Collapsed": "false"
   },
   "outputs": [
    {
     "data": {
      "text/html": [
       "<table class=\"simpletable\">\n",
       "<caption>OLS Regression Results</caption>\n",
       "<tr>\n",
       "  <th>Dep. Variable:</th>          <td>index</td>      <th>  R-squared:         </th>  <td>   0.783</td> \n",
       "</tr>\n",
       "<tr>\n",
       "  <th>Model:</th>                   <td>OLS</td>       <th>  Adj. R-squared:    </th>  <td>   0.783</td> \n",
       "</tr>\n",
       "<tr>\n",
       "  <th>Method:</th>             <td>Least Squares</td>  <th>  F-statistic:       </th>  <td>1.418e+04</td>\n",
       "</tr>\n",
       "<tr>\n",
       "  <th>Date:</th>             <td>Wed, 25 Sep 2019</td> <th>  Prob (F-statistic):</th>   <td>  0.00</td>  \n",
       "</tr>\n",
       "<tr>\n",
       "  <th>Time:</th>                 <td>19:47:21</td>     <th>  Log-Likelihood:    </th>  <td>  12417.</td> \n",
       "</tr>\n",
       "<tr>\n",
       "  <th>No. Observations:</th>      <td>  3937</td>      <th>  AIC:               </th> <td>-2.483e+04</td>\n",
       "</tr>\n",
       "<tr>\n",
       "  <th>Df Residuals:</th>          <td>  3935</td>      <th>  BIC:               </th> <td>-2.482e+04</td>\n",
       "</tr>\n",
       "<tr>\n",
       "  <th>Df Model:</th>              <td>     1</td>      <th>                     </th>      <td> </td>    \n",
       "</tr>\n",
       "<tr>\n",
       "  <th>Covariance Type:</th>      <td>nonrobust</td>    <th>                     </th>      <td> </td>    \n",
       "</tr>\n",
       "</table>\n",
       "<table class=\"simpletable\">\n",
       "<tr>\n",
       "          <td></td>            <th>coef</th>     <th>std err</th>      <th>t</th>      <th>P>|t|</th>  <th>[0.025</th>    <th>0.975]</th>  \n",
       "</tr>\n",
       "<tr>\n",
       "  <th>Intercept</th>        <td>-9.964e-06</td> <td>    0.000</td> <td>   -0.061</td> <td> 0.952</td> <td>   -0.000</td> <td>    0.000</td>\n",
       "</tr>\n",
       "<tr>\n",
       "  <th>CREDITAGRICOLESA</th> <td>    0.8117</td> <td>    0.007</td> <td>  119.063</td> <td> 0.000</td> <td>    0.798</td> <td>    0.825</td>\n",
       "</tr>\n",
       "</table>\n",
       "<table class=\"simpletable\">\n",
       "<tr>\n",
       "  <th>Omnibus:</th>       <td>728.198</td> <th>  Durbin-Watson:     </th> <td>   2.001</td> \n",
       "</tr>\n",
       "<tr>\n",
       "  <th>Prob(Omnibus):</th> <td> 0.000</td>  <th>  Jarque-Bera (JB):  </th> <td>19070.218</td>\n",
       "</tr>\n",
       "<tr>\n",
       "  <th>Skew:</th>          <td> 0.066</td>  <th>  Prob(JB):          </th> <td>    0.00</td> \n",
       "</tr>\n",
       "<tr>\n",
       "  <th>Kurtosis:</th>      <td>13.781</td>  <th>  Cond. No.          </th> <td>    41.4</td> \n",
       "</tr>\n",
       "</table><br/><br/>Warnings:<br/>[1] Standard Errors assume that the covariance matrix of the errors is correctly specified."
      ],
      "text/plain": [
       "<class 'statsmodels.iolib.summary.Summary'>\n",
       "\"\"\"\n",
       "                            OLS Regression Results                            \n",
       "==============================================================================\n",
       "Dep. Variable:                  index   R-squared:                       0.783\n",
       "Model:                            OLS   Adj. R-squared:                  0.783\n",
       "Method:                 Least Squares   F-statistic:                 1.418e+04\n",
       "Date:                Wed, 25 Sep 2019   Prob (F-statistic):               0.00\n",
       "Time:                        19:47:21   Log-Likelihood:                 12417.\n",
       "No. Observations:                3937   AIC:                        -2.483e+04\n",
       "Df Residuals:                    3935   BIC:                        -2.482e+04\n",
       "Df Model:                           1                                         \n",
       "Covariance Type:            nonrobust                                         \n",
       "====================================================================================\n",
       "                       coef    std err          t      P>|t|      [0.025      0.975]\n",
       "------------------------------------------------------------------------------------\n",
       "Intercept        -9.964e-06      0.000     -0.061      0.952      -0.000       0.000\n",
       "CREDITAGRICOLESA     0.8117      0.007    119.063      0.000       0.798       0.825\n",
       "==============================================================================\n",
       "Omnibus:                      728.198   Durbin-Watson:                   2.001\n",
       "Prob(Omnibus):                  0.000   Jarque-Bera (JB):            19070.218\n",
       "Skew:                           0.066   Prob(JB):                         0.00\n",
       "Kurtosis:                      13.781   Cond. No.                         41.4\n",
       "==============================================================================\n",
       "\n",
       "Warnings:\n",
       "[1] Standard Errors assume that the covariance matrix of the errors is correctly specified.\n",
       "\"\"\""
      ]
     },
     "execution_count": 103,
     "metadata": {},
     "output_type": "execute_result"
    }
   ],
   "source": [
    "mod1.summary()"
   ]
  },
  {
   "cell_type": "markdown",
   "metadata": {
    "Collapsed": "false"
   },
   "source": [
    "BNP most sensitive bank?"
   ]
  },
  {
   "cell_type": "code",
   "execution_count": 100,
   "metadata": {
    "Collapsed": "false"
   },
   "outputs": [
    {
     "data": {
      "text/html": [
       "<table class=\"simpletable\">\n",
       "<caption>OLS Regression Results</caption>\n",
       "<tr>\n",
       "  <th>Dep. Variable:</th>          <td>index</td>      <th>  R-squared:         </th>  <td>   0.905</td> \n",
       "</tr>\n",
       "<tr>\n",
       "  <th>Model:</th>                   <td>OLS</td>       <th>  Adj. R-squared:    </th>  <td>   0.905</td> \n",
       "</tr>\n",
       "<tr>\n",
       "  <th>Method:</th>             <td>Least Squares</td>  <th>  F-statistic:       </th>  <td>3.734e+04</td>\n",
       "</tr>\n",
       "<tr>\n",
       "  <th>Date:</th>             <td>Wed, 25 Sep 2019</td> <th>  Prob (F-statistic):</th>   <td>  0.00</td>  \n",
       "</tr>\n",
       "<tr>\n",
       "  <th>Time:</th>                 <td>19:47:08</td>     <th>  Log-Likelihood:    </th>  <td>  14039.</td> \n",
       "</tr>\n",
       "<tr>\n",
       "  <th>No. Observations:</th>      <td>  3937</td>      <th>  AIC:               </th> <td>-2.807e+04</td>\n",
       "</tr>\n",
       "<tr>\n",
       "  <th>Df Residuals:</th>          <td>  3935</td>      <th>  BIC:               </th> <td>-2.806e+04</td>\n",
       "</tr>\n",
       "<tr>\n",
       "  <th>Df Model:</th>              <td>     1</td>      <th>                     </th>      <td> </td>    \n",
       "</tr>\n",
       "<tr>\n",
       "  <th>Covariance Type:</th>      <td>nonrobust</td>    <th>                     </th>      <td> </td>    \n",
       "</tr>\n",
       "</table>\n",
       "<table class=\"simpletable\">\n",
       "<tr>\n",
       "       <td></td>         <th>coef</th>     <th>std err</th>      <th>t</th>      <th>P>|t|</th>  <th>[0.025</th>    <th>0.975]</th>  \n",
       "</tr>\n",
       "<tr>\n",
       "  <th>Intercept</th>  <td>    0.0001</td> <td>    0.000</td> <td>    1.025</td> <td> 0.305</td> <td>   -0.000</td> <td>    0.000</td>\n",
       "</tr>\n",
       "<tr>\n",
       "  <th>BNPPARIBAS</th> <td>    0.9444</td> <td>    0.005</td> <td>  193.231</td> <td> 0.000</td> <td>    0.935</td> <td>    0.954</td>\n",
       "</tr>\n",
       "</table>\n",
       "<table class=\"simpletable\">\n",
       "<tr>\n",
       "  <th>Omnibus:</th>       <td>970.790</td> <th>  Durbin-Watson:     </th> <td>   1.868</td> \n",
       "</tr>\n",
       "<tr>\n",
       "  <th>Prob(Omnibus):</th> <td> 0.000</td>  <th>  Jarque-Bera (JB):  </th> <td>52614.642</td>\n",
       "</tr>\n",
       "<tr>\n",
       "  <th>Skew:</th>          <td>-0.257</td>  <th>  Prob(JB):          </th> <td>    0.00</td> \n",
       "</tr>\n",
       "<tr>\n",
       "  <th>Kurtosis:</th>      <td>20.902</td>  <th>  Cond. No.          </th> <td>    44.8</td> \n",
       "</tr>\n",
       "</table><br/><br/>Warnings:<br/>[1] Standard Errors assume that the covariance matrix of the errors is correctly specified."
      ],
      "text/plain": [
       "<class 'statsmodels.iolib.summary.Summary'>\n",
       "\"\"\"\n",
       "                            OLS Regression Results                            \n",
       "==============================================================================\n",
       "Dep. Variable:                  index   R-squared:                       0.905\n",
       "Model:                            OLS   Adj. R-squared:                  0.905\n",
       "Method:                 Least Squares   F-statistic:                 3.734e+04\n",
       "Date:                Wed, 25 Sep 2019   Prob (F-statistic):               0.00\n",
       "Time:                        19:47:08   Log-Likelihood:                 14039.\n",
       "No. Observations:                3937   AIC:                        -2.807e+04\n",
       "Df Residuals:                    3935   BIC:                        -2.806e+04\n",
       "Df Model:                           1                                         \n",
       "Covariance Type:            nonrobust                                         \n",
       "==============================================================================\n",
       "                 coef    std err          t      P>|t|      [0.025      0.975]\n",
       "------------------------------------------------------------------------------\n",
       "Intercept      0.0001      0.000      1.025      0.305      -0.000       0.000\n",
       "BNPPARIBAS     0.9444      0.005    193.231      0.000       0.935       0.954\n",
       "==============================================================================\n",
       "Omnibus:                      970.790   Durbin-Watson:                   1.868\n",
       "Prob(Omnibus):                  0.000   Jarque-Bera (JB):            52614.642\n",
       "Skew:                          -0.257   Prob(JB):                         0.00\n",
       "Kurtosis:                      20.902   Cond. No.                         44.8\n",
       "==============================================================================\n",
       "\n",
       "Warnings:\n",
       "[1] Standard Errors assume that the covariance matrix of the errors is correctly specified.\n",
       "\"\"\""
      ]
     },
     "execution_count": 100,
     "metadata": {},
     "output_type": "execute_result"
    }
   ],
   "source": [
    "mod2.summary()"
   ]
  },
  {
   "cell_type": "code",
   "execution_count": 101,
   "metadata": {
    "Collapsed": "false"
   },
   "outputs": [
    {
     "data": {
      "text/html": [
       "<table class=\"simpletable\">\n",
       "<caption>OLS Regression Results</caption>\n",
       "<tr>\n",
       "  <th>Dep. Variable:</th>          <td>index</td>      <th>  R-squared:         </th>  <td>   0.783</td> \n",
       "</tr>\n",
       "<tr>\n",
       "  <th>Model:</th>                   <td>OLS</td>       <th>  Adj. R-squared:    </th>  <td>   0.783</td> \n",
       "</tr>\n",
       "<tr>\n",
       "  <th>Method:</th>             <td>Least Squares</td>  <th>  F-statistic:       </th>  <td>1.418e+04</td>\n",
       "</tr>\n",
       "<tr>\n",
       "  <th>Date:</th>             <td>Wed, 25 Sep 2019</td> <th>  Prob (F-statistic):</th>   <td>  0.00</td>  \n",
       "</tr>\n",
       "<tr>\n",
       "  <th>Time:</th>                 <td>19:47:11</td>     <th>  Log-Likelihood:    </th>  <td>  12417.</td> \n",
       "</tr>\n",
       "<tr>\n",
       "  <th>No. Observations:</th>      <td>  3937</td>      <th>  AIC:               </th> <td>-2.483e+04</td>\n",
       "</tr>\n",
       "<tr>\n",
       "  <th>Df Residuals:</th>          <td>  3935</td>      <th>  BIC:               </th> <td>-2.482e+04</td>\n",
       "</tr>\n",
       "<tr>\n",
       "  <th>Df Model:</th>              <td>     1</td>      <th>                     </th>      <td> </td>    \n",
       "</tr>\n",
       "<tr>\n",
       "  <th>Covariance Type:</th>      <td>nonrobust</td>    <th>                     </th>      <td> </td>    \n",
       "</tr>\n",
       "</table>\n",
       "<table class=\"simpletable\">\n",
       "<tr>\n",
       "          <td></td>            <th>coef</th>     <th>std err</th>      <th>t</th>      <th>P>|t|</th>  <th>[0.025</th>    <th>0.975]</th>  \n",
       "</tr>\n",
       "<tr>\n",
       "  <th>Intercept</th>        <td>-9.964e-06</td> <td>    0.000</td> <td>   -0.061</td> <td> 0.952</td> <td>   -0.000</td> <td>    0.000</td>\n",
       "</tr>\n",
       "<tr>\n",
       "  <th>CREDITAGRICOLESA</th> <td>    0.8117</td> <td>    0.007</td> <td>  119.063</td> <td> 0.000</td> <td>    0.798</td> <td>    0.825</td>\n",
       "</tr>\n",
       "</table>\n",
       "<table class=\"simpletable\">\n",
       "<tr>\n",
       "  <th>Omnibus:</th>       <td>728.198</td> <th>  Durbin-Watson:     </th> <td>   2.001</td> \n",
       "</tr>\n",
       "<tr>\n",
       "  <th>Prob(Omnibus):</th> <td> 0.000</td>  <th>  Jarque-Bera (JB):  </th> <td>19070.218</td>\n",
       "</tr>\n",
       "<tr>\n",
       "  <th>Skew:</th>          <td> 0.066</td>  <th>  Prob(JB):          </th> <td>    0.00</td> \n",
       "</tr>\n",
       "<tr>\n",
       "  <th>Kurtosis:</th>      <td>13.781</td>  <th>  Cond. No.          </th> <td>    41.4</td> \n",
       "</tr>\n",
       "</table><br/><br/>Warnings:<br/>[1] Standard Errors assume that the covariance matrix of the errors is correctly specified."
      ],
      "text/plain": [
       "<class 'statsmodels.iolib.summary.Summary'>\n",
       "\"\"\"\n",
       "                            OLS Regression Results                            \n",
       "==============================================================================\n",
       "Dep. Variable:                  index   R-squared:                       0.783\n",
       "Model:                            OLS   Adj. R-squared:                  0.783\n",
       "Method:                 Least Squares   F-statistic:                 1.418e+04\n",
       "Date:                Wed, 25 Sep 2019   Prob (F-statistic):               0.00\n",
       "Time:                        19:47:11   Log-Likelihood:                 12417.\n",
       "No. Observations:                3937   AIC:                        -2.483e+04\n",
       "Df Residuals:                    3935   BIC:                        -2.482e+04\n",
       "Df Model:                           1                                         \n",
       "Covariance Type:            nonrobust                                         \n",
       "====================================================================================\n",
       "                       coef    std err          t      P>|t|      [0.025      0.975]\n",
       "------------------------------------------------------------------------------------\n",
       "Intercept        -9.964e-06      0.000     -0.061      0.952      -0.000       0.000\n",
       "CREDITAGRICOLESA     0.8117      0.007    119.063      0.000       0.798       0.825\n",
       "==============================================================================\n",
       "Omnibus:                      728.198   Durbin-Watson:                   2.001\n",
       "Prob(Omnibus):                  0.000   Jarque-Bera (JB):            19070.218\n",
       "Skew:                           0.066   Prob(JB):                         0.00\n",
       "Kurtosis:                      13.781   Cond. No.                         41.4\n",
       "==============================================================================\n",
       "\n",
       "Warnings:\n",
       "[1] Standard Errors assume that the covariance matrix of the errors is correctly specified.\n",
       "\"\"\""
      ]
     },
     "execution_count": 101,
     "metadata": {},
     "output_type": "execute_result"
    }
   ],
   "source": [
    "mod3.summary()"
   ]
  },
  {
   "cell_type": "code",
   "execution_count": 104,
   "metadata": {
    "Collapsed": "false"
   },
   "outputs": [
    {
     "data": {
      "text/html": [
       "<table class=\"simpletable\">\n",
       "<caption>OLS Regression Results</caption>\n",
       "<tr>\n",
       "  <th>Dep. Variable:</th>          <td>index</td>      <th>  R-squared:         </th>  <td>   0.506</td> \n",
       "</tr>\n",
       "<tr>\n",
       "  <th>Model:</th>                   <td>OLS</td>       <th>  Adj. R-squared:    </th>  <td>   0.506</td> \n",
       "</tr>\n",
       "<tr>\n",
       "  <th>Method:</th>             <td>Least Squares</td>  <th>  F-statistic:       </th>  <td>   4032.</td> \n",
       "</tr>\n",
       "<tr>\n",
       "  <th>Date:</th>             <td>Wed, 25 Sep 2019</td> <th>  Prob (F-statistic):</th>   <td>  0.00</td>  \n",
       "</tr>\n",
       "<tr>\n",
       "  <th>Time:</th>                 <td>19:47:40</td>     <th>  Log-Likelihood:    </th>  <td>  10801.</td> \n",
       "</tr>\n",
       "<tr>\n",
       "  <th>No. Observations:</th>      <td>  3937</td>      <th>  AIC:               </th> <td>-2.160e+04</td>\n",
       "</tr>\n",
       "<tr>\n",
       "  <th>Df Residuals:</th>          <td>  3935</td>      <th>  BIC:               </th> <td>-2.158e+04</td>\n",
       "</tr>\n",
       "<tr>\n",
       "  <th>Df Model:</th>              <td>     1</td>      <th>                     </th>      <td> </td>    \n",
       "</tr>\n",
       "<tr>\n",
       "  <th>Covariance Type:</th>      <td>nonrobust</td>    <th>                     </th>      <td> </td>    \n",
       "</tr>\n",
       "</table>\n",
       "<table class=\"simpletable\">\n",
       "<tr>\n",
       "      <td></td>         <th>coef</th>     <th>std err</th>      <th>t</th>      <th>P>|t|</th>  <th>[0.025</th>    <th>0.975]</th>  \n",
       "</tr>\n",
       "<tr>\n",
       "  <th>Intercept</th> <td> 9.791e-05</td> <td>    0.000</td> <td>    0.394</td> <td> 0.693</td> <td>   -0.000</td> <td>    0.001</td>\n",
       "</tr>\n",
       "<tr>\n",
       "  <th>BPCE</th>      <td>    0.5813</td> <td>    0.009</td> <td>   63.502</td> <td> 0.000</td> <td>    0.563</td> <td>    0.599</td>\n",
       "</tr>\n",
       "</table>\n",
       "<table class=\"simpletable\">\n",
       "<tr>\n",
       "  <th>Omnibus:</th>       <td>992.184</td> <th>  Durbin-Watson:     </th> <td>   2.035</td> \n",
       "</tr>\n",
       "<tr>\n",
       "  <th>Prob(Omnibus):</th> <td> 0.000</td>  <th>  Jarque-Bera (JB):  </th> <td>31329.111</td>\n",
       "</tr>\n",
       "<tr>\n",
       "  <th>Skew:</th>          <td> 0.539</td>  <th>  Prob(JB):          </th> <td>    0.00</td> \n",
       "</tr>\n",
       "<tr>\n",
       "  <th>Kurtosis:</th>      <td>16.777</td>  <th>  Cond. No.          </th> <td>    36.9</td> \n",
       "</tr>\n",
       "</table><br/><br/>Warnings:<br/>[1] Standard Errors assume that the covariance matrix of the errors is correctly specified."
      ],
      "text/plain": [
       "<class 'statsmodels.iolib.summary.Summary'>\n",
       "\"\"\"\n",
       "                            OLS Regression Results                            \n",
       "==============================================================================\n",
       "Dep. Variable:                  index   R-squared:                       0.506\n",
       "Model:                            OLS   Adj. R-squared:                  0.506\n",
       "Method:                 Least Squares   F-statistic:                     4032.\n",
       "Date:                Wed, 25 Sep 2019   Prob (F-statistic):               0.00\n",
       "Time:                        19:47:40   Log-Likelihood:                 10801.\n",
       "No. Observations:                3937   AIC:                        -2.160e+04\n",
       "Df Residuals:                    3935   BIC:                        -2.158e+04\n",
       "Df Model:                           1                                         \n",
       "Covariance Type:            nonrobust                                         \n",
       "==============================================================================\n",
       "                 coef    std err          t      P>|t|      [0.025      0.975]\n",
       "------------------------------------------------------------------------------\n",
       "Intercept   9.791e-05      0.000      0.394      0.693      -0.000       0.001\n",
       "BPCE           0.5813      0.009     63.502      0.000       0.563       0.599\n",
       "==============================================================================\n",
       "Omnibus:                      992.184   Durbin-Watson:                   2.035\n",
       "Prob(Omnibus):                  0.000   Jarque-Bera (JB):            31329.111\n",
       "Skew:                           0.539   Prob(JB):                         0.00\n",
       "Kurtosis:                      16.777   Cond. No.                         36.9\n",
       "==============================================================================\n",
       "\n",
       "Warnings:\n",
       "[1] Standard Errors assume that the covariance matrix of the errors is correctly specified.\n",
       "\"\"\""
      ]
     },
     "execution_count": 104,
     "metadata": {},
     "output_type": "execute_result"
    }
   ],
   "source": [
    "mod4.summary()"
   ]
  },
  {
   "cell_type": "code",
   "execution_count": null,
   "metadata": {
    "Collapsed": "false"
   },
   "outputs": [],
   "source": []
  }
 ],
 "metadata": {
  "kernelspec": {
   "display_name": "Python 3",
   "language": "python",
   "name": "python3"
  },
  "language_info": {
   "codemirror_mode": {
    "name": "ipython",
    "version": 3
   },
   "file_extension": ".py",
   "mimetype": "text/x-python",
   "name": "python",
   "nbconvert_exporter": "python",
   "pygments_lexer": "ipython3",
   "version": "3.7.3"
  }
 },
 "nbformat": 4,
 "nbformat_minor": 4
}
