{
 "cells": [
  {
   "cell_type": "code",
   "execution_count": 2,
   "metadata": {
    "Collapsed": "false"
   },
   "outputs": [],
   "source": [
    "import pandas as pd"
   ]
  },
  {
   "cell_type": "code",
   "execution_count": 10,
   "metadata": {
    "Collapsed": "false"
   },
   "outputs": [],
   "source": [
    "df = pd.read_csv('https://raw.githubusercontent.com/thomaspernet/PythonFinanceClass/master/QuantitativeFinance/Datasets/R_data/2016_10_12_bank_prices.csv', sep = \";\")"
   ]
  },
  {
   "cell_type": "code",
   "execution_count": 11,
   "metadata": {
    "Collapsed": "false"
   },
   "outputs": [
    {
     "data": {
      "text/html": [
       "<div>\n",
       "<style scoped>\n",
       "    .dataframe tbody tr th:only-of-type {\n",
       "        vertical-align: middle;\n",
       "    }\n",
       "\n",
       "    .dataframe tbody tr th {\n",
       "        vertical-align: top;\n",
       "    }\n",
       "\n",
       "    .dataframe thead th {\n",
       "        text-align: right;\n",
       "    }\n",
       "</style>\n",
       "<table border=\"1\" class=\"dataframe\">\n",
       "  <thead>\n",
       "    <tr style=\"text-align: right;\">\n",
       "      <th></th>\n",
       "      <th>Date</th>\n",
       "      <th>MSCIWorldpreviousdayquote</th>\n",
       "      <th>FTSEALLWORLDINDEX</th>\n",
       "      <th>Eurostoxx</th>\n",
       "      <th>Eurostoxxbanks</th>\n",
       "      <th>USbanksDowJonesindex</th>\n",
       "      <th>VIXindexofVolatilityonChicagoDerivativesmarket%</th>\n",
       "      <th>FXEURUSD</th>\n",
       "      <th>FXEURGBP</th>\n",
       "      <th>FXEURCHF</th>\n",
       "      <th>...</th>\n",
       "      <th>CREDITSUISSEGROUPAGREG</th>\n",
       "      <th>BARCLAYSPLCGB</th>\n",
       "      <th>HSBCHOLDINGSPLCGB</th>\n",
       "      <th>ROYALBANKOFSCOTLANDGROUPGB</th>\n",
       "      <th>NORDEABANKAB</th>\n",
       "      <th>JPMORGANCHASECo</th>\n",
       "      <th>CITIGROUPINC</th>\n",
       "      <th>BANKOFAMERICA</th>\n",
       "      <th>GOLDMANSACHSGroup</th>\n",
       "      <th>MORGANSTANLEY</th>\n",
       "    </tr>\n",
       "  </thead>\n",
       "  <tbody>\n",
       "    <tr>\n",
       "      <th>0</th>\n",
       "      <td>12/10/2016</td>\n",
       "      <td>1700,33</td>\n",
       "      <td>272,35</td>\n",
       "      <td>339,97</td>\n",
       "      <td>96,14</td>\n",
       "      <td>3839,01</td>\n",
       "      <td>15,77</td>\n",
       "      <td>1,1025</td>\n",
       "      <td>0,89807</td>\n",
       "      <td>1,09108</td>\n",
       "      <td>...</td>\n",
       "      <td>13,13</td>\n",
       "      <td>171,9</td>\n",
       "      <td>614,3</td>\n",
       "      <td>179,8</td>\n",
       "      <td>88,9</td>\n",
       "      <td>68,31</td>\n",
       "      <td>48,99</td>\n",
       "      <td>16,11</td>\n",
       "      <td>169,04</td>\n",
       "      <td>32,18</td>\n",
       "    </tr>\n",
       "    <tr>\n",
       "      <th>1</th>\n",
       "      <td>11/10/2016</td>\n",
       "      <td>1700,33</td>\n",
       "      <td>272,81</td>\n",
       "      <td>340,17</td>\n",
       "      <td>95,6</td>\n",
       "      <td>3839,01</td>\n",
       "      <td>15,36</td>\n",
       "      <td>1,1054</td>\n",
       "      <td>0,91182</td>\n",
       "      <td>1,09312</td>\n",
       "      <td>...</td>\n",
       "      <td>13,18</td>\n",
       "      <td>172,4</td>\n",
       "      <td>618,5</td>\n",
       "      <td>181</td>\n",
       "      <td>88</td>\n",
       "      <td>68,31</td>\n",
       "      <td>48,99</td>\n",
       "      <td>16,11</td>\n",
       "      <td>169,04</td>\n",
       "      <td>32,18</td>\n",
       "    </tr>\n",
       "    <tr>\n",
       "      <th>2</th>\n",
       "      <td>10/10/2016</td>\n",
       "      <td>1719,29</td>\n",
       "      <td>275,88</td>\n",
       "      <td>341,98</td>\n",
       "      <td>95,87</td>\n",
       "      <td>3873,53</td>\n",
       "      <td>13,38</td>\n",
       "      <td>1,1139</td>\n",
       "      <td>0,90104</td>\n",
       "      <td>1,09454</td>\n",
       "      <td>...</td>\n",
       "      <td>13,16</td>\n",
       "      <td>172,3</td>\n",
       "      <td>624,8</td>\n",
       "      <td>178,6</td>\n",
       "      <td>90,3</td>\n",
       "      <td>68,64</td>\n",
       "      <td>49,55</td>\n",
       "      <td>16,3</td>\n",
       "      <td>171,04</td>\n",
       "      <td>32,56</td>\n",
       "    </tr>\n",
       "    <tr>\n",
       "      <th>3</th>\n",
       "      <td>09/10/2016</td>\n",
       "      <td>1712,4</td>\n",
       "      <td>274,84</td>\n",
       "      <td>339,64</td>\n",
       "      <td>95,51</td>\n",
       "      <td>3847,27</td>\n",
       "      <td>13,48</td>\n",
       "      <td>1,1201</td>\n",
       "      <td>0,90005</td>\n",
       "      <td>1,09423</td>\n",
       "      <td>...</td>\n",
       "      <td>13,06</td>\n",
       "      <td>173,6</td>\n",
       "      <td>619,5</td>\n",
       "      <td>181,9</td>\n",
       "      <td>90,4</td>\n",
       "      <td>68,11</td>\n",
       "      <td>49,28</td>\n",
       "      <td>16,13</td>\n",
       "      <td>169,83</td>\n",
       "      <td>32,31</td>\n",
       "    </tr>\n",
       "    <tr>\n",
       "      <th>4</th>\n",
       "      <td>08/10/2016</td>\n",
       "      <td>1712,4</td>\n",
       "      <td>274,84</td>\n",
       "      <td>339,64</td>\n",
       "      <td>95,51</td>\n",
       "      <td>3847,27</td>\n",
       "      <td>13,48</td>\n",
       "      <td>1,1201</td>\n",
       "      <td>0,90005</td>\n",
       "      <td>1,09423</td>\n",
       "      <td>...</td>\n",
       "      <td>13,06</td>\n",
       "      <td>173,6</td>\n",
       "      <td>619,5</td>\n",
       "      <td>181,9</td>\n",
       "      <td>90,4</td>\n",
       "      <td>68,11</td>\n",
       "      <td>49,28</td>\n",
       "      <td>16,13</td>\n",
       "      <td>169,83</td>\n",
       "      <td>32,31</td>\n",
       "    </tr>\n",
       "  </tbody>\n",
       "</table>\n",
       "<p>5 rows × 107 columns</p>\n",
       "</div>"
      ],
      "text/plain": [
       "         Date MSCIWorldpreviousdayquote FTSEALLWORLDINDEX Eurostoxx  \\\n",
       "0  12/10/2016                   1700,33            272,35    339,97   \n",
       "1  11/10/2016                   1700,33            272,81    340,17   \n",
       "2  10/10/2016                   1719,29            275,88    341,98   \n",
       "3  09/10/2016                    1712,4            274,84    339,64   \n",
       "4  08/10/2016                    1712,4            274,84    339,64   \n",
       "\n",
       "  Eurostoxxbanks USbanksDowJonesindex  \\\n",
       "0          96,14              3839,01   \n",
       "1           95,6              3839,01   \n",
       "2          95,87              3873,53   \n",
       "3          95,51              3847,27   \n",
       "4          95,51              3847,27   \n",
       "\n",
       "  VIXindexofVolatilityonChicagoDerivativesmarket% FXEURUSD FXEURGBP FXEURCHF  \\\n",
       "0                                           15,77   1,1025  0,89807  1,09108   \n",
       "1                                           15,36   1,1054  0,91182  1,09312   \n",
       "2                                           13,38   1,1139  0,90104  1,09454   \n",
       "3                                           13,48   1,1201  0,90005  1,09423   \n",
       "4                                           13,48   1,1201  0,90005  1,09423   \n",
       "\n",
       "   ... CREDITSUISSEGROUPAGREG BARCLAYSPLCGB HSBCHOLDINGSPLCGB  \\\n",
       "0  ...                  13,13         171,9             614,3   \n",
       "1  ...                  13,18         172,4             618,5   \n",
       "2  ...                  13,16         172,3             624,8   \n",
       "3  ...                  13,06         173,6             619,5   \n",
       "4  ...                  13,06         173,6             619,5   \n",
       "\n",
       "  ROYALBANKOFSCOTLANDGROUPGB NORDEABANKAB JPMORGANCHASECo CITIGROUPINC  \\\n",
       "0                      179,8         88,9           68,31        48,99   \n",
       "1                        181           88           68,31        48,99   \n",
       "2                      178,6         90,3           68,64        49,55   \n",
       "3                      181,9         90,4           68,11        49,28   \n",
       "4                      181,9         90,4           68,11        49,28   \n",
       "\n",
       "  BANKOFAMERICA GOLDMANSACHSGroup MORGANSTANLEY  \n",
       "0         16,11            169,04         32,18  \n",
       "1         16,11            169,04         32,18  \n",
       "2          16,3            171,04         32,56  \n",
       "3         16,13            169,83         32,31  \n",
       "4         16,13            169,83         32,31  \n",
       "\n",
       "[5 rows x 107 columns]"
      ]
     },
     "execution_count": 11,
     "metadata": {},
     "output_type": "execute_result"
    }
   ],
   "source": [
    "df.head()"
   ]
  },
  {
   "cell_type": "code",
   "execution_count": 48,
   "metadata": {
    "Collapsed": "false"
   },
   "outputs": [],
   "source": [
    "df_final = df[['Date','BNPPARIBAS', 'CREDITAGRICOLESA', 'SOCIETEGENERALESA']]\n",
    "df_final = df_final.set_index('Date')\n",
    "df_final = df_final.apply(lambda x: x.str.replace(',','.'))"
   ]
  },
  {
   "cell_type": "code",
   "execution_count": 50,
   "metadata": {
    "Collapsed": "false"
   },
   "outputs": [],
   "source": [
    "for x in ['BNPPARIBAS', 'CREDITAGRICOLESA', 'SOCIETEGENERALESA']:\n",
    "    df_final[x] = pd.to_numeric(df_final[x], errors='ignore')"
   ]
  },
  {
   "cell_type": "code",
   "execution_count": 51,
   "metadata": {
    "Collapsed": "false"
   },
   "outputs": [
    {
     "data": {
      "text/plain": [
       "BNPPARIBAS           float64\n",
       "CREDITAGRICOLESA     float64\n",
       "SOCIETEGENERALESA    float64\n",
       "dtype: object"
      ]
     },
     "execution_count": 51,
     "metadata": {},
     "output_type": "execute_result"
    }
   ],
   "source": [
    "df_final.dtypes"
   ]
  },
  {
   "cell_type": "code",
   "execution_count": 52,
   "metadata": {
    "Collapsed": "false"
   },
   "outputs": [
    {
     "data": {
      "text/html": [
       "<div>\n",
       "<style scoped>\n",
       "    .dataframe tbody tr th:only-of-type {\n",
       "        vertical-align: middle;\n",
       "    }\n",
       "\n",
       "    .dataframe tbody tr th {\n",
       "        vertical-align: top;\n",
       "    }\n",
       "\n",
       "    .dataframe thead th {\n",
       "        text-align: right;\n",
       "    }\n",
       "</style>\n",
       "<table border=\"1\" class=\"dataframe\">\n",
       "  <thead>\n",
       "    <tr style=\"text-align: right;\">\n",
       "      <th></th>\n",
       "      <th>BNPPARIBAS</th>\n",
       "      <th>CREDITAGRICOLESA</th>\n",
       "      <th>SOCIETEGENERALESA</th>\n",
       "    </tr>\n",
       "    <tr>\n",
       "      <th>Date</th>\n",
       "      <th></th>\n",
       "      <th></th>\n",
       "      <th></th>\n",
       "    </tr>\n",
       "  </thead>\n",
       "  <tbody>\n",
       "    <tr>\n",
       "      <th>12/10/2016</th>\n",
       "      <td>48.355</td>\n",
       "      <td>9.420</td>\n",
       "      <td>33.215</td>\n",
       "    </tr>\n",
       "    <tr>\n",
       "      <th>11/10/2016</th>\n",
       "      <td>48.550</td>\n",
       "      <td>9.255</td>\n",
       "      <td>33.040</td>\n",
       "    </tr>\n",
       "    <tr>\n",
       "      <th>10/10/2016</th>\n",
       "      <td>49.100</td>\n",
       "      <td>9.189</td>\n",
       "      <td>33.075</td>\n",
       "    </tr>\n",
       "    <tr>\n",
       "      <th>09/10/2016</th>\n",
       "      <td>49.310</td>\n",
       "      <td>9.105</td>\n",
       "      <td>32.870</td>\n",
       "    </tr>\n",
       "    <tr>\n",
       "      <th>08/10/2016</th>\n",
       "      <td>49.310</td>\n",
       "      <td>9.105</td>\n",
       "      <td>32.870</td>\n",
       "    </tr>\n",
       "  </tbody>\n",
       "</table>\n",
       "</div>"
      ],
      "text/plain": [
       "            BNPPARIBAS  CREDITAGRICOLESA  SOCIETEGENERALESA\n",
       "Date                                                       \n",
       "12/10/2016      48.355             9.420             33.215\n",
       "11/10/2016      48.550             9.255             33.040\n",
       "10/10/2016      49.100             9.189             33.075\n",
       "09/10/2016      49.310             9.105             32.870\n",
       "08/10/2016      49.310             9.105             32.870"
      ]
     },
     "execution_count": 52,
     "metadata": {},
     "output_type": "execute_result"
    }
   ],
   "source": [
    "df_final.head()"
   ]
  },
  {
   "cell_type": "code",
   "execution_count": 53,
   "metadata": {
    "Collapsed": "false"
   },
   "outputs": [
    {
     "data": {
      "text/plain": [
       "<matplotlib.axes._subplots.AxesSubplot at 0x1c1fa059e8>"
      ]
     },
     "execution_count": 53,
     "metadata": {},
     "output_type": "execute_result"
    },
    {
     "data": {
      "image/png": "[encoded data removed]",
      "text/plain": [
       "<Figure size 432x288 with 1 Axes>"
      ]
     },
     "metadata": {
      "needs_background": "light"
     },
     "output_type": "display_data"
    }
   ],
   "source": [
    "df_final.plot()"
   ]
  },
  {
   "cell_type": "code",
   "execution_count": 27,
   "metadata": {
    "Collapsed": "false"
   },
   "outputs": [],
   "source": [
    "from statsmodels.tsa.stattools import adfuller"
   ]
  },
  {
   "cell_type": "code",
   "execution_count": 30,
   "metadata": {
    "Collapsed": "false"
   },
   "outputs": [],
   "source": [
    "def adf_test(y):\n",
    "    # perform Augmented Dickey Fuller test\n",
    "    print('Results of Augmented Dickey-Fuller test:')\n",
    "    dftest = adfuller(y, autolag='AIC')\n",
    "    dfoutput = pd.Series(dftest[0:4], index=['test statistic', 'p-value', '# of lags', '# of observations'])\n",
    "    for key, value in dftest[4].items():\n",
    "        dfoutput['Critical Value ({})'.format(key)] = value\n",
    "    print(dfoutput)"
   ]
  },
  {
   "cell_type": "markdown",
   "metadata": {
    "Collapsed": "false"
   },
   "source": [
    "Stationartity"
   ]
  },
  {
   "cell_type": "code",
   "execution_count": 54,
   "metadata": {
    "Collapsed": "false"
   },
   "outputs": [
    {
     "name": "stdout",
     "output_type": "stream",
     "text": [
      "Results of Augmented Dickey-Fuller test:\n",
      "test statistic            -1.707166\n",
      "p-value                    0.427424\n",
      "# of lags                 23.000000\n",
      "# of observations       3914.000000\n",
      "Critical Value (1%)       -3.432022\n",
      "Critical Value (5%)       -2.862279\n",
      "Critical Value (10%)      -2.567163\n",
      "dtype: float64\n",
      "Results of Augmented Dickey-Fuller test:\n",
      "test statistic            -0.691067\n",
      "p-value                    0.849050\n",
      "# of lags                  5.000000\n",
      "# of observations       3932.000000\n",
      "Critical Value (1%)       -3.432014\n",
      "Critical Value (5%)       -2.862275\n",
      "Critical Value (10%)      -2.567161\n",
      "dtype: float64\n",
      "Results of Augmented Dickey-Fuller test:\n",
      "test statistic            -0.915812\n",
      "p-value                    0.782721\n",
      "# of lags                 28.000000\n",
      "# of observations       3909.000000\n",
      "Critical Value (1%)       -3.432024\n",
      "Critical Value (5%)       -2.862280\n",
      "Critical Value (10%)      -2.567164\n",
      "dtype: float64\n"
     ]
    },
    {
     "data": {
      "text/plain": [
       "BNPPARIBAS           None\n",
       "CREDITAGRICOLESA     None\n",
       "SOCIETEGENERALESA    None\n",
       "dtype: object"
      ]
     },
     "execution_count": 54,
     "metadata": {},
     "output_type": "execute_result"
    }
   ],
   "source": [
    "df_final.apply(lambda x: adf_test(x))"
   ]
  },
  {
   "cell_type": "markdown",
   "metadata": {
    "Collapsed": "false"
   },
   "source": [
    "Cointegration"
   ]
  },
  {
   "cell_type": "code",
   "execution_count": null,
   "metadata": {
    "Collapsed": "false"
   },
   "outputs": [],
   "source": []
  },
  {
   "cell_type": "markdown",
   "metadata": {
    "Collapsed": "false"
   },
   "source": [
    "Daily return"
   ]
  },
  {
   "cell_type": "code",
   "execution_count": 34,
   "metadata": {
    "Collapsed": "false"
   },
   "outputs": [
    {
     "data": {
      "text/html": [
       "<div>\n",
       "<style scoped>\n",
       "    .dataframe tbody tr th:only-of-type {\n",
       "        vertical-align: middle;\n",
       "    }\n",
       "\n",
       "    .dataframe tbody tr th {\n",
       "        vertical-align: top;\n",
       "    }\n",
       "\n",
       "    .dataframe thead th {\n",
       "        text-align: right;\n",
       "    }\n",
       "</style>\n",
       "<table border=\"1\" class=\"dataframe\">\n",
       "  <thead>\n",
       "    <tr style=\"text-align: right;\">\n",
       "      <th></th>\n",
       "      <th>BNPPARIBAS</th>\n",
       "      <th>CREDITAGRICOLESA</th>\n",
       "      <th>SOCIETEGENERALESA</th>\n",
       "    </tr>\n",
       "    <tr>\n",
       "      <th>Date</th>\n",
       "      <th></th>\n",
       "      <th></th>\n",
       "      <th></th>\n",
       "    </tr>\n",
       "  </thead>\n",
       "  <tbody>\n",
       "    <tr>\n",
       "      <th>12/10/2016</th>\n",
       "      <td>48.355</td>\n",
       "      <td>9.42</td>\n",
       "      <td>33.215</td>\n",
       "    </tr>\n",
       "    <tr>\n",
       "      <th>11/10/2016</th>\n",
       "      <td>48.55</td>\n",
       "      <td>9.255</td>\n",
       "      <td>33.04</td>\n",
       "    </tr>\n",
       "    <tr>\n",
       "      <th>10/10/2016</th>\n",
       "      <td>49.1</td>\n",
       "      <td>9.189</td>\n",
       "      <td>33.075</td>\n",
       "    </tr>\n",
       "    <tr>\n",
       "      <th>09/10/2016</th>\n",
       "      <td>49.31</td>\n",
       "      <td>9.105</td>\n",
       "      <td>32.87</td>\n",
       "    </tr>\n",
       "    <tr>\n",
       "      <th>08/10/2016</th>\n",
       "      <td>49.31</td>\n",
       "      <td>9.105</td>\n",
       "      <td>32.87</td>\n",
       "    </tr>\n",
       "  </tbody>\n",
       "</table>\n",
       "</div>"
      ],
      "text/plain": [
       "           BNPPARIBAS CREDITAGRICOLESA SOCIETEGENERALESA\n",
       "Date                                                    \n",
       "12/10/2016     48.355             9.42            33.215\n",
       "11/10/2016      48.55            9.255             33.04\n",
       "10/10/2016       49.1            9.189            33.075\n",
       "09/10/2016      49.31            9.105             32.87\n",
       "08/10/2016      49.31            9.105             32.87"
      ]
     },
     "execution_count": 34,
     "metadata": {},
     "output_type": "execute_result"
    }
   ],
   "source": [
    "df_final.head()"
   ]
  },
  {
   "cell_type": "code",
   "execution_count": 55,
   "metadata": {
    "Collapsed": "false"
   },
   "outputs": [
    {
     "data": {
      "text/html": [
       "<div>\n",
       "<style scoped>\n",
       "    .dataframe tbody tr th:only-of-type {\n",
       "        vertical-align: middle;\n",
       "    }\n",
       "\n",
       "    .dataframe tbody tr th {\n",
       "        vertical-align: top;\n",
       "    }\n",
       "\n",
       "    .dataframe thead th {\n",
       "        text-align: right;\n",
       "    }\n",
       "</style>\n",
       "<table border=\"1\" class=\"dataframe\">\n",
       "  <thead>\n",
       "    <tr style=\"text-align: right;\">\n",
       "      <th></th>\n",
       "      <th>BNPPARIBAS</th>\n",
       "      <th>CREDITAGRICOLESA</th>\n",
       "      <th>SOCIETEGENERALESA</th>\n",
       "    </tr>\n",
       "    <tr>\n",
       "      <th>Date</th>\n",
       "      <th></th>\n",
       "      <th></th>\n",
       "      <th></th>\n",
       "    </tr>\n",
       "  </thead>\n",
       "  <tbody>\n",
       "    <tr>\n",
       "      <th>12/10/2016</th>\n",
       "      <td>48.355</td>\n",
       "      <td>9.420</td>\n",
       "      <td>33.215</td>\n",
       "    </tr>\n",
       "    <tr>\n",
       "      <th>11/10/2016</th>\n",
       "      <td>48.550</td>\n",
       "      <td>9.255</td>\n",
       "      <td>33.040</td>\n",
       "    </tr>\n",
       "    <tr>\n",
       "      <th>10/10/2016</th>\n",
       "      <td>49.100</td>\n",
       "      <td>9.189</td>\n",
       "      <td>33.075</td>\n",
       "    </tr>\n",
       "    <tr>\n",
       "      <th>09/10/2016</th>\n",
       "      <td>49.310</td>\n",
       "      <td>9.105</td>\n",
       "      <td>32.870</td>\n",
       "    </tr>\n",
       "    <tr>\n",
       "      <th>08/10/2016</th>\n",
       "      <td>49.310</td>\n",
       "      <td>9.105</td>\n",
       "      <td>32.870</td>\n",
       "    </tr>\n",
       "  </tbody>\n",
       "</table>\n",
       "</div>"
      ],
      "text/plain": [
       "            BNPPARIBAS  CREDITAGRICOLESA  SOCIETEGENERALESA\n",
       "Date                                                       \n",
       "12/10/2016      48.355             9.420             33.215\n",
       "11/10/2016      48.550             9.255             33.040\n",
       "10/10/2016      49.100             9.189             33.075\n",
       "09/10/2016      49.310             9.105             32.870\n",
       "08/10/2016      49.310             9.105             32.870"
      ]
     },
     "execution_count": 55,
     "metadata": {},
     "output_type": "execute_result"
    }
   ],
   "source": [
    "df_return = df_final.copy()\n",
    "df_return.head()"
   ]
  },
  {
   "cell_type": "code",
   "execution_count": 56,
   "metadata": {
    "Collapsed": "false"
   },
   "outputs": [
    {
     "data": {
      "text/plain": [
       "BNPPARIBAS           float64\n",
       "CREDITAGRICOLESA     float64\n",
       "SOCIETEGENERALESA    float64\n",
       "dtype: object"
      ]
     },
     "execution_count": 56,
     "metadata": {},
     "output_type": "execute_result"
    }
   ],
   "source": [
    "df_return.dtypes"
   ]
  },
  {
   "cell_type": "code",
   "execution_count": 60,
   "metadata": {
    "Collapsed": "false"
   },
   "outputs": [],
   "source": [
    "df_return = df_return.pct_change().dropna()"
   ]
  },
  {
   "cell_type": "markdown",
   "metadata": {
    "Collapsed": "false"
   },
   "source": [
    "corr matrix"
   ]
  },
  {
   "cell_type": "code",
   "execution_count": 61,
   "metadata": {
    "Collapsed": "false"
   },
   "outputs": [
    {
     "data": {
      "text/html": [
       "<div>\n",
       "<style scoped>\n",
       "    .dataframe tbody tr th:only-of-type {\n",
       "        vertical-align: middle;\n",
       "    }\n",
       "\n",
       "    .dataframe tbody tr th {\n",
       "        vertical-align: top;\n",
       "    }\n",
       "\n",
       "    .dataframe thead th {\n",
       "        text-align: right;\n",
       "    }\n",
       "</style>\n",
       "<table border=\"1\" class=\"dataframe\">\n",
       "  <thead>\n",
       "    <tr style=\"text-align: right;\">\n",
       "      <th></th>\n",
       "      <th>BNPPARIBAS</th>\n",
       "      <th>CREDITAGRICOLESA</th>\n",
       "      <th>SOCIETEGENERALESA</th>\n",
       "    </tr>\n",
       "  </thead>\n",
       "  <tbody>\n",
       "    <tr>\n",
       "      <th>BNPPARIBAS</th>\n",
       "      <td>1.000000</td>\n",
       "      <td>0.012725</td>\n",
       "      <td>0.011678</td>\n",
       "    </tr>\n",
       "    <tr>\n",
       "      <th>CREDITAGRICOLESA</th>\n",
       "      <td>0.012725</td>\n",
       "      <td>1.000000</td>\n",
       "      <td>0.028413</td>\n",
       "    </tr>\n",
       "    <tr>\n",
       "      <th>SOCIETEGENERALESA</th>\n",
       "      <td>0.011678</td>\n",
       "      <td>0.028413</td>\n",
       "      <td>1.000000</td>\n",
       "    </tr>\n",
       "  </tbody>\n",
       "</table>\n",
       "</div>"
      ],
      "text/plain": [
       "                   BNPPARIBAS  CREDITAGRICOLESA  SOCIETEGENERALESA\n",
       "BNPPARIBAS           1.000000          0.012725           0.011678\n",
       "CREDITAGRICOLESA     0.012725          1.000000           0.028413\n",
       "SOCIETEGENERALESA    0.011678          0.028413           1.000000"
      ]
     },
     "execution_count": 61,
     "metadata": {},
     "output_type": "execute_result"
    }
   ],
   "source": [
    "df_return.corr()"
   ]
  },
  {
   "cell_type": "markdown",
   "metadata": {
    "Collapsed": "false"
   },
   "source": [
    "regress each serei"
   ]
  },
  {
   "cell_type": "code",
   "execution_count": 62,
   "metadata": {
    "Collapsed": "false"
   },
   "outputs": [],
   "source": [
    "import statsmodels.api as sm\n",
    "import statsmodels.formula.api as smf"
   ]
  },
  {
   "cell_type": "code",
   "execution_count": null,
   "metadata": {
    "Collapsed": "false"
   },
   "outputs": [],
   "source": [
    "mod1 = smf.ols(formula='BNPPARIBAS ~ CREDITAGRICOLESA + SOCIETEGENERALESA', data=df_return).fit()\n",
    "mod2 = smf.ols(formula='CREDITAGRICOLESA ~ BNPPARIBAS + SOCIETEGENERALESA', data=df_return).fit()\n",
    "mod3 = smf.ols(formula='SOCIETEGENERALESA ~ CREDITAGRICOLESA + BNPPARIBAS', data=df_return).fit()"
   ]
  },
  {
   "cell_type": "code",
   "execution_count": null,
   "metadata": {
    "Collapsed": "false"
   },
   "outputs": [],
   "source": []
  }
 ],
 "metadata": {
  "kernelspec": {
   "display_name": "Python 3",
   "language": "python",
   "name": "python3"
  },
  "language_info": {
   "codemirror_mode": {
    "name": "ipython",
    "version": 3
   },
   "file_extension": ".py",
   "mimetype": "text/x-python",
   "name": "python",
   "nbconvert_exporter": "python",
   "pygments_lexer": "ipython3",
   "version": "3.7.3"
  }
 },
 "nbformat": 4,
 "nbformat_minor": 4
}
