{
 "cells": [
  {
   "cell_type": "markdown",
   "metadata": {
    "Collapsed": "false"
   },
   "source": [
    "# Quantitative methods in finance - First semester hour examination\n",
    "\n",
    "## Instructions\n",
    "\n",
    "All instructions available here: [Exam_1](https://drive.google.com/open?id=1D7PHbWnCTR2nSqCaxier6LHSesJtzj0_)\n",
    "\n",
    "## Question\n",
    "\n",
    "### Import csv data as DataFrame\n",
    "\n",
    "We will use os to change the working directory and pandas thus we need to import those libraries: import pandas as pd import os We import other libraries we will use along: import numpy as np import statsmodels.formula.api as smf import statsmodels.api as sm from statsmodels.tsa.arima_model import ARIMA import scipy.stats from statsmodels.graphics.tsaplots import plot_acf from statsmodels.graphics.tsaplots import plot_pacf from statsmodels.tsa.stattools import adfuller \n",
    "\n",
    "### Question \n",
    "\n",
    "1. Download French population time series from INSEE website: [here](https://raw.githubusercontent.com/thomaspernet/PythonFinanceClass/master/QuantitativeFinance/Datasets/20190913_Fr_population.csv).\n",
    "2. Extract from zip file to csv file. \n",
    "3. Rename the csv file valeurs_mensuelles.csv to 20190913_Fr_population.csv \n",
    "4. Place the csv file somewhere on your computer you can load it from.\n",
    "5. If you still don’t know how to load a file from spyder: \n",
    "\n"
   ]
  },
  {
   "cell_type": "code",
   "execution_count": null,
   "metadata": {
    "Collapsed": "false"
   },
   "outputs": [],
   "source": [
    "import pandas as pd\n",
    "import matplotlib\n",
    "import matplotlib.pyplot as plt\n",
    "import numpy as np\n",
    "from numpy import random"
   ]
  },
  {
   "cell_type": "markdown",
   "metadata": {
    "Collapsed": "false"
   },
   "source": [
    "## Question 2 \n",
    "1. Import the csv file as a DataFrame you call df \n",
    "\n",
    "– from pandas, use `read_csv()`\n",
    "\n",
    "– data is seperated by \";\", so indicate as option sep=\";\" \n",
    "\n",
    "– you can skip the two first rows: skiprows = [0,1] \n",
    "\n"
   ]
  },
  {
   "cell_type": "code",
   "execution_count": null,
   "metadata": {
    "Collapsed": "false"
   },
   "outputs": [],
   "source": [
    "url = \"https://raw.githubusercontent.com/thomaspernet/PythonFinanceClass/master/\" \\\n",
    "\"QuantitativeFinance/Datasets/20190913_Fr_population.csv\"\n",
    "\n",
    "df = pd.read_csv(url,\n",
    "                 skiprows = [0,1,2],\n",
    "                 sep = \";\",\n",
    "                 names=['date','popF','rubish'])\n",
    "df.head(2)"
   ]
  },
  {
   "cell_type": "markdown",
   "metadata": {
    "Collapsed": "false"
   },
   "source": [
    "2. Rename the columns \n",
    "\n",
    "    – df.columns = [’date’,’popF’,’rubish’] \n",
    "\n",
    "3. Convert the date column to aDate format python can recognize \n",
    "\n",
    "    – use pd.to_datetime \n",
    "    \n",
    "    – indicate the format it is: YYYY-MM, so format=\"%Y-%m\" \n",
    "    \n",
    "4. place date into the index \n",
    "\n",
    "5. as usual we want the old dates first, so sort the index \n",
    "\n",
    "    – use .sort_index() \n",
    "    \n",
    "6. keep only ’pop’ column, but you want to keep it as a DataFrame, not a Series, so the trick is to have [ ] around ’popF’: \n",
    "\n",
    "    – df = df.loc[:,[’popF’]]  "
   ]
  },
  {
   "cell_type": "code",
   "execution_count": null,
   "metadata": {
    "Collapsed": "false"
   },
   "outputs": [],
   "source": [
    "#df.columns = ['date','popF','rubish']\n",
    "df['date'] = pd.to_datetime(df['date'], format=\"%Y-%m\")"
   ]
  },
  {
   "cell_type": "code",
   "execution_count": null,
   "metadata": {
    "Collapsed": "false"
   },
   "outputs": [],
   "source": [
    "df = (\n",
    "    df.set_index('date')\n",
    "    .sort_index()\n",
    "    .drop(columns = 'rubish')\n",
    ")\n",
    "df.head()"
   ]
  },
  {
   "cell_type": "markdown",
   "metadata": {
    "Collapsed": "false"
   },
   "source": [
    "## Question 3 \n",
    "\n",
    "1. Create an additional column you call ’gr’ where you put the growth rate of the French population. \n",
    "\n",
    "    – use the .shift(1) to get Population(t-1) \n",
    "    \n",
    "2. Drop the first row because it has an NA. \n",
    "\n",
    "    – use .dropna()"
   ]
  },
  {
   "cell_type": "code",
   "execution_count": null,
   "metadata": {
    "Collapsed": "false"
   },
   "outputs": [],
   "source": [
    "df['gr']= df.pct_change(1)\n",
    "df.isna().sum()"
   ]
  },
  {
   "cell_type": "code",
   "execution_count": null,
   "metadata": {
    "Collapsed": "false"
   },
   "outputs": [],
   "source": [
    "df.head()"
   ]
  },
  {
   "cell_type": "code",
   "execution_count": null,
   "metadata": {
    "Collapsed": "false"
   },
   "outputs": [],
   "source": [
    "df = df.dropna()"
   ]
  },
  {
   "cell_type": "markdown",
   "metadata": {
    "Collapsed": "false"
   },
   "source": [
    "# Question 4 \n",
    "\n",
    "1. Plot the population \n",
    "2. Plot the growth rate "
   ]
  },
  {
   "cell_type": "code",
   "execution_count": null,
   "metadata": {
    "Collapsed": "false"
   },
   "outputs": [],
   "source": [
    "df['popF'].plot()"
   ]
  },
  {
   "cell_type": "code",
   "execution_count": null,
   "metadata": {
    "Collapsed": "false"
   },
   "outputs": [],
   "source": [
    "df['gr'].plot()"
   ]
  },
  {
   "cell_type": "markdown",
   "metadata": {
    "Collapsed": "false"
   },
   "source": [
    "## Question 5 \n",
    "\n",
    "1. Compute the mean growth rate \n",
    "    \n",
    "    – you can use .mean() directly to your data frame \n",
    "    \n",
    "2. keep the growth rate in a meanGR variable "
   ]
  },
  {
   "cell_type": "code",
   "execution_count": null,
   "metadata": {
    "Collapsed": "false"
   },
   "outputs": [],
   "source": [
    "meanGR = df['gr'].mean()\n",
    "print(\"The mean growth rate is {0:0.2%}\".format(meanGR))"
   ]
  },
  {
   "cell_type": "markdown",
   "metadata": {
    "Collapsed": "false"
   },
   "source": [
    "## Question 6 \n",
    "\n",
    "1. Fit a normal law to the growth rates (or just compute the empirical mean and standard deviation) \n",
    "\n",
    "    – you can use .mean() and.std()\n",
    "    \n",
    "2. generate 307 random draw from this normal law $\n",
    "\\mathscr{N}\\left(\\mu, \\sigma^{2}\\right)$ \n",
    "\n",
    "$$\n",
    "f\\left(x | \\mu, \\sigma^{2}\\right)=\\frac{1}{\\sqrt{2 \\pi \\sigma^{2}}} e^{-\\frac{(x-\\mu)^{2}}{2 \\sigma^{2}}}\n",
    "$$\n",
    "\n",
    "    – from numpy use random.normal command indicating mean, standard deviation and size of the sample \n",
    "    \n",
    "3. put that generated sample into a column you call ’grRANDOM’ \n",
    "\n",
    "4. Create a column where you replicate the ’popF’ and that you name ’popRANDOM’ \n",
    "\n",
    "5. Do a loop starting at 1 and for each index i (use iloc) the popRANDOM is now changed to popRANDOM(i-1) * (1 + grRANDOM) \n",
    "\n",
    "6. plot ’popF’ and ’popRANDOM’ thus generated \n",
    "\n"
   ]
  },
  {
   "cell_type": "code",
   "execution_count": null,
   "metadata": {
    "Collapsed": "false"
   },
   "outputs": [],
   "source": [
    "sd = df['gr'].std()\n",
    "sd"
   ]
  },
  {
   "cell_type": "code",
   "execution_count": null,
   "metadata": {
    "Collapsed": "false"
   },
   "outputs": [],
   "source": [
    "random.seed(123)\n",
    "s = np.random.normal(meanGR, sd, 307)\n",
    "pd.Series(s, name = 'empirical dist').plot.density()"
   ]
  },
  {
   "cell_type": "code",
   "execution_count": null,
   "metadata": {
    "Collapsed": "false"
   },
   "outputs": [],
   "source": [
    "df['grRANDOM'] = s\n",
    "df.head(2)"
   ]
  },
  {
   "cell_type": "code",
   "execution_count": null,
   "metadata": {
    "Collapsed": "false"
   },
   "outputs": [],
   "source": [
    "df['popRANDOM'] = df['popF']"
   ]
  },
  {
   "cell_type": "markdown",
   "metadata": {
    "Collapsed": "false"
   },
   "source": [
    "$$ popRANDOM(_{i-1}) * (1 + grRANDOM_i) $$"
   ]
  },
  {
   "cell_type": "code",
   "execution_count": null,
   "metadata": {
    "Collapsed": "false"
   },
   "outputs": [],
   "source": [
    "df.head(2)"
   ]
  },
  {
   "cell_type": "code",
   "execution_count": null,
   "metadata": {
    "Collapsed": "false"
   },
   "outputs": [],
   "source": [
    "for i in range(1,307):\n",
    "    df.iloc[i, 3]= df.iloc[i - 1, 3] * (1 + df.iloc[i, 2])\n",
    "df.head()\n",
    "df[['popF','popRANDOM']].plot()"
   ]
  },
  {
   "cell_type": "code",
   "execution_count": null,
   "metadata": {
    "Collapsed": "false"
   },
   "outputs": [],
   "source": [
    "#df['lagpopRANDOM'] = df['popRANDOM'].shift(1)\n",
    "#df.head(2)"
   ]
  },
  {
   "cell_type": "code",
   "execution_count": null,
   "metadata": {
    "Collapsed": "false"
   },
   "outputs": [],
   "source": [
    "#df[\"popRANDOM\"] = df.apply(lambda x: x['lagpopRANDOM'] * (1 + x['grRANDOM']),\n",
    "#         axis = 1)#.head()\n",
    "#df.head()\n",
    "df[['popF','popRANDOM']].plot()"
   ]
  },
  {
   "cell_type": "markdown",
   "metadata": {
    "Collapsed": "false"
   },
   "source": [
    "## Question 7 \n",
    "\n",
    "Regress X on Y : [source](https://sol.du.ac.in/mod/book/view.php?id=1317&chapterid=1070)\n",
    "\n",
    "\n",
    "1. Do a linear regression of ’grRANDOM’ on ’gr’, what is theR 2 ? \n",
    "\n",
    "2. Do a linear regression of ’popF’ on ’popRANDOM’, what is theR 2 ? \n",
    "\n",
    "3. What can you say about spurious regression, is it one? Why? "
   ]
  },
  {
   "cell_type": "code",
   "execution_count": null,
   "metadata": {
    "Collapsed": "false"
   },
   "outputs": [],
   "source": [
    "import statsmodels.api as sm\n",
    "import statsmodels.formula.api as smf"
   ]
  },
  {
   "cell_type": "code",
   "execution_count": null,
   "metadata": {
    "Collapsed": "false"
   },
   "outputs": [],
   "source": [
    "df.head()"
   ]
  },
  {
   "cell_type": "code",
   "execution_count": null,
   "metadata": {
    "Collapsed": "false"
   },
   "outputs": [],
   "source": [
    "mod = smf.ols(formula='gr ~ grRANDOM', data=df).fit()\n",
    "print('R2:{0:0.4%}'.format(mod.rsquared))"
   ]
  },
  {
   "cell_type": "code",
   "execution_count": null,
   "metadata": {
    "Collapsed": "false"
   },
   "outputs": [],
   "source": [
    "mod1 = smf.ols('popRANDOM ~ popF',data=df).fit()\n",
    "print('R2:{0:0.4%}'.format(mod1.rsquared))"
   ]
  },
  {
   "cell_type": "markdown",
   "metadata": {
    "Collapsed": "false"
   },
   "source": [
    "## AR process\n",
    "\n",
    "$$\n",
    "y _ { t } = \\mu + \\gamma y _ { t - 1 } + \\epsilon _ { t }\n",
    "$$\n",
    "\n",
    "Autoregressive (AR) models are models in which the value of a variable in one period is\n",
    "related to its values in previous periods."
   ]
  },
  {
   "cell_type": "code",
   "execution_count": null,
   "metadata": {
    "Collapsed": "false"
   },
   "outputs": [],
   "source": [
    "import numpy as np\n",
    "import matplotlib.pyplot as plt\n",
    "from scipy import stats"
   ]
  },
  {
   "cell_type": "code",
   "execution_count": null,
   "metadata": {
    "Collapsed": "false"
   },
   "outputs": [],
   "source": [
    "def AR(p, mu, lenght, fit = False):\n",
    "    list_y =[]\n",
    "    yt_1 = np.random.normal()\n",
    "    for i in range(0, lenght):\n",
    "        et = np.random.normal()\n",
    "        yt = mu + p*yt_1 + et\n",
    "        yt_1 = yt\n",
    "        list_y.append(yt)\n",
    "    ### Plot result\n",
    "    # Generated linear fit\n",
    "    x = np.linspace(0, 10, lenght)\n",
    "    if fit == True:\n",
    "        slope, intercept, r_value, p_value, std_err = stats.linregress(x,list_y)\n",
    "        line = slope*x + intercept\n",
    "        detrend = list_y - line\n",
    "        f, axarr = plt.subplots(2, sharex=True)\n",
    "        axarr[0].plot(x, list_y, x, line, label='linear')\n",
    "        axarr[1].plot(x, detrend, label='detrend')\n",
    "        plt.legend()\n",
    "        plt.show()\n",
    "        return list_y\n",
    "    else:\n",
    "        plt.plot(x, list_y, label='linear')\n",
    "        plt.legend()\n",
    "        plt.show()"
   ]
  },
  {
   "cell_type": "code",
   "execution_count": null,
   "metadata": {
    "Collapsed": "false"
   },
   "outputs": [],
   "source": [
    "AR(p = 0.3982, mu = 0, lenght = 100, fit = False)"
   ]
  },
  {
   "cell_type": "markdown",
   "metadata": {
    "Collapsed": "false"
   },
   "source": [
    "## Process MA\n",
    "\n",
    "$$\n",
    "y _ { t } = \\mu + \\epsilon _ { t } + \\theta \\epsilon _ { t - 1 }\n",
    "$$\n",
    "\n",
    "Moving average (MA) models account for the possibility of a relationship between a variable\n",
    "and the residuals from previous periods."
   ]
  },
  {
   "cell_type": "code",
   "execution_count": null,
   "metadata": {
    "Collapsed": "false"
   },
   "outputs": [],
   "source": [
    "def MA(q, mu, lenght):\n",
    "    list_y =[]\n",
    "    et_1 = 0\n",
    "    for i in range(0, lenght):\n",
    "        et = np.random.normal()\n",
    "        yt = mu + et + q* et_1\n",
    "        et_1 = et\n",
    "        list_y.append(yt)\n",
    "    ### Plot result\n",
    "    x = np.linspace(0, 10, lenght)\n",
    "    plt.plot(x, list_y, label='linear')\n",
    "    plt.legend()\n",
    "    plt.show()"
   ]
  },
  {
   "cell_type": "code",
   "execution_count": null,
   "metadata": {
    "Collapsed": "false"
   },
   "outputs": [],
   "source": [
    "MA(q = 0.8, mu = 4, lenght = 100)"
   ]
  },
  {
   "cell_type": "markdown",
   "metadata": {
    "Collapsed": "false"
   },
   "source": [
    "## Process ARMA**\n",
    "\n",
    "Autoregressive moving average (ARMA) models combine both p autoregressive terms and q\n",
    "moving average terms, also called ARMA(p,q).\n",
    "\n",
    "$$\n",
    "y _ { t } = \\mu + \\sum _ { i = 1 } ^ { p } \\gamma _ { i } y _ { t - i } + \\epsilon _ { t } + \\sum _ { i = 1 } ^ { q } \\theta _ { i } \\epsilon _ { t - i }\n",
    "$$"
   ]
  },
  {
   "cell_type": "code",
   "execution_count": null,
   "metadata": {
    "Collapsed": "false"
   },
   "outputs": [],
   "source": [
    "def ARMA_udf(p, q, mu, lenght, plot = True):\n",
    "    list_y =[]\n",
    "    yt_1 = np.random.normal()\n",
    "    et_1 = 0\n",
    "    for i in range(0, lenght):\n",
    "        et = np.random.normal()\n",
    "        yt = mu + p*yt_1 + et + q*et_1\n",
    "        et_1 = et\n",
    "        yt_1 =  yt\n",
    "        list_y.append(yt)\n",
    "    ### Plot result\n",
    "    if plot == True:\n",
    "        x = np.linspace(0, 10, lenght)\n",
    "        plt.plot(x, list_y, label='linear')\n",
    "        plt.legend()\n",
    "        plt.show()\n",
    "    else:    \n",
    "        return list_y"
   ]
  },
  {
   "cell_type": "code",
   "execution_count": null,
   "metadata": {
    "Collapsed": "false"
   },
   "outputs": [],
   "source": [
    "ARMA_udf(p = 0.8,\n",
    "         q = 0.7,\n",
    "         mu = 2,\n",
    "         lenght = 100)"
   ]
  },
  {
   "cell_type": "markdown",
   "metadata": {
    "Collapsed": "false"
   },
   "source": [
    "## Stationarity\n",
    "\n",
    "1.  Detrending\n",
    "\n",
    "- A variable can be detrended by regressing the variable on a time trend and obtaining the\n",
    "residuals.\n",
    "\n",
    "$$\n",
    "y _ { t } = \\mu + \\beta t + \\varepsilon _ { t }\n",
    "$$\n",
    "\n",
    "1. Variable $y_t$\n",
    "\n",
    "detrend formula:\n",
    "\n",
    "$$\n",
    "\\hat { \\varepsilon } _ { t } = y _ { t } - \\hat { \\mu } + \\hat { \\beta } t\n",
    "$$"
   ]
  },
  {
   "cell_type": "code",
   "execution_count": null,
   "metadata": {
    "Collapsed": "false"
   },
   "outputs": [],
   "source": [
    "y =AR(p = .978, mu = 0.6, lenght = 100, fit = True)"
   ]
  },
  {
   "cell_type": "markdown",
   "metadata": {
    "Collapsed": "false"
   },
   "source": [
    "2. Differencing\n",
    "\n",
    "When a variable $y_t$ is not stationary, a common solution is to use a differenced variable :\n",
    "\n",
    "- $\\Delta y _ { t } = y _ { t } - y _ { t - 1 }$ for first order differences.\n",
    "- The variable $y_t$ is integrated of order one, denoted I(1), if taking a first difference produces a\n",
    "stationary process.\n",
    "- ARIMA (p,d,q) denotes an ARMA model with p autoregressive lags, q moving average lags, a\n",
    "and difference in the order of d.\n",
    "\n",
    "Differenced variable\n",
    "\n",
    "- $\\Delta y _ { t } = y _ { t } - y _ { t - 1 }$"
   ]
  },
  {
   "cell_type": "code",
   "execution_count": null,
   "metadata": {
    "Collapsed": "false"
   },
   "outputs": [],
   "source": [
    "def detrend_dif(y, print = True):\n",
    "    T = len(y)\n",
    "    list_delta = []\n",
    "    for t in range(1, T):\n",
    "        delta_y = y[t] - y[t-1]\n",
    "        list_delta.append(delta_y)\n",
    "    if print == True:\n",
    "        x = np.linspace(0, 10, T-1)\n",
    "        plt.plot(x, list_delta, label='first Differenced')\n",
    "        plt.legend()\n",
    "        plt.show()\n",
    "    else:\n",
    "        return np.array(list_delta)"
   ]
  },
  {
   "cell_type": "code",
   "execution_count": null,
   "metadata": {
    "Collapsed": "false"
   },
   "outputs": [],
   "source": [
    "pd.Series(y, name = 'trend').plot()"
   ]
  },
  {
   "cell_type": "code",
   "execution_count": null,
   "metadata": {
    "Collapsed": "false"
   },
   "outputs": [],
   "source": [
    "detrend_dif(y)"
   ]
  },
  {
   "cell_type": "markdown",
   "metadata": {
    "Collapsed": "false"
   },
   "source": [
    "## Dickey-Fuller Test for Stationarity\n",
    "\n",
    "1. Dickey-Fuller test\n",
    "\n",
    "Assume an AR(1) model. The model is non-stationary or a unit root is present if $| \\rho | = 1$\n",
    "\n",
    "$\n",
    "\\left. \\begin{array} { c } { y _ { t } = \\rho y _ { t - 1 } + e _ { t } } \\\\ { y _ { t } - y _ { t - 1 } = \\rho y _ { t - 1 } - y _ { t - 1 } + e _ { t } } \\\\ { \\Delta y _ { t } = ( \\rho - 1 ) y _ { t - 1 } + e _ { t } = \\gamma y _ { t - 1 } + e _ { t } } \\end{array} \\right.\n",
    "$\n",
    "\n",
    "- We can estimate the above model and test for the significance of the $\\gamma$ coefficient.\n",
    "    - If the null hypothesis is not rejected, $\\gamma ^ { * } = 0$, then $y_t$ is not stationary. Difference the\n",
    "variable and repeat the Dickey-Fuller test to see if the differenced variable is stationary.\n",
    "    - If the null hypothesis is rejected, $\\gamma ^ { * } > 0$ tehn $y_t$ is stationary. Use the variable.\n",
    "    - Note that non-significance is means stationarity."
   ]
  },
  {
   "cell_type": "code",
   "execution_count": null,
   "metadata": {
    "Collapsed": "false"
   },
   "outputs": [],
   "source": [
    "from scipy.ndimage.interpolation import shift\n",
    "y_lag = shift(y,-1)[:-1]\n",
    "y_lag.shape"
   ]
  },
  {
   "cell_type": "code",
   "execution_count": null,
   "metadata": {
    "Collapsed": "false"
   },
   "outputs": [],
   "source": [
    "def df_test(y, y_lag):\n",
    "    slope, intercept, r_value, p_value, std_err = stats.linregress(y[:-1],y_lag)\n",
    "    if p_value > 0.05:\n",
    "        print(\"Hyp 1 accepted, serie non stationary. P value is {}\".format(p_value))\n",
    "    print(\"Hyp 1 rejected, serie stationary. P value is {}\".format(p_value))"
   ]
  },
  {
   "cell_type": "code",
   "execution_count": null,
   "metadata": {
    "Collapsed": "false"
   },
   "outputs": [],
   "source": [
    "df_test(y, y_lag)"
   ]
  },
  {
   "cell_type": "markdown",
   "metadata": {
    "Collapsed": "false"
   },
   "source": [
    "## ADF\n",
    "\n",
    "The null hypothesis of the Augmented Dickey-Fuller is that there is a unit root, with the alternative that there is no unit root. If the pvalue is above a critical size, then we cannot reject that there is a unit root."
   ]
  },
  {
   "cell_type": "code",
   "execution_count": null,
   "metadata": {
    "Collapsed": "false"
   },
   "outputs": [],
   "source": [
    "from statsmodels.tsa.stattools import adfuller\n",
    "import pandas as pd\n",
    "def adf_test(y):\n",
    "    # perform Augmented Dickey Fuller test\n",
    "    print('Results of Augmented Dickey-Fuller test:')\n",
    "    dftest = adfuller(y, autolag='AIC')\n",
    "    dfoutput = pd.Series(dftest[0:4], index=['test statistic', 'p-value', '# of lags', '# of observations'])\n",
    "    for key, value in dftest[4].items():\n",
    "        dfoutput['Critical Value ({})'.format(key)] = value\n",
    "    print(dfoutput)"
   ]
  },
  {
   "cell_type": "markdown",
   "metadata": {
    "Collapsed": "false"
   },
   "source": [
    "## Question 8 \n",
    "\n",
    "1. Perform an Augmented Dickey-Fuller test on the population level and on its growth rate. You should find that in fact we are working with a I(2) series. Thus we should differentiate twice (for simplicity, we work with growth rate and keep in mind this issue for further exercise). \n",
    "\n",
    "- Null Hypothesis (H0): If failed to be rejected, it suggests the time series has a unit root, meaning it is non-stationary. It has some time dependent structure.\n",
    "\n",
    "- Alternate Hypothesis (H1): The null hypothesis is rejected; it suggests the time series does not have a unit root, meaning it is stationary. It does not have time-dependent structure.\n",
    "\n",
    "TextBook:\n",
    "\n",
    "[Bourdonnais](https://drive.google.com/open?id=1aISXNGmc-Ntfbt7MpPkSf5clpnAfFObW)\n",
    "\n",
    "Online Ressource:\n",
    "\n",
    "[machinelearningmastery](https://machinelearningmastery.com/time-series-data-stationary-python/)"
   ]
  },
  {
   "cell_type": "code",
   "execution_count": null,
   "metadata": {
    "Collapsed": "false"
   },
   "outputs": [],
   "source": [
    "from statsmodels.tsa.stattools import adfuller"
   ]
  },
  {
   "cell_type": "code",
   "execution_count": null,
   "metadata": {
    "Collapsed": "false"
   },
   "outputs": [],
   "source": [
    "df['popF'].plot()"
   ]
  },
  {
   "cell_type": "markdown",
   "metadata": {
    "Collapsed": "false"
   },
   "source": [
    "$$\n",
    "\\Delta y_{t}=\\mu+\\beta t+\\gamma^{*} y_{t-1}+\\sum_{j=1}^{p-1} \\phi_{j} \\Delta y_{t-j}+\\epsilon_{t}\n",
    "$$\n",
    "\n",
    "If p-values lower than 0.05 then we reject the null hypothesis ie (stationairy)"
   ]
  },
  {
   "cell_type": "code",
   "execution_count": null,
   "metadata": {
    "Collapsed": "false"
   },
   "outputs": [],
   "source": [
    "result = adfuller(\n",
    "    df['popF'],\n",
    "    regression='ct')\n",
    "\n",
    "print('ADF Statistic: %f' % result[0])\n",
    "print('p-value: %f' % result[1])\n",
    "print('Critical Values:')\n",
    "for key, value in result[4].items():\n",
    "\tprint('\\t%s: %.3f' % (key, value))"
   ]
  },
  {
   "cell_type": "code",
   "execution_count": null,
   "metadata": {
    "Collapsed": "false"
   },
   "outputs": [],
   "source": [
    "(df['gr'] - meanGR).plot()"
   ]
  },
  {
   "cell_type": "markdown",
   "metadata": {
    "Collapsed": "false"
   },
   "source": [
    "It looks like we would have to fail to reject the null hypothesis that the time series is non-stationary and does have time-dependent structure."
   ]
  },
  {
   "cell_type": "code",
   "execution_count": null,
   "metadata": {
    "Collapsed": "false"
   },
   "outputs": [],
   "source": [
    "adfTest = adfuller(df['gr'] - meanGR,\n",
    "                   regression='nc')\n",
    "\n",
    "print('ADF Statistic: %f' % adfTest[0])\n",
    "print('p-value: %f' % adfTest[1])\n",
    "print('Critical Values:')\n",
    "for key, value in adfTest[4].items():\n",
    "\tprint('\\t%s: %.3f' % (key, value))\n",
    "adfTest[0:4]"
   ]
  },
  {
   "cell_type": "markdown",
   "metadata": {
    "Collapsed": "false"
   },
   "source": [
    "## Question 9 \n",
    "\n",
    "1. Extract the month from the index date format and place it into a column you call ’month’ \n",
    "\n",
    "    – you can extract the month from a date format with .month \n",
    "\n",
    "2. use the groupby function to compute the mean growth rate per month into a Series you call meanGRmonth \n",
    "\n",
    "    – don’t forget to apply the .mean() to this groupby command \n",
    "    \n",
    "3. remove the meanGR from meanGRmonth to have the deviation \n",
    "\n",
    "We want to remove the mean growth rate (meanGR) to the monthly average growth rate so that we have growth rates deviation from the mean. In other words, if I am in month 2 and I want to project in month 3, I use: \n",
    "\n",
    "$$\n",
    "E_{3}\\left(\\mathrm{pop}_{3}\\right)=\\operatorname{pop}_{2}(1+\\mathrm{meanGR}+\\mathrm{meanGRmonth})\n",
    "$$"
   ]
  },
  {
   "cell_type": "code",
   "execution_count": null,
   "metadata": {
    "Collapsed": "false"
   },
   "outputs": [],
   "source": [
    "df['month'] = df.index.month\n",
    "df.head()"
   ]
  },
  {
   "cell_type": "code",
   "execution_count": null,
   "metadata": {
    "Collapsed": "false"
   },
   "outputs": [],
   "source": [
    "meanGRmonth = (\n",
    "    df.groupby('month')['gr']\n",
    "    .mean()\n",
    "    .apply(lambda x: x - meanGR)\n",
    "              )\n",
    "meanGRmonth"
   ]
  },
  {
   "cell_type": "markdown",
   "metadata": {
    "Collapsed": "false"
   },
   "source": [
    "## Question 10 \n",
    "\n",
    "1. Last observation is 2019-08-01, add a row below for 2019-09-01 we want to estimate \n",
    "\n",
    "    – you can get inspired from this question \n",
    "    \n",
    "    – you want the index to be a date, so use name=pd.to_datetime(’2019-09-01’) "
   ]
  },
  {
   "cell_type": "code",
   "execution_count": null,
   "metadata": {
    "Collapsed": "false"
   },
   "outputs": [],
   "source": [
    "df_forecast = df.append(pd.Series(name=pd.to_datetime('2019-09-01')))\n",
    "df_forecast.tail()"
   ]
  },
  {
   "cell_type": "code",
   "execution_count": null,
   "metadata": {
    "Collapsed": "false"
   },
   "outputs": [],
   "source": [
    "#df.index = df.index + pd.DateOffset(months=1)"
   ]
  },
  {
   "cell_type": "markdown",
   "metadata": {
    "Collapsed": "false"
   },
   "source": [
    "## Question 11 \n",
    "\n",
    "1. Project by one month using equation\n",
    "\n",
    "$$\n",
    "E_{3}\\left(\\mathrm{pop}_{3}\\right)=\\operatorname{pop}_{2}(1+\\mathrm{meanGR}+\\mathrm{meanGRmonth_3})\n",
    "$$"
   ]
  },
  {
   "cell_type": "code",
   "execution_count": null,
   "metadata": {
    "Collapsed": "false"
   },
   "outputs": [],
   "source": [
    "spepmeanGR = meanGRmonth[9]\n",
    "spepmeanGR"
   ]
  },
  {
   "cell_type": "code",
   "execution_count": null,
   "metadata": {
    "Collapsed": "false"
   },
   "outputs": [],
   "source": [
    "df_forecast[df_forecast.index.isin(['2019-08-01'])\n",
    "   ]['popF'].apply(lambda x: (x * (1 + meanGR + spepmeanGR)))\n"
   ]
  },
  {
   "cell_type": "markdown",
   "metadata": {
    "Collapsed": "false"
   },
   "source": [
    "## Question 12 \n",
    "\n",
    "1. Remove seasonality from the time series: do it on the growth rate when projection the population level. Create a new column you call ’popFds’ for de desesonalized time series. \n",
    "\n",
    "2. Compute the deseasonlized and demean growth rate you call ’grds’. \n",
    "\n",
    "3. plot and drop NAs of this time series. \n",
    "\n",
    "4. Apply an Augmented Dickey-Fuller test, is the time series now stationary? Manual creation of an AR(1) on the deseasonalized and demeaned growth rate. "
   ]
  },
  {
   "cell_type": "markdown",
   "metadata": {
    "Collapsed": "false"
   },
   "source": [
    "move seasonality:  $gr_{t_{0}} = gr_{t_{-1}} * (1 + gr_{t_{0}} - \\text{mean month}_{t_{0}})$"
   ]
  },
  {
   "cell_type": "code",
   "execution_count": null,
   "metadata": {
    "Collapsed": "false"
   },
   "outputs": [],
   "source": [
    "#meanGRmonth = meanGRmonth.rename(\"demeangr\").reset_index()\n",
    "#meanGRmonth.head()\n",
    "df.head()"
   ]
  },
  {
   "cell_type": "code",
   "execution_count": null,
   "metadata": {
    "Collapsed": "false"
   },
   "outputs": [],
   "source": [
    "df['popFds'] = df['popF']\n",
    "\n",
    "for i in range(1,len(df)):\n",
    "    df.iloc[i,5] = df.iloc[i-1,5] * (1 + df.iloc[i,1] - meanGRmonth.loc[df.iloc[i,4]])"
   ]
  },
  {
   "cell_type": "code",
   "execution_count": null,
   "metadata": {
    "Collapsed": "false"
   },
   "outputs": [],
   "source": [
    "df.head()"
   ]
  },
  {
   "cell_type": "markdown",
   "metadata": {
    "Collapsed": "false"
   },
   "source": [
    "Demean and deseasonlized serie: $ $ "
   ]
  },
  {
   "cell_type": "code",
   "execution_count": null,
   "metadata": {
    "Collapsed": "false"
   },
   "outputs": [],
   "source": [
    "df['grds'] = (df.popFds - df.popFds.shift(1)) / df.popFds.shift(1) - \\\n",
    "    ((df.popFds - df.popFds.shift(1)) / df.popFds.shift(1)).mean()\n",
    "#df = df.dropna()"
   ]
  },
  {
   "cell_type": "code",
   "execution_count": null,
   "metadata": {
    "Collapsed": "false"
   },
   "outputs": [],
   "source": [
    "df.head()"
   ]
  },
  {
   "cell_type": "code",
   "execution_count": null,
   "metadata": {
    "Collapsed": "false"
   },
   "outputs": [],
   "source": [
    "#df['popFds'].pct_change(1)/(df['popFds'].shift(1) - df['popFds'].pct_change(1)) /  df['popFds'].shift(1).mean()"
   ]
  },
  {
   "cell_type": "code",
   "execution_count": null,
   "metadata": {
    "Collapsed": "false"
   },
   "outputs": [],
   "source": [
    "df['grds'].plot()"
   ]
  },
  {
   "cell_type": "markdown",
   "metadata": {
    "Collapsed": "false"
   },
   "source": [
    "Apply an Augmented Dickey-Fuller test, is the time series now stationary? "
   ]
  },
  {
   "cell_type": "code",
   "execution_count": null,
   "metadata": {
    "Collapsed": "false"
   },
   "outputs": [],
   "source": [
    "adfuller(df['grds'], regression='nc')"
   ]
  },
  {
   "cell_type": "markdown",
   "metadata": {
    "Collapsed": "false"
   },
   "source": []
  },
  {
   "cell_type": "markdown",
   "metadata": {
    "Collapsed": "false"
   },
   "source": [
    "## Question 13 \n",
    "\n",
    "Manual creation of an AR(1) on the deseasonalized and demeaned growth rate.\n",
    "\n",
    "1. Create a lag of the deseasonalized and demeaned growth rate you call ’grds1’ : \n",
    "\n",
    "    – Use the shift(1) command \n",
    "\n",
    "2. Perform an OLS of grds on grds1 and show the result of that linear regression \n",
    "\n",
    "3. Using the parameter of ’grds1’, project the grds into a variable you call ’grdsAR1’ \n",
    "\n",
    "4. Compute the residuals of that model \n",
    "\n",
    "5. Compute the standad deviation of the residuals of the AR(1) created by OLS "
   ]
  },
  {
   "cell_type": "code",
   "execution_count": null,
   "metadata": {
    "Collapsed": "false"
   },
   "outputs": [],
   "source": [
    "df['grdslag'] = df['grds'].shift(1)"
   ]
  },
  {
   "cell_type": "markdown",
   "metadata": {
    "Collapsed": "false"
   },
   "source": [
    "**Process AR**\n",
    "\n",
    "$$\n",
    "y _ { t } = \\mu + \\gamma y _ { t - 1 } + \\epsilon _ { t }\n",
    "$$\n",
    "\n",
    "Autoregressive (AR) models are models in which the value of a variable in one period is\n",
    "related to its values in previous periods."
   ]
  },
  {
   "cell_type": "code",
   "execution_count": null,
   "metadata": {
    "Collapsed": "false"
   },
   "outputs": [],
   "source": [
    "olsAR1 = smf.ols('grds ~ grdslag',data=df).fit()\n",
    "olsAR1.summary()"
   ]
  },
  {
   "cell_type": "code",
   "execution_count": null,
   "metadata": {
    "Collapsed": "false"
   },
   "outputs": [],
   "source": [
    "olsAR1 = smf.ols('grds ~ grdslag - 1',data=df).fit()\n",
    "olsAR1.summary()"
   ]
  },
  {
   "cell_type": "code",
   "execution_count": null,
   "metadata": {
    "Collapsed": "false"
   },
   "outputs": [],
   "source": [
    "df['grds'].plot()"
   ]
  },
  {
   "cell_type": "code",
   "execution_count": null,
   "metadata": {
    "Collapsed": "false"
   },
   "outputs": [],
   "source": [
    "df['grdslag'].head()"
   ]
  },
  {
   "cell_type": "code",
   "execution_count": null,
   "metadata": {
    "Collapsed": "false"
   },
   "outputs": [],
   "source": [
    "olsAR1.params[0]"
   ]
  },
  {
   "cell_type": "code",
   "execution_count": null,
   "metadata": {
    "Collapsed": "false"
   },
   "outputs": [],
   "source": [
    "-0.000071 * 0.3982"
   ]
  },
  {
   "cell_type": "markdown",
   "metadata": {
    "Collapsed": "false"
   },
   "source": [
    "$y_t = 0 + .3982 * y_{t_{-1}}$"
   ]
  },
  {
   "cell_type": "code",
   "execution_count": null,
   "metadata": {
    "Collapsed": "false"
   },
   "outputs": [],
   "source": [
    "df['grdslag'].apply(lambda x: x * olsAR1.params[0]).head()"
   ]
  },
  {
   "cell_type": "code",
   "execution_count": null,
   "metadata": {
    "Collapsed": "false"
   },
   "outputs": [],
   "source": [
    "df['grdsAR1'] = olsAR1.predict(df['grdslag'])\n",
    "df.head()"
   ]
  },
  {
   "cell_type": "code",
   "execution_count": null,
   "metadata": {
    "Collapsed": "false"
   },
   "outputs": [],
   "source": [
    "df['AR1residuals'] = df['grds'] - df['grdsAR1']\n",
    "df.head()"
   ]
  },
  {
   "cell_type": "code",
   "execution_count": null,
   "metadata": {
    "Collapsed": "false"
   },
   "outputs": [],
   "source": [
    "df['AR1residuals'].std()"
   ]
  },
  {
   "cell_type": "code",
   "execution_count": null,
   "metadata": {
    "Collapsed": "false"
   },
   "outputs": [],
   "source": [
    "df[['grds', 'grdsAR1']].plot()"
   ]
  },
  {
   "cell_type": "markdown",
   "metadata": {
    "Collapsed": "false"
   },
   "source": [
    "## Question 14 \n",
    "\n",
    "1. Fit an AR(1) on ’grds’ using the ARIMA command \n",
    "\n",
    "2. Compute the standard deviation of the residuals of that model, compare it to the standard deviation of the AR(1) model by OLS "
   ]
  },
  {
   "cell_type": "code",
   "execution_count": null,
   "metadata": {
    "Collapsed": "false"
   },
   "outputs": [],
   "source": [
    "from statsmodels.tsa.arima_model import ARIMA"
   ]
  },
  {
   "cell_type": "code",
   "execution_count": null,
   "metadata": {
    "Collapsed": "false"
   },
   "outputs": [],
   "source": [
    "df = df.dropna()\n",
    "\n",
    "modelAR1 = ARIMA(df['grds'], order=(1,0,0))\n",
    "model_fitAR1 = modelAR1.fit(\n",
    "    trend = 'nc',\n",
    "    #disp = 0\n",
    ")\n",
    "model_fitAR1.resid.std()"
   ]
  },
  {
   "cell_type": "markdown",
   "metadata": {
    "Collapsed": "false"
   },
   "source": [
    "## Question 15 \n",
    "\n",
    "1. Plot the partial autocorrelation function and the autocorrelation function of ’grds’, which AR order and MA order would you suggest? \n",
    "\n",
    "2. compare your choice with the suggestions based on AIC and BIC \n",
    "\n",
    "3. Fit an ARIMA model on ’grds’ and compute the standard deviation of the residuals, how does it compare to the AR(1) by OLS and AR(1) by ML (to be more precise, by default, the estimation method is ’css-mle’ detailed here)? "
   ]
  },
  {
   "cell_type": "code",
   "execution_count": null,
   "metadata": {
    "Collapsed": "false"
   },
   "outputs": [],
   "source": [
    "from statsmodels.graphics.tsaplots import plot_acf, plot_pacf"
   ]
  },
  {
   "cell_type": "code",
   "execution_count": null,
   "metadata": {
    "Collapsed": "false"
   },
   "outputs": [],
   "source": [
    "def PAC(y, lag = 10): \n",
    "    f, (ax1, ax2) = plt.subplots(2, sharex=True)\n",
    "    plot_acf(y, ax=ax1, lags = lag)\n",
    "    plot_pacf(y, ax=ax2, lags = lag)\n",
    "    plt.show()"
   ]
  },
  {
   "cell_type": "code",
   "execution_count": null,
   "metadata": {
    "Collapsed": "false"
   },
   "outputs": [],
   "source": [
    "PAC(y = df['grds'], lag = 40)"
   ]
  },
  {
   "cell_type": "code",
   "execution_count": null,
   "metadata": {
    "Collapsed": "false"
   },
   "outputs": [],
   "source": [
    "# Fit an ARMA with the procedure and test with AIC or BIC\n",
    "ARMAfit = sm.tsa.arma_order_select_ic(df['grds'], ic=['aic', 'bic'], trend='nc')\n",
    "ARMAfit.aic_min_order\n"
   ]
  },
  {
   "cell_type": "code",
   "execution_count": null,
   "metadata": {
    "Collapsed": "false"
   },
   "outputs": [],
   "source": [
    "ARMAfit.bic_min_order"
   ]
  },
  {
   "cell_type": "code",
   "execution_count": null,
   "metadata": {
    "Collapsed": "false"
   },
   "outputs": [],
   "source": [
    "# fit the arma\n",
    "model = ARIMA(df['grds'], order=(1,0,1))\n",
    "model_fit = model.fit(disp=0)"
   ]
  },
  {
   "cell_type": "code",
   "execution_count": null,
   "metadata": {
    "Collapsed": "false"
   },
   "outputs": [],
   "source": [
    "model_fit.summary()"
   ]
  },
  {
   "cell_type": "code",
   "execution_count": null,
   "metadata": {
    "Collapsed": "false"
   },
   "outputs": [],
   "source": [
    "model_fit.resid.plot()\n",
    "plot_acf(model_fit.resid, lags=40)"
   ]
  },
  {
   "cell_type": "markdown",
   "metadata": {
    "Collapsed": "false"
   },
   "source": [
    "## Question 16 \n",
    "\n",
    "1. Plot the autocorrelation function of the model residuals. \n",
    "\n",
    "2. Perform a Ljung-Box test with maximum lags of 5 and 10. Conclude on the relevance of this model? \n",
    "\n",
    "[Ljung-Box](https://www.statisticshowto.datasciencecentral.com/ljung-box-test/)"
   ]
  }
 ],
 "metadata": {
  "kernelspec": {
   "display_name": "Python 3",
   "language": "python",
   "name": "python3"
  },
  "language_info": {
   "codemirror_mode": {
    "name": "ipython",
    "version": 3
   },
   "file_extension": ".py",
   "mimetype": "text/x-python",
   "name": "python",
   "nbconvert_exporter": "python",
   "pygments_lexer": "ipython3",
   "version": "3.7.3"
  }
 },
 "nbformat": 4,
 "nbformat_minor": 4
}
