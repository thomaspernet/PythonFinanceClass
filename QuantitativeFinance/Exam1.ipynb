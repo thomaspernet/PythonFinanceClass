{
 "cells": [
  {
   "cell_type": "markdown",
   "metadata": {
    "Collapsed": "false"
   },
   "source": [
    "# Quantitative methods in finance - First semester hour examination\n",
    "\n",
    "## Instructions\n",
    "\n",
    "All instructions available here: [Exam_1](https://drive.google.com/open?id=1D7PHbWnCTR2nSqCaxier6LHSesJtzj0_)\n",
    "\n",
    "## Question\n",
    "\n",
    "### Import csv data as DataFrame\n",
    "\n",
    "We will use os to change the working directory and pandas thus we need to import those libraries: import pandas as pd import os We import other libraries we will use along: import numpy as np import statsmodels.formula.api as smf import statsmodels.api as sm from statsmodels.tsa.arima_model import ARIMA import scipy.stats from statsmodels.graphics.tsaplots import plot_acf from statsmodels.graphics.tsaplots import plot_pacf from statsmodels.tsa.stattools import adfuller \n",
    "\n",
    "### Question \n",
    "\n",
    "1. Download French population time series from INSEE website: [here](https://raw.githubusercontent.com/thomaspernet/PythonFinanceClass/master/QuantitativeFinance/Datasets/20190913_Fr_population.csv).\n",
    "2. Extract from zip file to csv file. \n",
    "3. Rename the csv file valeurs_mensuelles.csv to 20190913_Fr_population.csv \n",
    "4. Place the csv file somewhere on your computer you can load it from.\n",
    "5. If you still don’t know how to load a file from spyder: \n",
    "\n"
   ]
  },
  {
   "cell_type": "code",
   "execution_count": 1,
   "metadata": {
    "Collapsed": "false"
   },
   "outputs": [],
   "source": [
    "import pandas as pd\n",
    "import matplotlib\n",
    "import matplotlib.pyplot as plt\n",
    "import numpy as np\n",
    "from numpy import random"
   ]
  },
  {
   "cell_type": "markdown",
   "metadata": {
    "Collapsed": "false"
   },
   "source": [
    "## Question 2 \n",
    "1. Import the csv file as a DataFrame you call df \n",
    "\n",
    "– from pandas, use `read_csv()`\n",
    "\n",
    "– data is seperated by \";\", so indicate as option sep=\";\" \n",
    "\n",
    "– you can skip the two first rows: skiprows = [0,1] \n",
    "\n"
   ]
  },
  {
   "cell_type": "code",
   "execution_count": 2,
   "metadata": {
    "Collapsed": "false"
   },
   "outputs": [
    {
     "data": {
      "text/html": [
       "<div>\n",
       "<style scoped>\n",
       "    .dataframe tbody tr th:only-of-type {\n",
       "        vertical-align: middle;\n",
       "    }\n",
       "\n",
       "    .dataframe tbody tr th {\n",
       "        vertical-align: top;\n",
       "    }\n",
       "\n",
       "    .dataframe thead th {\n",
       "        text-align: right;\n",
       "    }\n",
       "</style>\n",
       "<table border=\"1\" class=\"dataframe\">\n",
       "  <thead>\n",
       "    <tr style=\"text-align: right;\">\n",
       "      <th></th>\n",
       "      <th>date</th>\n",
       "      <th>popF</th>\n",
       "      <th>rubish</th>\n",
       "    </tr>\n",
       "  </thead>\n",
       "  <tbody>\n",
       "    <tr>\n",
       "      <th>0</th>\n",
       "      <td>2019-08</td>\n",
       "      <td>67039</td>\n",
       "      <td>P</td>\n",
       "    </tr>\n",
       "    <tr>\n",
       "      <th>1</th>\n",
       "      <td>2019-07</td>\n",
       "      <td>67022</td>\n",
       "      <td>P</td>\n",
       "    </tr>\n",
       "  </tbody>\n",
       "</table>\n",
       "</div>"
      ],
      "text/plain": [
       "      date   popF rubish\n",
       "0  2019-08  67039      P\n",
       "1  2019-07  67022      P"
      ]
     },
     "execution_count": 2,
     "metadata": {},
     "output_type": "execute_result"
    }
   ],
   "source": [
    "url = \"https://raw.githubusercontent.com/thomaspernet/PythonFinanceClass/master/\" \\\n",
    "\"QuantitativeFinance/Datasets/20190913_Fr_population.csv\"\n",
    "\n",
    "df = pd.read_csv(url,\n",
    "                 skiprows = [0,1,2],\n",
    "                 sep = \";\",\n",
    "                 names=['date','popF','rubish'])\n",
    "df.head(2)"
   ]
  },
  {
   "cell_type": "markdown",
   "metadata": {
    "Collapsed": "false"
   },
   "source": [
    "2. Rename the columns \n",
    "\n",
    "    – df.columns = [’date’,’popF’,’rubish’] \n",
    "\n",
    "3. Convert the date column to aDate format python can recognize \n",
    "\n",
    "    – use pd.to_datetime \n",
    "    \n",
    "    – indicate the format it is: YYYY-MM, so format=\"%Y-%m\" \n",
    "    \n",
    "4. place date into the index \n",
    "\n",
    "5. as usual we want the old dates first, so sort the index \n",
    "\n",
    "    – use .sort_index() \n",
    "    \n",
    "6. keep only ’pop’ column, but you want to keep it as a DataFrame, not a Series, so the trick is to have [ ] around ’popF’: \n",
    "\n",
    "    – df = df.loc[:,[’popF’]]  "
   ]
  },
  {
   "cell_type": "code",
   "execution_count": 3,
   "metadata": {
    "Collapsed": "false"
   },
   "outputs": [],
   "source": [
    "#df.columns = ['date','popF','rubish']\n",
    "df['date'] = pd.to_datetime(df['date'], format=\"%Y-%m\")"
   ]
  },
  {
   "cell_type": "code",
   "execution_count": 4,
   "metadata": {
    "Collapsed": "false"
   },
   "outputs": [
    {
     "data": {
      "text/html": [
       "<div>\n",
       "<style scoped>\n",
       "    .dataframe tbody tr th:only-of-type {\n",
       "        vertical-align: middle;\n",
       "    }\n",
       "\n",
       "    .dataframe tbody tr th {\n",
       "        vertical-align: top;\n",
       "    }\n",
       "\n",
       "    .dataframe thead th {\n",
       "        text-align: right;\n",
       "    }\n",
       "</style>\n",
       "<table border=\"1\" class=\"dataframe\">\n",
       "  <thead>\n",
       "    <tr style=\"text-align: right;\">\n",
       "      <th></th>\n",
       "      <th>popF</th>\n",
       "    </tr>\n",
       "    <tr>\n",
       "      <th>date</th>\n",
       "      <th></th>\n",
       "    </tr>\n",
       "  </thead>\n",
       "  <tbody>\n",
       "    <tr>\n",
       "      <th>1994-01-01</th>\n",
       "      <td>59070</td>\n",
       "    </tr>\n",
       "    <tr>\n",
       "      <th>1994-02-01</th>\n",
       "      <td>59078</td>\n",
       "    </tr>\n",
       "    <tr>\n",
       "      <th>1994-03-01</th>\n",
       "      <td>59090</td>\n",
       "    </tr>\n",
       "    <tr>\n",
       "      <th>1994-04-01</th>\n",
       "      <td>59105</td>\n",
       "    </tr>\n",
       "    <tr>\n",
       "      <th>1994-05-01</th>\n",
       "      <td>59122</td>\n",
       "    </tr>\n",
       "  </tbody>\n",
       "</table>\n",
       "</div>"
      ],
      "text/plain": [
       "             popF\n",
       "date             \n",
       "1994-01-01  59070\n",
       "1994-02-01  59078\n",
       "1994-03-01  59090\n",
       "1994-04-01  59105\n",
       "1994-05-01  59122"
      ]
     },
     "execution_count": 4,
     "metadata": {},
     "output_type": "execute_result"
    }
   ],
   "source": [
    "df = (\n",
    "    df.set_index('date')\n",
    "    .sort_index()\n",
    "    .drop(columns = 'rubish')\n",
    ")\n",
    "df.head()"
   ]
  },
  {
   "cell_type": "markdown",
   "metadata": {
    "Collapsed": "false"
   },
   "source": [
    "## Question 3 \n",
    "\n",
    "1. Create an additional column you call ’gr’ where you put the growth rate of the French population. \n",
    "\n",
    "    – use the .shift(1) to get Population(t-1) \n",
    "    \n",
    "2. Drop the first row because it has an NA. \n",
    "\n",
    "    – use .dropna()"
   ]
  },
  {
   "cell_type": "code",
   "execution_count": 5,
   "metadata": {
    "Collapsed": "false"
   },
   "outputs": [
    {
     "data": {
      "text/plain": [
       "popF    0\n",
       "gr      1\n",
       "dtype: int64"
      ]
     },
     "execution_count": 5,
     "metadata": {},
     "output_type": "execute_result"
    }
   ],
   "source": [
    "df['gr']= df.pct_change(1)\n",
    "df.isna().sum()"
   ]
  },
  {
   "cell_type": "code",
   "execution_count": 6,
   "metadata": {
    "Collapsed": "false"
   },
   "outputs": [
    {
     "data": {
      "text/html": [
       "<div>\n",
       "<style scoped>\n",
       "    .dataframe tbody tr th:only-of-type {\n",
       "        vertical-align: middle;\n",
       "    }\n",
       "\n",
       "    .dataframe tbody tr th {\n",
       "        vertical-align: top;\n",
       "    }\n",
       "\n",
       "    .dataframe thead th {\n",
       "        text-align: right;\n",
       "    }\n",
       "</style>\n",
       "<table border=\"1\" class=\"dataframe\">\n",
       "  <thead>\n",
       "    <tr style=\"text-align: right;\">\n",
       "      <th></th>\n",
       "      <th>popF</th>\n",
       "      <th>gr</th>\n",
       "    </tr>\n",
       "    <tr>\n",
       "      <th>date</th>\n",
       "      <th></th>\n",
       "      <th></th>\n",
       "    </tr>\n",
       "  </thead>\n",
       "  <tbody>\n",
       "    <tr>\n",
       "      <th>1994-01-01</th>\n",
       "      <td>59070</td>\n",
       "      <td>NaN</td>\n",
       "    </tr>\n",
       "    <tr>\n",
       "      <th>1994-02-01</th>\n",
       "      <td>59078</td>\n",
       "      <td>0.000135</td>\n",
       "    </tr>\n",
       "    <tr>\n",
       "      <th>1994-03-01</th>\n",
       "      <td>59090</td>\n",
       "      <td>0.000203</td>\n",
       "    </tr>\n",
       "    <tr>\n",
       "      <th>1994-04-01</th>\n",
       "      <td>59105</td>\n",
       "      <td>0.000254</td>\n",
       "    </tr>\n",
       "    <tr>\n",
       "      <th>1994-05-01</th>\n",
       "      <td>59122</td>\n",
       "      <td>0.000288</td>\n",
       "    </tr>\n",
       "  </tbody>\n",
       "</table>\n",
       "</div>"
      ],
      "text/plain": [
       "             popF        gr\n",
       "date                       \n",
       "1994-01-01  59070       NaN\n",
       "1994-02-01  59078  0.000135\n",
       "1994-03-01  59090  0.000203\n",
       "1994-04-01  59105  0.000254\n",
       "1994-05-01  59122  0.000288"
      ]
     },
     "execution_count": 6,
     "metadata": {},
     "output_type": "execute_result"
    }
   ],
   "source": [
    "df.head()"
   ]
  },
  {
   "cell_type": "code",
   "execution_count": 7,
   "metadata": {
    "Collapsed": "false"
   },
   "outputs": [],
   "source": [
    "df = df.dropna()"
   ]
  },
  {
   "cell_type": "markdown",
   "metadata": {
    "Collapsed": "false"
   },
   "source": [
    "# Question 4 \n",
    "\n",
    "1. Plot the population \n",
    "2. Plot the growth rate "
   ]
  },
  {
   "cell_type": "code",
   "execution_count": 8,
   "metadata": {
    "Collapsed": "false"
   },
   "outputs": [
    {
     "data": {
      "text/plain": [
       "<matplotlib.axes._subplots.AxesSubplot at 0x103f74400>"
      ]
     },
     "execution_count": 8,
     "metadata": {},
     "output_type": "execute_result"
    },
    {
     "data": {
      "image/png": "[encoded data removed]",
      "text/plain": [
       "<Figure size 432x288 with 1 Axes>"
      ]
     },
     "metadata": {
      "needs_background": "light"
     },
     "output_type": "display_data"
    }
   ],
   "source": [
    "df['popF'].plot()"
   ]
  },
  {
   "cell_type": "code",
   "execution_count": 9,
   "metadata": {
    "Collapsed": "false"
   },
   "outputs": [
    {
     "data": {
      "text/plain": [
       "<matplotlib.axes._subplots.AxesSubplot at 0x115984780>"
      ]
     },
     "execution_count": 9,
     "metadata": {},
     "output_type": "execute_result"
    },
    {
     "data": {
      "image/png": "[encoded data removed]",
      "text/plain": [
       "<Figure size 432x288 with 1 Axes>"
      ]
     },
     "metadata": {
      "needs_background": "light"
     },
     "output_type": "display_data"
    }
   ],
   "source": [
    "df['gr'].plot()"
   ]
  },
  {
   "cell_type": "markdown",
   "metadata": {
    "Collapsed": "false"
   },
   "source": [
    "## Question 5 \n",
    "\n",
    "1. Compute the mean growth rate \n",
    "    \n",
    "    – you can use .mean() directly to your data frame \n",
    "    \n",
    "2. keep the growth rate in a meanGR variable "
   ]
  },
  {
   "cell_type": "code",
   "execution_count": 10,
   "metadata": {
    "Collapsed": "false"
   },
   "outputs": [
    {
     "name": "stdout",
     "output_type": "stream",
     "text": [
      "The mean growth rate is 0.04%\n"
     ]
    }
   ],
   "source": [
    "meanGR = df['gr'].mean()\n",
    "print(\"The mean growth rate is {0:0.2%}\".format(meanGR))"
   ]
  },
  {
   "cell_type": "markdown",
   "metadata": {
    "Collapsed": "false"
   },
   "source": [
    "## Question 6 \n",
    "\n",
    "1. Fit a normal law to the growth rates (or just compute the empirical mean and standard deviation) \n",
    "\n",
    "    – you can use .mean() and.std()\n",
    "    \n",
    "2. generate 307 random draw from this normal law $\n",
    "\\mathscr{N}\\left(\\mu, \\sigma^{2}\\right)$ \n",
    "\n",
    "$$\n",
    "f\\left(x | \\mu, \\sigma^{2}\\right)=\\frac{1}{\\sqrt{2 \\pi \\sigma^{2}}} e^{-\\frac{(x-\\mu)^{2}}{2 \\sigma^{2}}}\n",
    "$$\n",
    "\n",
    "    – from numpy use random.normal command indicating mean, standard deviation and size of the sample \n",
    "    \n",
    "3. put that generated sample into a column you call ’grRANDOM’ \n",
    "\n",
    "4. Create a column where you replicate the ’popF’ and that you name ’popRANDOM’ \n",
    "\n",
    "5. Do a loop starting at 1 and for each index i (use iloc) the popRANDOM is now changed to popRANDOM(i-1) * (1 + grRANDOM) \n",
    "\n",
    "6. plot ’popF’ and ’popRANDOM’ thus generated \n",
    "\n"
   ]
  },
  {
   "cell_type": "code",
   "execution_count": 11,
   "metadata": {
    "Collapsed": "false"
   },
   "outputs": [
    {
     "data": {
      "text/plain": [
       "0.0002631460365990691"
      ]
     },
     "execution_count": 11,
     "metadata": {},
     "output_type": "execute_result"
    }
   ],
   "source": [
    "sd = df['gr'].std()\n",
    "sd"
   ]
  },
  {
   "cell_type": "code",
   "execution_count": 12,
   "metadata": {
    "Collapsed": "false"
   },
   "outputs": [
    {
     "data": {
      "text/plain": [
       "<matplotlib.axes._subplots.AxesSubplot at 0x115b0b208>"
      ]
     },
     "execution_count": 12,
     "metadata": {},
     "output_type": "execute_result"
    },
    {
     "data": {
      "image/png": "[encoded data removed]",
      "text/plain": [
       "<Figure size 432x288 with 1 Axes>"
      ]
     },
     "metadata": {
      "needs_background": "light"
     },
     "output_type": "display_data"
    }
   ],
   "source": [
    "random.seed(123)\n",
    "s = np.random.normal(meanGR, sd, 307)\n",
    "pd.Series(s, name = 'empirical dist').plot.density()"
   ]
  },
  {
   "cell_type": "code",
   "execution_count": 13,
   "metadata": {
    "Collapsed": "false"
   },
   "outputs": [
    {
     "data": {
      "text/html": [
       "<div>\n",
       "<style scoped>\n",
       "    .dataframe tbody tr th:only-of-type {\n",
       "        vertical-align: middle;\n",
       "    }\n",
       "\n",
       "    .dataframe tbody tr th {\n",
       "        vertical-align: top;\n",
       "    }\n",
       "\n",
       "    .dataframe thead th {\n",
       "        text-align: right;\n",
       "    }\n",
       "</style>\n",
       "<table border=\"1\" class=\"dataframe\">\n",
       "  <thead>\n",
       "    <tr style=\"text-align: right;\">\n",
       "      <th></th>\n",
       "      <th>popF</th>\n",
       "      <th>gr</th>\n",
       "      <th>grRANDOM</th>\n",
       "    </tr>\n",
       "    <tr>\n",
       "      <th>date</th>\n",
       "      <th></th>\n",
       "      <th></th>\n",
       "      <th></th>\n",
       "    </tr>\n",
       "  </thead>\n",
       "  <tbody>\n",
       "    <tr>\n",
       "      <th>1994-02-01</th>\n",
       "      <td>59078</td>\n",
       "      <td>0.000135</td>\n",
       "      <td>0.000127</td>\n",
       "    </tr>\n",
       "    <tr>\n",
       "      <th>1994-03-01</th>\n",
       "      <td>59090</td>\n",
       "      <td>0.000203</td>\n",
       "      <td>0.000675</td>\n",
       "    </tr>\n",
       "  </tbody>\n",
       "</table>\n",
       "</div>"
      ],
      "text/plain": [
       "             popF        gr  grRANDOM\n",
       "date                                 \n",
       "1994-02-01  59078  0.000135  0.000127\n",
       "1994-03-01  59090  0.000203  0.000675"
      ]
     },
     "execution_count": 13,
     "metadata": {},
     "output_type": "execute_result"
    }
   ],
   "source": [
    "df['grRANDOM'] = s\n",
    "df.head(2)"
   ]
  },
  {
   "cell_type": "code",
   "execution_count": 14,
   "metadata": {
    "Collapsed": "false"
   },
   "outputs": [],
   "source": [
    "df['popRANDOM'] = df['popF']"
   ]
  },
  {
   "cell_type": "markdown",
   "metadata": {
    "Collapsed": "false"
   },
   "source": [
    "$$ popRANDOM(_{i-1}) * (1 + grRANDOM_i) $$"
   ]
  },
  {
   "cell_type": "code",
   "execution_count": 15,
   "metadata": {
    "Collapsed": "false"
   },
   "outputs": [
    {
     "data": {
      "text/html": [
       "<div>\n",
       "<style scoped>\n",
       "    .dataframe tbody tr th:only-of-type {\n",
       "        vertical-align: middle;\n",
       "    }\n",
       "\n",
       "    .dataframe tbody tr th {\n",
       "        vertical-align: top;\n",
       "    }\n",
       "\n",
       "    .dataframe thead th {\n",
       "        text-align: right;\n",
       "    }\n",
       "</style>\n",
       "<table border=\"1\" class=\"dataframe\">\n",
       "  <thead>\n",
       "    <tr style=\"text-align: right;\">\n",
       "      <th></th>\n",
       "      <th>popF</th>\n",
       "      <th>gr</th>\n",
       "      <th>grRANDOM</th>\n",
       "      <th>popRANDOM</th>\n",
       "    </tr>\n",
       "    <tr>\n",
       "      <th>date</th>\n",
       "      <th></th>\n",
       "      <th></th>\n",
       "      <th></th>\n",
       "      <th></th>\n",
       "    </tr>\n",
       "  </thead>\n",
       "  <tbody>\n",
       "    <tr>\n",
       "      <th>1994-02-01</th>\n",
       "      <td>59078</td>\n",
       "      <td>0.000135</td>\n",
       "      <td>0.000127</td>\n",
       "      <td>59078</td>\n",
       "    </tr>\n",
       "    <tr>\n",
       "      <th>1994-03-01</th>\n",
       "      <td>59090</td>\n",
       "      <td>0.000203</td>\n",
       "      <td>0.000675</td>\n",
       "      <td>59090</td>\n",
       "    </tr>\n",
       "  </tbody>\n",
       "</table>\n",
       "</div>"
      ],
      "text/plain": [
       "             popF        gr  grRANDOM  popRANDOM\n",
       "date                                            \n",
       "1994-02-01  59078  0.000135  0.000127      59078\n",
       "1994-03-01  59090  0.000203  0.000675      59090"
      ]
     },
     "execution_count": 15,
     "metadata": {},
     "output_type": "execute_result"
    }
   ],
   "source": [
    "df.head(2)"
   ]
  },
  {
   "cell_type": "code",
   "execution_count": 16,
   "metadata": {
    "Collapsed": "false"
   },
   "outputs": [
    {
     "data": {
      "text/plain": [
       "<matplotlib.axes._subplots.AxesSubplot at 0x11597d438>"
      ]
     },
     "execution_count": 16,
     "metadata": {},
     "output_type": "execute_result"
    },
    {
     "data": {
      "image/png": "[encoded data removed]",
      "text/plain": [
       "<Figure size 432x288 with 1 Axes>"
      ]
     },
     "metadata": {
      "needs_background": "light"
     },
     "output_type": "display_data"
    }
   ],
   "source": [
    "for i in range(1,307):\n",
    "    df.iloc[i, 3]= df.iloc[i - 1, 3] * (1 + df.iloc[i, 2])\n",
    "df.head()\n",
    "df[['popF','popRANDOM']].plot()"
   ]
  },
  {
   "cell_type": "code",
   "execution_count": 17,
   "metadata": {
    "Collapsed": "false"
   },
   "outputs": [],
   "source": [
    "#df['lagpopRANDOM'] = df['popRANDOM'].shift(1)\n",
    "#df.head(2)"
   ]
  },
  {
   "cell_type": "code",
   "execution_count": 18,
   "metadata": {
    "Collapsed": "false"
   },
   "outputs": [
    {
     "data": {
      "text/plain": [
       "<matplotlib.axes._subplots.AxesSubplot at 0x1a1787da58>"
      ]
     },
     "execution_count": 18,
     "metadata": {},
     "output_type": "execute_result"
    },
    {
     "data": {
      "image/png": "[encoded data removed]",
      "text/plain": [
       "<Figure size 432x288 with 1 Axes>"
      ]
     },
     "metadata": {
      "needs_background": "light"
     },
     "output_type": "display_data"
    }
   ],
   "source": [
    "#df[\"popRANDOM\"] = df.apply(lambda x: x['lagpopRANDOM'] * (1 + x['grRANDOM']),\n",
    "#         axis = 1)#.head()\n",
    "#df.head()\n",
    "df[['popF','popRANDOM']].plot()"
   ]
  },
  {
   "cell_type": "markdown",
   "metadata": {
    "Collapsed": "false"
   },
   "source": [
    "## Question 7 \n",
    "\n",
    "Regress X on Y : [source](https://sol.du.ac.in/mod/book/view.php?id=1317&chapterid=1070)\n",
    "\n",
    "\n",
    "1. Do a linear regression of ’grRANDOM’ on ’gr’, what is theR 2 ? \n",
    "\n",
    "2. Do a linear regression of ’popF’ on ’popRANDOM’, what is theR 2 ? \n",
    "\n",
    "3. What can you say about spurious regression, is it one? Why? "
   ]
  },
  {
   "cell_type": "code",
   "execution_count": 19,
   "metadata": {
    "Collapsed": "false"
   },
   "outputs": [],
   "source": [
    "import statsmodels.api as sm\n",
    "import statsmodels.formula.api as smf"
   ]
  },
  {
   "cell_type": "code",
   "execution_count": 20,
   "metadata": {
    "Collapsed": "false"
   },
   "outputs": [
    {
     "data": {
      "text/html": [
       "<div>\n",
       "<style scoped>\n",
       "    .dataframe tbody tr th:only-of-type {\n",
       "        vertical-align: middle;\n",
       "    }\n",
       "\n",
       "    .dataframe tbody tr th {\n",
       "        vertical-align: top;\n",
       "    }\n",
       "\n",
       "    .dataframe thead th {\n",
       "        text-align: right;\n",
       "    }\n",
       "</style>\n",
       "<table border=\"1\" class=\"dataframe\">\n",
       "  <thead>\n",
       "    <tr style=\"text-align: right;\">\n",
       "      <th></th>\n",
       "      <th>popF</th>\n",
       "      <th>gr</th>\n",
       "      <th>grRANDOM</th>\n",
       "      <th>popRANDOM</th>\n",
       "    </tr>\n",
       "    <tr>\n",
       "      <th>date</th>\n",
       "      <th></th>\n",
       "      <th></th>\n",
       "      <th></th>\n",
       "      <th></th>\n",
       "    </tr>\n",
       "  </thead>\n",
       "  <tbody>\n",
       "    <tr>\n",
       "      <th>1994-02-01</th>\n",
       "      <td>59078</td>\n",
       "      <td>0.000135</td>\n",
       "      <td>0.000127</td>\n",
       "      <td>59078.000000</td>\n",
       "    </tr>\n",
       "    <tr>\n",
       "      <th>1994-03-01</th>\n",
       "      <td>59090</td>\n",
       "      <td>0.000203</td>\n",
       "      <td>0.000675</td>\n",
       "      <td>59117.865027</td>\n",
       "    </tr>\n",
       "    <tr>\n",
       "      <th>1994-04-01</th>\n",
       "      <td>59105</td>\n",
       "      <td>0.000254</td>\n",
       "      <td>0.000487</td>\n",
       "      <td>59146.643811</td>\n",
       "    </tr>\n",
       "    <tr>\n",
       "      <th>1994-05-01</th>\n",
       "      <td>59122</td>\n",
       "      <td>0.000288</td>\n",
       "      <td>0.000016</td>\n",
       "      <td>59147.587990</td>\n",
       "    </tr>\n",
       "    <tr>\n",
       "      <th>1994-06-01</th>\n",
       "      <td>59145</td>\n",
       "      <td>0.000389</td>\n",
       "      <td>0.000260</td>\n",
       "      <td>59162.971241</td>\n",
       "    </tr>\n",
       "  </tbody>\n",
       "</table>\n",
       "</div>"
      ],
      "text/plain": [
       "             popF        gr  grRANDOM     popRANDOM\n",
       "date                                               \n",
       "1994-02-01  59078  0.000135  0.000127  59078.000000\n",
       "1994-03-01  59090  0.000203  0.000675  59117.865027\n",
       "1994-04-01  59105  0.000254  0.000487  59146.643811\n",
       "1994-05-01  59122  0.000288  0.000016  59147.587990\n",
       "1994-06-01  59145  0.000389  0.000260  59162.971241"
      ]
     },
     "execution_count": 20,
     "metadata": {},
     "output_type": "execute_result"
    }
   ],
   "source": [
    "df.head()"
   ]
  },
  {
   "cell_type": "code",
   "execution_count": 21,
   "metadata": {
    "Collapsed": "false"
   },
   "outputs": [
    {
     "name": "stdout",
     "output_type": "stream",
     "text": [
      "R2:0.0094%\n"
     ]
    }
   ],
   "source": [
    "mod = smf.ols(formula='gr ~ grRANDOM', data=df).fit()\n",
    "print('R2:{0:0.4%}'.format(mod.rsquared))"
   ]
  },
  {
   "cell_type": "code",
   "execution_count": 22,
   "metadata": {
    "Collapsed": "false"
   },
   "outputs": [
    {
     "name": "stdout",
     "output_type": "stream",
     "text": [
      "R2:99.2213%\n"
     ]
    }
   ],
   "source": [
    "mod1 = smf.ols('popRANDOM ~ popF',data=df).fit()\n",
    "print('R2:{0:0.4%}'.format(mod1.rsquared))"
   ]
  },
  {
   "cell_type": "markdown",
   "metadata": {
    "Collapsed": "false"
   },
   "source": [
    "## AR process\n",
    "\n",
    "$$\n",
    "y _ { t } = \\mu + \\gamma y _ { t - 1 } + \\epsilon _ { t }\n",
    "$$\n",
    "\n",
    "Autoregressive (AR) models are models in which the value of a variable in one period is\n",
    "related to its values in previous periods."
   ]
  },
  {
   "cell_type": "code",
   "execution_count": 23,
   "metadata": {
    "Collapsed": "false"
   },
   "outputs": [],
   "source": [
    "import numpy as np\n",
    "import matplotlib.pyplot as plt\n",
    "from scipy import stats"
   ]
  },
  {
   "cell_type": "code",
   "execution_count": 24,
   "metadata": {
    "Collapsed": "false"
   },
   "outputs": [],
   "source": [
    "def AR(p, mu, lenght, fit = False):\n",
    "    list_y =[]\n",
    "    yt_1 = np.random.normal()\n",
    "    for i in range(0, lenght):\n",
    "        et = np.random.normal()\n",
    "        yt = mu + p*yt_1 + et\n",
    "        yt_1 = yt\n",
    "        list_y.append(yt)\n",
    "    ### Plot result\n",
    "    # Generated linear fit\n",
    "    x = np.linspace(0, 10, lenght)\n",
    "    if fit == True:\n",
    "        slope, intercept, r_value, p_value, std_err = stats.linregress(x,list_y)\n",
    "        line = slope*x + intercept\n",
    "        detrend = list_y - line\n",
    "        f, axarr = plt.subplots(2, sharex=True)\n",
    "        axarr[0].plot(x, list_y, x, line, label='linear')\n",
    "        axarr[1].plot(x, detrend, label='detrend')\n",
    "        plt.legend()\n",
    "        plt.show()\n",
    "        return list_y\n",
    "    else:\n",
    "        plt.plot(x, list_y, label='linear')\n",
    "        plt.legend()\n",
    "        plt.show()"
   ]
  },
  {
   "cell_type": "code",
   "execution_count": 62,
   "metadata": {
    "Collapsed": "false"
   },
   "outputs": [
    {
     "data": {
      "image/png": "[encoded data removed]",
      "text/plain": [
       "<Figure size 432x288 with 1 Axes>"
      ]
     },
     "metadata": {
      "needs_background": "light"
     },
     "output_type": "display_data"
    }
   ],
   "source": [
    "AR(p = 0.3982, mu = 0, lenght = 100, fit = False)"
   ]
  },
  {
   "cell_type": "markdown",
   "metadata": {
    "Collapsed": "false"
   },
   "source": [
    "## Process MA\n",
    "\n",
    "$$\n",
    "y _ { t } = \\mu + \\epsilon _ { t } + \\theta \\epsilon _ { t - 1 }\n",
    "$$\n",
    "\n",
    "Moving average (MA) models account for the possibility of a relationship between a variable\n",
    "and the residuals from previous periods."
   ]
  },
  {
   "cell_type": "code",
   "execution_count": 26,
   "metadata": {
    "Collapsed": "false"
   },
   "outputs": [],
   "source": [
    "def MA(q, mu, lenght):\n",
    "    list_y =[]\n",
    "    et_1 = 0\n",
    "    for i in range(0, lenght):\n",
    "        et = np.random.normal()\n",
    "        yt = mu + et + q* et_1\n",
    "        et_1 = et\n",
    "        list_y.append(yt)\n",
    "    ### Plot result\n",
    "    x = np.linspace(0, 10, lenght)\n",
    "    plt.plot(x, list_y, label='linear')\n",
    "    plt.legend()\n",
    "    plt.show()"
   ]
  },
  {
   "cell_type": "code",
   "execution_count": 27,
   "metadata": {
    "Collapsed": "false"
   },
   "outputs": [
    {
     "data": {
      "image/png": "[encoded data removed]",
      "text/plain": [
       "<Figure size 432x288 with 1 Axes>"
      ]
     },
     "metadata": {
      "needs_background": "light"
     },
     "output_type": "display_data"
    }
   ],
   "source": [
    "MA(q = 0.8, mu = 4, lenght = 100)"
   ]
  },
  {
   "cell_type": "markdown",
   "metadata": {
    "Collapsed": "false"
   },
   "source": [
    "## Process ARMA**\n",
    "\n",
    "Autoregressive moving average (ARMA) models combine both p autoregressive terms and q\n",
    "moving average terms, also called ARMA(p,q).\n",
    "\n",
    "$$\n",
    "y _ { t } = \\mu + \\sum _ { i = 1 } ^ { p } \\gamma _ { i } y _ { t - i } + \\epsilon _ { t } + \\sum _ { i = 1 } ^ { q } \\theta _ { i } \\epsilon _ { t - i }\n",
    "$$"
   ]
  },
  {
   "cell_type": "code",
   "execution_count": 28,
   "metadata": {
    "Collapsed": "false"
   },
   "outputs": [],
   "source": [
    "def ARMA_udf(p, q, mu, lenght, plot = True):\n",
    "    list_y =[]\n",
    "    yt_1 = np.random.normal()\n",
    "    et_1 = 0\n",
    "    for i in range(0, lenght):\n",
    "        et = np.random.normal()\n",
    "        yt = mu + p*yt_1 + et + q*et_1\n",
    "        et_1 = et\n",
    "        yt_1 =  yt\n",
    "        list_y.append(yt)\n",
    "    ### Plot result\n",
    "    if plot == True:\n",
    "        x = np.linspace(0, 10, lenght)\n",
    "        plt.plot(x, list_y, label='linear')\n",
    "        plt.legend()\n",
    "        plt.show()\n",
    "    else:    \n",
    "        return list_y"
   ]
  },
  {
   "cell_type": "code",
   "execution_count": 29,
   "metadata": {
    "Collapsed": "false"
   },
   "outputs": [
    {
     "data": {
      "image/png": "[encoded data removed]",
      "text/plain": [
       "<Figure size 432x288 with 1 Axes>"
      ]
     },
     "metadata": {
      "needs_background": "light"
     },
     "output_type": "display_data"
    }
   ],
   "source": [
    "ARMA_udf(p = 0.8,\n",
    "         q = 0.7,\n",
    "         mu = 2,\n",
    "         lenght = 100)"
   ]
  },
  {
   "cell_type": "markdown",
   "metadata": {
    "Collapsed": "false"
   },
   "source": [
    "## Stationarity\n",
    "\n",
    "1.  Detrending\n",
    "\n",
    "- A variable can be detrended by regressing the variable on a time trend and obtaining the\n",
    "residuals.\n",
    "\n",
    "$$\n",
    "y _ { t } = \\mu + \\beta t + \\varepsilon _ { t }\n",
    "$$\n",
    "\n",
    "1. Variable $y_t$\n",
    "\n",
    "detrend formula:\n",
    "\n",
    "$$\n",
    "\\hat { \\varepsilon } _ { t } = y _ { t } - \\hat { \\mu } + \\hat { \\beta } t\n",
    "$$"
   ]
  },
  {
   "cell_type": "code",
   "execution_count": 30,
   "metadata": {
    "Collapsed": "false"
   },
   "outputs": [
    {
     "data": {
      "image/png": "[encoded data removed]",
      "text/plain": [
       "<Figure size 432x288 with 2 Axes>"
      ]
     },
     "metadata": {
      "needs_background": "light"
     },
     "output_type": "display_data"
    }
   ],
   "source": [
    "y =AR(p = .978, mu = 0.6, lenght = 100, fit = True)"
   ]
  },
  {
   "cell_type": "markdown",
   "metadata": {
    "Collapsed": "false"
   },
   "source": [
    "2. Differencing\n",
    "\n",
    "When a variable $y_t$ is not stationary, a common solution is to use a differenced variable :\n",
    "\n",
    "- $\\Delta y _ { t } = y _ { t } - y _ { t - 1 }$ for first order differences.\n",
    "- The variable $y_t$ is integrated of order one, denoted I(1), if taking a first difference produces a\n",
    "stationary process.\n",
    "- ARIMA (p,d,q) denotes an ARMA model with p autoregressive lags, q moving average lags, a\n",
    "and difference in the order of d.\n",
    "\n",
    "Differenced variable\n",
    "\n",
    "- $\\Delta y _ { t } = y _ { t } - y _ { t - 1 }$"
   ]
  },
  {
   "cell_type": "code",
   "execution_count": 31,
   "metadata": {
    "Collapsed": "false"
   },
   "outputs": [],
   "source": [
    "def detrend_dif(y, print = True):\n",
    "    T = len(y)\n",
    "    list_delta = []\n",
    "    for t in range(1, T):\n",
    "        delta_y = y[t] - y[t-1]\n",
    "        list_delta.append(delta_y)\n",
    "    if print == True:\n",
    "        x = np.linspace(0, 10, T-1)\n",
    "        plt.plot(x, list_delta, label='first Differenced')\n",
    "        plt.legend()\n",
    "        plt.show()\n",
    "    else:\n",
    "        return np.array(list_delta)"
   ]
  },
  {
   "cell_type": "code",
   "execution_count": 32,
   "metadata": {
    "Collapsed": "false"
   },
   "outputs": [
    {
     "data": {
      "text/plain": [
       "<matplotlib.axes._subplots.AxesSubplot at 0x1c1916af28>"
      ]
     },
     "execution_count": 32,
     "metadata": {},
     "output_type": "execute_result"
    },
    {
     "data": {
      "image/png": "[encoded data removed]",
      "text/plain": [
       "<Figure size 432x288 with 1 Axes>"
      ]
     },
     "metadata": {
      "needs_background": "light"
     },
     "output_type": "display_data"
    }
   ],
   "source": [
    "pd.Series(y, name = 'trend').plot()"
   ]
  },
  {
   "cell_type": "code",
   "execution_count": 33,
   "metadata": {
    "Collapsed": "false"
   },
   "outputs": [
    {
     "data": {
      "image/png": "[encoded data removed]",
      "text/plain": [
       "<Figure size 432x288 with 1 Axes>"
      ]
     },
     "metadata": {
      "needs_background": "light"
     },
     "output_type": "display_data"
    }
   ],
   "source": [
    "detrend_dif(y)"
   ]
  },
  {
   "cell_type": "markdown",
   "metadata": {
    "Collapsed": "false"
   },
   "source": [
    "## Dickey-Fuller Test for Stationarity\n",
    "\n",
    "1. Dickey-Fuller test\n",
    "\n",
    "Assume an AR(1) model. The model is non-stationary or a unit root is present if $| \\rho | = 1$\n",
    "\n",
    "$\n",
    "\\left. \\begin{array} { c } { y _ { t } = \\rho y _ { t - 1 } + e _ { t } } \\\\ { y _ { t } - y _ { t - 1 } = \\rho y _ { t - 1 } - y _ { t - 1 } + e _ { t } } \\\\ { \\Delta y _ { t } = ( \\rho - 1 ) y _ { t - 1 } + e _ { t } = \\gamma y _ { t - 1 } + e _ { t } } \\end{array} \\right.\n",
    "$\n",
    "\n",
    "- We can estimate the above model and test for the significance of the $\\gamma$ coefficient.\n",
    "    - If the null hypothesis is not rejected, $\\gamma ^ { * } = 0$, then $y_t$ is not stationary. Difference the\n",
    "variable and repeat the Dickey-Fuller test to see if the differenced variable is stationary.\n",
    "    - If the null hypothesis is rejected, $\\gamma ^ { * } > 0$ tehn $y_t$ is stationary. Use the variable.\n",
    "    - Note that non-significance is means stationarity."
   ]
  },
  {
   "cell_type": "code",
   "execution_count": 34,
   "metadata": {
    "Collapsed": "false"
   },
   "outputs": [
    {
     "data": {
      "text/plain": [
       "(99,)"
      ]
     },
     "execution_count": 34,
     "metadata": {},
     "output_type": "execute_result"
    }
   ],
   "source": [
    "from scipy.ndimage.interpolation import shift\n",
    "y_lag = shift(y,-1)[:-1]\n",
    "y_lag.shape"
   ]
  },
  {
   "cell_type": "code",
   "execution_count": 35,
   "metadata": {
    "Collapsed": "false"
   },
   "outputs": [],
   "source": [
    "def df_test(y, y_lag):\n",
    "    slope, intercept, r_value, p_value, std_err = stats.linregress(y[:-1],y_lag)\n",
    "    if p_value > 0.05:\n",
    "        print(\"Hyp 1 accepted, serie non stationary. P value is {}\".format(p_value))\n",
    "    print(\"Hyp 1 rejected, serie stationary. P value is {}\".format(p_value))"
   ]
  },
  {
   "cell_type": "code",
   "execution_count": 36,
   "metadata": {
    "Collapsed": "false"
   },
   "outputs": [
    {
     "name": "stdout",
     "output_type": "stream",
     "text": [
      "Hyp 1 rejected, serie stationary. P value is 1.973723108001099e-87\n"
     ]
    }
   ],
   "source": [
    "df_test(y, y_lag)"
   ]
  },
  {
   "cell_type": "markdown",
   "metadata": {
    "Collapsed": "false"
   },
   "source": [
    "## ADF\n",
    "\n",
    "The null hypothesis of the Augmented Dickey-Fuller is that there is a unit root, with the alternative that there is no unit root. If the pvalue is above a critical size, then we cannot reject that there is a unit root."
   ]
  },
  {
   "cell_type": "code",
   "execution_count": 37,
   "metadata": {
    "Collapsed": "false"
   },
   "outputs": [],
   "source": [
    "from statsmodels.tsa.stattools import adfuller\n",
    "import pandas as pd\n",
    "def adf_test(y):\n",
    "    # perform Augmented Dickey Fuller test\n",
    "    print('Results of Augmented Dickey-Fuller test:')\n",
    "    dftest = adfuller(y, autolag='AIC')\n",
    "    dfoutput = pd.Series(dftest[0:4], index=['test statistic', 'p-value', '# of lags', '# of observations'])\n",
    "    for key, value in dftest[4].items():\n",
    "        dfoutput['Critical Value ({})'.format(key)] = value\n",
    "    print(dfoutput)"
   ]
  },
  {
   "cell_type": "markdown",
   "metadata": {
    "Collapsed": "false"
   },
   "source": [
    "## Question 8 \n",
    "\n",
    "1. Perform an Augmented Dickey-Fuller test on the population level and on its growth rate. You should find that in fact we are working with a I(2) series. Thus we should differentiate twice (for simplicity, we work with growth rate and keep in mind this issue for further exercise). \n",
    "\n",
    "- Null Hypothesis (H0): If failed to be rejected, it suggests the time series has a unit root, meaning it is non-stationary. It has some time dependent structure.\n",
    "\n",
    "- Alternate Hypothesis (H1): The null hypothesis is rejected; it suggests the time series does not have a unit root, meaning it is stationary. It does not have time-dependent structure.\n",
    "\n",
    "TextBook:\n",
    "\n",
    "[Bourdonnais](https://drive.google.com/open?id=1aISXNGmc-Ntfbt7MpPkSf5clpnAfFObW)\n",
    "\n",
    "Online Ressource:\n",
    "\n",
    "[machinelearningmastery](https://machinelearningmastery.com/time-series-data-stationary-python/)"
   ]
  },
  {
   "cell_type": "code",
   "execution_count": 38,
   "metadata": {
    "Collapsed": "false"
   },
   "outputs": [],
   "source": [
    "from statsmodels.tsa.stattools import adfuller"
   ]
  },
  {
   "cell_type": "code",
   "execution_count": 39,
   "metadata": {
    "Collapsed": "false"
   },
   "outputs": [
    {
     "data": {
      "text/plain": [
       "<matplotlib.axes._subplots.AxesSubplot at 0x1c192faa58>"
      ]
     },
     "execution_count": 39,
     "metadata": {},
     "output_type": "execute_result"
    },
    {
     "data": {
      "image/png": "[encoded data removed]",
      "text/plain": [
       "<Figure size 432x288 with 1 Axes>"
      ]
     },
     "metadata": {
      "needs_background": "light"
     },
     "output_type": "display_data"
    }
   ],
   "source": [
    "df['popF'].plot()"
   ]
  },
  {
   "cell_type": "markdown",
   "metadata": {
    "Collapsed": "false"
   },
   "source": [
    "$$\n",
    "\\Delta y_{t}=\\mu+\\beta t+\\gamma^{*} y_{t-1}+\\sum_{j=1}^{p-1} \\phi_{j} \\Delta y_{t-j}+\\epsilon_{t}\n",
    "$$\n",
    "\n",
    "If p-values lower than 0.05 then we reject the null hypothesis ie (stationairy)"
   ]
  },
  {
   "cell_type": "code",
   "execution_count": 40,
   "metadata": {
    "Collapsed": "false"
   },
   "outputs": [
    {
     "name": "stdout",
     "output_type": "stream",
     "text": [
      "ADF Statistic: -0.974677\n",
      "p-value: 0.947428\n",
      "Critical Values:\n",
      "\t1%: -3.990\n",
      "\t5%: -3.426\n",
      "\t10%: -3.136\n"
     ]
    }
   ],
   "source": [
    "result = adfuller(\n",
    "    df['popF'],\n",
    "    regression='ct')\n",
    "\n",
    "print('ADF Statistic: %f' % result[0])\n",
    "print('p-value: %f' % result[1])\n",
    "print('Critical Values:')\n",
    "for key, value in result[4].items():\n",
    "\tprint('\\t%s: %.3f' % (key, value))"
   ]
  },
  {
   "cell_type": "code",
   "execution_count": 41,
   "metadata": {
    "Collapsed": "false"
   },
   "outputs": [
    {
     "data": {
      "text/plain": [
       "<matplotlib.axes._subplots.AxesSubplot at 0x1c193e6630>"
      ]
     },
     "execution_count": 41,
     "metadata": {},
     "output_type": "execute_result"
    },
    {
     "data": {
      "image/png": "[encoded data removed]",
      "text/plain": [
       "<Figure size 432x288 with 1 Axes>"
      ]
     },
     "metadata": {
      "needs_background": "light"
     },
     "output_type": "display_data"
    }
   ],
   "source": [
    "(df['gr'] - meanGR).plot()"
   ]
  },
  {
   "cell_type": "markdown",
   "metadata": {
    "Collapsed": "false"
   },
   "source": [
    "It looks like we would have to fail to reject the null hypothesis that the time series is non-stationary and does have time-dependent structure."
   ]
  },
  {
   "cell_type": "code",
   "execution_count": 42,
   "metadata": {
    "Collapsed": "false"
   },
   "outputs": [
    {
     "name": "stdout",
     "output_type": "stream",
     "text": [
      "ADF Statistic: -1.612305\n",
      "p-value: 0.100830\n",
      "Critical Values:\n",
      "\t1%: -2.573\n",
      "\t5%: -1.942\n",
      "\t10%: -1.616\n"
     ]
    },
    {
     "data": {
      "text/plain": [
       "(-1.6123051353633324, 0.10082989292124006, 11, 295)"
      ]
     },
     "execution_count": 42,
     "metadata": {},
     "output_type": "execute_result"
    }
   ],
   "source": [
    "adfTest = adfuller(df['gr'] - meanGR,\n",
    "                   regression='nc')\n",
    "\n",
    "print('ADF Statistic: %f' % adfTest[0])\n",
    "print('p-value: %f' % adfTest[1])\n",
    "print('Critical Values:')\n",
    "for key, value in adfTest[4].items():\n",
    "\tprint('\\t%s: %.3f' % (key, value))\n",
    "adfTest[0:4]"
   ]
  },
  {
   "cell_type": "markdown",
   "metadata": {
    "Collapsed": "false"
   },
   "source": [
    "## Question 9 \n",
    "\n",
    "1. Extract the month from the index date format and place it into a column you call ’month’ \n",
    "\n",
    "    – you can extract the month from a date format with .month \n",
    "\n",
    "2. use the groupby function to compute the mean growth rate per month into a Series you call meanGRmonth \n",
    "\n",
    "    – don’t forget to apply the .mean() to this groupby command \n",
    "    \n",
    "3. remove the meanGR from meanGRmonth to have the deviation \n",
    "\n",
    "We want to remove the mean growth rate (meanGR) to the monthly average growth rate so that we have growth rates deviation from the mean. In other words, if I am in month 2 and I want to project in month 3, I use: \n",
    "\n",
    "$$\n",
    "E_{3}\\left(\\mathrm{pop}_{3}\\right)=\\operatorname{pop}_{2}(1+\\mathrm{meanGR}+\\mathrm{meanGRmonth})\n",
    "$$"
   ]
  },
  {
   "cell_type": "code",
   "execution_count": 43,
   "metadata": {
    "Collapsed": "false"
   },
   "outputs": [
    {
     "data": {
      "text/html": [
       "<div>\n",
       "<style scoped>\n",
       "    .dataframe tbody tr th:only-of-type {\n",
       "        vertical-align: middle;\n",
       "    }\n",
       "\n",
       "    .dataframe tbody tr th {\n",
       "        vertical-align: top;\n",
       "    }\n",
       "\n",
       "    .dataframe thead th {\n",
       "        text-align: right;\n",
       "    }\n",
       "</style>\n",
       "<table border=\"1\" class=\"dataframe\">\n",
       "  <thead>\n",
       "    <tr style=\"text-align: right;\">\n",
       "      <th></th>\n",
       "      <th>popF</th>\n",
       "      <th>gr</th>\n",
       "      <th>grRANDOM</th>\n",
       "      <th>popRANDOM</th>\n",
       "      <th>month</th>\n",
       "    </tr>\n",
       "    <tr>\n",
       "      <th>date</th>\n",
       "      <th></th>\n",
       "      <th></th>\n",
       "      <th></th>\n",
       "      <th></th>\n",
       "      <th></th>\n",
       "    </tr>\n",
       "  </thead>\n",
       "  <tbody>\n",
       "    <tr>\n",
       "      <th>1994-02-01</th>\n",
       "      <td>59078</td>\n",
       "      <td>0.000135</td>\n",
       "      <td>0.000127</td>\n",
       "      <td>59078.000000</td>\n",
       "      <td>2</td>\n",
       "    </tr>\n",
       "    <tr>\n",
       "      <th>1994-03-01</th>\n",
       "      <td>59090</td>\n",
       "      <td>0.000203</td>\n",
       "      <td>0.000675</td>\n",
       "      <td>59117.865027</td>\n",
       "      <td>3</td>\n",
       "    </tr>\n",
       "    <tr>\n",
       "      <th>1994-04-01</th>\n",
       "      <td>59105</td>\n",
       "      <td>0.000254</td>\n",
       "      <td>0.000487</td>\n",
       "      <td>59146.643811</td>\n",
       "      <td>4</td>\n",
       "    </tr>\n",
       "    <tr>\n",
       "      <th>1994-05-01</th>\n",
       "      <td>59122</td>\n",
       "      <td>0.000288</td>\n",
       "      <td>0.000016</td>\n",
       "      <td>59147.587990</td>\n",
       "      <td>5</td>\n",
       "    </tr>\n",
       "    <tr>\n",
       "      <th>1994-06-01</th>\n",
       "      <td>59145</td>\n",
       "      <td>0.000389</td>\n",
       "      <td>0.000260</td>\n",
       "      <td>59162.971241</td>\n",
       "      <td>6</td>\n",
       "    </tr>\n",
       "  </tbody>\n",
       "</table>\n",
       "</div>"
      ],
      "text/plain": [
       "             popF        gr  grRANDOM     popRANDOM  month\n",
       "date                                                      \n",
       "1994-02-01  59078  0.000135  0.000127  59078.000000      2\n",
       "1994-03-01  59090  0.000203  0.000675  59117.865027      3\n",
       "1994-04-01  59105  0.000254  0.000487  59146.643811      4\n",
       "1994-05-01  59122  0.000288  0.000016  59147.587990      5\n",
       "1994-06-01  59145  0.000389  0.000260  59162.971241      6"
      ]
     },
     "execution_count": 43,
     "metadata": {},
     "output_type": "execute_result"
    }
   ],
   "source": [
    "df['month'] = df.index.month\n",
    "df.head()"
   ]
  },
  {
   "cell_type": "code",
   "execution_count": 44,
   "metadata": {
    "Collapsed": "false"
   },
   "outputs": [
    {
     "data": {
      "text/plain": [
       "month\n",
       "1     0.000079\n",
       "2    -0.000142\n",
       "3    -0.000139\n",
       "4    -0.000088\n",
       "5    -0.000043\n",
       "6     0.000030\n",
       "7     0.000041\n",
       "8     0.000087\n",
       "9     0.000074\n",
       "10    0.000077\n",
       "11    0.000042\n",
       "12   -0.000008\n",
       "Name: gr, dtype: float64"
      ]
     },
     "execution_count": 44,
     "metadata": {},
     "output_type": "execute_result"
    }
   ],
   "source": [
    "meanGRmonth = (\n",
    "    df.groupby('month')['gr']\n",
    "    .mean()\n",
    "    .apply(lambda x: x - meanGR)\n",
    "              )\n",
    "meanGRmonth"
   ]
  },
  {
   "cell_type": "markdown",
   "metadata": {
    "Collapsed": "false"
   },
   "source": [
    "## Question 10 \n",
    "\n",
    "1. Last observation is 2019-08-01, add a row below for 2019-09-01 we want to estimate \n",
    "\n",
    "    – you can get inspired from this question \n",
    "    \n",
    "    – you want the index to be a date, so use name=pd.to_datetime(’2019-09-01’) "
   ]
  },
  {
   "cell_type": "code",
   "execution_count": 45,
   "metadata": {
    "Collapsed": "false"
   },
   "outputs": [
    {
     "data": {
      "text/html": [
       "<div>\n",
       "<style scoped>\n",
       "    .dataframe tbody tr th:only-of-type {\n",
       "        vertical-align: middle;\n",
       "    }\n",
       "\n",
       "    .dataframe tbody tr th {\n",
       "        vertical-align: top;\n",
       "    }\n",
       "\n",
       "    .dataframe thead th {\n",
       "        text-align: right;\n",
       "    }\n",
       "</style>\n",
       "<table border=\"1\" class=\"dataframe\">\n",
       "  <thead>\n",
       "    <tr style=\"text-align: right;\">\n",
       "      <th></th>\n",
       "      <th>popF</th>\n",
       "      <th>gr</th>\n",
       "      <th>grRANDOM</th>\n",
       "      <th>popRANDOM</th>\n",
       "      <th>month</th>\n",
       "    </tr>\n",
       "    <tr>\n",
       "      <th>date</th>\n",
       "      <th></th>\n",
       "      <th></th>\n",
       "      <th></th>\n",
       "      <th></th>\n",
       "      <th></th>\n",
       "    </tr>\n",
       "  </thead>\n",
       "  <tbody>\n",
       "    <tr>\n",
       "      <th>2019-05-01</th>\n",
       "      <td>66998.0</td>\n",
       "      <td>0.000104</td>\n",
       "      <td>0.000573</td>\n",
       "      <td>66800.699770</td>\n",
       "      <td>5.0</td>\n",
       "    </tr>\n",
       "    <tr>\n",
       "      <th>2019-06-01</th>\n",
       "      <td>67009.0</td>\n",
       "      <td>0.000164</td>\n",
       "      <td>0.000374</td>\n",
       "      <td>66825.712777</td>\n",
       "      <td>6.0</td>\n",
       "    </tr>\n",
       "    <tr>\n",
       "      <th>2019-07-01</th>\n",
       "      <td>67022.0</td>\n",
       "      <td>0.000194</td>\n",
       "      <td>0.000759</td>\n",
       "      <td>66876.420020</td>\n",
       "      <td>7.0</td>\n",
       "    </tr>\n",
       "    <tr>\n",
       "      <th>2019-08-01</th>\n",
       "      <td>67039.0</td>\n",
       "      <td>0.000254</td>\n",
       "      <td>0.000227</td>\n",
       "      <td>66891.600565</td>\n",
       "      <td>8.0</td>\n",
       "    </tr>\n",
       "    <tr>\n",
       "      <th>2019-09-01</th>\n",
       "      <td>NaN</td>\n",
       "      <td>NaN</td>\n",
       "      <td>NaN</td>\n",
       "      <td>NaN</td>\n",
       "      <td>NaN</td>\n",
       "    </tr>\n",
       "  </tbody>\n",
       "</table>\n",
       "</div>"
      ],
      "text/plain": [
       "               popF        gr  grRANDOM     popRANDOM  month\n",
       "date                                                        \n",
       "2019-05-01  66998.0  0.000104  0.000573  66800.699770    5.0\n",
       "2019-06-01  67009.0  0.000164  0.000374  66825.712777    6.0\n",
       "2019-07-01  67022.0  0.000194  0.000759  66876.420020    7.0\n",
       "2019-08-01  67039.0  0.000254  0.000227  66891.600565    8.0\n",
       "2019-09-01      NaN       NaN       NaN           NaN    NaN"
      ]
     },
     "execution_count": 45,
     "metadata": {},
     "output_type": "execute_result"
    }
   ],
   "source": [
    "df_forecast = df.append(pd.Series(name=pd.to_datetime('2019-09-01')))\n",
    "df_forecast.tail()"
   ]
  },
  {
   "cell_type": "code",
   "execution_count": 46,
   "metadata": {
    "Collapsed": "false"
   },
   "outputs": [],
   "source": [
    "#df.index = df.index + pd.DateOffset(months=1)"
   ]
  },
  {
   "cell_type": "markdown",
   "metadata": {
    "Collapsed": "false"
   },
   "source": [
    "## Question 11 \n",
    "\n",
    "1. Project by one month using equation\n",
    "\n",
    "$$\n",
    "E_{3}\\left(\\mathrm{pop}_{3}\\right)=\\operatorname{pop}_{2}(1+\\mathrm{meanGR}+\\mathrm{meanGRmonth_3})\n",
    "$$"
   ]
  },
  {
   "cell_type": "code",
   "execution_count": 47,
   "metadata": {
    "Collapsed": "false"
   },
   "outputs": [
    {
     "data": {
      "text/plain": [
       "7.36827194416845e-05"
      ]
     },
     "execution_count": 47,
     "metadata": {},
     "output_type": "execute_result"
    }
   ],
   "source": [
    "spepmeanGR = meanGRmonth[9]\n",
    "spepmeanGR"
   ]
  },
  {
   "cell_type": "code",
   "execution_count": 48,
   "metadata": {
    "Collapsed": "false"
   },
   "outputs": [
    {
     "data": {
      "text/plain": [
       "date\n",
       "2019-08-01    67071.582399\n",
       "Name: popF, dtype: float64"
      ]
     },
     "execution_count": 48,
     "metadata": {},
     "output_type": "execute_result"
    }
   ],
   "source": [
    "df_forecast[df_forecast.index.isin(['2019-08-01'])\n",
    "   ]['popF'].apply(lambda x: (x * (1 + meanGR + spepmeanGR)))\n"
   ]
  },
  {
   "cell_type": "markdown",
   "metadata": {
    "Collapsed": "false"
   },
   "source": [
    "## Question 12 \n",
    "\n",
    "1. Remove seasonality from the time series: do it on the growth rate when projection the population level. Create a new column you call ’popFds’ for de desesonalized time series. \n",
    "\n",
    "2. Compute the deseasonlized and demean growth rate you call ’grds’. \n",
    "\n",
    "3. plot and drop NAs of this time series. \n",
    "\n",
    "4. Apply an Augmented Dickey-Fuller test, is the time series now stationary? Manual creation of an AR(1) on the deseasonalized and demeaned growth rate. "
   ]
  },
  {
   "cell_type": "markdown",
   "metadata": {
    "Collapsed": "false"
   },
   "source": [
    "move seasonality:  $gr_{t_{0}} = gr_{t_{-1}} * (1 + gr_{t_{0}} - \\text{mean month}_{t_{0}})$"
   ]
  },
  {
   "cell_type": "code",
   "execution_count": 49,
   "metadata": {
    "Collapsed": "false"
   },
   "outputs": [
    {
     "data": {
      "text/html": [
       "<div>\n",
       "<style scoped>\n",
       "    .dataframe tbody tr th:only-of-type {\n",
       "        vertical-align: middle;\n",
       "    }\n",
       "\n",
       "    .dataframe tbody tr th {\n",
       "        vertical-align: top;\n",
       "    }\n",
       "\n",
       "    .dataframe thead th {\n",
       "        text-align: right;\n",
       "    }\n",
       "</style>\n",
       "<table border=\"1\" class=\"dataframe\">\n",
       "  <thead>\n",
       "    <tr style=\"text-align: right;\">\n",
       "      <th></th>\n",
       "      <th>popF</th>\n",
       "      <th>gr</th>\n",
       "      <th>grRANDOM</th>\n",
       "      <th>popRANDOM</th>\n",
       "      <th>month</th>\n",
       "    </tr>\n",
       "    <tr>\n",
       "      <th>date</th>\n",
       "      <th></th>\n",
       "      <th></th>\n",
       "      <th></th>\n",
       "      <th></th>\n",
       "      <th></th>\n",
       "    </tr>\n",
       "  </thead>\n",
       "  <tbody>\n",
       "    <tr>\n",
       "      <th>1994-02-01</th>\n",
       "      <td>59078</td>\n",
       "      <td>0.000135</td>\n",
       "      <td>0.000127</td>\n",
       "      <td>59078.000000</td>\n",
       "      <td>2</td>\n",
       "    </tr>\n",
       "    <tr>\n",
       "      <th>1994-03-01</th>\n",
       "      <td>59090</td>\n",
       "      <td>0.000203</td>\n",
       "      <td>0.000675</td>\n",
       "      <td>59117.865027</td>\n",
       "      <td>3</td>\n",
       "    </tr>\n",
       "    <tr>\n",
       "      <th>1994-04-01</th>\n",
       "      <td>59105</td>\n",
       "      <td>0.000254</td>\n",
       "      <td>0.000487</td>\n",
       "      <td>59146.643811</td>\n",
       "      <td>4</td>\n",
       "    </tr>\n",
       "    <tr>\n",
       "      <th>1994-05-01</th>\n",
       "      <td>59122</td>\n",
       "      <td>0.000288</td>\n",
       "      <td>0.000016</td>\n",
       "      <td>59147.587990</td>\n",
       "      <td>5</td>\n",
       "    </tr>\n",
       "    <tr>\n",
       "      <th>1994-06-01</th>\n",
       "      <td>59145</td>\n",
       "      <td>0.000389</td>\n",
       "      <td>0.000260</td>\n",
       "      <td>59162.971241</td>\n",
       "      <td>6</td>\n",
       "    </tr>\n",
       "  </tbody>\n",
       "</table>\n",
       "</div>"
      ],
      "text/plain": [
       "             popF        gr  grRANDOM     popRANDOM  month\n",
       "date                                                      \n",
       "1994-02-01  59078  0.000135  0.000127  59078.000000      2\n",
       "1994-03-01  59090  0.000203  0.000675  59117.865027      3\n",
       "1994-04-01  59105  0.000254  0.000487  59146.643811      4\n",
       "1994-05-01  59122  0.000288  0.000016  59147.587990      5\n",
       "1994-06-01  59145  0.000389  0.000260  59162.971241      6"
      ]
     },
     "execution_count": 49,
     "metadata": {},
     "output_type": "execute_result"
    }
   ],
   "source": [
    "#meanGRmonth = meanGRmonth.rename(\"demeangr\").reset_index()\n",
    "#meanGRmonth.head()\n",
    "df.head()"
   ]
  },
  {
   "cell_type": "code",
   "execution_count": 50,
   "metadata": {
    "Collapsed": "false"
   },
   "outputs": [],
   "source": [
    "df['popFds'] = df['popF']\n",
    "\n",
    "for i in range(1,len(df)):\n",
    "    df.iloc[i,5] = df.iloc[i-1,5] * (1 + df.iloc[i,1] - meanGRmonth.loc[df.iloc[i,4]])"
   ]
  },
  {
   "cell_type": "code",
   "execution_count": 51,
   "metadata": {
    "Collapsed": "false"
   },
   "outputs": [
    {
     "data": {
      "text/html": [
       "<div>\n",
       "<style scoped>\n",
       "    .dataframe tbody tr th:only-of-type {\n",
       "        vertical-align: middle;\n",
       "    }\n",
       "\n",
       "    .dataframe tbody tr th {\n",
       "        vertical-align: top;\n",
       "    }\n",
       "\n",
       "    .dataframe thead th {\n",
       "        text-align: right;\n",
       "    }\n",
       "</style>\n",
       "<table border=\"1\" class=\"dataframe\">\n",
       "  <thead>\n",
       "    <tr style=\"text-align: right;\">\n",
       "      <th></th>\n",
       "      <th>popF</th>\n",
       "      <th>gr</th>\n",
       "      <th>grRANDOM</th>\n",
       "      <th>popRANDOM</th>\n",
       "      <th>month</th>\n",
       "      <th>popFds</th>\n",
       "    </tr>\n",
       "    <tr>\n",
       "      <th>date</th>\n",
       "      <th></th>\n",
       "      <th></th>\n",
       "      <th></th>\n",
       "      <th></th>\n",
       "      <th></th>\n",
       "      <th></th>\n",
       "    </tr>\n",
       "  </thead>\n",
       "  <tbody>\n",
       "    <tr>\n",
       "      <th>1994-02-01</th>\n",
       "      <td>59078</td>\n",
       "      <td>0.000135</td>\n",
       "      <td>0.000127</td>\n",
       "      <td>59078.000000</td>\n",
       "      <td>2</td>\n",
       "      <td>59078.000000</td>\n",
       "    </tr>\n",
       "    <tr>\n",
       "      <th>1994-03-01</th>\n",
       "      <td>59090</td>\n",
       "      <td>0.000203</td>\n",
       "      <td>0.000675</td>\n",
       "      <td>59117.865027</td>\n",
       "      <td>3</td>\n",
       "      <td>59098.214395</td>\n",
       "    </tr>\n",
       "    <tr>\n",
       "      <th>1994-04-01</th>\n",
       "      <td>59105</td>\n",
       "      <td>0.000254</td>\n",
       "      <td>0.000487</td>\n",
       "      <td>59146.643811</td>\n",
       "      <td>4</td>\n",
       "      <td>59118.402497</td>\n",
       "    </tr>\n",
       "    <tr>\n",
       "      <th>1994-05-01</th>\n",
       "      <td>59122</td>\n",
       "      <td>0.000288</td>\n",
       "      <td>0.000016</td>\n",
       "      <td>59147.587990</td>\n",
       "      <td>5</td>\n",
       "      <td>59137.961504</td>\n",
       "    </tr>\n",
       "    <tr>\n",
       "      <th>1994-06-01</th>\n",
       "      <td>59145</td>\n",
       "      <td>0.000389</td>\n",
       "      <td>0.000260</td>\n",
       "      <td>59162.971241</td>\n",
       "      <td>6</td>\n",
       "      <td>59159.183255</td>\n",
       "    </tr>\n",
       "  </tbody>\n",
       "</table>\n",
       "</div>"
      ],
      "text/plain": [
       "             popF        gr  grRANDOM     popRANDOM  month        popFds\n",
       "date                                                                    \n",
       "1994-02-01  59078  0.000135  0.000127  59078.000000      2  59078.000000\n",
       "1994-03-01  59090  0.000203  0.000675  59117.865027      3  59098.214395\n",
       "1994-04-01  59105  0.000254  0.000487  59146.643811      4  59118.402497\n",
       "1994-05-01  59122  0.000288  0.000016  59147.587990      5  59137.961504\n",
       "1994-06-01  59145  0.000389  0.000260  59162.971241      6  59159.183255"
      ]
     },
     "execution_count": 51,
     "metadata": {},
     "output_type": "execute_result"
    }
   ],
   "source": [
    "df.head()"
   ]
  },
  {
   "cell_type": "markdown",
   "metadata": {
    "Collapsed": "false"
   },
   "source": [
    "Demean and deseasonlized serie: $ $ "
   ]
  },
  {
   "cell_type": "code",
   "execution_count": 52,
   "metadata": {
    "Collapsed": "false"
   },
   "outputs": [],
   "source": [
    "df['grds'] = (df.popFds - df.popFds.shift(1)) / df.popFds.shift(1) - \\\n",
    "    ((df.popFds - df.popFds.shift(1)) / df.popFds.shift(1)).mean()\n",
    "#df = df.dropna()"
   ]
  },
  {
   "cell_type": "code",
   "execution_count": 53,
   "metadata": {
    "Collapsed": "false"
   },
   "outputs": [
    {
     "data": {
      "text/html": [
       "<div>\n",
       "<style scoped>\n",
       "    .dataframe tbody tr th:only-of-type {\n",
       "        vertical-align: middle;\n",
       "    }\n",
       "\n",
       "    .dataframe tbody tr th {\n",
       "        vertical-align: top;\n",
       "    }\n",
       "\n",
       "    .dataframe thead th {\n",
       "        text-align: right;\n",
       "    }\n",
       "</style>\n",
       "<table border=\"1\" class=\"dataframe\">\n",
       "  <thead>\n",
       "    <tr style=\"text-align: right;\">\n",
       "      <th></th>\n",
       "      <th>popF</th>\n",
       "      <th>gr</th>\n",
       "      <th>grRANDOM</th>\n",
       "      <th>popRANDOM</th>\n",
       "      <th>month</th>\n",
       "      <th>popFds</th>\n",
       "      <th>grds</th>\n",
       "    </tr>\n",
       "    <tr>\n",
       "      <th>date</th>\n",
       "      <th></th>\n",
       "      <th></th>\n",
       "      <th></th>\n",
       "      <th></th>\n",
       "      <th></th>\n",
       "      <th></th>\n",
       "      <th></th>\n",
       "    </tr>\n",
       "  </thead>\n",
       "  <tbody>\n",
       "    <tr>\n",
       "      <th>1994-02-01</th>\n",
       "      <td>59078</td>\n",
       "      <td>0.000135</td>\n",
       "      <td>0.000127</td>\n",
       "      <td>59078.000000</td>\n",
       "      <td>2</td>\n",
       "      <td>59078.000000</td>\n",
       "      <td>NaN</td>\n",
       "    </tr>\n",
       "    <tr>\n",
       "      <th>1994-03-01</th>\n",
       "      <td>59090</td>\n",
       "      <td>0.000203</td>\n",
       "      <td>0.000675</td>\n",
       "      <td>59117.865027</td>\n",
       "      <td>3</td>\n",
       "      <td>59098.214395</td>\n",
       "      <td>-0.000071</td>\n",
       "    </tr>\n",
       "    <tr>\n",
       "      <th>1994-04-01</th>\n",
       "      <td>59105</td>\n",
       "      <td>0.000254</td>\n",
       "      <td>0.000487</td>\n",
       "      <td>59146.643811</td>\n",
       "      <td>4</td>\n",
       "      <td>59118.402497</td>\n",
       "      <td>-0.000071</td>\n",
       "    </tr>\n",
       "    <tr>\n",
       "      <th>1994-05-01</th>\n",
       "      <td>59122</td>\n",
       "      <td>0.000288</td>\n",
       "      <td>0.000016</td>\n",
       "      <td>59147.587990</td>\n",
       "      <td>5</td>\n",
       "      <td>59137.961504</td>\n",
       "      <td>-0.000082</td>\n",
       "    </tr>\n",
       "    <tr>\n",
       "      <th>1994-06-01</th>\n",
       "      <td>59145</td>\n",
       "      <td>0.000389</td>\n",
       "      <td>0.000260</td>\n",
       "      <td>59162.971241</td>\n",
       "      <td>6</td>\n",
       "      <td>59159.183255</td>\n",
       "      <td>-0.000054</td>\n",
       "    </tr>\n",
       "  </tbody>\n",
       "</table>\n",
       "</div>"
      ],
      "text/plain": [
       "             popF        gr  grRANDOM     popRANDOM  month        popFds  \\\n",
       "date                                                                       \n",
       "1994-02-01  59078  0.000135  0.000127  59078.000000      2  59078.000000   \n",
       "1994-03-01  59090  0.000203  0.000675  59117.865027      3  59098.214395   \n",
       "1994-04-01  59105  0.000254  0.000487  59146.643811      4  59118.402497   \n",
       "1994-05-01  59122  0.000288  0.000016  59147.587990      5  59137.961504   \n",
       "1994-06-01  59145  0.000389  0.000260  59162.971241      6  59159.183255   \n",
       "\n",
       "                grds  \n",
       "date                  \n",
       "1994-02-01       NaN  \n",
       "1994-03-01 -0.000071  \n",
       "1994-04-01 -0.000071  \n",
       "1994-05-01 -0.000082  \n",
       "1994-06-01 -0.000054  "
      ]
     },
     "execution_count": 53,
     "metadata": {},
     "output_type": "execute_result"
    }
   ],
   "source": [
    "df.head()"
   ]
  },
  {
   "cell_type": "code",
   "execution_count": 54,
   "metadata": {
    "Collapsed": "false"
   },
   "outputs": [],
   "source": [
    "#df['popFds'].pct_change(1)/(df['popFds'].shift(1) - df['popFds'].pct_change(1)) /  df['popFds'].shift(1).mean()"
   ]
  },
  {
   "cell_type": "code",
   "execution_count": 56,
   "metadata": {
    "Collapsed": "false"
   },
   "outputs": [
    {
     "data": {
      "text/plain": [
       "<matplotlib.axes._subplots.AxesSubplot at 0x1c192e7748>"
      ]
     },
     "execution_count": 56,
     "metadata": {},
     "output_type": "execute_result"
    },
    {
     "data": {
      "image/png": "[encoded data removed]",
      "text/plain": [
       "<Figure size 432x288 with 1 Axes>"
      ]
     },
     "metadata": {
      "needs_background": "light"
     },
     "output_type": "display_data"
    }
   ],
   "source": [
    "df['grds'].plot()"
   ]
  },
  {
   "cell_type": "markdown",
   "metadata": {
    "Collapsed": "false"
   },
   "source": [
    "Apply an Augmented Dickey-Fuller test, is the time series now stationary? "
   ]
  },
  {
   "cell_type": "code",
   "execution_count": null,
   "metadata": {
    "Collapsed": "false"
   },
   "outputs": [],
   "source": [
    "adfuller(df['grds'], regression='nc')"
   ]
  },
  {
   "cell_type": "markdown",
   "metadata": {
    "Collapsed": "false"
   },
   "source": []
  },
  {
   "cell_type": "markdown",
   "metadata": {
    "Collapsed": "false"
   },
   "source": [
    "## Question 13 \n",
    "\n",
    "Manual creation of an AR(1) on the deseasonalized and demeaned growth rate.\n",
    "\n",
    "1. Create a lag of the deseasonalized and demeaned growth rate you call ’grds1’ : \n",
    "\n",
    "    – Use the shift(1) command \n",
    "\n",
    "2. Perform an OLS of grds on grds1 and show the result of that linear regression \n",
    "\n",
    "3. Using the parameter of ’grds1’, project the grds into a variable you call ’grdsAR1’ \n",
    "\n",
    "4. Compute the residuals of that model \n",
    "\n",
    "5. Compute the standad deviation of the residuals of the AR(1) created by OLS "
   ]
  },
  {
   "cell_type": "code",
   "execution_count": 57,
   "metadata": {
    "Collapsed": "false"
   },
   "outputs": [],
   "source": [
    "df['grdslag'] = df['grds'].shift(1)"
   ]
  },
  {
   "cell_type": "markdown",
   "metadata": {
    "Collapsed": "false"
   },
   "source": [
    "**Process AR**\n",
    "\n",
    "$$\n",
    "y _ { t } = \\mu + \\gamma y _ { t - 1 } + \\epsilon _ { t }\n",
    "$$\n",
    "\n",
    "Autoregressive (AR) models are models in which the value of a variable in one period is\n",
    "related to its values in previous periods."
   ]
  },
  {
   "cell_type": "code",
   "execution_count": 60,
   "metadata": {
    "Collapsed": "false"
   },
   "outputs": [
    {
     "data": {
      "text/html": [
       "<table class=\"simpletable\">\n",
       "<caption>OLS Regression Results</caption>\n",
       "<tr>\n",
       "  <th>Dep. Variable:</th>          <td>grds</td>       <th>  R-squared:         </th> <td>   0.158</td>\n",
       "</tr>\n",
       "<tr>\n",
       "  <th>Model:</th>                   <td>OLS</td>       <th>  Adj. R-squared:    </th> <td>   0.155</td>\n",
       "</tr>\n",
       "<tr>\n",
       "  <th>Method:</th>             <td>Least Squares</td>  <th>  F-statistic:       </th> <td>   56.90</td>\n",
       "</tr>\n",
       "<tr>\n",
       "  <th>Date:</th>             <td>Sat, 21 Sep 2019</td> <th>  Prob (F-statistic):</th> <td>5.38e-13</td>\n",
       "</tr>\n",
       "<tr>\n",
       "  <th>Time:</th>                 <td>18:58:51</td>     <th>  Log-Likelihood:    </th> <td>  2122.5</td>\n",
       "</tr>\n",
       "<tr>\n",
       "  <th>No. Observations:</th>      <td>   305</td>      <th>  AIC:               </th> <td>  -4241.</td>\n",
       "</tr>\n",
       "<tr>\n",
       "  <th>Df Residuals:</th>          <td>   303</td>      <th>  BIC:               </th> <td>  -4234.</td>\n",
       "</tr>\n",
       "<tr>\n",
       "  <th>Df Model:</th>              <td>     1</td>      <th>                     </th>     <td> </td>   \n",
       "</tr>\n",
       "<tr>\n",
       "  <th>Covariance Type:</th>      <td>nonrobust</td>    <th>                     </th>     <td> </td>   \n",
       "</tr>\n",
       "</table>\n",
       "<table class=\"simpletable\">\n",
       "<tr>\n",
       "      <td></td>         <th>coef</th>     <th>std err</th>      <th>t</th>      <th>P>|t|</th>  <th>[0.025</th>    <th>0.975]</th>  \n",
       "</tr>\n",
       "<tr>\n",
       "  <th>Intercept</th> <td>-8.923e-08</td> <td> 1.32e-05</td> <td>   -0.007</td> <td> 0.995</td> <td>-2.61e-05</td> <td> 2.59e-05</td>\n",
       "</tr>\n",
       "<tr>\n",
       "  <th>grdslag</th>   <td>    0.3982</td> <td>    0.053</td> <td>    7.543</td> <td> 0.000</td> <td>    0.294</td> <td>    0.502</td>\n",
       "</tr>\n",
       "</table>\n",
       "<table class=\"simpletable\">\n",
       "<tr>\n",
       "  <th>Omnibus:</th>       <td>521.994</td> <th>  Durbin-Watson:     </th>  <td>   2.208</td> \n",
       "</tr>\n",
       "<tr>\n",
       "  <th>Prob(Omnibus):</th> <td> 0.000</td>  <th>  Jarque-Bera (JB):  </th> <td>259555.571</td>\n",
       "</tr>\n",
       "<tr>\n",
       "  <th>Skew:</th>          <td> 9.231</td>  <th>  Prob(JB):          </th>  <td>    0.00</td> \n",
       "</tr>\n",
       "<tr>\n",
       "  <th>Kurtosis:</th>      <td>144.715</td> <th>  Cond. No.          </th>  <td>4.00e+03</td> \n",
       "</tr>\n",
       "</table><br/><br/>Warnings:<br/>[1] Standard Errors assume that the covariance matrix of the errors is correctly specified.<br/>[2] The condition number is large,  4e+03. This might indicate that there are<br/>strong multicollinearity or other numerical problems."
      ],
      "text/plain": [
       "<class 'statsmodels.iolib.summary.Summary'>\n",
       "\"\"\"\n",
       "                            OLS Regression Results                            \n",
       "==============================================================================\n",
       "Dep. Variable:                   grds   R-squared:                       0.158\n",
       "Model:                            OLS   Adj. R-squared:                  0.155\n",
       "Method:                 Least Squares   F-statistic:                     56.90\n",
       "Date:                Sat, 21 Sep 2019   Prob (F-statistic):           5.38e-13\n",
       "Time:                        18:58:51   Log-Likelihood:                 2122.5\n",
       "No. Observations:                 305   AIC:                            -4241.\n",
       "Df Residuals:                     303   BIC:                            -4234.\n",
       "Df Model:                           1                                         \n",
       "Covariance Type:            nonrobust                                         \n",
       "==============================================================================\n",
       "                 coef    std err          t      P>|t|      [0.025      0.975]\n",
       "------------------------------------------------------------------------------\n",
       "Intercept  -8.923e-08   1.32e-05     -0.007      0.995   -2.61e-05    2.59e-05\n",
       "grdslag        0.3982      0.053      7.543      0.000       0.294       0.502\n",
       "==============================================================================\n",
       "Omnibus:                      521.994   Durbin-Watson:                   2.208\n",
       "Prob(Omnibus):                  0.000   Jarque-Bera (JB):           259555.571\n",
       "Skew:                           9.231   Prob(JB):                         0.00\n",
       "Kurtosis:                     144.715   Cond. No.                     4.00e+03\n",
       "==============================================================================\n",
       "\n",
       "Warnings:\n",
       "[1] Standard Errors assume that the covariance matrix of the errors is correctly specified.\n",
       "[2] The condition number is large,  4e+03. This might indicate that there are\n",
       "strong multicollinearity or other numerical problems.\n",
       "\"\"\""
      ]
     },
     "execution_count": 60,
     "metadata": {},
     "output_type": "execute_result"
    }
   ],
   "source": [
    "olsAR1 = smf.ols('grds ~ grdslag',data=df).fit()\n",
    "olsAR1.summary()"
   ]
  },
  {
   "cell_type": "code",
   "execution_count": 63,
   "metadata": {
    "Collapsed": "false"
   },
   "outputs": [
    {
     "data": {
      "text/html": [
       "<table class=\"simpletable\">\n",
       "<caption>OLS Regression Results</caption>\n",
       "<tr>\n",
       "  <th>Dep. Variable:</th>          <td>grds</td>       <th>  R-squared (uncentered):</th>      <td>   0.158</td>\n",
       "</tr>\n",
       "<tr>\n",
       "  <th>Model:</th>                   <td>OLS</td>       <th>  Adj. R-squared (uncentered):</th> <td>   0.155</td>\n",
       "</tr>\n",
       "<tr>\n",
       "  <th>Method:</th>             <td>Least Squares</td>  <th>  F-statistic:       </th>          <td>   57.09</td>\n",
       "</tr>\n",
       "<tr>\n",
       "  <th>Date:</th>             <td>Sat, 21 Sep 2019</td> <th>  Prob (F-statistic):</th>          <td>4.93e-13</td>\n",
       "</tr>\n",
       "<tr>\n",
       "  <th>Time:</th>                 <td>19:07:12</td>     <th>  Log-Likelihood:    </th>          <td>  2122.5</td>\n",
       "</tr>\n",
       "<tr>\n",
       "  <th>No. Observations:</th>      <td>   305</td>      <th>  AIC:               </th>          <td>  -4243.</td>\n",
       "</tr>\n",
       "<tr>\n",
       "  <th>Df Residuals:</th>          <td>   304</td>      <th>  BIC:               </th>          <td>  -4239.</td>\n",
       "</tr>\n",
       "<tr>\n",
       "  <th>Df Model:</th>              <td>     1</td>      <th>                     </th>              <td> </td>   \n",
       "</tr>\n",
       "<tr>\n",
       "  <th>Covariance Type:</th>      <td>nonrobust</td>    <th>                     </th>              <td> </td>   \n",
       "</tr>\n",
       "</table>\n",
       "<table class=\"simpletable\">\n",
       "<tr>\n",
       "     <td></td>        <th>coef</th>     <th>std err</th>      <th>t</th>      <th>P>|t|</th>  <th>[0.025</th>    <th>0.975]</th>  \n",
       "</tr>\n",
       "<tr>\n",
       "  <th>grdslag</th> <td>    0.3982</td> <td>    0.053</td> <td>    7.556</td> <td> 0.000</td> <td>    0.294</td> <td>    0.502</td>\n",
       "</tr>\n",
       "</table>\n",
       "<table class=\"simpletable\">\n",
       "<tr>\n",
       "  <th>Omnibus:</th>       <td>521.994</td> <th>  Durbin-Watson:     </th>  <td>   2.208</td> \n",
       "</tr>\n",
       "<tr>\n",
       "  <th>Prob(Omnibus):</th> <td> 0.000</td>  <th>  Jarque-Bera (JB):  </th> <td>259555.482</td>\n",
       "</tr>\n",
       "<tr>\n",
       "  <th>Skew:</th>          <td> 9.231</td>  <th>  Prob(JB):          </th>  <td>    0.00</td> \n",
       "</tr>\n",
       "<tr>\n",
       "  <th>Kurtosis:</th>      <td>144.715</td> <th>  Cond. No.          </th>  <td>    1.00</td> \n",
       "</tr>\n",
       "</table><br/><br/>Warnings:<br/>[1] Standard Errors assume that the covariance matrix of the errors is correctly specified."
      ],
      "text/plain": [
       "<class 'statsmodels.iolib.summary.Summary'>\n",
       "\"\"\"\n",
       "                                 OLS Regression Results                                \n",
       "=======================================================================================\n",
       "Dep. Variable:                   grds   R-squared (uncentered):                   0.158\n",
       "Model:                            OLS   Adj. R-squared (uncentered):              0.155\n",
       "Method:                 Least Squares   F-statistic:                              57.09\n",
       "Date:                Sat, 21 Sep 2019   Prob (F-statistic):                    4.93e-13\n",
       "Time:                        19:07:12   Log-Likelihood:                          2122.5\n",
       "No. Observations:                 305   AIC:                                     -4243.\n",
       "Df Residuals:                     304   BIC:                                     -4239.\n",
       "Df Model:                           1                                                  \n",
       "Covariance Type:            nonrobust                                                  \n",
       "==============================================================================\n",
       "                 coef    std err          t      P>|t|      [0.025      0.975]\n",
       "------------------------------------------------------------------------------\n",
       "grdslag        0.3982      0.053      7.556      0.000       0.294       0.502\n",
       "==============================================================================\n",
       "Omnibus:                      521.994   Durbin-Watson:                   2.208\n",
       "Prob(Omnibus):                  0.000   Jarque-Bera (JB):           259555.482\n",
       "Skew:                           9.231   Prob(JB):                         0.00\n",
       "Kurtosis:                     144.715   Cond. No.                         1.00\n",
       "==============================================================================\n",
       "\n",
       "Warnings:\n",
       "[1] Standard Errors assume that the covariance matrix of the errors is correctly specified.\n",
       "\"\"\""
      ]
     },
     "execution_count": 63,
     "metadata": {},
     "output_type": "execute_result"
    }
   ],
   "source": [
    "olsAR1 = smf.ols('grds ~ grdslag - 1',data=df).fit()\n",
    "olsAR1.summary()"
   ]
  },
  {
   "cell_type": "code",
   "execution_count": 65,
   "metadata": {
    "Collapsed": "false"
   },
   "outputs": [
    {
     "data": {
      "text/plain": [
       "<matplotlib.axes._subplots.AxesSubplot at 0x1c19156da0>"
      ]
     },
     "execution_count": 65,
     "metadata": {},
     "output_type": "execute_result"
    },
    {
     "data": {
      "image/png": "[encoded data removed]",
      "text/plain": [
       "<Figure size 432x288 with 1 Axes>"
      ]
     },
     "metadata": {
      "needs_background": "light"
     },
     "output_type": "display_data"
    }
   ],
   "source": [
    "df['grds'].plot()"
   ]
  },
  {
   "cell_type": "code",
   "execution_count": 79,
   "metadata": {
    "Collapsed": "false"
   },
   "outputs": [
    {
     "data": {
      "text/plain": [
       "date\n",
       "1994-02-01         NaN\n",
       "1994-03-01         NaN\n",
       "1994-04-01   -0.000071\n",
       "1994-05-01   -0.000071\n",
       "1994-06-01   -0.000082\n",
       "Name: grdslag, dtype: float64"
      ]
     },
     "execution_count": 79,
     "metadata": {},
     "output_type": "execute_result"
    }
   ],
   "source": [
    "df['grdslag'].head()"
   ]
  },
  {
   "cell_type": "code",
   "execution_count": 80,
   "metadata": {},
   "outputs": [
    {
     "data": {
      "text/plain": [
       "0.3981993187065122"
      ]
     },
     "execution_count": 80,
     "metadata": {},
     "output_type": "execute_result"
    }
   ],
   "source": [
    "olsAR1.params[0]"
   ]
  },
  {
   "cell_type": "code",
   "execution_count": 78,
   "metadata": {
    "Collapsed": "false"
   },
   "outputs": [
    {
     "data": {
      "text/plain": [
       "-2.82722e-05"
      ]
     },
     "execution_count": 78,
     "metadata": {},
     "output_type": "execute_result"
    }
   ],
   "source": [
    "-0.000071 * 0.3982"
   ]
  },
  {
   "cell_type": "markdown",
   "metadata": {
    "Collapsed": "false"
   },
   "source": [
    "$y_t = 0 + .3982 * y_{t_{-1}}$"
   ]
  },
  {
   "cell_type": "code",
   "execution_count": 81,
   "metadata": {
    "Collapsed": "false"
   },
   "outputs": [
    {
     "data": {
      "text/plain": [
       "date\n",
       "1994-02-01         NaN\n",
       "1994-03-01         NaN\n",
       "1994-04-01   -0.000028\n",
       "1994-05-01   -0.000028\n",
       "1994-06-01   -0.000033\n",
       "Name: grdslag, dtype: float64"
      ]
     },
     "execution_count": 81,
     "metadata": {},
     "output_type": "execute_result"
    }
   ],
   "source": [
    "df['grdslag'].apply(lambda x: x * olsAR1.params[0]).head()"
   ]
  },
  {
   "cell_type": "code",
   "execution_count": 82,
   "metadata": {
    "Collapsed": "false"
   },
   "outputs": [
    {
     "data": {
      "text/html": [
       "<div>\n",
       "<style scoped>\n",
       "    .dataframe tbody tr th:only-of-type {\n",
       "        vertical-align: middle;\n",
       "    }\n",
       "\n",
       "    .dataframe tbody tr th {\n",
       "        vertical-align: top;\n",
       "    }\n",
       "\n",
       "    .dataframe thead th {\n",
       "        text-align: right;\n",
       "    }\n",
       "</style>\n",
       "<table border=\"1\" class=\"dataframe\">\n",
       "  <thead>\n",
       "    <tr style=\"text-align: right;\">\n",
       "      <th></th>\n",
       "      <th>popF</th>\n",
       "      <th>gr</th>\n",
       "      <th>grRANDOM</th>\n",
       "      <th>popRANDOM</th>\n",
       "      <th>month</th>\n",
       "      <th>popFds</th>\n",
       "      <th>grds</th>\n",
       "      <th>grdslag</th>\n",
       "      <th>grdsAR1</th>\n",
       "    </tr>\n",
       "    <tr>\n",
       "      <th>date</th>\n",
       "      <th></th>\n",
       "      <th></th>\n",
       "      <th></th>\n",
       "      <th></th>\n",
       "      <th></th>\n",
       "      <th></th>\n",
       "      <th></th>\n",
       "      <th></th>\n",
       "      <th></th>\n",
       "    </tr>\n",
       "  </thead>\n",
       "  <tbody>\n",
       "    <tr>\n",
       "      <th>1994-02-01</th>\n",
       "      <td>59078</td>\n",
       "      <td>0.000135</td>\n",
       "      <td>0.000127</td>\n",
       "      <td>59078.000000</td>\n",
       "      <td>2</td>\n",
       "      <td>59078.000000</td>\n",
       "      <td>NaN</td>\n",
       "      <td>NaN</td>\n",
       "      <td>NaN</td>\n",
       "    </tr>\n",
       "    <tr>\n",
       "      <th>1994-03-01</th>\n",
       "      <td>59090</td>\n",
       "      <td>0.000203</td>\n",
       "      <td>0.000675</td>\n",
       "      <td>59117.865027</td>\n",
       "      <td>3</td>\n",
       "      <td>59098.214395</td>\n",
       "      <td>-0.000071</td>\n",
       "      <td>NaN</td>\n",
       "      <td>NaN</td>\n",
       "    </tr>\n",
       "    <tr>\n",
       "      <th>1994-04-01</th>\n",
       "      <td>59105</td>\n",
       "      <td>0.000254</td>\n",
       "      <td>0.000487</td>\n",
       "      <td>59146.643811</td>\n",
       "      <td>4</td>\n",
       "      <td>59118.402497</td>\n",
       "      <td>-0.000071</td>\n",
       "      <td>-0.000071</td>\n",
       "      <td>-0.000028</td>\n",
       "    </tr>\n",
       "    <tr>\n",
       "      <th>1994-05-01</th>\n",
       "      <td>59122</td>\n",
       "      <td>0.000288</td>\n",
       "      <td>0.000016</td>\n",
       "      <td>59147.587990</td>\n",
       "      <td>5</td>\n",
       "      <td>59137.961504</td>\n",
       "      <td>-0.000082</td>\n",
       "      <td>-0.000071</td>\n",
       "      <td>-0.000028</td>\n",
       "    </tr>\n",
       "    <tr>\n",
       "      <th>1994-06-01</th>\n",
       "      <td>59145</td>\n",
       "      <td>0.000389</td>\n",
       "      <td>0.000260</td>\n",
       "      <td>59162.971241</td>\n",
       "      <td>6</td>\n",
       "      <td>59159.183255</td>\n",
       "      <td>-0.000054</td>\n",
       "      <td>-0.000082</td>\n",
       "      <td>-0.000033</td>\n",
       "    </tr>\n",
       "  </tbody>\n",
       "</table>\n",
       "</div>"
      ],
      "text/plain": [
       "             popF        gr  grRANDOM     popRANDOM  month        popFds  \\\n",
       "date                                                                       \n",
       "1994-02-01  59078  0.000135  0.000127  59078.000000      2  59078.000000   \n",
       "1994-03-01  59090  0.000203  0.000675  59117.865027      3  59098.214395   \n",
       "1994-04-01  59105  0.000254  0.000487  59146.643811      4  59118.402497   \n",
       "1994-05-01  59122  0.000288  0.000016  59147.587990      5  59137.961504   \n",
       "1994-06-01  59145  0.000389  0.000260  59162.971241      6  59159.183255   \n",
       "\n",
       "                grds   grdslag   grdsAR1  \n",
       "date                                      \n",
       "1994-02-01       NaN       NaN       NaN  \n",
       "1994-03-01 -0.000071       NaN       NaN  \n",
       "1994-04-01 -0.000071 -0.000071 -0.000028  \n",
       "1994-05-01 -0.000082 -0.000071 -0.000028  \n",
       "1994-06-01 -0.000054 -0.000082 -0.000033  "
      ]
     },
     "execution_count": 82,
     "metadata": {},
     "output_type": "execute_result"
    }
   ],
   "source": [
    "df['grdsAR1'] = olsAR1.predict(df['grdslag'])\n",
    "df.head()"
   ]
  },
  {
   "cell_type": "code",
   "execution_count": 83,
   "metadata": {
    "Collapsed": "false"
   },
   "outputs": [
    {
     "data": {
      "text/html": [
       "<div>\n",
       "<style scoped>\n",
       "    .dataframe tbody tr th:only-of-type {\n",
       "        vertical-align: middle;\n",
       "    }\n",
       "\n",
       "    .dataframe tbody tr th {\n",
       "        vertical-align: top;\n",
       "    }\n",
       "\n",
       "    .dataframe thead th {\n",
       "        text-align: right;\n",
       "    }\n",
       "</style>\n",
       "<table border=\"1\" class=\"dataframe\">\n",
       "  <thead>\n",
       "    <tr style=\"text-align: right;\">\n",
       "      <th></th>\n",
       "      <th>popF</th>\n",
       "      <th>gr</th>\n",
       "      <th>grRANDOM</th>\n",
       "      <th>popRANDOM</th>\n",
       "      <th>month</th>\n",
       "      <th>popFds</th>\n",
       "      <th>grds</th>\n",
       "      <th>grdslag</th>\n",
       "      <th>grdsAR1</th>\n",
       "      <th>AR1residuals</th>\n",
       "    </tr>\n",
       "    <tr>\n",
       "      <th>date</th>\n",
       "      <th></th>\n",
       "      <th></th>\n",
       "      <th></th>\n",
       "      <th></th>\n",
       "      <th></th>\n",
       "      <th></th>\n",
       "      <th></th>\n",
       "      <th></th>\n",
       "      <th></th>\n",
       "      <th></th>\n",
       "    </tr>\n",
       "  </thead>\n",
       "  <tbody>\n",
       "    <tr>\n",
       "      <th>1994-02-01</th>\n",
       "      <td>59078</td>\n",
       "      <td>0.000135</td>\n",
       "      <td>0.000127</td>\n",
       "      <td>59078.000000</td>\n",
       "      <td>2</td>\n",
       "      <td>59078.000000</td>\n",
       "      <td>NaN</td>\n",
       "      <td>NaN</td>\n",
       "      <td>NaN</td>\n",
       "      <td>NaN</td>\n",
       "    </tr>\n",
       "    <tr>\n",
       "      <th>1994-03-01</th>\n",
       "      <td>59090</td>\n",
       "      <td>0.000203</td>\n",
       "      <td>0.000675</td>\n",
       "      <td>59117.865027</td>\n",
       "      <td>3</td>\n",
       "      <td>59098.214395</td>\n",
       "      <td>-0.000071</td>\n",
       "      <td>NaN</td>\n",
       "      <td>NaN</td>\n",
       "      <td>NaN</td>\n",
       "    </tr>\n",
       "    <tr>\n",
       "      <th>1994-04-01</th>\n",
       "      <td>59105</td>\n",
       "      <td>0.000254</td>\n",
       "      <td>0.000487</td>\n",
       "      <td>59146.643811</td>\n",
       "      <td>4</td>\n",
       "      <td>59118.402497</td>\n",
       "      <td>-0.000071</td>\n",
       "      <td>-0.000071</td>\n",
       "      <td>-0.000028</td>\n",
       "      <td>-0.000043</td>\n",
       "    </tr>\n",
       "    <tr>\n",
       "      <th>1994-05-01</th>\n",
       "      <td>59122</td>\n",
       "      <td>0.000288</td>\n",
       "      <td>0.000016</td>\n",
       "      <td>59147.587990</td>\n",
       "      <td>5</td>\n",
       "      <td>59137.961504</td>\n",
       "      <td>-0.000082</td>\n",
       "      <td>-0.000071</td>\n",
       "      <td>-0.000028</td>\n",
       "      <td>-0.000054</td>\n",
       "    </tr>\n",
       "    <tr>\n",
       "      <th>1994-06-01</th>\n",
       "      <td>59145</td>\n",
       "      <td>0.000389</td>\n",
       "      <td>0.000260</td>\n",
       "      <td>59162.971241</td>\n",
       "      <td>6</td>\n",
       "      <td>59159.183255</td>\n",
       "      <td>-0.000054</td>\n",
       "      <td>-0.000082</td>\n",
       "      <td>-0.000033</td>\n",
       "      <td>-0.000021</td>\n",
       "    </tr>\n",
       "  </tbody>\n",
       "</table>\n",
       "</div>"
      ],
      "text/plain": [
       "             popF        gr  grRANDOM     popRANDOM  month        popFds  \\\n",
       "date                                                                       \n",
       "1994-02-01  59078  0.000135  0.000127  59078.000000      2  59078.000000   \n",
       "1994-03-01  59090  0.000203  0.000675  59117.865027      3  59098.214395   \n",
       "1994-04-01  59105  0.000254  0.000487  59146.643811      4  59118.402497   \n",
       "1994-05-01  59122  0.000288  0.000016  59147.587990      5  59137.961504   \n",
       "1994-06-01  59145  0.000389  0.000260  59162.971241      6  59159.183255   \n",
       "\n",
       "                grds   grdslag   grdsAR1  AR1residuals  \n",
       "date                                                    \n",
       "1994-02-01       NaN       NaN       NaN           NaN  \n",
       "1994-03-01 -0.000071       NaN       NaN           NaN  \n",
       "1994-04-01 -0.000071 -0.000071 -0.000028     -0.000043  \n",
       "1994-05-01 -0.000082 -0.000071 -0.000028     -0.000054  \n",
       "1994-06-01 -0.000054 -0.000082 -0.000033     -0.000021  "
      ]
     },
     "execution_count": 83,
     "metadata": {},
     "output_type": "execute_result"
    }
   ],
   "source": [
    "df['AR1residuals'] = df['grds'] - df['grdsAR1']\n",
    "df.head()"
   ]
  },
  {
   "cell_type": "code",
   "execution_count": 84,
   "metadata": {
    "Collapsed": "false"
   },
   "outputs": [
    {
     "data": {
      "text/plain": [
       "0.00023023150482036459"
      ]
     },
     "execution_count": 84,
     "metadata": {},
     "output_type": "execute_result"
    }
   ],
   "source": [
    "df['AR1residuals'].std()"
   ]
  },
  {
   "cell_type": "markdown",
   "metadata": {
    "Collapsed": "false"
   },
   "source": [
    "## Question 14 \n",
    "\n",
    "1. Fit an AR(1) on ’grds’ using the ARIMA command \n",
    "\n",
    "2. Compute the standard deviation of the residuals of that model, compare it to the standard deviation of the AR(1) model by OLS "
   ]
  },
  {
   "cell_type": "code",
   "execution_count": null,
   "metadata": {
    "Collapsed": "false"
   },
   "outputs": [],
   "source": [
    "from statsmodels.tsa.arima_model import ARIMA"
   ]
  },
  {
   "cell_type": "code",
   "execution_count": null,
   "metadata": {
    "Collapsed": "false"
   },
   "outputs": [],
   "source": [
    "modelAR1 = ARIMA(df['grds'], order=(1,0,0))\n",
    "model_fitAR1 = modelAR1.fit(disp=0)\n",
    "model_fitAR1.resid.std()"
   ]
  },
  {
   "cell_type": "markdown",
   "metadata": {
    "Collapsed": "false"
   },
   "source": [
    "## Question 15 \n",
    "\n",
    "1. Plot the partial autocorrelation function and the autocorrelation function of ’grds’, which AR order and MA order would you suggest? \n",
    "\n",
    "2. compare your choice with the suggestions based on AIC and BIC \n",
    "\n",
    "3. Fit an ARIMA model on ’grds’ and compute the standard deviation of the residuals, how does it compare to the AR(1) by OLS and AR(1) by ML (to be more precise, by default, the estimation method is ’css-mle’ detailed here)? "
   ]
  },
  {
   "cell_type": "code",
   "execution_count": null,
   "metadata": {
    "Collapsed": "false"
   },
   "outputs": [],
   "source": [
    "from statsmodels.graphics.tsaplots import plot_acf, plot_pacf"
   ]
  },
  {
   "cell_type": "code",
   "execution_count": null,
   "metadata": {
    "Collapsed": "false"
   },
   "outputs": [],
   "source": [
    "def PAC(y, lag = 10): \n",
    "    f, (ax1, ax2) = plt.subplots(2, sharex=True)\n",
    "    plot_acf(y, ax=ax1, lags = lag)\n",
    "    plot_pacf(y, ax=ax2, lags = lag)\n",
    "    plt.show()"
   ]
  },
  {
   "cell_type": "code",
   "execution_count": null,
   "metadata": {
    "Collapsed": "false"
   },
   "outputs": [],
   "source": [
    "PAC(y = df['grds'], lag = 10)"
   ]
  },
  {
   "cell_type": "code",
   "execution_count": null,
   "metadata": {
    "Collapsed": "false"
   },
   "outputs": [],
   "source": [
    "# Fit an ARMA with the procedure and test with AIC or BIC\n",
    "ARMAfit = sm.tsa.arma_order_select_ic(df['grds'], ic=['aic', 'bic'], trend='nc')\n",
    "ARMAfit.aic_min_order\n"
   ]
  },
  {
   "cell_type": "code",
   "execution_count": null,
   "metadata": {
    "Collapsed": "false"
   },
   "outputs": [],
   "source": [
    "ARMAfit.bic_min_order"
   ]
  },
  {
   "cell_type": "code",
   "execution_count": null,
   "metadata": {
    "Collapsed": "false"
   },
   "outputs": [],
   "source": [
    "# fit the arma\n",
    "model = ARIMA(df['grds'], order=(1,0,1))\n",
    "model_fit = model.fit(disp=0)"
   ]
  },
  {
   "cell_type": "code",
   "execution_count": null,
   "metadata": {
    "Collapsed": "false"
   },
   "outputs": [],
   "source": [
    "model_fit.summary()"
   ]
  },
  {
   "cell_type": "code",
   "execution_count": null,
   "metadata": {
    "Collapsed": "false"
   },
   "outputs": [],
   "source": [
    "model_fit.resid.plot()\n",
    "plot_acf(model_fit.resid, lags=40)"
   ]
  },
  {
   "cell_type": "markdown",
   "metadata": {
    "Collapsed": "false"
   },
   "source": [
    "## Question 16 \n",
    "\n",
    "1. Plot the autocorrelation function of the model residuals. \n",
    "\n",
    "2. Perform a Ljung-Box test with maximum lags of 5 and 10. Conclude on the relevance of this model? \n",
    "\n",
    "[Ljung-Box](https://www.statisticshowto.datasciencecentral.com/ljung-box-test/)"
   ]
  }
 ],
 "metadata": {
  "kernelspec": {
   "display_name": "Python 3",
   "language": "python",
   "name": "python3"
  },
  "language_info": {
   "codemirror_mode": {
    "name": "ipython",
    "version": 3
   },
   "file_extension": ".py",
   "mimetype": "text/x-python",
   "name": "python",
   "nbconvert_exporter": "python",
   "pygments_lexer": "ipython3",
   "version": "3.7.3"
  }
 },
 "nbformat": 4,
 "nbformat_minor": 4
}
