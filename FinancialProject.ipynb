{
 "cells": [
  {
   "cell_type": "markdown",
   "metadata": {
    "Collapsed": "false"
   },
   "source": [
    "# Financial project \n",
    "\n",
    "The objective of this notebook is to:\n",
    "\n",
    "- What is the relation between investor sentiment on social media and stock market returns? Any predictive power?\n",
    "\n",
    "Slide availables here: [Project](https://drive.google.com/open?id=0B0rdK44Elj9RZzdYMnJzaTREaHlhOUlmNGd2Qzg3RFJTSDBn)\n",
    "\n",
    "The API returns 30 messages at a time.\n",
    "\n",
    "To get older messages need the specify the `max` arguments: https://api.stocktwits.com/developers/docs/api#streams-symbol-docs\n",
    "\n",
    "- https://api.stocktwits.com/api/2/streams/symbol/max=177617138/BTC.X.json\n",
    "\n",
    "Example\n",
    "\n",
    "-  base URL: https://api.stocktwits.com/api/2/streams/symbol/\n",
    "\n",
    "Paramters:\n",
    "\n",
    "-  1) ticker\n",
    "- 2) max id\n",
    "\n",
    "- Only latest 30 messages\n",
    "https://api.stocktwits.com/api/2/streams/symbol/BTC.X.json\n",
    "\n",
    "\n",
    "\n",
    "\n",
    "We need the following information in a dataframe:\n",
    "\n",
    "- `messages`\n",
    "  - `id`\n",
    "  - `body`\n",
    "  - `created_at`\n",
    "  - `user`\n",
    "    - `id`\n",
    "    - `username`\n",
    "    - `name`\n",
    "    - `avatar_url`\n",
    "    - `join_date` \n",
    "\n",
    "## Stocktwit API\n",
    "\n",
    "[API](https://api.stocktwits.com/developers/docs)\n",
    "\n",
    "For next week, scrap  the data for bitcoin and messages about bitcoins\n",
    "\n",
    "## MongoDB\n",
    "\n",
    "Installation process: https://docs.mongodb.com/manual/tutorial/install-mongodb-on-os-x/\n",
    "\n",
    "To open the database, please first open the terminal and paste the following code:\n",
    "\n",
    "```\n",
    "mongod --config /usr/local/etc/mongod.conf\n",
    "```\n",
    "\n",
    "Then open another terminal and launch mongoDB with `mongo` to use MongoDB with the command line\n",
    "\n",
    "You are all set!"
   ]
  },
  {
   "cell_type": "code",
   "execution_count": null,
   "metadata": {
    "Collapsed": "false"
   },
   "outputs": [],
   "source": [
    "#url = \"https://api.stocktwits.com/api/2/streams/symbol/AAPL.json\""
   ]
  },
  {
   "cell_type": "code",
   "execution_count": null,
   "metadata": {
    "Collapsed": "false"
   },
   "outputs": [],
   "source": [
    "#json = !curl -X GET \"https://api.stocktwits.com/api/2/streams/symbol/AAPL.json\"\n",
    "#json"
   ]
  },
  {
   "cell_type": "code",
   "execution_count": 2,
   "metadata": {
    "Collapsed": "false"
   },
   "outputs": [],
   "source": [
    "import urllib3\n",
    "import json\n",
    "import pandas as pd\n",
    "import datetime\n",
    "import pymongo\n",
    "from pymongo import MongoClient\n",
    "\n",
    "import warnings\n",
    "warnings.filterwarnings('ignore')"
   ]
  },
  {
   "cell_type": "code",
   "execution_count": 3,
   "metadata": {
    "Collapsed": "false"
   },
   "outputs": [],
   "source": [
    "client = MongoClient('localhost', 27017)\n",
    "\n",
    "### Client is the database\n",
    "db = client['SorbonneBigData']\n",
    "\n",
    "### Collection name\n",
    "collection = db.stocktwits\n",
    "\n",
    "### Add element to the collection\n",
    "insert_element = {'id': \"Hello\", \"ok\": \"Yes\"}\n",
    "result = collection.insert_one(insert_element)"
   ]
  },
  {
   "cell_type": "code",
   "execution_count": 16,
   "metadata": {
    "Collapsed": "false"
   },
   "outputs": [],
   "source": [
    "def get_json_ticker(\n",
    "        nameDatabase,\n",
    "        collectionName,\n",
    "        ticker, max_twit=False,\n",
    "        to_json=False,\n",
    "        to_mongodb=False):\n",
    "    \"\"\"\n",
    "    ### Note that \n",
    "    - nameDatabase is the clienty\n",
    "    - collectionName is the client and collection\n",
    "    \n",
    "    fonction to scrap message in stocktwit\n",
    "\n",
    "    ## Step 1:\n",
    "    - Extract single ticker\n",
    "\n",
    "    ## Step 2:\n",
    "    - Format to list\n",
    "\n",
    "    ## Step 3:\n",
    "    - Save to MongoDB\n",
    "\n",
    "    \"\"\"\n",
    "\n",
    "    http = urllib3.PoolManager()\n",
    "\n",
    "    if max_twit:\n",
    "        url = \"https://api.stocktwits.com/api/2/streams/symbol/{0}.json?max={1}\".format(\n",
    "            ticker,\n",
    "            max_twit)\n",
    "    else:\n",
    "        url = \"https://api.stocktwits.com/api/2/streams/symbol/{0}.json\".format(\n",
    "            ticker)\n",
    "\n",
    "     # get the data\n",
    "    r = http.request('GET', url)\n",
    "    data = json.loads(r.data)\n",
    "\n",
    "    if data[\"response\"][\"status\"] == 200:\n",
    "        #print(\"My request was accepted\")\n",
    "\n",
    "        dic_scrap = {\n",
    "            \"id\": [],\n",
    "            \"body\": [],\n",
    "            # \"sentiment\": sentiment,\n",
    "            \"userName\": [],\n",
    "        }\n",
    "\n",
    "        # Retrieve last ID\n",
    "        for i, element in enumerate(data[\"messages\"]):\n",
    "\n",
    "            # Store data for the fun\n",
    "\n",
    "            #id_message = dic_scrap['id'].append(element[\"id\"])\n",
    "            #body_message = dic_scrap['body'].append(element[\"body\"])\n",
    "            #sentiment = dic_scrap['sentiment'].append(element[\"entities\"][\"sentiment\"][\"basic\"])\n",
    "            #user_name = dic_scrap['userName'].append(element[\"user\"][\"username\"])\n",
    "\n",
    "            id_message = element[\"id\"]\n",
    "            body_message = element[\"body\"]\n",
    "            #sentiment = dic_scrap['sentiment'].append(element[\"entities\"][\"sentiment\"][\"basic\"])\n",
    "            user_name = element[\"user\"][\"username\"]\n",
    "            created_at = element[\"created_at\"]\n",
    "\n",
    "            if to_mongodb:\n",
    "\n",
    "                # Client is the database\n",
    "                db = nameDatabase\n",
    "\n",
    "                # Collection name\n",
    "                collection = collectionName\n",
    "\n",
    "                insert_element = {\"id\": id_message, \"created_at\": element[\"created_at\"],\n",
    "                                  \"user\": user_name, \"body\": body_message}\n",
    "\n",
    "                result = collection.insert_one(insert_element)\n",
    "\n",
    "            if to_json:\n",
    "                name = '{}.json'.format(element[\"id\"])\n",
    "                with open(name, 'w') as f:\n",
    "                    json.dump(data, f)\n",
    "\n",
    "            if i == 29:\n",
    "                latest_id = element[\"id\"]\n",
    "\n",
    "                dic_ = {\n",
    "\n",
    "                    'id': latest_id,\n",
    "                    'url': url\n",
    "                }\n",
    "\n",
    "    return dic_, dic_scrap\n",
    "\n",
    "    # print(\"###### \\n {}, {}, {}, {}\".format(element[\"id\"],\n",
    "    #                                        element[\"created_at\"],\n",
    "    #                                        element[\"user\"][\"username\"],\n",
    "    #                                        element[\"body\"]\n",
    "    #                                       )\n",
    "    #     )\n",
    "    # try:\n",
    "    #    print(element[\"entities\"][\"sentiment\"][\"basic\"])\n",
    "    # except:\n",
    "    #    print(\"No sentiment declared\")\n"
   ]
  },
  {
   "cell_type": "code",
   "execution_count": 11,
   "metadata": {
    "Collapsed": "false"
   },
   "outputs": [
    {
     "data": {
      "text/plain": [
       "{'id': 178115753,\n",
       " 'url': 'https://api.stocktwits.com/api/2/streams/symbol/BTC.X.json'}"
      ]
     },
     "execution_count": 11,
     "metadata": {},
     "output_type": "execute_result"
    }
   ],
   "source": [
    "# Client is the database\n",
    "db = client['ThisIsATest']\n",
    "\n",
    "# Collection name\n",
    "collection = db.Tweet\n",
    "\n",
    "last, data = get_json_ticker(\n",
    "    nameDatabase=db,\n",
    "    collectionName=collection,\n",
    "    ticker='BTC.X',\n",
    "    max_twit=False,\n",
    "    to_mongodb=True)\n",
    "last\n"
   ]
  },
  {
   "cell_type": "code",
   "execution_count": 21,
   "metadata": {
    "Collapsed": "false"
   },
   "outputs": [
    {
     "name": "stdout",
     "output_type": "stream",
     "text": [
      "A\n",
      "B\n",
      "C\n"
     ]
    }
   ],
   "source": [
    "data = [\"A\", \"B\",\"C\"]\n",
    "\n",
    "for element in data:\n",
    "    print(element)"
   ]
  },
  {
   "cell_type": "code",
   "execution_count": 23,
   "metadata": {
    "Collapsed": "false"
   },
   "outputs": [],
   "source": [
    "dic_ = {\n",
    "    'id': 'ABD',\n",
    "    \"body\": 123\n",
    "}\n",
    "\n",
    "_"
   ]
  },
  {
   "cell_type": "code",
   "execution_count": 25,
   "metadata": {
    "Collapsed": "false"
   },
   "outputs": [
    {
     "data": {
      "text/plain": [
       "{'id': 'ABD', 'body': 123}"
      ]
     },
     "execution_count": 25,
     "metadata": {},
     "output_type": "execute_result"
    }
   ],
   "source": [
    "{dic_}"
   ]
  },
  {
   "cell_type": "code",
   "execution_count": null,
   "metadata": {
    "Collapsed": "false"
   },
   "outputs": [],
   "source": [
    "€"
   ]
  },
  {
   "cell_type": "code",
   "execution_count": 18,
   "metadata": {
    "Collapsed": "false"
   },
   "outputs": [],
   "source": [
    "list_id = []\n",
    "list_url = []\n",
    "\n",
    "# Client is the database\n",
    "db = client['StockTwitClass101']\n",
    "\n",
    "# Collection name\n",
    "collection = db.messages\n",
    "\n",
    "last, data = get_json_ticker(\n",
    "    nameDatabase=db,\n",
    "    collectionName=collection,\n",
    "    ticker='BTC.X',\n",
    "    max_twit=False,\n",
    "    to_mongodb=True)\n",
    "\n",
    "# Loop\n",
    "for i in range(0, 11):\n",
    "    last, data = get_json_ticker(\n",
    "        nameDatabase=db,\n",
    "        collectionName=collection,\n",
    "        ticker='BTC.X',\n",
    "        max_twit=last['id'],\n",
    "        to_mongodb=True)\n",
    "\n",
    "    #name = '{0}.csv'.format(datetime.datetime.now())\n",
    "    # with open(name, 'w') as f:\n",
    "    #json.dump(data, f)\n",
    "\n",
    "    # list_id.append(last['id'])\n",
    "    # list_url.append(last['url'])\n"
   ]
  },
  {
   "cell_type": "markdown",
   "metadata": {
    "Collapsed": "true"
   },
   "source": [
    "# Archive"
   ]
  },
  {
   "cell_type": "code",
   "execution_count": null,
   "metadata": {
    "Collapsed": "false"
   },
   "outputs": [],
   "source": [
    "if to_df:\n",
    "        \n",
    "        ### Extract data\n",
    "        store_dic_scrap = []\n",
    "\n",
    "        for i in range(len(data[\"messages\"])):\n",
    "            ### Extract info\n",
    "            id_message = data[\"messages\"][i][\"id\"]\n",
    "            body_message = data[\"messages\"][i][\"body\"]\n",
    "            sentiment\n",
    "            user_id = data[\"messages\"][i][\"user\"][\"id\"]\n",
    "            user_name = data[\"messages\"][i][\"user\"][\"username\"]\n",
    "\n",
    "            dic_scrap = {\n",
    "                \"id\": id_message,\n",
    "                \"body\": body_message,\n",
    "                \"sentiment\": sentiment\n",
    "                \"userID\": user_id,\n",
    "                \"userName\": user_name,\n",
    "            }\n",
    "\n",
    "            store_dic_scrap.append(dic_scrap)\n",
    "        \n",
    "    \n",
    "            final_ = pd.DataFrame(store_dic_scrap)\n",
    "    return data"
   ]
  },
  {
   "cell_type": "markdown",
   "metadata": {
    "Collapsed": "true"
   },
   "source": [
    "# MongoDB "
   ]
  }
 ],
 "metadata": {
  "kernelspec": {
   "display_name": "Python 3",
   "language": "python",
   "name": "python3"
  },
  "language_info": {
   "codemirror_mode": {
    "name": "ipython",
    "version": 3
   },
   "file_extension": ".py",
   "mimetype": "text/x-python",
   "name": "python",
   "nbconvert_exporter": "python",
   "pygments_lexer": "ipython3",
   "version": "3.7.3"
  }
 },
 "nbformat": 4,
 "nbformat_minor": 4
}
