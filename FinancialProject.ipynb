{
 "cells": [
  {
   "cell_type": "markdown",
   "metadata": {
    "Collapsed": "false"
   },
   "source": [
    "# Financial project \n",
    "\n",
    "The objective of this notebook is to:\n",
    "\n",
    "- What is the relation between investor sentiment on social media and stock market returns? Any predictive power?\n",
    "\n",
    "Slide availables here: [Project](https://drive.google.com/open?id=0B0rdK44Elj9RZzdYMnJzaTREaHlhOUlmNGd2Qzg3RFJTSDBn)\n",
    "\n",
    "The online codes are available [here](https://repl.it/@trenault/StockTwits101)\n",
    "\n",
    "The API returns 30 messages at a time.\n",
    "\n",
    "To get older messages need the specify the `max` arguments: https://api.stocktwits.com/developers/docs/api#streams-symbol-docs\n",
    "\n",
    "- https://api.stocktwits.com/api/2/streams/symbol/max=177617138/BTC.X.json\n",
    "\n",
    "Example\n",
    "\n",
    "-  base URL: https://api.stocktwits.com/api/2/streams/symbol/\n",
    "\n",
    "Paramters:\n",
    "\n",
    "-  1) ticker\n",
    "- 2) max id\n",
    "\n",
    "- Only latest 30 messages\n",
    "https://api.stocktwits.com/api/2/streams/symbol/BTC.X.json\n",
    "\n",
    "\n",
    "\n",
    "\n",
    "We need the following information in a dataframe:\n",
    "\n",
    "- `messages`\n",
    "  - `id`\n",
    "  - `body`\n",
    "  - `created_at`\n",
    "  - `user`\n",
    "    - `id`\n",
    "    - `username`\n",
    "    - `name`\n",
    "    - `avatar_url`\n",
    "    - `join_date` \n",
    "\n",
    "## Stocktwit API\n",
    "\n",
    "[API](https://api.stocktwits.com/developers/docs)\n",
    "\n",
    "For next week, scrap  the data for bitcoin and messages about bitcoins\n",
    "\n",
    "## MongoDB\n",
    "\n",
    "Installation process: https://docs.mongodb.com/manual/tutorial/install-mongodb-on-os-x/\n",
    "\n",
    "To open the database, please first open the terminal and paste the following code:\n",
    "\n",
    "```\n",
    "mongod --config /usr/local/etc/mongod.conf\n",
    "```\n",
    "\n",
    "Then open another terminal and launch mongoDB with `mongo` to use MongoDB with the command line\n",
    "\n",
    "You are all set!\n",
    "\n",
    "## Sentiment\n",
    "\n",
    "If sentiment is Bullish, label +1, if sentiment is Bearish, lable -1 else 0\n",
    "\n",
    "## Symbols\n",
    "\n",
    "Extract the tickers in a list"
   ]
  },
  {
   "cell_type": "code",
   "execution_count": 1,
   "metadata": {
    "Collapsed": "false"
   },
   "outputs": [],
   "source": [
    "import urllib3\n",
    "import json\n",
    "import pandas as pd\n",
    "import datetime\n",
    "import pymongo\n",
    "from pymongo import MongoClient\n",
    "\n",
    "import warnings\n",
    "warnings.filterwarnings('ignore')"
   ]
  },
  {
   "cell_type": "code",
   "execution_count": 2,
   "metadata": {
    "Collapsed": "false"
   },
   "outputs": [],
   "source": [
    "client = MongoClient('localhost', 27017)\n",
    "\n",
    "### Client is the database\n",
    "db = client['SorbonneBigData']\n",
    "\n",
    "### Collection name\n",
    "collection = db.stocktwits\n",
    "\n",
    "### Add element to the collection\n",
    "insert_element = {'id': \"Hello\", \"ok\": \"Yes\"}\n",
    "result = collection.insert_one(insert_element)"
   ]
  },
  {
   "cell_type": "code",
   "execution_count": 3,
   "metadata": {
    "Collapsed": "false"
   },
   "outputs": [],
   "source": [
    "def get_json_ticker(\n",
    "        nameDatabase,\n",
    "        collectionName,\n",
    "        ticker, max_twit=False,\n",
    "        to_mongodb=False):\n",
    "    \"\"\"\n",
    "    ### Note that \n",
    "    - nameDatabase is the clienty\n",
    "    - collectionName is the client and collection\n",
    "    \n",
    "    fonction to scrap message in stocktwit\n",
    "\n",
    "    ## Step 1:\n",
    "    - Extract single ticker\n",
    "\n",
    "    ## Step 2:\n",
    "    - Format to list\n",
    "\n",
    "    ## Step 3:\n",
    "    - Save to MongoDB\n",
    "\n",
    "    \"\"\"\n",
    "\n",
    "    http = urllib3.PoolManager()\n",
    "\n",
    "    if max_twit:\n",
    "        url = \"https://api.stocktwits.com/api/2/streams/symbol/{0}.json?max={1}\".format(\n",
    "            ticker,\n",
    "            max_twit)\n",
    "    else:\n",
    "        url = \"https://api.stocktwits.com/api/2/streams/symbol/{0}.json\".format(\n",
    "            ticker)\n",
    "\n",
    "     # get the data\n",
    "    r = http.request('GET', url)\n",
    "    data = json.loads(r.data)\n",
    "\n",
    "    if data[\"response\"][\"status\"] == 200:\n",
    "        #print(\"My request was accepted\")\n",
    "\n",
    "        #dic_scrap = {\n",
    "        #    \"id\": [],\n",
    "        #    \"body\": [],\n",
    "        #    \"sentiment\": [],\n",
    "        #    \"userName\": [],\n",
    "        #    \"symbols\": []\n",
    "        #}\n",
    "\n",
    "        # Retrieve last ID\n",
    "        \n",
    "        \n",
    "        for i, element in enumerate(data[\"messages\"]):\n",
    "\n",
    "            # Store data for the fun\n",
    "\n",
    "            #id_message = dic_scrap['id'].append(element[\"id\"])\n",
    "            #body_message = dic_scrap['body'].append(element[\"body\"])\n",
    "            #sentiment = dic_scrap['sentiment'].append(element[\"entities\"][\"sentiment\"][\"basic\"])\n",
    "            #user_name = dic_scrap['userName'].append(element[\"user\"][\"username\"])\n",
    "\n",
    "            id_message = element[\"id\"]\n",
    "            body_message = element[\"body\"]\n",
    "            #sentiment = dic_scrap['sentiment'].append(element[\"entities\"][\"sentiment\"][\"basic\"])\n",
    "            user_name = element[\"user\"][\"username\"]\n",
    "            created_at = element[\"created_at\"]\n",
    "            \n",
    "            ### Store sentiment\n",
    "            sentiment =  element['entities']['sentiment']\n",
    "            \n",
    "            if sentiment:\n",
    "                to_store_sentiment = sentiment['basic']\n",
    "            else:\n",
    "                to_store_sentiment = 'Neutral'\n",
    "                \n",
    "            ### Symobls\n",
    "            #len_sym = len(element['symbols'])\n",
    "            list_symbols = []\n",
    "            \n",
    "            ### itertate over the dictionnary to store the symbol\n",
    "\n",
    "            list_symbols = []\n",
    "            for sym in element['symbols']:\n",
    "                list_symbols.append(sym['title'])                                    \n",
    "                        ### Get different symbols\n",
    "\n",
    "            if to_mongodb:\n",
    "\n",
    "                # Client is the database\n",
    "                db = nameDatabase\n",
    "\n",
    "                # Collection name\n",
    "                collection = collectionName\n",
    "                \n",
    "                if to_store_sentiment == 'Bullish':\n",
    "                    to_store_sentiment_ = 1\n",
    "                elif to_store_sentiment == 'Bearish':\n",
    "                    to_store_sentiment_ = -1\n",
    "                else:\n",
    "                    to_store_sentiment_ = 0\n",
    "                    \n",
    "                    \n",
    "\n",
    "                insert_element = {\"id\": id_message,\n",
    "                                  \"created_at\": element[\"created_at\"],\n",
    "                                  \"user\": user_name,\n",
    "                                  \"sentiment\": to_store_sentiment,\n",
    "                                  \"sentiment_\":to_store_sentiment_, \n",
    "                                  \"body\": body_message,\n",
    "                                  \"symbols\": list_symbols}\n",
    "\n",
    "                result = collection.insert_one(insert_element)\n",
    "                \n",
    "            if i == 29:\n",
    "                latest_id = element[\"id\"]\n",
    "\n",
    "                dic_ = {\n",
    "                    'id': latest_id,\n",
    "                    'url': url\n",
    "                }\n",
    "                \n",
    "        return dic_\n",
    "                \n",
    "    else:\n",
    "        print(data[\"response\"][\"status\"])\n",
    "        status = 429\n",
    "        \n",
    "        return status\n",
    "\n",
    "    \n"
   ]
  },
  {
   "cell_type": "markdown",
   "metadata": {
    "Collapsed": "false"
   },
   "source": [
    "Test the function with only one Get/Request"
   ]
  },
  {
   "cell_type": "code",
   "execution_count": 4,
   "metadata": {
    "Collapsed": "false"
   },
   "outputs": [],
   "source": [
    "# Client is the database\n",
    "#db = client['ThisIsATest']\n",
    "\n",
    "# Collection name\n",
    "#collection = db.Tweet\n",
    "\n",
    "#last, data = \n",
    "\n",
    "#data = get_json_ticker(\n",
    "#    nameDatabase=db,\n",
    "#    collectionName=collection,\n",
    "#    ticker='BTC.X',\n",
    "#    max_twit=False,\n",
    "#    to_mongodb=False)\n",
    "#data"
   ]
  },
  {
   "cell_type": "markdown",
   "metadata": {
    "Collapsed": "false"
   },
   "source": [
    "## Call API in loop"
   ]
  },
  {
   "cell_type": "code",
   "execution_count": 5,
   "metadata": {
    "Collapsed": "false"
   },
   "outputs": [],
   "source": [
    "from datetime import datetime, timedelta\n",
    "import time\n",
    "from tqdm import tqdm"
   ]
  },
  {
   "cell_type": "code",
   "execution_count": null,
   "metadata": {
    "Collapsed": "false"
   },
   "outputs": [
    {
     "name": "stderr",
     "output_type": "stream",
     "text": [
      "100%|██████████| 200/200 [06:52<00:00,  1.64s/it]"
     ]
    },
    {
     "name": "stdout",
     "output_type": "stream",
     "text": [
      "429\n",
      "Next batch in 53.13333333333333 minutes. It will happen at 16:56:10\n"
     ]
    },
    {
     "name": "stderr",
     "output_type": "stream",
     "text": [
      "\n",
      " 38%|███▊      | 75/200 [02:45<04:51,  2.33s/it]"
     ]
    }
   ],
   "source": [
    "list_id = []\n",
    "list_url = []\n",
    "\n",
    "# Client is the database\n",
    "db = client['StockTwitClass101']\n",
    "\n",
    "# Collection name\n",
    "collection = db.messages\n",
    "\n",
    "# tickers\n",
    "ticker = 'BTC.X'\n",
    "\n",
    "# Get the first 30 messages and store the ID\n",
    "output = get_json_ticker(\n",
    "    nameDatabase=db,\n",
    "    collectionName=collection,\n",
    "    ticker=ticker,\n",
    "    max_twit=False,\n",
    "    to_mongodb=True)\n",
    "\n",
    "# Loop to get the messages\n",
    "\n",
    "timesecond = 0\n",
    "lastid = output['id']\n",
    "\n",
    "for h in range(0,8):\n",
    "    time.sleep(timesecond)\n",
    "    begin = datetime.now()\n",
    "    for i in tqdm(range(0, 200)):\n",
    "\n",
    "        output = get_json_ticker(\n",
    "                nameDatabase=db,\n",
    "                collectionName=collection,\n",
    "                ticker=ticker,\n",
    "                max_twit=lastid,\n",
    "                to_mongodb=True)\n",
    "        \n",
    "        if output == 429:\n",
    "            end = datetime.now()\n",
    "            time_code = end - begin\n",
    "    \n",
    "            time_next_batch = begin + timedelta(hours=1)\n",
    "            time_end_batch = begin + timedelta(seconds=time_code.seconds)\n",
    "            timesecond = (time_next_batch - time_end_batch).seconds\n",
    "            \n",
    "        else:\n",
    "            \n",
    "            lastid = output['id']\n",
    "    \n",
    "    print('Next batch in {} minutes. It will happen at {}'.format(timesecond/60, \n",
    "                                           time_next_batch.strftime(\"%H:%M:%S\"))\n",
    "         )\n",
    "\n",
    "    #name = '{0}.csv'.format(datetime.datetime.now())\n",
    "    # with open(name, 'w') as f:\n",
    "    #json.dump(data, f)\n",
    "\n",
    "    # list_id.append(last['id'])\n",
    "    # list_url.append(last['url'])\n"
   ]
  },
  {
   "cell_type": "markdown",
   "metadata": {
    "Collapsed": "false"
   },
   "source": [
    "# Upload data from MongoDB"
   ]
  },
  {
   "cell_type": "code",
   "execution_count": null,
   "metadata": {
    "Collapsed": "false"
   },
   "outputs": [],
   "source": [
    "cursor = db.messages.find({\n",
    "    \"sentiment\":'Bullish',\n",
    "    \"user\":\"YoungMula\"\n",
    "                          })\n",
    "for document in cursor:\n",
    "    print(document['sentiment'])"
   ]
  },
  {
   "cell_type": "code",
   "execution_count": null,
   "metadata": {
    "Collapsed": "false"
   },
   "outputs": [],
   "source": [
    "cursor = db.messages.find({\"sentimen()\"})\n",
    "for document in cursor:\n",
    "    if len(document['symbols']) == 2: \n",
    "        print(document['body'])"
   ]
  },
  {
   "cell_type": "markdown",
   "metadata": {
    "Collapsed": "false"
   },
   "source": [
    "# MongoDB "
   ]
  },
  {
   "cell_type": "code",
   "execution_count": null,
   "metadata": {
    "Collapsed": "false"
   },
   "outputs": [],
   "source": [
    "insert_element = {\"id\": 1,\n",
    "                                  \"created_at\": 2,\n",
    "                                  \"user\": 3,\n",
    "                                  \"sentiment\": 4,\n",
    "                                  \"sentiment_\":5, \n",
    "                                  \"body\": 6,\n",
    "                                  \"symbols\": 7}"
   ]
  },
  {
   "cell_type": "code",
   "execution_count": null,
   "metadata": {
    "Collapsed": "false"
   },
   "outputs": [],
   "source": [
    "insert_element['id']"
   ]
  },
  {
   "cell_type": "code",
   "execution_count": null,
   "metadata": {
    "Collapsed": "false"
   },
   "outputs": [],
   "source": [
    "db = client['StockTwitClass101']\n",
    "cursor = db.messages.find({})\n",
    "#for document in cursor:\n",
    "#    print(document)"
   ]
  },
  {
   "cell_type": "code",
   "execution_count": null,
   "metadata": {
    "Collapsed": "false"
   },
   "outputs": [],
   "source": [
    "import pandas as pd\n",
    "df = pd.DataFrame(list(db.messages.find({})))\n",
    "list(df)"
   ]
  },
  {
   "cell_type": "code",
   "execution_count": null,
   "metadata": {
    "Collapsed": "false"
   },
   "outputs": [],
   "source": [
    "import re\n",
    "from sklearn.feature_extraction.text import CountVectorizer, TfidfVectorizer\n",
    "from sklearn.naive_bayes import GaussianNB\n",
    "from sklearn.tree import DecisionTreeClassifier\n",
    "from sklearn.model_selection import train_test_split"
   ]
  },
  {
   "cell_type": "code",
   "execution_count": null,
   "metadata": {
    "Collapsed": "false"
   },
   "outputs": [],
   "source": [
    "pos_msg = []\n",
    "\n",
    "neg_msg = []\n",
    "\n",
    "sentiment_list = []"
   ]
  },
  {
   "cell_type": "code",
   "execution_count": null,
   "metadata": {
    "Collapsed": "false"
   },
   "outputs": [],
   "source": []
  }
 ],
 "metadata": {
  "kernelspec": {
   "display_name": "Python 3",
   "language": "python",
   "name": "python3"
  },
  "language_info": {
   "codemirror_mode": {
    "name": "ipython",
    "version": 3
   },
   "file_extension": ".py",
   "mimetype": "text/x-python",
   "name": "python",
   "nbconvert_exporter": "python",
   "pygments_lexer": "ipython3",
   "version": "3.7.3"
  }
 },
 "nbformat": 4,
 "nbformat_minor": 4
}
