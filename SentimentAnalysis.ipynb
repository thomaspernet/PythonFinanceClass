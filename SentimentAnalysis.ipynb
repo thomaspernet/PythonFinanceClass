{
 "cells": [
  {
   "cell_type": "markdown",
   "metadata": {
    "Collapsed": "false"
   },
   "source": [
    "# Sentiment Analysis for the Bitcoins \n",
    "\n",
    "![](https://upload.wikimedia.org/wikipedia/commons/c/c5/Bitcoin_logo.svg)\n",
    "\n",
    "In the first notebook [StockTwit](https://nbviewer.jupyter.org/github/thomaspernet/PythonFinanceClass/blob/master/FinancialProject.ipynb), we created a robot using Stocktwit API to automatically collect the messages related to the Bitcoins.\n",
    "\n",
    "In this notebook, we are going to use those data to run a sentiment analysis. More specifically, the aim is to answer the question:\n",
    "\n",
    "- What is the relation between investor sentiment on social media and stock market returns? Any predictive power?\n",
    "\n",
    "## Agenda\n",
    "\n",
    "We will proceed as follow:\n",
    "\n",
    "1. Create a function to clean the corpus\n",
    "2. Create a brief text analysis\n",
    "2. Evaluate the sentiment using the L2 method\n",
    "3. Evaluate the sentiment using the L1 method\n",
    "4. Evaluate the sentiment using a machine learning method\n",
    "5. Predicg out of sample\n",
    "6. Get Bitcoin data\n",
    "7. Run the Granger test on Bitcoin's return and sentiment\n",
    "\n",
    "Related paper: [Intraday online investor sentiment and return patterns in the U.S.\n",
    "stock market](https://docs.google.com/file/d/1L8bS8vNTXS-HWToP4zMpqfT308n-LxZb/edit)\n",
    "\n",
    "L1/L2 Lexicon: [here](http://www.thomas-renault.com/data.php)"
   ]
  },
  {
   "cell_type": "code",
   "execution_count": 1,
   "metadata": {
    "Collapsed": "false"
   },
   "outputs": [],
   "source": [
    "import pandas as pd\n",
    "import numpy as np\n",
    "import pymongo\n",
    "from pymongo import MongoClient\n",
    "import nltk\n",
    "from nltk.corpus import stopwords\n",
    "from nltk.stem import WordNetLemmatizer\n",
    "from sklearn.model_selection import train_test_split\n",
    "from sklearn import metrics\n",
    "\n",
    "from sklearn.feature_extraction.text import TfidfTransformer, CountVectorizer\n",
    "from sklearn.naive_bayes import MultinomialNB\n",
    "from sklearn.pipeline import Pipeline"
   ]
  },
  {
   "cell_type": "code",
   "execution_count": 2,
   "metadata": {
    "Collapsed": "false"
   },
   "outputs": [],
   "source": [
    "#nltk.download('wordnet')\n",
    "#nltk.download('punkt')\n",
    "#nltk.download('stopwords')"
   ]
  },
  {
   "cell_type": "markdown",
   "metadata": {
    "Collapsed": "false",
    "toc-hr-collapsed": true
   },
   "source": [
    "# Clean the corps\n",
    "\n",
    "We create a function named `metatransformation` to prepare the data.\n",
    "\n",
    "Note that, we only care about the sentiment either `Bullish` or `Bearish` and remove multiple stock twits\n",
    "\n",
    "## Workflow of the function\n",
    "\n",
    "Step 1: \n",
    "\n",
    "    - Extract the data from MonGoDb using the `query` argument of the function\n",
    "    \n",
    "Step :2\n",
    "       \n",
    "    - Exclude multi tickers\n",
    "\n",
    "Step :3\n",
    "       \n",
    "    - take negation into account and add prefix `negtag_:\n",
    "       \n",
    "       - \"not\",\"no\",\"none\",\"neither\",\"never\" or “nobody”\n",
    "\n",
    "Step :3\n",
    "    \n",
    "    - Further clean up as follow:\n",
    "        - Convert digit to \"numbertag\"        \n",
    "        - Remove @USER\n",
    "        - Remove ticker\n",
    "        - Remove special characters\n",
    "        - lower the text\n",
    "\n",
    "Step 4: \n",
    "\n",
    "    - Remove stop words\n",
    "\n",
    "Below some example of stop words"
   ]
  },
  {
   "cell_type": "code",
   "execution_count": 3,
   "metadata": {
    "Collapsed": "false"
   },
   "outputs": [
    {
     "data": {
      "text/plain": [
       "['i', 'me', 'my', 'myself', 'we', 'our', 'ours', 'ourselves', 'you', \"you're\"]"
      ]
     },
     "execution_count": 3,
     "metadata": {},
     "output_type": "execute_result"
    }
   ],
   "source": [
    "stopwords.words('english')[:10]"
   ]
  },
  {
   "cell_type": "markdown",
   "metadata": {
    "Collapsed": "false"
   },
   "source": [
    "Step 4: \n",
    "\n",
    "    - Lemmanize\n",
    "    \n",
    "Step 5: \n",
    "\n",
    "    - Create train/test set\n",
    "    \n",
    "### note about Lemmatization\n",
    "\n",
    "Lemmatization reduces words to their base word, which is linguistically correct lemmas. It transforms root word with the use of vocabulary and morphological analysis. Lemmatization is usually more sophisticated than stemming. Stemmer works on an individual word without knowledge of the context. For example, The word \"better\" has \"good\" as its lemma. This thing will miss by stemming because it requires a dictionary look-up"
   ]
  },
  {
   "cell_type": "markdown",
   "metadata": {
    "Collapsed": "false"
   },
   "source": [
    "### Define MetaFunction\n",
    "\n",
    "The function below clean and lemmanize the corpus and return a train/test set"
   ]
  },
  {
   "cell_type": "code",
   "execution_count": 4,
   "metadata": {
    "Collapsed": "false"
   },
   "outputs": [],
   "source": [
    "def metatransformation(client, db, query, to_train=True):\n",
    "    \"\"\"\n",
    "    Arguments:\n",
    "    Query: MongoDB query \n",
    "    to_train:  True: return a train and test dataset\n",
    "    False: return only data to predict out of sample\n",
    "    \n",
    "    Step :1\n",
    "        - Extract the data from MonGoDb\n",
    "        \n",
    "    Step 2:\n",
    "        - Exclude multi tickers\n",
    "\n",
    "    Step :3\n",
    "        - take negation into account:\n",
    "            - \"not\",\"no\",\"none\",\"neither\",\"never\" or “nobody”\n",
    "        - Convert digit to \"numbertag\"        \n",
    "        - Remove @USER\n",
    "        - Remove ticker\n",
    "        - Remove special characters\n",
    "        - Lower test\n",
    "\n",
    "    Step 4: Remove stop words\n",
    "    Step 5: Lemmanize\n",
    "    Step 6: Train/test set\n",
    "\n",
    "    \"\"\"\n",
    "\n",
    "    text = pd.DataFrame(list(db.messages.find(query)))\n",
    "\n",
    "    # Count stock\n",
    "\n",
    "    text[\"count_stock\"] = text[\"symbols\"].apply(lambda x: len(x))\n",
    "\n",
    "    # Extract single count\n",
    "\n",
    "    text = text[text[\"count_stock\"].isin([1])]\n",
    "\n",
    "    # take negation into account\n",
    "    # Convert digit to \"_digit\"\n",
    "    # Remove @USER\n",
    "    # Remove unicode issue\n",
    "    # Remove ticker\n",
    "    # Remove all the special characters\n",
    "    # remove all single characters\n",
    "    # Remove Ya\n",
    "    # Remove bitcoin\n",
    "    # remove btc\n",
    "    text[\"body_transform\"] = text[\"body\"].replace(\n",
    "        regex={\n",
    "            r\"\\bnothing\\b\": \"negtag_nothing\",\n",
    "            r\"\\bno\\b\": \"negtag_no\",\n",
    "            r\"\\bnone\\b\": \"negtag_none\",\n",
    "            r\"\\bneither\\b\": \"negtag_neither\",\n",
    "            r\"\\bnever\\b\": \"negtag_never\",\n",
    "            r\"\\bnobody\\b\": \"negtag_nobody\",\n",
    "            r\"\\d+\": \"numbertag \",\n",
    "            r\"([@?])(\\w+)\\b\": \"user\",\n",
    "            r\"\\b&#\\b\": \" \",\n",
    "            r\"[$][A-Za-z][\\S]*\": \"\",\n",
    "            r\"\\W\": \" \",\n",
    "            r\"\\s+[a-zA-Z]\\s+\": \" \",\n",
    "            r\"\\^[a-zA-Z]\\s+\": \" \",\n",
    "            r\"\\s+\": \" \",\n",
    "            r\"^b\\s+\": \"\",\n",
    "            r\"\\bya\\b\": \"\",\n",
    "            r\"\\bbitcoin\\b\": \"\",\n",
    "            r\"\\bBitcoin\\b\": \"\",\n",
    "            r\"\\bbtc\\b\": \"\",\n",
    "        }\n",
    "    )\n",
    "    # Lower\n",
    "\n",
    "    text[\"body_transform\"] = text[\"body_transform\"].str.lower()\n",
    "\n",
    "    # Remove stop words\n",
    "\n",
    "    stop = stopwords.words('english')\n",
    "\n",
    "    text[\"body_transform\"] = text[\"body_transform\"].apply(\n",
    "        lambda x: ' '.join([word for word in x.split() if word not in (stop)]))\n",
    "\n",
    "    # Lemmatize\n",
    "\n",
    "    lemmatizer = WordNetLemmatizer()\n",
    "    w_tokenizer = nltk.tokenize.WhitespaceTokenizer()\n",
    "\n",
    "    text[\"body_transform\"] = text[\"body_transform\"].apply(\n",
    "        lambda x: \" \".join([lemmatizer.lemmatize(w)\n",
    "                            for w in w_tokenizer.tokenize(x)])\n",
    "    )\n",
    "\n",
    "    # Split the dataset\n",
    "\n",
    "    X_ = text[\"body_transform\"]\n",
    "    y_ = text[\"sentiment_\"]\n",
    "\n",
    "    count_ = text.groupby(\"sentiment\")[\"sentiment\"].count()\n",
    "\n",
    "    print(\"The shape of the data is {}, and {}\".format(text.shape, count_))\n",
    "\n",
    "    if to_train:\n",
    "        X_train, X_test, y_train, y_test = train_test_split(\n",
    "            X_, y_, test_size=0.1, random_state=0\n",
    "        )\n",
    "\n",
    "        return X_train, X_test, y_train, y_test\n",
    "\n",
    "    else:\n",
    "\n",
    "        return X_"
   ]
  },
  {
   "cell_type": "markdown",
   "metadata": {
    "Collapsed": "false",
    "toc-hr-collapsed": true
   },
   "source": [
    "# Preliminary analysis\n",
    "\n",
    "Make brief plots of the frequency count, distribution of keywords by sentiment and bigrams frequency"
   ]
  },
  {
   "cell_type": "code",
   "execution_count": 5,
   "metadata": {
    "Collapsed": "false"
   },
   "outputs": [],
   "source": [
    "from nltk.tokenize import word_tokenize\n",
    "from nltk.probability import FreqDist\n",
    "import matplotlib.pyplot as plt"
   ]
  },
  {
   "cell_type": "code",
   "execution_count": 6,
   "metadata": {
    "Collapsed": "false"
   },
   "outputs": [],
   "source": [
    "client = MongoClient('localhost', 27017)\n",
    "\n",
    "### Client is the database\n",
    "db = client['StockTwitClass101']"
   ]
  },
  {
   "cell_type": "code",
   "execution_count": 7,
   "metadata": {
    "Collapsed": "false"
   },
   "outputs": [
    {
     "name": "stdout",
     "output_type": "stream",
     "text": [
      "The shape of the data is (76507, 10), and sentiment\n",
      "Bearish    22110\n",
      "Bullish    54397\n",
      "Name: sentiment, dtype: int64\n"
     ]
    }
   ],
   "source": [
    "query ={\n",
    "    \"sentiment\":{ \"$ne\": \"Neutral\" }\n",
    "}\n",
    "X_train, X_test, y_train, y_test = metatransformation(client, db,\n",
    "    query = query)"
   ]
  },
  {
   "cell_type": "markdown",
   "metadata": {
    "Collapsed": "false"
   },
   "source": [
    "Example of message"
   ]
  },
  {
   "cell_type": "code",
   "execution_count": 8,
   "metadata": {
    "Collapsed": "false"
   },
   "outputs": [
    {
     "data": {
      "text/plain": [
       "'another dump right numbertag k coming morning'"
      ]
     },
     "execution_count": 8,
     "metadata": {},
     "output_type": "execute_result"
    }
   ],
   "source": [
    "X_train.iloc[0]"
   ]
  },
  {
   "cell_type": "code",
   "execution_count": 9,
   "metadata": {
    "Collapsed": "false"
   },
   "outputs": [
    {
     "data": {
      "text/plain": [
       "-1"
      ]
     },
     "execution_count": 9,
     "metadata": {},
     "output_type": "execute_result"
    }
   ],
   "source": [
    "y_train.iloc[0]"
   ]
  },
  {
   "cell_type": "markdown",
   "metadata": {
    "Collapsed": "false"
   },
   "source": [
    "Sentiments distribtion in the train set. Highly unbalanced"
   ]
  },
  {
   "cell_type": "code",
   "execution_count": 10,
   "metadata": {
    "Collapsed": "false"
   },
   "outputs": [
    {
     "data": {
      "text/plain": [
       "sentiment_\n",
       "-1    19895\n",
       " 1    48961\n",
       "Name: sentiment_, dtype: int64"
      ]
     },
     "execution_count": 10,
     "metadata": {},
     "output_type": "execute_result"
    }
   ],
   "source": [
    "y_train.reset_index().groupby('sentiment_')['sentiment_'].count()"
   ]
  },
  {
   "cell_type": "code",
   "execution_count": 11,
   "metadata": {
    "Collapsed": "false"
   },
   "outputs": [
    {
     "data": {
      "image/png": "[encoded data removed]",
      "text/plain": [
       "<Figure size 432x288 with 1 Axes>"
      ]
     },
     "metadata": {
      "needs_background": "light"
     },
     "output_type": "display_data"
    }
   ],
   "source": [
    "Word_tokenize = X_train.apply(word_tokenize) \n",
    "### Need to flatten the list\n",
    "flattened_list = [y for x in Word_tokenize.tolist() for y in x]\n",
    "fdist = FreqDist(flattened_list)\n",
    "fdist.plot(30,cumulative=False)\n",
    "plt.show()"
   ]
  },
  {
   "cell_type": "code",
   "execution_count": 12,
   "metadata": {
    "Collapsed": "false"
   },
   "outputs": [],
   "source": [
    "def plot_keyword_sentiment(df, nbKeyword= 10):\n",
    "    \"\"\"\n",
    "    Plot the distribution of sentiments by keyword\n",
    "    \"\"\"\n",
    "    \n",
    "    df_fdist = pd.DataFrame.from_dict(df, orient='index')\n",
    "    df_fdist.columns = ['Frequency']\n",
    "    df_fdist.index.name = 'Term'\n",
    "    df_fdist =df_fdist.sort_values(by = 'Frequency', ascending = False)\n",
    "    \n",
    "    ### \n",
    "    \n",
    "    df_top_sent = pd.DataFrame()\n",
    "    for key in df_fdist.head(nbKeyword).index:\n",
    "\n",
    "        count_sentiment = (\n",
    "            pd.concat([X_train[X_train.str.contains(key)],\n",
    "                             y_train], axis = 1, join = 'inner')\n",
    "            .groupby('sentiment_')['body_transform']\n",
    "            .count()\n",
    "            .reset_index()\n",
    "        )\n",
    "        count_sentiment['keyword'] = key\n",
    "        df_top_sent = df_top_sent.append(count_sentiment)\n",
    "    df_top_sent = df_top_sent.pivot(index='keyword',\n",
    "                  columns='sentiment_',\n",
    "                  values='body_transform')\n",
    "    df_top_sent['sum'] = df_top_sent.apply(lambda x: x.sum(), axis = 1)\n",
    "    df_top_sent.sort_values(by = 'sum').drop(columns = 'sum').plot.barh(stacked=True)"
   ]
  },
  {
   "cell_type": "code",
   "execution_count": 13,
   "metadata": {
    "Collapsed": "false"
   },
   "outputs": [
    {
     "data": {
      "image/png": "[encoded data removed]",
      "text/plain": [
       "<Figure size 432x288 with 1 Axes>"
      ]
     },
     "metadata": {
      "needs_background": "light"
     },
     "output_type": "display_data"
    }
   ],
   "source": [
    "plot_keyword_sentiment(df = fdist, nbKeyword= 10)"
   ]
  },
  {
   "cell_type": "markdown",
   "metadata": {
    "Collapsed": "false"
   },
   "source": [
    "## Bigrams\n",
    "\n",
    "Definitelly needs to clean more the corpus.."
   ]
  },
  {
   "cell_type": "code",
   "execution_count": 14,
   "metadata": {
    "Collapsed": "false"
   },
   "outputs": [
    {
     "data": {
      "image/png": "[encoded data removed]",
      "text/plain": [
       "<Figure size 432x288 with 1 Axes>"
      ]
     },
     "metadata": {
      "needs_background": "light"
     },
     "output_type": "display_data"
    }
   ],
   "source": [
    "bgs = nltk.ngrams(flattened_list, 2)\n",
    "\n",
    "fdist = nltk.FreqDist(bgs)\n",
    "\n",
    "fdist.plot(30,cumulative=False)\n",
    "plt.show()"
   ]
  },
  {
   "cell_type": "markdown",
   "metadata": {
    "Collapsed": "false"
   },
   "source": [
    "# L2 Approach"
   ]
  },
  {
   "cell_type": "code",
   "execution_count": 15,
   "metadata": {
    "Collapsed": "false"
   },
   "outputs": [
    {
     "data": {
      "text/html": [
       "<div>\n",
       "<style scoped>\n",
       "    .dataframe tbody tr th:only-of-type {\n",
       "        vertical-align: middle;\n",
       "    }\n",
       "\n",
       "    .dataframe tbody tr th {\n",
       "        vertical-align: top;\n",
       "    }\n",
       "\n",
       "    .dataframe thead th {\n",
       "        text-align: right;\n",
       "    }\n",
       "</style>\n",
       "<table border=\"1\" class=\"dataframe\">\n",
       "  <thead>\n",
       "    <tr style=\"text-align: right;\">\n",
       "      <th></th>\n",
       "      <th>keyword</th>\n",
       "      <th>sentiment</th>\n",
       "    </tr>\n",
       "  </thead>\n",
       "  <tbody>\n",
       "    <tr>\n",
       "      <th>0</th>\n",
       "      <td>+</td>\n",
       "      <td>positive</td>\n",
       "    </tr>\n",
       "    <tr>\n",
       "      <th>1</th>\n",
       "      <td>above</td>\n",
       "      <td>positive</td>\n",
       "    </tr>\n",
       "    <tr>\n",
       "      <th>2</th>\n",
       "      <td>accumulate</td>\n",
       "      <td>positive</td>\n",
       "    </tr>\n",
       "  </tbody>\n",
       "</table>\n",
       "</div>"
      ],
      "text/plain": [
       "      keyword sentiment\n",
       "0           +  positive\n",
       "1       above  positive\n",
       "2  accumulate  positive"
      ]
     },
     "execution_count": 15,
     "metadata": {},
     "output_type": "execute_result"
    }
   ],
   "source": [
    "L2 = pd.read_csv('http://www.thomas-renault.com/l2_lexicon.csv',\n",
    "           sep = \";\")\n",
    "L2.head(3)"
   ]
  },
  {
   "cell_type": "code",
   "execution_count": 16,
   "metadata": {
    "Collapsed": "false"
   },
   "outputs": [],
   "source": [
    "list_pos = L2[L2['sentiment'].isin(['positive'])]['keyword'].tolist()\n",
    "list_neg = L2[L2['sentiment'].isin(['negative'])]['keyword'].tolist()"
   ]
  },
  {
   "cell_type": "code",
   "execution_count": 17,
   "metadata": {
    "Collapsed": "false"
   },
   "outputs": [],
   "source": [
    "def sentiment_L2(x):\n",
    "\n",
    "    \"\"\"\n",
    "    Compute the average sentiment,\n",
    "    given a list L2\n",
    "    \"\"\"\n",
    "    sentiment = 0\n",
    "    text = word_tokenize(x)\n",
    "    for x in text:\n",
    "        if x in list_pos:\n",
    "            sentiment += 1\n",
    "        elif x in list_neg:\n",
    "            sentiment += -1\n",
    "            \n",
    "    try:\n",
    "        avg_sentiment = sentiment / len(text)\n",
    "    except:\n",
    "        avg_sentiment = 0\n",
    "            \n",
    "    return avg_sentiment"
   ]
  },
  {
   "cell_type": "markdown",
   "metadata": {
    "Collapsed": "false"
   },
   "source": [
    "Example of message"
   ]
  },
  {
   "cell_type": "code",
   "execution_count": 18,
   "metadata": {
    "Collapsed": "false"
   },
   "outputs": [
    {
     "data": {
      "text/plain": [
       "'another dump right numbertag k coming morning'"
      ]
     },
     "execution_count": 18,
     "metadata": {},
     "output_type": "execute_result"
    }
   ],
   "source": [
    "X_train.iloc[0]"
   ]
  },
  {
   "cell_type": "markdown",
   "metadata": {
    "Collapsed": "false"
   },
   "source": [
    "The L2 lexicon correctly classified it as Bearish"
   ]
  },
  {
   "cell_type": "code",
   "execution_count": 19,
   "metadata": {
    "Collapsed": "false"
   },
   "outputs": [
    {
     "data": {
      "text/plain": [
       "-0.14285714285714285"
      ]
     },
     "execution_count": 19,
     "metadata": {},
     "output_type": "execute_result"
    }
   ],
   "source": [
    "sentiment_L2(x = X_train.iloc[0])"
   ]
  },
  {
   "cell_type": "markdown",
   "metadata": {
    "Collapsed": "false"
   },
   "source": [
    "Issue with the 0, classify as bearish. The cleaned corpus does not 100% match the L2 lexicon. For instance, open the second message in the test set. "
   ]
  },
  {
   "cell_type": "code",
   "execution_count": 20,
   "metadata": {
    "Collapsed": "false"
   },
   "outputs": [
    {
     "data": {
      "text/plain": [
       "'got bakkt'"
      ]
     },
     "execution_count": 20,
     "metadata": {},
     "output_type": "execute_result"
    }
   ],
   "source": [
    "X_test.iloc[1]"
   ]
  },
  {
   "cell_type": "markdown",
   "metadata": {
    "Collapsed": "false"
   },
   "source": [
    "There is no `got` in the lexicon. "
   ]
  },
  {
   "cell_type": "code",
   "execution_count": 21,
   "metadata": {
    "Collapsed": "false"
   },
   "outputs": [
    {
     "data": {
      "text/plain": [
       "15209    0.250000\n",
       "64977    0.000000\n",
       "73139    0.043478\n",
       "45321    0.000000\n",
       "11178    0.000000\n",
       "Name: body_transform, dtype: float64"
      ]
     },
     "execution_count": 21,
     "metadata": {},
     "output_type": "execute_result"
    }
   ],
   "source": [
    "y_pred = X_test.apply(sentiment_L2)\n",
    "y_pred.head()"
   ]
  },
  {
   "cell_type": "markdown",
   "metadata": {
    "Collapsed": "false"
   },
   "source": [
    "Remove unclassified messages "
   ]
  },
  {
   "cell_type": "code",
   "execution_count": 22,
   "metadata": {
    "Collapsed": "false"
   },
   "outputs": [
    {
     "data": {
      "text/plain": [
       "(3750,)"
      ]
     },
     "execution_count": 22,
     "metadata": {},
     "output_type": "execute_result"
    }
   ],
   "source": [
    "y_pred = y_pred[y_pred !=0]\n",
    "y_pred.shape"
   ]
  },
  {
   "cell_type": "code",
   "execution_count": 23,
   "metadata": {
    "Collapsed": "false"
   },
   "outputs": [
    {
     "name": "stdout",
     "output_type": "stream",
     "text": [
      "              precision    recall  f1-score   support\n",
      "\n",
      "          -1       0.47      0.77      0.58      1098\n",
      "           1       0.87      0.63      0.73      2652\n",
      "\n",
      "    accuracy                           0.67      3750\n",
      "   macro avg       0.67      0.70      0.66      3750\n",
      "weighted avg       0.75      0.67      0.69      3750\n",
      "\n"
     ]
    }
   ],
   "source": [
    "y_pred_ = np.where(y_pred > 0, 1, -1)\n",
    "print(metrics.classification_report(y_test[y_test.index.isin(y_pred.index)],\n",
    "                                    y_pred_))"
   ]
  },
  {
   "cell_type": "code",
   "execution_count": 24,
   "metadata": {
    "Collapsed": "false"
   },
   "outputs": [
    {
     "data": {
      "text/plain": [
       "array([[ 846,  252],\n",
       "       [ 971, 1681]])"
      ]
     },
     "execution_count": 24,
     "metadata": {},
     "output_type": "execute_result"
    }
   ],
   "source": [
    "metrics.confusion_matrix(y_test[y_test.index.isin(y_pred.index)],\n",
    "                         y_pred_)"
   ]
  },
  {
   "cell_type": "markdown",
   "metadata": {
    "Collapsed": "false"
   },
   "source": [
    "# L1 Approach"
   ]
  },
  {
   "cell_type": "code",
   "execution_count": 25,
   "metadata": {
    "Collapsed": "false"
   },
   "outputs": [
    {
     "data": {
      "text/html": [
       "<div>\n",
       "<style scoped>\n",
       "    .dataframe tbody tr th:only-of-type {\n",
       "        vertical-align: middle;\n",
       "    }\n",
       "\n",
       "    .dataframe tbody tr th {\n",
       "        vertical-align: top;\n",
       "    }\n",
       "\n",
       "    .dataframe thead th {\n",
       "        text-align: right;\n",
       "    }\n",
       "</style>\n",
       "<table border=\"1\" class=\"dataframe\">\n",
       "  <thead>\n",
       "    <tr style=\"text-align: right;\">\n",
       "      <th></th>\n",
       "      <th>keyword</th>\n",
       "      <th>sw</th>\n",
       "    </tr>\n",
       "  </thead>\n",
       "  <tbody>\n",
       "    <tr>\n",
       "      <th>0</th>\n",
       "      <td>up</td>\n",
       "      <td>0.233285</td>\n",
       "    </tr>\n",
       "    <tr>\n",
       "      <th>1</th>\n",
       "      <td>short</td>\n",
       "      <td>-0.581160</td>\n",
       "    </tr>\n",
       "    <tr>\n",
       "      <th>2</th>\n",
       "      <td>down</td>\n",
       "      <td>-0.462716</td>\n",
       "    </tr>\n",
       "  </tbody>\n",
       "</table>\n",
       "</div>"
      ],
      "text/plain": [
       "  keyword        sw\n",
       "0      up  0.233285\n",
       "1   short -0.581160\n",
       "2    down -0.462716"
      ]
     },
     "execution_count": 25,
     "metadata": {},
     "output_type": "execute_result"
    }
   ],
   "source": [
    "L1 = pd.read_csv('http://www.thomas-renault.com/l1_lexicon.csv',\n",
    "           sep = \";\")\n",
    "L1.head(3)"
   ]
  },
  {
   "cell_type": "code",
   "execution_count": 26,
   "metadata": {
    "Collapsed": "false"
   },
   "outputs": [],
   "source": [
    "L1_keywords = L1['keyword'].tolist()\n",
    "L1_weights = L1['sw'].tolist()"
   ]
  },
  {
   "cell_type": "code",
   "execution_count": 27,
   "metadata": {
    "Collapsed": "false"
   },
   "outputs": [],
   "source": [
    "def sentiment_L1(x):\n",
    "    \"\"\"\n",
    "    Compute the average sentiment,\n",
    "    given a list L1\n",
    "    \"\"\"\n",
    "\n",
    "\n",
    "    sentiment = 0\n",
    "    text = word_tokenize(x)\n",
    "    for x in text:\n",
    "        if x in L1_keywords:\n",
    "        # find index\n",
    "            index = L1_keywords.index(x)\n",
    "            wg = L1_weights[index]\n",
    "            sentiment += wg\n",
    "\n",
    "    try:\n",
    "        avg_sentiment = sentiment / len(text)\n",
    "    except:\n",
    "        avg_sentiment = 0\n",
    "\n",
    "    return avg_sentiment"
   ]
  },
  {
   "cell_type": "code",
   "execution_count": 28,
   "metadata": {
    "Collapsed": "false"
   },
   "outputs": [
    {
     "data": {
      "text/plain": [
       "'another dump right numbertag k coming morning'"
      ]
     },
     "execution_count": 28,
     "metadata": {},
     "output_type": "execute_result"
    }
   ],
   "source": [
    "X_train.iloc[0]"
   ]
  },
  {
   "cell_type": "code",
   "execution_count": 29,
   "metadata": {
    "Collapsed": "false"
   },
   "outputs": [
    {
     "data": {
      "text/plain": [
       "-0.07582478794299999"
      ]
     },
     "execution_count": 29,
     "metadata": {},
     "output_type": "execute_result"
    }
   ],
   "source": [
    "sentiment_L1(X_train.iloc[0])"
   ]
  },
  {
   "cell_type": "code",
   "execution_count": 30,
   "metadata": {
    "Collapsed": "false"
   },
   "outputs": [
    {
     "data": {
      "text/plain": [
       "15209    0.101329\n",
       "64977    0.000000\n",
       "73139   -0.017188\n",
       "45321    0.000000\n",
       "11178    0.000000\n",
       "Name: body_transform, dtype: float64"
      ]
     },
     "execution_count": 30,
     "metadata": {},
     "output_type": "execute_result"
    }
   ],
   "source": [
    "y_pred = X_test.apply(sentiment_L1)\n",
    "y_pred.head()"
   ]
  },
  {
   "cell_type": "code",
   "execution_count": 31,
   "metadata": {
    "Collapsed": "false"
   },
   "outputs": [
    {
     "data": {
      "text/plain": [
       "(5259,)"
      ]
     },
     "execution_count": 31,
     "metadata": {},
     "output_type": "execute_result"
    }
   ],
   "source": [
    "y_pred = y_pred[y_pred !=0]\n",
    "y_pred.shape"
   ]
  },
  {
   "cell_type": "code",
   "execution_count": 32,
   "metadata": {
    "Collapsed": "false"
   },
   "outputs": [
    {
     "name": "stdout",
     "output_type": "stream",
     "text": [
      "              precision    recall  f1-score   support\n",
      "\n",
      "          -1       0.41      0.73      0.53      1533\n",
      "           1       0.84      0.57      0.68      3726\n",
      "\n",
      "    accuracy                           0.62      5259\n",
      "   macro avg       0.62      0.65      0.60      5259\n",
      "weighted avg       0.71      0.62      0.63      5259\n",
      "\n"
     ]
    }
   ],
   "source": [
    "y_pred_ = np.where(y_pred > 0, 1, -1)\n",
    "print(metrics.classification_report(y_test[y_test.index.isin(y_pred.index)],\n",
    "                                    y_pred_))"
   ]
  },
  {
   "cell_type": "code",
   "execution_count": 33,
   "metadata": {
    "Collapsed": "false"
   },
   "outputs": [
    {
     "data": {
      "text/plain": [
       "array([[1122,  411],\n",
       "       [1605, 2121]])"
      ]
     },
     "execution_count": 33,
     "metadata": {},
     "output_type": "execute_result"
    }
   ],
   "source": [
    "metrics.confusion_matrix(y_test[y_test.index.isin(y_pred.index)], \n",
    "                         y_pred_)"
   ]
  },
  {
   "cell_type": "markdown",
   "metadata": {
    "Collapsed": "false"
   },
   "source": [
    "# Machine Learning Approach\n",
    "\n",
    "This step includes:\n",
    "\n",
    "- Build the Vectorization\n",
    "- Construct the Naive classifier"
   ]
  },
  {
   "cell_type": "code",
   "execution_count": 34,
   "metadata": {
    "Collapsed": "false"
   },
   "outputs": [],
   "source": [
    "from sklearn.feature_extraction.text import TfidfTransformer, CountVectorizer\n",
    "from sklearn.naive_bayes import MultinomialNB\n",
    "from sklearn.pipeline import Pipeline"
   ]
  },
  {
   "cell_type": "code",
   "execution_count": 35,
   "metadata": {
    "Collapsed": "false"
   },
   "outputs": [],
   "source": [
    "text_clf = Pipeline([\n",
    "    ('vect', CountVectorizer(max_features=1500,\n",
    "                             min_df=10,\n",
    "                             max_df=0.7)),\n",
    "    ('tfidf', TfidfTransformer()),\n",
    "    ('clf', MultinomialNB()),\n",
    " ])"
   ]
  },
  {
   "cell_type": "markdown",
   "metadata": {
    "Collapsed": "false"
   },
   "source": [
    "Create the first transformation of the data"
   ]
  },
  {
   "cell_type": "markdown",
   "metadata": {
    "Collapsed": "false"
   },
   "source": [
    "## Fit the model"
   ]
  },
  {
   "cell_type": "code",
   "execution_count": 36,
   "metadata": {
    "Collapsed": "false"
   },
   "outputs": [
    {
     "data": {
      "text/plain": [
       "Pipeline(memory=None,\n",
       "         steps=[('vect',\n",
       "                 CountVectorizer(analyzer='word', binary=False,\n",
       "                                 decode_error='strict',\n",
       "                                 dtype=<class 'numpy.int64'>, encoding='utf-8',\n",
       "                                 input='content', lowercase=True, max_df=0.7,\n",
       "                                 max_features=1500, min_df=10,\n",
       "                                 ngram_range=(1, 1), preprocessor=None,\n",
       "                                 stop_words=None, strip_accents=None,\n",
       "                                 token_pattern='(?u)\\\\b\\\\w\\\\w+\\\\b',\n",
       "                                 tokenizer=None, vocabulary=None)),\n",
       "                ('tfidf',\n",
       "                 TfidfTransformer(norm='l2', smooth_idf=True,\n",
       "                                  sublinear_tf=False, use_idf=True)),\n",
       "                ('clf',\n",
       "                 MultinomialNB(alpha=1.0, class_prior=None, fit_prior=True))],\n",
       "         verbose=False)"
      ]
     },
     "execution_count": 36,
     "metadata": {},
     "output_type": "execute_result"
    }
   ],
   "source": [
    "text_clf.fit(X_train, y_train)"
   ]
  },
  {
   "cell_type": "markdown",
   "metadata": {
    "Collapsed": "false"
   },
   "source": [
    "Predict first message"
   ]
  },
  {
   "cell_type": "code",
   "execution_count": 37,
   "metadata": {
    "Collapsed": "false"
   },
   "outputs": [
    {
     "data": {
      "text/plain": [
       "'another dump right numbertag k coming morning'"
      ]
     },
     "execution_count": 37,
     "metadata": {},
     "output_type": "execute_result"
    }
   ],
   "source": [
    "X_train.iloc[0]"
   ]
  },
  {
   "cell_type": "code",
   "execution_count": 38,
   "metadata": {
    "Collapsed": "false"
   },
   "outputs": [
    {
     "data": {
      "text/plain": [
       "-1"
      ]
     },
     "execution_count": 38,
     "metadata": {},
     "output_type": "execute_result"
    }
   ],
   "source": [
    "text_clf.predict(X_train)[0]"
   ]
  },
  {
   "cell_type": "markdown",
   "metadata": {
    "Collapsed": "false"
   },
   "source": [
    "Test the accuracy of the model"
   ]
  },
  {
   "cell_type": "code",
   "execution_count": 39,
   "metadata": {
    "Collapsed": "false"
   },
   "outputs": [
    {
     "name": "stdout",
     "output_type": "stream",
     "text": [
      "              precision    recall  f1-score   support\n",
      "\n",
      "          -1       0.84      0.34      0.48      2215\n",
      "           1       0.78      0.97      0.87      5436\n",
      "\n",
      "    accuracy                           0.79      7651\n",
      "   macro avg       0.81      0.66      0.67      7651\n",
      "weighted avg       0.80      0.79      0.76      7651\n",
      "\n"
     ]
    }
   ],
   "source": [
    "predicted = text_clf.predict(X_test)\n",
    "\n",
    "print(metrics.classification_report(y_test,\n",
    "                                    predicted))"
   ]
  },
  {
   "cell_type": "code",
   "execution_count": 40,
   "metadata": {
    "Collapsed": "false"
   },
   "outputs": [
    {
     "data": {
      "text/plain": [
       "array([[ 747, 1468],\n",
       "       [ 144, 5292]])"
      ]
     },
     "execution_count": 40,
     "metadata": {},
     "output_type": "execute_result"
    }
   ],
   "source": [
    "metrics.confusion_matrix(y_test, predicted)"
   ]
  },
  {
   "cell_type": "markdown",
   "metadata": {
    "Collapsed": "false"
   },
   "source": [
    "# Predict out of sample\n",
    "\n",
    "Using ML method"
   ]
  },
  {
   "cell_type": "code",
   "execution_count": 41,
   "metadata": {
    "Collapsed": "false"
   },
   "outputs": [
    {
     "name": "stdout",
     "output_type": "stream",
     "text": [
      "The shape of the data is (63528, 10), and sentiment\n",
      "Neutral    63528\n",
      "Name: sentiment, dtype: int64\n"
     ]
    }
   ],
   "source": [
    "query ={\n",
    "    \"sentiment\":\"Neutral\" \n",
    "}\n",
    "X_predict = metatransformation(client, db,\n",
    "    query = query,\n",
    "                               to_train = False)"
   ]
  },
  {
   "cell_type": "code",
   "execution_count": 42,
   "metadata": {
    "Collapsed": "false"
   },
   "outputs": [],
   "source": [
    "predicted = text_clf.predict(X_predict)"
   ]
  },
  {
   "cell_type": "code",
   "execution_count": 43,
   "metadata": {
    "Collapsed": "false"
   },
   "outputs": [],
   "source": [
    "outofsample = pd.concat([pd.Series(X_predict, name = 'body').reset_index(),\n",
    "          pd.Series(predicted, name = 'predict')], axis = 1)"
   ]
  },
  {
   "cell_type": "markdown",
   "metadata": {
    "Collapsed": "false"
   },
   "source": [
    "The model really struggles to classify the bearish"
   ]
  },
  {
   "cell_type": "code",
   "execution_count": 44,
   "metadata": {
    "Collapsed": "false"
   },
   "outputs": [
    {
     "data": {
      "text/plain": [
       "predict\n",
       "-1     5538\n",
       " 1    57990\n",
       "Name: predict, dtype: int64"
      ]
     },
     "execution_count": 44,
     "metadata": {},
     "output_type": "execute_result"
    }
   ],
   "source": [
    "outofsample.groupby('predict')['predict'].count()"
   ]
  },
  {
   "cell_type": "markdown",
   "metadata": {
    "Collapsed": "false"
   },
   "source": [
    "Example"
   ]
  },
  {
   "cell_type": "code",
   "execution_count": 45,
   "metadata": {
    "Collapsed": "false"
   },
   "outputs": [
    {
     "data": {
      "text/html": [
       "<div>\n",
       "<style scoped>\n",
       "    .dataframe tbody tr th:only-of-type {\n",
       "        vertical-align: middle;\n",
       "    }\n",
       "\n",
       "    .dataframe tbody tr th {\n",
       "        vertical-align: top;\n",
       "    }\n",
       "\n",
       "    .dataframe thead th {\n",
       "        text-align: right;\n",
       "    }\n",
       "</style>\n",
       "<table border=\"1\" class=\"dataframe\">\n",
       "  <thead>\n",
       "    <tr style=\"text-align: right;\">\n",
       "      <th></th>\n",
       "      <th>index</th>\n",
       "      <th>body</th>\n",
       "      <th>predict</th>\n",
       "    </tr>\n",
       "  </thead>\n",
       "  <tbody>\n",
       "    <tr>\n",
       "      <th>0</th>\n",
       "      <td>0</td>\n",
       "      <td>bear get back numbertag k job put phone pocket</td>\n",
       "      <td>1</td>\n",
       "    </tr>\n",
       "    <tr>\n",
       "      <th>1</th>\n",
       "      <td>2</td>\n",
       "      <td>numbertag k</td>\n",
       "      <td>1</td>\n",
       "    </tr>\n",
       "    <tr>\n",
       "      <th>2</th>\n",
       "      <td>3</td>\n",
       "      <td>sadly look like leg leg</td>\n",
       "      <td>1</td>\n",
       "    </tr>\n",
       "    <tr>\n",
       "      <th>3</th>\n",
       "      <td>4</td>\n",
       "      <td>nice fly</td>\n",
       "      <td>1</td>\n",
       "    </tr>\n",
       "  </tbody>\n",
       "</table>\n",
       "</div>"
      ],
      "text/plain": [
       "   index                                            body  predict\n",
       "0      0  bear get back numbertag k job put phone pocket        1\n",
       "1      2                                     numbertag k        1\n",
       "2      3                         sadly look like leg leg        1\n",
       "3      4                                        nice fly        1"
      ]
     },
     "execution_count": 45,
     "metadata": {},
     "output_type": "execute_result"
    }
   ],
   "source": [
    "outofsample[outofsample['predict'].isin([1])].head(4)"
   ]
  },
  {
   "cell_type": "code",
   "execution_count": 46,
   "metadata": {
    "Collapsed": "false"
   },
   "outputs": [
    {
     "data": {
      "text/html": [
       "<div>\n",
       "<style scoped>\n",
       "    .dataframe tbody tr th:only-of-type {\n",
       "        vertical-align: middle;\n",
       "    }\n",
       "\n",
       "    .dataframe tbody tr th {\n",
       "        vertical-align: top;\n",
       "    }\n",
       "\n",
       "    .dataframe thead th {\n",
       "        text-align: right;\n",
       "    }\n",
       "</style>\n",
       "<table border=\"1\" class=\"dataframe\">\n",
       "  <thead>\n",
       "    <tr style=\"text-align: right;\">\n",
       "      <th></th>\n",
       "      <th>index</th>\n",
       "      <th>body</th>\n",
       "      <th>predict</th>\n",
       "    </tr>\n",
       "  </thead>\n",
       "  <tbody>\n",
       "    <tr>\n",
       "      <th>33</th>\n",
       "      <td>37</td>\n",
       "      <td>look numbertag year chart look like still lot ...</td>\n",
       "      <td>-1</td>\n",
       "    </tr>\n",
       "    <tr>\n",
       "      <th>68</th>\n",
       "      <td>79</td>\n",
       "      <td>low trading right xnumbertag risky right large...</td>\n",
       "      <td>-1</td>\n",
       "    </tr>\n",
       "    <tr>\n",
       "      <th>69</th>\n",
       "      <td>80</td>\n",
       "      <td>real gold dumped woow</td>\n",
       "      <td>-1</td>\n",
       "    </tr>\n",
       "    <tr>\n",
       "      <th>77</th>\n",
       "      <td>95</td>\n",
       "      <td>prisoner moment vast majority people lose mone...</td>\n",
       "      <td>-1</td>\n",
       "    </tr>\n",
       "  </tbody>\n",
       "</table>\n",
       "</div>"
      ],
      "text/plain": [
       "    index                                               body  predict\n",
       "33     37  look numbertag year chart look like still lot ...       -1\n",
       "68     79  low trading right xnumbertag risky right large...       -1\n",
       "69     80                              real gold dumped woow       -1\n",
       "77     95  prisoner moment vast majority people lose mone...       -1"
      ]
     },
     "execution_count": 46,
     "metadata": {},
     "output_type": "execute_result"
    }
   ],
   "source": [
    "outofsample[outofsample['predict'].isin([-1])].head(4)"
   ]
  },
  {
   "cell_type": "markdown",
   "metadata": {
    "Collapsed": "false"
   },
   "source": [
    "## Get Bitcoins Data\n",
    "\n",
    "Extracted from [Quandl](https://www.quandl.com/data/BCHAIN/MKPRU-Bitcoin-Market-Price-USD)"
   ]
  },
  {
   "cell_type": "code",
   "execution_count": 47,
   "metadata": {
    "Collapsed": "false"
   },
   "outputs": [],
   "source": [
    "import quandl\n",
    "quandl.ApiConfig.api_key = \"gs_J3domJb8kT6WjLz9s\""
   ]
  },
  {
   "cell_type": "code",
   "execution_count": 48,
   "metadata": {
    "Collapsed": "false"
   },
   "outputs": [
    {
     "data": {
      "text/html": [
       "<div>\n",
       "<style scoped>\n",
       "    .dataframe tbody tr th:only-of-type {\n",
       "        vertical-align: middle;\n",
       "    }\n",
       "\n",
       "    .dataframe tbody tr th {\n",
       "        vertical-align: top;\n",
       "    }\n",
       "\n",
       "    .dataframe thead th {\n",
       "        text-align: right;\n",
       "    }\n",
       "</style>\n",
       "<table border=\"1\" class=\"dataframe\">\n",
       "  <thead>\n",
       "    <tr style=\"text-align: right;\">\n",
       "      <th></th>\n",
       "      <th>Value</th>\n",
       "      <th>returns</th>\n",
       "    </tr>\n",
       "    <tr>\n",
       "      <th>Date</th>\n",
       "      <th></th>\n",
       "      <th></th>\n",
       "    </tr>\n",
       "  </thead>\n",
       "  <tbody>\n",
       "    <tr>\n",
       "      <th>2019-09-26</th>\n",
       "      <td>8459.584167</td>\n",
       "      <td>-0.105451</td>\n",
       "    </tr>\n",
       "    <tr>\n",
       "      <th>2019-09-27</th>\n",
       "      <td>8257.246667</td>\n",
       "      <td>-0.023918</td>\n",
       "    </tr>\n",
       "    <tr>\n",
       "      <th>2019-09-28</th>\n",
       "      <td>8042.416667</td>\n",
       "      <td>-0.026017</td>\n",
       "    </tr>\n",
       "    <tr>\n",
       "      <th>2019-09-29</th>\n",
       "      <td>8154.111667</td>\n",
       "      <td>0.013888</td>\n",
       "    </tr>\n",
       "    <tr>\n",
       "      <th>2019-09-30</th>\n",
       "      <td>8086.552500</td>\n",
       "      <td>-0.008285</td>\n",
       "    </tr>\n",
       "  </tbody>\n",
       "</table>\n",
       "</div>"
      ],
      "text/plain": [
       "                  Value   returns\n",
       "Date                             \n",
       "2019-09-26  8459.584167 -0.105451\n",
       "2019-09-27  8257.246667 -0.023918\n",
       "2019-09-28  8042.416667 -0.026017\n",
       "2019-09-29  8154.111667  0.013888\n",
       "2019-09-30  8086.552500 -0.008285"
      ]
     },
     "execution_count": 48,
     "metadata": {},
     "output_type": "execute_result"
    }
   ],
   "source": [
    "bitcoin = quandl.get(\"BCHAIN/MKPRU\")\n",
    "bitcoin['returns'] = bitcoin.pct_change(1)\n",
    "bitcoin.tail()"
   ]
  },
  {
   "cell_type": "code",
   "execution_count": 49,
   "metadata": {
    "Collapsed": "false"
   },
   "outputs": [
    {
     "data": {
      "text/plain": [
       "<matplotlib.axes._subplots.AxesSubplot at 0x1a21ef3320>"
      ]
     },
     "execution_count": 49,
     "metadata": {},
     "output_type": "execute_result"
    },
    {
     "data": {
      "image/png": "[encoded data removed]",
      "text/plain": [
       "<Figure size 432x288 with 1 Axes>"
      ]
     },
     "metadata": {
      "needs_background": "light"
     },
     "output_type": "display_data"
    }
   ],
   "source": [
    "bitcoin['Value'].plot(title='Values of Bitcoins')"
   ]
  },
  {
   "cell_type": "code",
   "execution_count": 50,
   "metadata": {
    "Collapsed": "false"
   },
   "outputs": [
    {
     "data": {
      "text/plain": [
       "<matplotlib.axes._subplots.AxesSubplot at 0x1a1ef77208>"
      ]
     },
     "execution_count": 50,
     "metadata": {},
     "output_type": "execute_result"
    },
    {
     "data": {
      "image/png": "[encoded data removed]",
      "text/plain": [
       "<Figure size 432x288 with 1 Axes>"
      ]
     },
     "metadata": {
      "needs_background": "light"
     },
     "output_type": "display_data"
    }
   ],
   "source": [
    "### Looks stationary\n",
    "bitcoin['returns'].dropna().plot(title='Returns of Bitcoins')"
   ]
  },
  {
   "cell_type": "markdown",
   "metadata": {
    "Collapsed": "false"
   },
   "source": [
    "## Daily aggregated sentiment\n",
    "\n",
    "Compute the daily average: Only on messages we have the sentiments since our classifier is not very much reliable"
   ]
  },
  {
   "cell_type": "code",
   "execution_count": 51,
   "metadata": {
    "Collapsed": "false"
   },
   "outputs": [],
   "source": [
    "query = {\"sentiment\": {\"$ne\": \"Neutral\"}}\n",
    "text = pd.DataFrame(list(db.messages.find(query)))\n",
    "text[\"created_at\"] = pd.to_datetime(text[\"created_at\"], infer_datetime_format=True)\n",
    "text = (text\n",
    "        .set_index(\"created_at\")\n",
    "        .drop(columns=\"id\")\n",
    "        .resample(\"D\")\n",
    "        .mean()\n",
    "       )"
   ]
  },
  {
   "cell_type": "code",
   "execution_count": 52,
   "metadata": {
    "Collapsed": "false"
   },
   "outputs": [
    {
     "data": {
      "text/html": [
       "<div>\n",
       "<style scoped>\n",
       "    .dataframe tbody tr th:only-of-type {\n",
       "        vertical-align: middle;\n",
       "    }\n",
       "\n",
       "    .dataframe tbody tr th {\n",
       "        vertical-align: top;\n",
       "    }\n",
       "\n",
       "    .dataframe thead th {\n",
       "        text-align: right;\n",
       "    }\n",
       "</style>\n",
       "<table border=\"1\" class=\"dataframe\">\n",
       "  <thead>\n",
       "    <tr style=\"text-align: right;\">\n",
       "      <th></th>\n",
       "      <th>sentiment_</th>\n",
       "      <th>Value</th>\n",
       "      <th>returns</th>\n",
       "    </tr>\n",
       "  </thead>\n",
       "  <tbody>\n",
       "    <tr>\n",
       "      <th>2019-08-27</th>\n",
       "      <td>0.806452</td>\n",
       "      <td>10347.806667</td>\n",
       "      <td>0.023945</td>\n",
       "    </tr>\n",
       "    <tr>\n",
       "      <th>2019-08-28</th>\n",
       "      <td>0.250689</td>\n",
       "      <td>10176.794167</td>\n",
       "      <td>-0.016526</td>\n",
       "    </tr>\n",
       "    <tr>\n",
       "      <th>2019-08-29</th>\n",
       "      <td>0.281106</td>\n",
       "      <td>10039.112500</td>\n",
       "      <td>-0.013529</td>\n",
       "    </tr>\n",
       "    <tr>\n",
       "      <th>2019-08-30</th>\n",
       "      <td>0.497992</td>\n",
       "      <td>9521.571667</td>\n",
       "      <td>-0.051552</td>\n",
       "    </tr>\n",
       "    <tr>\n",
       "      <th>2019-08-31</th>\n",
       "      <td>0.661176</td>\n",
       "      <td>9539.253333</td>\n",
       "      <td>0.001857</td>\n",
       "    </tr>\n",
       "  </tbody>\n",
       "</table>\n",
       "</div>"
      ],
      "text/plain": [
       "            sentiment_         Value   returns\n",
       "2019-08-27    0.806452  10347.806667  0.023945\n",
       "2019-08-28    0.250689  10176.794167 -0.016526\n",
       "2019-08-29    0.281106  10039.112500 -0.013529\n",
       "2019-08-30    0.497992   9521.571667 -0.051552\n",
       "2019-08-31    0.661176   9539.253333  0.001857"
      ]
     },
     "execution_count": 52,
     "metadata": {},
     "output_type": "execute_result"
    }
   ],
   "source": [
    "timeseries = pd.concat([text, bitcoin], axis = 1, join=\"inner\")\n",
    "\n",
    "timeseries.head()"
   ]
  },
  {
   "cell_type": "code",
   "execution_count": 53,
   "metadata": {
    "Collapsed": "false"
   },
   "outputs": [
    {
     "data": {
      "image/png": "[encoded data removed]",
      "text/plain": [
       "<Figure size 432x288 with 2 Axes>"
      ]
     },
     "metadata": {
      "needs_background": "light"
     },
     "output_type": "display_data"
    }
   ],
   "source": [
    "axw = timeseries[['sentiment_', 'returns']].plot(secondary_y = 'returns',\n",
    "                      title='Relationship betxeen sentiments and Bitcoins return')\n",
    "figw = axw.get_figure()"
   ]
  },
  {
   "cell_type": "markdown",
   "metadata": {
    "Collapsed": "false"
   },
   "source": [
    "## Granger test\n",
    "\n",
    "Test the Granger Causality between sentiment on social media and stock returns\n",
    "\n",
    "### How does Granger causality test work?\n",
    "\n",
    "It is based on the idea that if X causes Y, then the forecast of Y based on previous values of Y AND the previous values of X should outperform the forecast of Y based on previous values of Y alone.\n",
    "\n",
    "According to Statsmodels \n",
    "\n",
    "The Null hypothesis for `grangercausalitytests` is that the time series in the second column, x2, does NOT Granger cause the time series in the first column, x1. Grange causality means that past values of x2 have a statistically significant effect on the current value of x1, taking past values of x1 into account as regressors. We reject the null hypothesis that x2 does not Granger cause x1 if the pvalues are below a desired size of the test.\n",
    "\n",
    "The null hypothesis for all four test is that the coefficients corresponding to past values of the second time series are zero."
   ]
  },
  {
   "cell_type": "code",
   "execution_count": 54,
   "metadata": {
    "Collapsed": "false"
   },
   "outputs": [],
   "source": [
    "from statsmodels.tsa.stattools import grangercausalitytests"
   ]
  },
  {
   "cell_type": "markdown",
   "metadata": {
    "Collapsed": "false"
   },
   "source": [
    "According to the results, we believe there is no granger causality from sentiment to returns, ie all p-values are all above .05, accepting the null hypothesis, the time series in the second column, x2, does NOT Granger cause the time series in the first column, x1."
   ]
  },
  {
   "cell_type": "code",
   "execution_count": 55,
   "metadata": {
    "Collapsed": "false"
   },
   "outputs": [
    {
     "name": "stdout",
     "output_type": "stream",
     "text": [
      "\n",
      "Granger Causality\n",
      "number of lags (no zero) 1\n",
      "ssr based F test:         F=7.1812  , p=0.0118  , df_denom=30, df_num=1\n",
      "ssr based chi2 test:   chi2=7.8994  , p=0.0049  , df=1\n",
      "likelihood ratio test: chi2=7.0820  , p=0.0078  , df=1\n",
      "parameter F test:         F=7.1812  , p=0.0118  , df_denom=30, df_num=1\n",
      "\n",
      "Granger Causality\n",
      "number of lags (no zero) 2\n",
      "ssr based F test:         F=4.4197  , p=0.0219  , df_denom=27, df_num=2\n",
      "ssr based chi2 test:   chi2=10.4764 , p=0.0053  , df=2\n",
      "likelihood ratio test: chi2=9.0628  , p=0.0108  , df=2\n",
      "parameter F test:         F=4.4197  , p=0.0219  , df_denom=27, df_num=2\n",
      "\n",
      "Granger Causality\n",
      "number of lags (no zero) 3\n",
      "ssr based F test:         F=4.0873  , p=0.0177  , df_denom=24, df_num=3\n",
      "ssr based chi2 test:   chi2=15.8383 , p=0.0012  , df=3\n",
      "likelihood ratio test: chi2=12.7941 , p=0.0051  , df=3\n",
      "parameter F test:         F=4.0873  , p=0.0177  , df_denom=24, df_num=3\n",
      "\n",
      "Granger Causality\n",
      "number of lags (no zero) 4\n",
      "ssr based F test:         F=2.0080  , p=0.1302  , df_denom=21, df_num=4\n",
      "ssr based chi2 test:   chi2=11.4745 , p=0.0217  , df=4\n",
      "likelihood ratio test: chi2=9.7164  , p=0.0455  , df=4\n",
      "parameter F test:         F=2.0080  , p=0.1302  , df_denom=21, df_num=4\n"
     ]
    },
    {
     "data": {
      "text/plain": [
       "{1: ({'ssr_ftest': (7.181227503066568, 0.011846355265075752, 30.0, 1),\n",
       "   'ssr_chi2test': (7.899350253373224, 0.004945255792934745, 1),\n",
       "   'lrtest': (7.082018302606343, 0.007786126428315471, 1),\n",
       "   'params_ftest': (7.181227503066577, 0.011846355265075699, 30.0, 1.0)},\n",
       "  [<statsmodels.regression.linear_model.RegressionResultsWrapper at 0x1a264cb7f0>,\n",
       "   <statsmodels.regression.linear_model.RegressionResultsWrapper at 0x1a264cb6d8>,\n",
       "   array([[0., 1., 0.]])]),\n",
       " 2: ({'ssr_ftest': (4.4197484232420745, 0.021853706845479975, 27.0, 2),\n",
       "   'ssr_chi2test': (10.476440706944176, 0.005309697817859066, 2),\n",
       "   'lrtest': (9.062837859912776, 0.010765389896085062, 2),\n",
       "   'params_ftest': (4.419748423242084, 0.021853706845479843, 27.0, 2.0)},\n",
       "  [<statsmodels.regression.linear_model.RegressionResultsWrapper at 0x1a264cba58>,\n",
       "   <statsmodels.regression.linear_model.RegressionResultsWrapper at 0x1a264cbb38>,\n",
       "   array([[0., 0., 1., 0., 0.],\n",
       "          [0., 0., 0., 1., 0.]])]),\n",
       " 3: ({'ssr_ftest': (4.087302048497901, 0.01772756592818935, 24.0, 3),\n",
       "   'ssr_chi2test': (15.838295437929368, 0.0012239125513905274, 3),\n",
       "   'lrtest': (12.794132214997944, 0.005103632912955087, 3),\n",
       "   'params_ftest': (4.087302048497903, 0.017727565928189318, 24.0, 3.0)},\n",
       "  [<statsmodels.regression.linear_model.RegressionResultsWrapper at 0x1a264cbe10>,\n",
       "   <statsmodels.regression.linear_model.RegressionResultsWrapper at 0x1a264cbef0>,\n",
       "   array([[0., 0., 0., 1., 0., 0., 0.],\n",
       "          [0., 0., 0., 0., 1., 0., 0.],\n",
       "          [0., 0., 0., 0., 0., 1., 0.]])]),\n",
       " 4: ({'ssr_ftest': (2.0080357608588146, 0.13022362752626634, 21.0, 4),\n",
       "   'ssr_chi2test': (11.474490062050368, 0.021718432853168882, 4),\n",
       "   'lrtest': (9.71643477811989, 0.045485029389679, 4),\n",
       "   'params_ftest': (2.0080357608588164, 0.13022362752626604, 21.0, 4.0)},\n",
       "  [<statsmodels.regression.linear_model.RegressionResultsWrapper at 0x1a1edf3278>,\n",
       "   <statsmodels.regression.linear_model.RegressionResultsWrapper at 0x1a1edf3358>,\n",
       "   array([[0., 0., 0., 0., 1., 0., 0., 0., 0.],\n",
       "          [0., 0., 0., 0., 0., 1., 0., 0., 0.],\n",
       "          [0., 0., 0., 0., 0., 0., 1., 0., 0.],\n",
       "          [0., 0., 0., 0., 0., 0., 0., 1., 0.]])])}"
      ]
     },
     "execution_count": 55,
     "metadata": {},
     "output_type": "execute_result"
    }
   ],
   "source": [
    "grangercausalitytests(timeseries[['returns', 'sentiment_']], maxlag=4)"
   ]
  },
  {
   "cell_type": "markdown",
   "metadata": {
    "Collapsed": "false"
   },
   "source": [
    "## Regress\n",
    "\n",
    "$$\n",
    "r_{i, t}=\\alpha+\\beta_{1} \\Delta s_{1, t}+\\beta_{2} \\Delta s_{i, t-1}+\\epsilon_{t}\n",
    "$$\n"
   ]
  },
  {
   "cell_type": "code",
   "execution_count": 56,
   "metadata": {
    "Collapsed": "false"
   },
   "outputs": [],
   "source": [
    "timeseries['sentiment_lag'] = timeseries['sentiment_'].shift(1)"
   ]
  },
  {
   "cell_type": "code",
   "execution_count": 57,
   "metadata": {
    "Collapsed": "false"
   },
   "outputs": [
    {
     "data": {
      "text/html": [
       "<div>\n",
       "<style scoped>\n",
       "    .dataframe tbody tr th:only-of-type {\n",
       "        vertical-align: middle;\n",
       "    }\n",
       "\n",
       "    .dataframe tbody tr th {\n",
       "        vertical-align: top;\n",
       "    }\n",
       "\n",
       "    .dataframe thead th {\n",
       "        text-align: right;\n",
       "    }\n",
       "</style>\n",
       "<table border=\"1\" class=\"dataframe\">\n",
       "  <thead>\n",
       "    <tr style=\"text-align: right;\">\n",
       "      <th></th>\n",
       "      <th>sentiment_</th>\n",
       "      <th>Value</th>\n",
       "      <th>returns</th>\n",
       "      <th>sentiment_lag</th>\n",
       "      <th>L_s1</th>\n",
       "      <th>L_s2</th>\n",
       "    </tr>\n",
       "  </thead>\n",
       "  <tbody>\n",
       "    <tr>\n",
       "      <th>2019-08-27</th>\n",
       "      <td>0.806452</td>\n",
       "      <td>10347.806667</td>\n",
       "      <td>0.023945</td>\n",
       "      <td>NaN</td>\n",
       "      <td>NaN</td>\n",
       "      <td>NaN</td>\n",
       "    </tr>\n",
       "    <tr>\n",
       "      <th>2019-08-28</th>\n",
       "      <td>0.250689</td>\n",
       "      <td>10176.794167</td>\n",
       "      <td>-0.016526</td>\n",
       "      <td>0.806452</td>\n",
       "      <td>-0.689146</td>\n",
       "      <td>NaN</td>\n",
       "    </tr>\n",
       "    <tr>\n",
       "      <th>2019-08-29</th>\n",
       "      <td>0.281106</td>\n",
       "      <td>10039.112500</td>\n",
       "      <td>-0.013529</td>\n",
       "      <td>0.250689</td>\n",
       "      <td>0.121335</td>\n",
       "      <td>-0.689146</td>\n",
       "    </tr>\n",
       "    <tr>\n",
       "      <th>2019-08-30</th>\n",
       "      <td>0.497992</td>\n",
       "      <td>9521.571667</td>\n",
       "      <td>-0.051552</td>\n",
       "      <td>0.281106</td>\n",
       "      <td>0.771545</td>\n",
       "      <td>0.121335</td>\n",
       "    </tr>\n",
       "    <tr>\n",
       "      <th>2019-08-31</th>\n",
       "      <td>0.661176</td>\n",
       "      <td>9539.253333</td>\n",
       "      <td>0.001857</td>\n",
       "      <td>0.497992</td>\n",
       "      <td>0.327685</td>\n",
       "      <td>0.771545</td>\n",
       "    </tr>\n",
       "  </tbody>\n",
       "</table>\n",
       "</div>"
      ],
      "text/plain": [
       "            sentiment_         Value   returns  sentiment_lag      L_s1  \\\n",
       "2019-08-27    0.806452  10347.806667  0.023945            NaN       NaN   \n",
       "2019-08-28    0.250689  10176.794167 -0.016526       0.806452 -0.689146   \n",
       "2019-08-29    0.281106  10039.112500 -0.013529       0.250689  0.121335   \n",
       "2019-08-30    0.497992   9521.571667 -0.051552       0.281106  0.771545   \n",
       "2019-08-31    0.661176   9539.253333  0.001857       0.497992  0.327685   \n",
       "\n",
       "                L_s2  \n",
       "2019-08-27       NaN  \n",
       "2019-08-28       NaN  \n",
       "2019-08-29 -0.689146  \n",
       "2019-08-30  0.121335  \n",
       "2019-08-31  0.771545  "
      ]
     },
     "execution_count": 57,
     "metadata": {},
     "output_type": "execute_result"
    }
   ],
   "source": [
    "timeseries['L_s1'] = timeseries['sentiment_'].pct_change(1)\n",
    "timeseries['L_s2'] = timeseries['sentiment_lag'].pct_change(1)\n",
    "timeseries.head()"
   ]
  },
  {
   "cell_type": "code",
   "execution_count": 58,
   "metadata": {
    "Collapsed": "false"
   },
   "outputs": [],
   "source": [
    "import statsmodels.api as sm\n",
    "import statsmodels.formula.api as smf"
   ]
  },
  {
   "cell_type": "code",
   "execution_count": 59,
   "metadata": {
    "Collapsed": "false"
   },
   "outputs": [
    {
     "data": {
      "text/html": [
       "<table class=\"simpletable\">\n",
       "<caption>OLS Regression Results</caption>\n",
       "<tr>\n",
       "  <th>Dep. Variable:</th>         <td>returns</td>     <th>  R-squared:         </th> <td>   0.039</td>\n",
       "</tr>\n",
       "<tr>\n",
       "  <th>Model:</th>                   <td>OLS</td>       <th>  Adj. R-squared:    </th> <td>  -0.028</td>\n",
       "</tr>\n",
       "<tr>\n",
       "  <th>Method:</th>             <td>Least Squares</td>  <th>  F-statistic:       </th> <td>  0.5842</td>\n",
       "</tr>\n",
       "<tr>\n",
       "  <th>Date:</th>             <td>Mon, 30 Sep 2019</td> <th>  Prob (F-statistic):</th>  <td> 0.564</td> \n",
       "</tr>\n",
       "<tr>\n",
       "  <th>Time:</th>                 <td>13:43:17</td>     <th>  Log-Likelihood:    </th> <td>  70.911</td>\n",
       "</tr>\n",
       "<tr>\n",
       "  <th>No. Observations:</th>      <td>    32</td>      <th>  AIC:               </th> <td>  -135.8</td>\n",
       "</tr>\n",
       "<tr>\n",
       "  <th>Df Residuals:</th>          <td>    29</td>      <th>  BIC:               </th> <td>  -131.4</td>\n",
       "</tr>\n",
       "<tr>\n",
       "  <th>Df Model:</th>              <td>     2</td>      <th>                     </th>     <td> </td>   \n",
       "</tr>\n",
       "<tr>\n",
       "  <th>Covariance Type:</th>      <td>nonrobust</td>    <th>                     </th>     <td> </td>   \n",
       "</tr>\n",
       "</table>\n",
       "<table class=\"simpletable\">\n",
       "<tr>\n",
       "      <td></td>         <th>coef</th>     <th>std err</th>      <th>t</th>      <th>P>|t|</th>  <th>[0.025</th>    <th>0.975]</th>  \n",
       "</tr>\n",
       "<tr>\n",
       "  <th>Intercept</th> <td>   -0.0061</td> <td>    0.005</td> <td>   -1.247</td> <td> 0.222</td> <td>   -0.016</td> <td>    0.004</td>\n",
       "</tr>\n",
       "<tr>\n",
       "  <th>L_s1</th>      <td>   -0.0168</td> <td>    0.016</td> <td>   -1.075</td> <td> 0.291</td> <td>   -0.049</td> <td>    0.015</td>\n",
       "</tr>\n",
       "<tr>\n",
       "  <th>L_s2</th>      <td>   -0.0012</td> <td>    0.016</td> <td>   -0.076</td> <td> 0.940</td> <td>   -0.033</td> <td>    0.031</td>\n",
       "</tr>\n",
       "</table>\n",
       "<table class=\"simpletable\">\n",
       "<tr>\n",
       "  <th>Omnibus:</th>       <td>24.584</td> <th>  Durbin-Watson:     </th> <td>   1.238</td>\n",
       "</tr>\n",
       "<tr>\n",
       "  <th>Prob(Omnibus):</th> <td> 0.000</td> <th>  Jarque-Bera (JB):  </th> <td>  64.282</td>\n",
       "</tr>\n",
       "<tr>\n",
       "  <th>Skew:</th>          <td>-1.510</td> <th>  Prob(JB):          </th> <td>1.10e-14</td>\n",
       "</tr>\n",
       "<tr>\n",
       "  <th>Kurtosis:</th>      <td> 9.252</td> <th>  Cond. No.          </th> <td>    3.47</td>\n",
       "</tr>\n",
       "</table><br/><br/>Warnings:<br/>[1] Standard Errors assume that the covariance matrix of the errors is correctly specified."
      ],
      "text/plain": [
       "<class 'statsmodels.iolib.summary.Summary'>\n",
       "\"\"\"\n",
       "                            OLS Regression Results                            \n",
       "==============================================================================\n",
       "Dep. Variable:                returns   R-squared:                       0.039\n",
       "Model:                            OLS   Adj. R-squared:                 -0.028\n",
       "Method:                 Least Squares   F-statistic:                    0.5842\n",
       "Date:                Mon, 30 Sep 2019   Prob (F-statistic):              0.564\n",
       "Time:                        13:43:17   Log-Likelihood:                 70.911\n",
       "No. Observations:                  32   AIC:                            -135.8\n",
       "Df Residuals:                      29   BIC:                            -131.4\n",
       "Df Model:                           2                                         \n",
       "Covariance Type:            nonrobust                                         \n",
       "==============================================================================\n",
       "                 coef    std err          t      P>|t|      [0.025      0.975]\n",
       "------------------------------------------------------------------------------\n",
       "Intercept     -0.0061      0.005     -1.247      0.222      -0.016       0.004\n",
       "L_s1          -0.0168      0.016     -1.075      0.291      -0.049       0.015\n",
       "L_s2          -0.0012      0.016     -0.076      0.940      -0.033       0.031\n",
       "==============================================================================\n",
       "Omnibus:                       24.584   Durbin-Watson:                   1.238\n",
       "Prob(Omnibus):                  0.000   Jarque-Bera (JB):               64.282\n",
       "Skew:                          -1.510   Prob(JB):                     1.10e-14\n",
       "Kurtosis:                       9.252   Cond. No.                         3.47\n",
       "==============================================================================\n",
       "\n",
       "Warnings:\n",
       "[1] Standard Errors assume that the covariance matrix of the errors is correctly specified.\n",
       "\"\"\""
      ]
     },
     "execution_count": 59,
     "metadata": {},
     "output_type": "execute_result"
    }
   ],
   "source": [
    "mod1 = smf.ols(formula='returns ~ L_s1 + L_s2', \n",
    "               data=timeseries).fit()\n",
    "mod1.summary()"
   ]
  },
  {
   "cell_type": "markdown",
   "metadata": {
    "Collapsed": "false"
   },
   "source": [
    "$$\n",
    "r_{i, t}=\\alpha+ \\beta_{1} \\Delta s_{1, t}+ \\beta_{2} \\Delta s_{i, t-1}+ \n",
    "+\\beta_{3} \\Delta r_{1, t-1}+\\beta_{4} \\Delta r_{i, t-2}\n",
    "+  \\epsilon_{t}\n",
    "$$"
   ]
  },
  {
   "cell_type": "code",
   "execution_count": 60,
   "metadata": {
    "Collapsed": "false"
   },
   "outputs": [
    {
     "data": {
      "text/html": [
       "<div>\n",
       "<style scoped>\n",
       "    .dataframe tbody tr th:only-of-type {\n",
       "        vertical-align: middle;\n",
       "    }\n",
       "\n",
       "    .dataframe tbody tr th {\n",
       "        vertical-align: top;\n",
       "    }\n",
       "\n",
       "    .dataframe thead th {\n",
       "        text-align: right;\n",
       "    }\n",
       "</style>\n",
       "<table border=\"1\" class=\"dataframe\">\n",
       "  <thead>\n",
       "    <tr style=\"text-align: right;\">\n",
       "      <th></th>\n",
       "      <th>sentiment_</th>\n",
       "      <th>Value</th>\n",
       "      <th>returns</th>\n",
       "      <th>sentiment_lag</th>\n",
       "      <th>L_s1</th>\n",
       "      <th>L_s2</th>\n",
       "      <th>returns_lag</th>\n",
       "      <th>L_r1</th>\n",
       "      <th>L_r2</th>\n",
       "    </tr>\n",
       "  </thead>\n",
       "  <tbody>\n",
       "    <tr>\n",
       "      <th>2019-08-27</th>\n",
       "      <td>0.806452</td>\n",
       "      <td>10347.806667</td>\n",
       "      <td>0.023945</td>\n",
       "      <td>NaN</td>\n",
       "      <td>NaN</td>\n",
       "      <td>NaN</td>\n",
       "      <td>NaN</td>\n",
       "      <td>NaN</td>\n",
       "      <td>NaN</td>\n",
       "    </tr>\n",
       "    <tr>\n",
       "      <th>2019-08-28</th>\n",
       "      <td>0.250689</td>\n",
       "      <td>10176.794167</td>\n",
       "      <td>-0.016526</td>\n",
       "      <td>0.806452</td>\n",
       "      <td>-0.689146</td>\n",
       "      <td>NaN</td>\n",
       "      <td>0.023945</td>\n",
       "      <td>-1.690193</td>\n",
       "      <td>NaN</td>\n",
       "    </tr>\n",
       "    <tr>\n",
       "      <th>2019-08-29</th>\n",
       "      <td>0.281106</td>\n",
       "      <td>10039.112500</td>\n",
       "      <td>-0.013529</td>\n",
       "      <td>0.250689</td>\n",
       "      <td>0.121335</td>\n",
       "      <td>-0.689146</td>\n",
       "      <td>-0.016526</td>\n",
       "      <td>-0.181374</td>\n",
       "      <td>-1.690193</td>\n",
       "    </tr>\n",
       "    <tr>\n",
       "      <th>2019-08-30</th>\n",
       "      <td>0.497992</td>\n",
       "      <td>9521.571667</td>\n",
       "      <td>-0.051552</td>\n",
       "      <td>0.281106</td>\n",
       "      <td>0.771545</td>\n",
       "      <td>0.121335</td>\n",
       "      <td>-0.013529</td>\n",
       "      <td>2.810519</td>\n",
       "      <td>-0.181374</td>\n",
       "    </tr>\n",
       "    <tr>\n",
       "      <th>2019-08-31</th>\n",
       "      <td>0.661176</td>\n",
       "      <td>9539.253333</td>\n",
       "      <td>0.001857</td>\n",
       "      <td>0.497992</td>\n",
       "      <td>0.327685</td>\n",
       "      <td>0.771545</td>\n",
       "      <td>-0.051552</td>\n",
       "      <td>-1.036022</td>\n",
       "      <td>2.810519</td>\n",
       "    </tr>\n",
       "  </tbody>\n",
       "</table>\n",
       "</div>"
      ],
      "text/plain": [
       "            sentiment_         Value   returns  sentiment_lag      L_s1  \\\n",
       "2019-08-27    0.806452  10347.806667  0.023945            NaN       NaN   \n",
       "2019-08-28    0.250689  10176.794167 -0.016526       0.806452 -0.689146   \n",
       "2019-08-29    0.281106  10039.112500 -0.013529       0.250689  0.121335   \n",
       "2019-08-30    0.497992   9521.571667 -0.051552       0.281106  0.771545   \n",
       "2019-08-31    0.661176   9539.253333  0.001857       0.497992  0.327685   \n",
       "\n",
       "                L_s2  returns_lag      L_r1      L_r2  \n",
       "2019-08-27       NaN          NaN       NaN       NaN  \n",
       "2019-08-28       NaN     0.023945 -1.690193       NaN  \n",
       "2019-08-29 -0.689146    -0.016526 -0.181374 -1.690193  \n",
       "2019-08-30  0.121335    -0.013529  2.810519 -0.181374  \n",
       "2019-08-31  0.771545    -0.051552 -1.036022  2.810519  "
      ]
     },
     "execution_count": 60,
     "metadata": {},
     "output_type": "execute_result"
    }
   ],
   "source": [
    "timeseries['returns_lag'] = timeseries['returns'].shift(1)\n",
    "timeseries['L_r1'] = timeseries['returns'].pct_change(1)\n",
    "timeseries['L_r2'] = timeseries['returns_lag'].pct_change(1)\n",
    "timeseries.head()"
   ]
  },
  {
   "cell_type": "code",
   "execution_count": 61,
   "metadata": {
    "Collapsed": "false"
   },
   "outputs": [
    {
     "data": {
      "text/html": [
       "<table class=\"simpletable\">\n",
       "<caption>OLS Regression Results</caption>\n",
       "<tr>\n",
       "  <th>Dep. Variable:</th>         <td>returns</td>     <th>  R-squared:         </th> <td>   0.089</td>\n",
       "</tr>\n",
       "<tr>\n",
       "  <th>Model:</th>                   <td>OLS</td>       <th>  Adj. R-squared:    </th> <td>  -0.046</td>\n",
       "</tr>\n",
       "<tr>\n",
       "  <th>Method:</th>             <td>Least Squares</td>  <th>  F-statistic:       </th> <td>  0.6625</td>\n",
       "</tr>\n",
       "<tr>\n",
       "  <th>Date:</th>             <td>Mon, 30 Sep 2019</td> <th>  Prob (F-statistic):</th>  <td> 0.623</td> \n",
       "</tr>\n",
       "<tr>\n",
       "  <th>Time:</th>                 <td>13:43:17</td>     <th>  Log-Likelihood:    </th> <td>  71.777</td>\n",
       "</tr>\n",
       "<tr>\n",
       "  <th>No. Observations:</th>      <td>    32</td>      <th>  AIC:               </th> <td>  -133.6</td>\n",
       "</tr>\n",
       "<tr>\n",
       "  <th>Df Residuals:</th>          <td>    27</td>      <th>  BIC:               </th> <td>  -126.2</td>\n",
       "</tr>\n",
       "<tr>\n",
       "  <th>Df Model:</th>              <td>     4</td>      <th>                     </th>     <td> </td>   \n",
       "</tr>\n",
       "<tr>\n",
       "  <th>Covariance Type:</th>      <td>nonrobust</td>    <th>                     </th>     <td> </td>   \n",
       "</tr>\n",
       "</table>\n",
       "<table class=\"simpletable\">\n",
       "<tr>\n",
       "      <td></td>         <th>coef</th>     <th>std err</th>      <th>t</th>      <th>P>|t|</th>  <th>[0.025</th>    <th>0.975]</th>  \n",
       "</tr>\n",
       "<tr>\n",
       "  <th>Intercept</th> <td>   -0.0061</td> <td>    0.005</td> <td>   -1.223</td> <td> 0.232</td> <td>   -0.016</td> <td>    0.004</td>\n",
       "</tr>\n",
       "<tr>\n",
       "  <th>L_s1</th>      <td>   -0.0133</td> <td>    0.016</td> <td>   -0.812</td> <td> 0.424</td> <td>   -0.047</td> <td>    0.020</td>\n",
       "</tr>\n",
       "<tr>\n",
       "  <th>L_s2</th>      <td>   -0.0027</td> <td>    0.017</td> <td>   -0.162</td> <td> 0.872</td> <td>   -0.037</td> <td>    0.032</td>\n",
       "</tr>\n",
       "<tr>\n",
       "  <th>L_r1</th>      <td>   -0.0007</td> <td>    0.002</td> <td>   -0.492</td> <td> 0.627</td> <td>   -0.004</td> <td>    0.002</td>\n",
       "</tr>\n",
       "<tr>\n",
       "  <th>L_r2</th>      <td>    0.0017</td> <td>    0.001</td> <td>    1.162</td> <td> 0.255</td> <td>   -0.001</td> <td>    0.005</td>\n",
       "</tr>\n",
       "</table>\n",
       "<table class=\"simpletable\">\n",
       "<tr>\n",
       "  <th>Omnibus:</th>       <td>31.805</td> <th>  Durbin-Watson:     </th> <td>   1.127</td>\n",
       "</tr>\n",
       "<tr>\n",
       "  <th>Prob(Omnibus):</th> <td> 0.000</td> <th>  Jarque-Bera (JB):  </th> <td> 101.022</td>\n",
       "</tr>\n",
       "<tr>\n",
       "  <th>Skew:</th>          <td>-1.990</td> <th>  Prob(JB):          </th> <td>1.16e-22</td>\n",
       "</tr>\n",
       "<tr>\n",
       "  <th>Kurtosis:</th>      <td>10.741</td> <th>  Cond. No.          </th> <td>    13.6</td>\n",
       "</tr>\n",
       "</table><br/><br/>Warnings:<br/>[1] Standard Errors assume that the covariance matrix of the errors is correctly specified."
      ],
      "text/plain": [
       "<class 'statsmodels.iolib.summary.Summary'>\n",
       "\"\"\"\n",
       "                            OLS Regression Results                            \n",
       "==============================================================================\n",
       "Dep. Variable:                returns   R-squared:                       0.089\n",
       "Model:                            OLS   Adj. R-squared:                 -0.046\n",
       "Method:                 Least Squares   F-statistic:                    0.6625\n",
       "Date:                Mon, 30 Sep 2019   Prob (F-statistic):              0.623\n",
       "Time:                        13:43:17   Log-Likelihood:                 71.777\n",
       "No. Observations:                  32   AIC:                            -133.6\n",
       "Df Residuals:                      27   BIC:                            -126.2\n",
       "Df Model:                           4                                         \n",
       "Covariance Type:            nonrobust                                         \n",
       "==============================================================================\n",
       "                 coef    std err          t      P>|t|      [0.025      0.975]\n",
       "------------------------------------------------------------------------------\n",
       "Intercept     -0.0061      0.005     -1.223      0.232      -0.016       0.004\n",
       "L_s1          -0.0133      0.016     -0.812      0.424      -0.047       0.020\n",
       "L_s2          -0.0027      0.017     -0.162      0.872      -0.037       0.032\n",
       "L_r1          -0.0007      0.002     -0.492      0.627      -0.004       0.002\n",
       "L_r2           0.0017      0.001      1.162      0.255      -0.001       0.005\n",
       "==============================================================================\n",
       "Omnibus:                       31.805   Durbin-Watson:                   1.127\n",
       "Prob(Omnibus):                  0.000   Jarque-Bera (JB):              101.022\n",
       "Skew:                          -1.990   Prob(JB):                     1.16e-22\n",
       "Kurtosis:                      10.741   Cond. No.                         13.6\n",
       "==============================================================================\n",
       "\n",
       "Warnings:\n",
       "[1] Standard Errors assume that the covariance matrix of the errors is correctly specified.\n",
       "\"\"\""
      ]
     },
     "execution_count": 61,
     "metadata": {},
     "output_type": "execute_result"
    }
   ],
   "source": [
    "mod1 = smf.ols(formula='returns ~ L_s1 + L_s2 +L_r1 + L_r2', \n",
    "               data=timeseries).fit()\n",
    "mod1.summary()"
   ]
  },
  {
   "cell_type": "markdown",
   "metadata": {
    "Collapsed": "true"
   },
   "source": [
    "# Overall\n",
    "\n",
    "## Shortcoming of the analysis\n",
    "\n",
    "- Lack of data: 1 month data is not enough\n",
    "- Lack of variance in the data: The data collected shows a biais toward bullish sentiment, even though the trend was declining\n",
    "- Need to improve the cleaning of the corpus to match the L1/L2 lexicon\n",
    "- NB model unable to predict the `bearish` messages.\n",
    "- The poor data processing leads to a wrong model prediction both for the sentiment analysis and Granger causality. \n",
    "- No coefficients in the time series are coefficient, although the returns look stationary "
   ]
  },
  {
   "cell_type": "markdown",
   "metadata": {
    "Collapsed": "false"
   },
   "source": [
    "# Appendix: Details steps & analytics\n"
   ]
  },
  {
   "cell_type": "markdown",
   "metadata": {
    "Collapsed": "true"
   },
   "source": [
    "### TF-IDF:  Our approach\n",
    "\n",
    "As explained in the previous post, the tf-idf vectorization of a corpus of text documents assigns each word in a document a number that is proportional to its frequency in the document and inversely proportional to the number of documents in which it occurs\n",
    "\n",
    "TF: Term Frequency, which measures how frequently a term occurs in a document. Since every document is different in length, it is possible that a term would appear much more times in long documents than shorter ones. Thus, the term frequency is often divided by the document length (aka. the total number of terms in the document) as a way of normalization:\n",
    "\n",
    "TF(t) = (Number of times term t appears in a document) / (Total number of terms in the document).\n",
    "\n",
    "IDF: Inverse Document Frequency, which measures how important a term is. While computing TF, all terms are considered equally important. However it is known that certain terms, such as \"is\", \"of\", and \"that\", may appear a lot of times but have little importance. Thus we need to weigh down the frequent terms while scale up the rare ones, by computing the following:\n",
    "\n",
    "IDF(t) = log_e(Total number of documents / Number of documents with term t in it)."
   ]
  },
  {
   "cell_type": "code",
   "execution_count": 62,
   "metadata": {
    "Collapsed": "false"
   },
   "outputs": [],
   "source": [
    "from sklearn.feature_extraction.text import TfidfTransformer\n",
    "from sklearn.feature_extraction.text import CountVectorizer"
   ]
  },
  {
   "cell_type": "markdown",
   "metadata": {
    "Collapsed": "false"
   },
   "source": [
    "Compute the IDFs"
   ]
  },
  {
   "cell_type": "markdown",
   "metadata": {
    "Collapsed": "false"
   },
   "source": [
    "Compute the TFIDF score\n",
    "\n",
    "The higher the TF*IDF score (weight), the rarer the term and vice versa."
   ]
  },
  {
   "cell_type": "markdown",
   "metadata": {
    "Collapsed": "false"
   },
   "source": [
    "## VADER technique"
   ]
  },
  {
   "cell_type": "code",
   "execution_count": 63,
   "metadata": {
    "Collapsed": "false"
   },
   "outputs": [],
   "source": [
    "from nltk.sentiment.vader import SentimentIntensityAnalyzer"
   ]
  },
  {
   "cell_type": "code",
   "execution_count": 64,
   "metadata": {
    "Collapsed": "false"
   },
   "outputs": [],
   "source": [
    "sid = SentimentIntensityAnalyzer()"
   ]
  },
  {
   "cell_type": "code",
   "execution_count": 65,
   "metadata": {
    "Collapsed": "false"
   },
   "outputs": [
    {
     "data": {
      "text/html": [
       "<div>\n",
       "<style scoped>\n",
       "    .dataframe tbody tr th:only-of-type {\n",
       "        vertical-align: middle;\n",
       "    }\n",
       "\n",
       "    .dataframe tbody tr th {\n",
       "        vertical-align: top;\n",
       "    }\n",
       "\n",
       "    .dataframe thead th {\n",
       "        text-align: right;\n",
       "    }\n",
       "</style>\n",
       "<table border=\"1\" class=\"dataframe\">\n",
       "  <thead>\n",
       "    <tr style=\"text-align: right;\">\n",
       "      <th></th>\n",
       "      <th>_id</th>\n",
       "      <th>body</th>\n",
       "      <th>created_at</th>\n",
       "      <th>id</th>\n",
       "      <th>sentiment</th>\n",
       "      <th>sentiment_</th>\n",
       "      <th>symbols</th>\n",
       "      <th>user</th>\n",
       "    </tr>\n",
       "  </thead>\n",
       "  <tbody>\n",
       "    <tr>\n",
       "      <th>0</th>\n",
       "      <td>5d8e4264a840b5ab5bac84a0</td>\n",
       "      <td>$BTC.X the bottom is 7960...it is written</td>\n",
       "      <td>2019-09-27T17:09:13Z</td>\n",
       "      <td>178878941</td>\n",
       "      <td>Bullish</td>\n",
       "      <td>1</td>\n",
       "      <td>[Bitcoin BTC/USD]</td>\n",
       "      <td>ricardotubbsvicelord</td>\n",
       "    </tr>\n",
       "    <tr>\n",
       "      <th>1</th>\n",
       "      <td>5d8e4264a840b5ab5bac84a2</td>\n",
       "      <td>$BTC.X When September futures expire this thin...</td>\n",
       "      <td>2019-09-27T17:08:38Z</td>\n",
       "      <td>178878838</td>\n",
       "      <td>Bullish</td>\n",
       "      <td>1</td>\n",
       "      <td>[Bitcoin BTC/USD]</td>\n",
       "      <td>carlsagan</td>\n",
       "    </tr>\n",
       "    <tr>\n",
       "      <th>2</th>\n",
       "      <td>5d8e4264a840b5ab5bac84a3</td>\n",
       "      <td>$BTC.X consolidation from 11am to 3pm...then t...</td>\n",
       "      <td>2019-09-27T17:08:28Z</td>\n",
       "      <td>178878799</td>\n",
       "      <td>Bullish</td>\n",
       "      <td>1</td>\n",
       "      <td>[Bitcoin BTC/USD]</td>\n",
       "      <td>ricardotubbsvicelord</td>\n",
       "    </tr>\n",
       "    <tr>\n",
       "      <th>3</th>\n",
       "      <td>5d8e4264a840b5ab5bac84a6</td>\n",
       "      <td>$BTC.X anyone that touches this virus is self ...</td>\n",
       "      <td>2019-09-27T17:06:32Z</td>\n",
       "      <td>178878448</td>\n",
       "      <td>Bearish</td>\n",
       "      <td>-1</td>\n",
       "      <td>[Bitcoin BTC/USD]</td>\n",
       "      <td>Arudsky</td>\n",
       "    </tr>\n",
       "    <tr>\n",
       "      <th>4</th>\n",
       "      <td>5d8e4264a840b5ab5bac84a7</td>\n",
       "      <td>$BTC.X nothing but down for 6 months. But buy ...</td>\n",
       "      <td>2019-09-27T17:05:17Z</td>\n",
       "      <td>178878221</td>\n",
       "      <td>Bearish</td>\n",
       "      <td>-1</td>\n",
       "      <td>[Bitcoin BTC/USD]</td>\n",
       "      <td>Arudsky</td>\n",
       "    </tr>\n",
       "  </tbody>\n",
       "</table>\n",
       "</div>"
      ],
      "text/plain": [
       "                        _id  \\\n",
       "0  5d8e4264a840b5ab5bac84a0   \n",
       "1  5d8e4264a840b5ab5bac84a2   \n",
       "2  5d8e4264a840b5ab5bac84a3   \n",
       "3  5d8e4264a840b5ab5bac84a6   \n",
       "4  5d8e4264a840b5ab5bac84a7   \n",
       "\n",
       "                                                body            created_at  \\\n",
       "0          $BTC.X the bottom is 7960...it is written  2019-09-27T17:09:13Z   \n",
       "1  $BTC.X When September futures expire this thin...  2019-09-27T17:08:38Z   \n",
       "2  $BTC.X consolidation from 11am to 3pm...then t...  2019-09-27T17:08:28Z   \n",
       "3  $BTC.X anyone that touches this virus is self ...  2019-09-27T17:06:32Z   \n",
       "4  $BTC.X nothing but down for 6 months. But buy ...  2019-09-27T17:05:17Z   \n",
       "\n",
       "          id sentiment  sentiment_            symbols                  user  \n",
       "0  178878941   Bullish           1  [Bitcoin BTC/USD]  ricardotubbsvicelord  \n",
       "1  178878838   Bullish           1  [Bitcoin BTC/USD]             carlsagan  \n",
       "2  178878799   Bullish           1  [Bitcoin BTC/USD]  ricardotubbsvicelord  \n",
       "3  178878448   Bearish          -1  [Bitcoin BTC/USD]               Arudsky  \n",
       "4  178878221   Bearish          -1  [Bitcoin BTC/USD]               Arudsky  "
      ]
     },
     "execution_count": 65,
     "metadata": {},
     "output_type": "execute_result"
    }
   ],
   "source": [
    "query ={\n",
    "    \"sentiment\":{ \"$ne\": \"Neutral\" }\n",
    "}\n",
    "text = pd.DataFrame(list(db.messages.find(query)))\n",
    "text.head()"
   ]
  },
  {
   "cell_type": "code",
   "execution_count": 66,
   "metadata": {
    "Collapsed": "false"
   },
   "outputs": [],
   "source": [
    "def exampleVADER(df,x =0):\n",
    "    \"\"\"\n",
    "    message from Xtrain and return\n",
    "    VADER sentiment scrore\n",
    "    \"\"\"\n",
    "    print(\"- The message is the following \\n {} \\n- VADER classification \\n {}\".format(\n",
    "        df.iloc[x],\n",
    "        sid.polarity_scores(df.iloc[x])))"
   ]
  },
  {
   "cell_type": "code",
   "execution_count": 67,
   "metadata": {
    "Collapsed": "false"
   },
   "outputs": [
    {
     "name": "stdout",
     "output_type": "stream",
     "text": [
      "- The message is the following \n",
      " $BTC.X the bottom is 7960...it is written \n",
      "- VADER classification \n",
      " {'neg': 0.0, 'neu': 1.0, 'pos': 0.0, 'compound': 0.0}\n"
     ]
    }
   ],
   "source": [
    "exampleVADER(df = text['body'],x = 0)"
   ]
  },
  {
   "cell_type": "code",
   "execution_count": 68,
   "metadata": {
    "Collapsed": "false"
   },
   "outputs": [
    {
     "name": "stdout",
     "output_type": "stream",
     "text": [
      "- The message is the following \n",
      " another dump right numbertag k coming morning \n",
      "- VADER classification \n",
      " {'neg': 0.342, 'neu': 0.658, 'pos': 0.0, 'compound': -0.3818}\n"
     ]
    }
   ],
   "source": [
    "exampleVADER(df = X_train,x = 0)"
   ]
  },
  {
   "cell_type": "code",
   "execution_count": 69,
   "metadata": {
    "Collapsed": "false"
   },
   "outputs": [
    {
     "name": "stdout",
     "output_type": "stream",
     "text": [
      "- The message is the following \n",
      " $BTC.X the bottom is 7960...it is written \n",
      "- VADER classification \n",
      " {'neg': 0.0, 'neu': 1.0, 'pos': 0.0, 'compound': 0.0}\n",
      "- The message is the following \n",
      " $BTC.X When September futures expire this thing is going to rocket to outer space. 8k support, right on the 200 MDA. \n",
      "- VADER classification \n",
      " {'neg': 0.0, 'neu': 0.881, 'pos': 0.119, 'compound': 0.4019}\n",
      "- The message is the following \n",
      " $BTC.X consolidation from 11am to 3pm...then the ascending...mark this post... laugh now cry later to the bears😆 \n",
      "- VADER classification \n",
      " {'neg': 0.143, 'neu': 0.691, 'pos': 0.166, 'compound': 0.128}\n",
      "- The message is the following \n",
      " $BTC.X anyone that touches this virus is self destructive.. Transactions are up.. Up from what zero? \n",
      "- VADER classification \n",
      " {'neg': 0.0, 'neu': 1.0, 'pos': 0.0, 'compound': 0.0}\n",
      "- The message is the following \n",
      " $BTC.X nothing but down for 6 months. But buy buy.. Say but to your family buy to all your savings \n",
      "- VADER classification \n",
      " {'neg': 0.0, 'neu': 1.0, 'pos': 0.0, 'compound': 0.0}\n"
     ]
    }
   ],
   "source": [
    "for i in range(0, 5):\n",
    "    exampleVADER(df = text['body'], x = i)"
   ]
  },
  {
   "cell_type": "code",
   "execution_count": 70,
   "metadata": {
    "Collapsed": "false"
   },
   "outputs": [
    {
     "name": "stdout",
     "output_type": "stream",
     "text": [
      "- The message is the following \n",
      " another dump right numbertag k coming morning \n",
      "- VADER classification \n",
      " {'neg': 0.342, 'neu': 0.658, 'pos': 0.0, 'compound': -0.3818}\n",
      "- The message is the following \n",
      " happy friday bull \n",
      "- VADER classification \n",
      " {'neg': 0.0, 'neu': 0.351, 'pos': 0.649, 'compound': 0.5719}\n",
      "- The message is the following \n",
      " bear reaction realized failed bringing lol \n",
      "- VADER classification \n",
      " {'neg': 0.327, 'neu': 0.396, 'pos': 0.277, 'compound': -0.128}\n",
      "- The message is the following \n",
      " bought bottom winter numbertag numbertag profit numbertag per numbertag dwindling risky stuff \n",
      "- VADER classification \n",
      " {'neg': 0.122, 'neu': 0.68, 'pos': 0.197, 'compound': 0.2732}\n",
      "- The message is the following \n",
      " numbertag min till takeoff \n",
      "- VADER classification \n",
      " {'neg': 0.0, 'neu': 1.0, 'pos': 0.0, 'compound': 0.0}\n"
     ]
    }
   ],
   "source": [
    "for i in range(0, 5):\n",
    "    exampleVADER(df = X_train, x = i)"
   ]
  },
  {
   "cell_type": "code",
   "execution_count": 71,
   "metadata": {
    "Collapsed": "false"
   },
   "outputs": [],
   "source": [
    "summary = {\"positive\": 0, \"neutral\": 0, \"negative\": 0}\n",
    "for x in text['body']:\n",
    "    ss = sid.polarity_scores(x)\n",
    "    if ss[\"compound\"] == 0.0:\n",
    "        summary[\"neutral\"] += 1\n",
    "    elif ss[\"compound\"] > 0.0:\n",
    "        summary[\"positive\"] += 1\n",
    "    else:\n",
    "        summary[\"negative\"] += 1"
   ]
  },
  {
   "cell_type": "code",
   "execution_count": 72,
   "metadata": {
    "Collapsed": "false"
   },
   "outputs": [
    {
     "data": {
      "text/plain": [
       "{'positive': 26506, 'neutral': 39365, 'negative': 19024}"
      ]
     },
     "execution_count": 72,
     "metadata": {},
     "output_type": "execute_result"
    }
   ],
   "source": [
    "summary"
   ]
  },
  {
   "cell_type": "code",
   "execution_count": 73,
   "metadata": {
    "Collapsed": "false"
   },
   "outputs": [],
   "source": [
    "summary = {\"positive\": 0, \"neutral\": 0, \"negative\": 0}\n",
    "for x in X_train:\n",
    "    ss = sid.polarity_scores(x)\n",
    "    if ss[\"compound\"] == 0.0:\n",
    "        summary[\"neutral\"] += 1\n",
    "    elif ss[\"compound\"] > 0.0:\n",
    "        summary[\"positive\"] += 1\n",
    "    else:\n",
    "        summary[\"negative\"] += 1"
   ]
  },
  {
   "cell_type": "code",
   "execution_count": 74,
   "metadata": {
    "Collapsed": "false"
   },
   "outputs": [
    {
     "data": {
      "text/plain": [
       "{'positive': 22415, 'neutral': 31197, 'negative': 15244}"
      ]
     },
     "execution_count": 74,
     "metadata": {},
     "output_type": "execute_result"
    }
   ],
   "source": [
    "summary"
   ]
  },
  {
   "cell_type": "code",
   "execution_count": 81,
   "metadata": {
    "Collapsed": "false"
   },
   "outputs": [],
   "source": [
    "def vader_(x):\n",
    "    \n",
    "    \"\"\"\n",
    "    Get sentiment from Vader analysis\n",
    "    \"\"\"\n",
    "    \n",
    "    sentiment = sid.polarity_scores(x)\n",
    "    \n",
    "    if sentiment[\"compound\"] == 0.0:\n",
    "        sent_ = 0\n",
    "    elif sentiment[\"compound\"] > 0.0:\n",
    "        sent_ = 1\n",
    "    else:\n",
    "        sent_ = -1\n",
    "    \n",
    "    return sent_"
   ]
  },
  {
   "cell_type": "code",
   "execution_count": 82,
   "metadata": {
    "Collapsed": "false"
   },
   "outputs": [],
   "source": [
    "test = text['body'].apply(vader_)"
   ]
  },
  {
   "cell_type": "code",
   "execution_count": 85,
   "metadata": {
    "Collapsed": "false"
   },
   "outputs": [
    {
     "data": {
      "text/plain": [
       "0    0\n",
       "1    1\n",
       "2    1\n",
       "3    0\n",
       "4    0\n",
       "Name: body, dtype: int64"
      ]
     },
     "execution_count": 85,
     "metadata": {},
     "output_type": "execute_result"
    }
   ],
   "source": [
    "test.head()"
   ]
  }
 ],
 "metadata": {
  "kernelspec": {
   "display_name": "Python 3",
   "language": "python",
   "name": "python3"
  },
  "language_info": {
   "codemirror_mode": {
    "name": "ipython",
    "version": 3
   },
   "file_extension": ".py",
   "mimetype": "text/x-python",
   "name": "python",
   "nbconvert_exporter": "python",
   "pygments_lexer": "ipython3",
   "version": "3.7.3"
  },
  "toc-showmarkdowntxt": false
 },
 "nbformat": 4,
 "nbformat_minor": 4
}
