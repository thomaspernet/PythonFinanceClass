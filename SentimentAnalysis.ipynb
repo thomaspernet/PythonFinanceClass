{
 "cells": [
  {
   "cell_type": "markdown",
   "metadata": {
    "Collapsed": "false"
   },
   "source": [
    "## Create connection with Mongo"
   ]
  },
  {
   "cell_type": "code",
   "execution_count": 7,
   "metadata": {
    "Collapsed": "false"
   },
   "outputs": [],
   "source": [
    "import pandas as pd\n",
    "import numpy as np\n",
    "import pymongo\n",
    "from pymongo import MongoClient\n",
    "import nltk\n",
    "from nltk.corpus import stopwords\n",
    "from nltk.stem import WordNetLemmatizer\n",
    "from sklearn.model_selection import train_test_splitfrom sklearn import metrics"
   ]
  },
  {
   "cell_type": "code",
   "execution_count": null,
   "metadata": {
    "Collapsed": "false"
   },
   "outputs": [],
   "source": [
    "#nltk.download('wordnet')\n",
    "#nltk.download('punkt')\n",
    "#nltk.download('stopwords')"
   ]
  },
  {
   "cell_type": "code",
   "execution_count": 8,
   "metadata": {
    "Collapsed": "false"
   },
   "outputs": [],
   "source": [
    "client = MongoClient('localhost', 27017)\n",
    "\n",
    "### Client is the database\n",
    "db = client['StockTwitClass101']"
   ]
  },
  {
   "cell_type": "markdown",
   "metadata": {
    "Collapsed": "false"
   },
   "source": [
    "## Pipeline To create Sentiment\n",
    "\n",
    "Related paper: [Intraday online investor sentiment and return patterns in the U.S.\n",
    "stock market](https://docs.google.com/file/d/1L8bS8vNTXS-HWToP4zMpqfT308n-LxZb/edit)\n",
    "\n",
    "L1/L2 Lexicon: [here](http://www.thomas-renault.com/data.php)\n",
    "\n",
    "A) Create a Function to prepare the data\n",
    "    \n",
    "    1. Keep only twit with sentiment either `Bullish` or `Bearish` and remove multiple stock twits\n",
    "   \n",
    "    2. take negation into account, we add the prefix \"negtag_\" to all words following \"not\",\"no\",\"none\",\"neither\",\"never\" or “nobody”\n",
    "    \n",
    "    3. Convert digit to \"_digit\"\n",
    "    \n",
    "    4. Remove when mention a user\n",
    "    \n",
    "    5. lemmatize corpus\n",
    "    \n",
    "    6. Prepare train/test set\n",
    "    \n",
    "B) Build the Vectorization\n",
    "C) Construct the Naive classifier\n",
    "D) Predict out of sample\n",
    "\n",
    "### note about Lemmatization\n",
    "\n",
    "Lemmatization reduces words to their base word, which is linguistically correct lemmas. It transforms root word with the use of vocabulary and morphological analysis. Lemmatization is usually more sophisticated than stemming. Stemmer works on an individual word without knowledge of the context. For example, The word \"better\" has \"good\" as its lemma. This thing will miss by stemming because it requires a dictionary look-up\n"
   ]
  },
  {
   "cell_type": "markdown",
   "metadata": {
    "Collapsed": "false"
   },
   "source": [
    "### Create a Function to prepare the data\n",
    "\n",
    "Step : 1\n",
    "       \n",
    "       - Exclude multi tickers\n",
    "\n",
    "Step : 2\n",
    "       \n",
    "       - take negation into account:\n",
    "       \n",
    "       - \"not\",\"no\",\"none\",\"neither\",\"never\" or “nobody”\n",
    "\n",
    "Step : 3\n",
    "       \n",
    "       - Convert digit to \"_digit\"\n",
    "\n",
    "Step : 4\n",
    "        \n",
    "       - Remove @USER\n",
    "\n",
    "Step : 5\n",
    "       \n",
    "       - Remove unicode issue\n",
    "        \n",
    "Step 6: Lemmanize\n"
   ]
  },
  {
   "cell_type": "code",
   "execution_count": 9,
   "metadata": {
    "Collapsed": "false"
   },
   "outputs": [],
   "source": [
    "def metatransformation(query, to_train=True):\n",
    "    \"\"\"\n",
    "    Arguments:\n",
    "    Query: MongoDB query \n",
    "    to_train:  True: return a train and test dataset\n",
    "    False: return only data to predict out of sample\n",
    "    \n",
    "    Step : 1\n",
    "        - Exclude multi tickers\n",
    "\n",
    "    Step : 2\n",
    "        - take negation into account:\n",
    "        - \"not\",\"no\",\"none\",\"neither\",\"never\" or “nobody”\n",
    "\n",
    "    Step : 3\n",
    "        - Convert digit to \"_digit\"\n",
    "\n",
    "    Step : 4\n",
    "        - Remove @USER\n",
    "\n",
    "    Step : 5\n",
    "        - Remove unicode issue\n",
    "\n",
    "    Step 6: Lemmanize\n",
    "\n",
    "\n",
    "    \"\"\"\n",
    "\n",
    "    text = pd.DataFrame(list(db.messages.find(query)))\n",
    "\n",
    "    # Count stock\n",
    "\n",
    "    text[\"count_stock\"] = text[\"symbols\"].apply(lambda x: len(x))\n",
    "\n",
    "    # Extract single count\n",
    "\n",
    "    text = text[text[\"count_stock\"].isin([1])]\n",
    "\n",
    "    # text = df.copy()\n",
    "\n",
    "    # take negation into account\n",
    "    text[\"body_transform\"] = text[\"body\"].replace(\n",
    "        regex={\n",
    "            r\"\\bnothing\\b\": \"nothing_negword\",\n",
    "            r\"\\bno\\b\": \"no_negword\",\n",
    "            r\"\\bnone\\b\": \"none_negword\",\n",
    "            r\"\\bneither\\b\": \"neither_negword\",\n",
    "            r\"\\bnever\\b\": \"never_negword\",\n",
    "            r\"\\bnobody\\b\": \"nobody_negword\",\n",
    "        }\n",
    "    )\n",
    "\n",
    "    # Convert digit to \"_digit\"\n",
    "    # Remove @USER\n",
    "    # Remove unicode issue\n",
    "    # Remove ticker\n",
    "    # Remove all the special characters\n",
    "    # remove all single characters\n",
    "    # Remove Ya\n",
    "    # Remove bitcoin\n",
    "    # remove btc\n",
    "\n",
    "    text[\"body_transform\"] = text[\"body_transform\"].replace(\n",
    "        regex={\n",
    "            r\"\\d+\": \"isDigit\",\n",
    "            r\"([@?])(\\w+)\\b\": \"user\",\n",
    "            r\"\\b&#\\b\": \" \",\n",
    "            r\"[$][A-Za-z][\\S]*\": \"\",\n",
    "            r\"\\W\": \" \",\n",
    "            r\"\\s+[a-zA-Z]\\s+\": \" \",\n",
    "            r\"\\^[a-zA-Z]\\s+\": \" \",\n",
    "            r\"\\s+\": \" \",\n",
    "            r\"^b\\s+\": \"\",\n",
    "            r\"\\bya\\b\": \"\",\n",
    "            r\"\\bbitcoin\\b\": \"\",\n",
    "            r\"\\bBitcoin\\b\": \"\",\n",
    "            r\"\\bbtc\\b\": \"\",\n",
    "\n",
    "        }\n",
    "    )\n",
    "\n",
    "    # Lower\n",
    "\n",
    "    text[\"body_transform\"] = text[\"body_transform\"].str.lower()\n",
    "\n",
    "    # Remove stop words\n",
    "\n",
    "    stop = stopwords.words('english')\n",
    "\n",
    "    text[\"body_transform\"] = text[\"body_transform\"].apply(\n",
    "        lambda x: ' '.join([word for word in x.split() if word not in (stop)]))\n",
    "\n",
    "    # Lemmatize\n",
    "\n",
    "    lemmatizer = WordNetLemmatizer()\n",
    "    w_tokenizer = nltk.tokenize.WhitespaceTokenizer()\n",
    "\n",
    "    text[\"body_transform\"] = text[\"body_transform\"].apply(\n",
    "        lambda x: \" \".join([lemmatizer.lemmatize(w)\n",
    "                            for w in w_tokenizer.tokenize(x)])\n",
    "    )\n",
    "\n",
    "    # Split the dataset\n",
    "\n",
    "    X_ = text[\"body_transform\"]\n",
    "    y_ = text[\"sentiment_\"]\n",
    "\n",
    "    count_ = text.groupby(\"sentiment\")[\"sentiment\"].count()\n",
    "\n",
    "    print(\"The shape of the data is {}, and {}\".format(text.shape, count_))\n",
    "\n",
    "    if to_train:\n",
    "        X_train, X_test, y_train, y_test = train_test_split(\n",
    "            X_, y_, test_size=0.1, random_state=0\n",
    "        )\n",
    "\n",
    "        return X_train, X_test, y_train, y_test\n",
    "\n",
    "    else:\n",
    "\n",
    "        return X_\n"
   ]
  },
  {
   "cell_type": "markdown",
   "metadata": {
    "Collapsed": "false"
   },
   "source": [
    "## Pipeline step\n",
    "\n",
    "This step includes:\n",
    "\n",
    "- Build the Vectorization\n",
    "- Construct the Naive classifier"
   ]
  },
  {
   "cell_type": "code",
   "execution_count": null,
   "metadata": {
    "Collapsed": "false"
   },
   "outputs": [],
   "source": [
    "from sklearn.feature_extraction.text import TfidfTransformer, CountVectorizer\n",
    "from sklearn.naive_bayes import MultinomialNB"
   ]
  },
  {
   "cell_type": "code",
   "execution_count": null,
   "metadata": {
    "Collapsed": "false"
   },
   "outputs": [],
   "source": [
    "stopwords.words('english')[:10]"
   ]
  },
  {
   "cell_type": "code",
   "execution_count": null,
   "metadata": {
    "Collapsed": "false"
   },
   "outputs": [],
   "source": [
    "from sklearn.pipeline import Pipeline\n",
    "\n",
    "text_clf = Pipeline([\n",
    "    ('vect', CountVectorizer(max_features=1500,\n",
    "                             min_df=10,\n",
    "                             max_df=0.7)),\n",
    "    ('tfidf', TfidfTransformer()),\n",
    "    ('clf', MultinomialNB()),\n",
    " ])\n"
   ]
  },
  {
   "cell_type": "markdown",
   "metadata": {
    "Collapsed": "false"
   },
   "source": [
    "Create the first transformation of the data"
   ]
  },
  {
   "cell_type": "code",
   "execution_count": null,
   "metadata": {
    "Collapsed": "false"
   },
   "outputs": [],
   "source": [
    "X_train, X_test, y_train, y_test = metatransformation(query = query)"
   ]
  },
  {
   "cell_type": "code",
   "execution_count": null,
   "metadata": {
    "Collapsed": "false"
   },
   "outputs": [],
   "source": [
    "text_clf.fit(X_train, y_train)"
   ]
  },
  {
   "cell_type": "code",
   "execution_count": null,
   "metadata": {
    "Collapsed": "false"
   },
   "outputs": [],
   "source": [
    "y_pred = text_clf.predict(X_train)\n",
    "y_pred[:10]"
   ]
  },
  {
   "cell_type": "code",
   "execution_count": null,
   "metadata": {
    "Collapsed": "false"
   },
   "outputs": [],
   "source": []
  },
  {
   "cell_type": "code",
   "execution_count": null,
   "metadata": {
    "Collapsed": "false"
   },
   "outputs": [],
   "source": [
    "predicted = text_clf.predict(X_test)\n",
    "\n",
    "print(metrics.classification_report(y_test,\n",
    "                                    predicted))"
   ]
  },
  {
   "cell_type": "code",
   "execution_count": null,
   "metadata": {
    "Collapsed": "false"
   },
   "outputs": [],
   "source": [
    "metrics.confusion_matrix(y_test, predicted)"
   ]
  },
  {
   "cell_type": "markdown",
   "metadata": {
    "Collapsed": "false"
   },
   "source": [
    "## Get Bitcoins Data\n",
    "\n",
    "Extracted from [Quandl](https://www.quandl.com/data/BCHAIN/MKPRU-Bitcoin-Market-Price-USD)"
   ]
  },
  {
   "cell_type": "code",
   "execution_count": null,
   "metadata": {
    "Collapsed": "false"
   },
   "outputs": [],
   "source": [
    "import quandl\n",
    "quandl.ApiConfig.api_key = \"gs_J3domJb8kT6WjLz9s\""
   ]
  },
  {
   "cell_type": "code",
   "execution_count": 28,
   "metadata": {
    "Collapsed": "false"
   },
   "outputs": [
    {
     "data": {
      "text/html": [
       "<div>\n",
       "<style scoped>\n",
       "    .dataframe tbody tr th:only-of-type {\n",
       "        vertical-align: middle;\n",
       "    }\n",
       "\n",
       "    .dataframe tbody tr th {\n",
       "        vertical-align: top;\n",
       "    }\n",
       "\n",
       "    .dataframe thead th {\n",
       "        text-align: right;\n",
       "    }\n",
       "</style>\n",
       "<table border=\"1\" class=\"dataframe\">\n",
       "  <thead>\n",
       "    <tr style=\"text-align: right;\">\n",
       "      <th></th>\n",
       "      <th>Value</th>\n",
       "      <th>returns</th>\n",
       "    </tr>\n",
       "    <tr>\n",
       "      <th>Date</th>\n",
       "      <th></th>\n",
       "      <th></th>\n",
       "    </tr>\n",
       "  </thead>\n",
       "  <tbody>\n",
       "    <tr>\n",
       "      <th>2009-01-03</th>\n",
       "      <td>0.0</td>\n",
       "      <td>NaN</td>\n",
       "    </tr>\n",
       "    <tr>\n",
       "      <th>2009-01-04</th>\n",
       "      <td>0.0</td>\n",
       "      <td>NaN</td>\n",
       "    </tr>\n",
       "    <tr>\n",
       "      <th>2009-01-05</th>\n",
       "      <td>0.0</td>\n",
       "      <td>NaN</td>\n",
       "    </tr>\n",
       "    <tr>\n",
       "      <th>2009-01-06</th>\n",
       "      <td>0.0</td>\n",
       "      <td>NaN</td>\n",
       "    </tr>\n",
       "    <tr>\n",
       "      <th>2009-01-07</th>\n",
       "      <td>0.0</td>\n",
       "      <td>NaN</td>\n",
       "    </tr>\n",
       "  </tbody>\n",
       "</table>\n",
       "</div>"
      ],
      "text/plain": [
       "            Value  returns\n",
       "Date                      \n",
       "2009-01-03    0.0      NaN\n",
       "2009-01-04    0.0      NaN\n",
       "2009-01-05    0.0      NaN\n",
       "2009-01-06    0.0      NaN\n",
       "2009-01-07    0.0      NaN"
      ]
     },
     "execution_count": 28,
     "metadata": {},
     "output_type": "execute_result"
    }
   ],
   "source": [
    "bitcoin = quandl.get(\"BCHAIN/MKPRU\")\n",
    "bitcoin['returns'] = bitcoin.pct_change(1)\n",
    "bitcoin.head()"
   ]
  },
  {
   "cell_type": "code",
   "execution_count": 31,
   "metadata": {
    "Collapsed": "false"
   },
   "outputs": [
    {
     "data": {
      "text/plain": [
       "<matplotlib.axes._subplots.AxesSubplot at 0x1a238b60f0>"
      ]
     },
     "execution_count": 31,
     "metadata": {},
     "output_type": "execute_result"
    },
    {
     "data": {
      "image/png": "[encoded data removed]",
      "text/plain": [
       "<Figure size 432x288 with 1 Axes>"
      ]
     },
     "metadata": {
      "needs_background": "light"
     },
     "output_type": "display_data"
    }
   ],
   "source": [
    "bitcoin['Value'].plot(title='Values of Bitcoins')\n"
   ]
  },
  {
   "cell_type": "code",
   "execution_count": 33,
   "metadata": {
    "Collapsed": "false"
   },
   "outputs": [
    {
     "data": {
      "text/plain": [
       "<matplotlib.axes._subplots.AxesSubplot at 0x1a239a3898>"
      ]
     },
     "execution_count": 33,
     "metadata": {},
     "output_type": "execute_result"
    },
    {
     "data": {
      "image/png": "[encoded data removed]",
      "text/plain": [
       "<Figure size 432x288 with 1 Axes>"
      ]
     },
     "metadata": {
      "needs_background": "light"
     },
     "output_type": "display_data"
    }
   ],
   "source": [
    "bitcoin['returns'].dropna().plot(title='Returns of Bitcoins')"
   ]
  },
  {
   "cell_type": "markdown",
   "metadata": {
    "Collapsed": "false"
   },
   "source": [
    "## Daily aggregated sentiment\n",
    "\n",
    "Compute the daily average"
   ]
  },
  {
   "cell_type": "code",
   "execution_count": 34,
   "metadata": {
    "Collapsed": "false"
   },
   "outputs": [],
   "source": [
    "query = {\"sentiment\": {\"$ne\": \"Neutral\"}}\n",
    "text = pd.DataFrame(list(db.messages.find(query)))\n",
    "text[\"created_at\"] = pd.to_datetime(text[\"created_at\"], infer_datetime_format=True)\n",
    "text = (text\n",
    "        .set_index(\"created_at\")\n",
    "        .drop(columns=\"id\")\n",
    "        .resample(\"D\")\n",
    "        .mean()\n",
    "       )"
   ]
  },
  {
   "cell_type": "code",
   "execution_count": 35,
   "metadata": {
    "Collapsed": "false"
   },
   "outputs": [
    {
     "data": {
      "text/html": [
       "<div>\n",
       "<style scoped>\n",
       "    .dataframe tbody tr th:only-of-type {\n",
       "        vertical-align: middle;\n",
       "    }\n",
       "\n",
       "    .dataframe tbody tr th {\n",
       "        vertical-align: top;\n",
       "    }\n",
       "\n",
       "    .dataframe thead th {\n",
       "        text-align: right;\n",
       "    }\n",
       "</style>\n",
       "<table border=\"1\" class=\"dataframe\">\n",
       "  <thead>\n",
       "    <tr style=\"text-align: right;\">\n",
       "      <th></th>\n",
       "      <th>sentiment_</th>\n",
       "      <th>Value</th>\n",
       "      <th>returns</th>\n",
       "    </tr>\n",
       "  </thead>\n",
       "  <tbody>\n",
       "    <tr>\n",
       "      <th>2019-09-02</th>\n",
       "      <td>0.883838</td>\n",
       "      <td>9621.701667</td>\n",
       "      <td>0.003141</td>\n",
       "    </tr>\n",
       "    <tr>\n",
       "      <th>2019-09-03</th>\n",
       "      <td>0.842254</td>\n",
       "      <td>9937.605000</td>\n",
       "      <td>0.032832</td>\n",
       "    </tr>\n",
       "    <tr>\n",
       "      <th>2019-09-04</th>\n",
       "      <td>0.735915</td>\n",
       "      <td>10518.406667</td>\n",
       "      <td>0.058445</td>\n",
       "    </tr>\n",
       "    <tr>\n",
       "      <th>2019-09-05</th>\n",
       "      <td>0.571984</td>\n",
       "      <td>10568.231667</td>\n",
       "      <td>0.004737</td>\n",
       "    </tr>\n",
       "    <tr>\n",
       "      <th>2019-09-06</th>\n",
       "      <td>0.630653</td>\n",
       "      <td>10559.038333</td>\n",
       "      <td>-0.000870</td>\n",
       "    </tr>\n",
       "  </tbody>\n",
       "</table>\n",
       "</div>"
      ],
      "text/plain": [
       "            sentiment_         Value   returns\n",
       "2019-09-02    0.883838   9621.701667  0.003141\n",
       "2019-09-03    0.842254   9937.605000  0.032832\n",
       "2019-09-04    0.735915  10518.406667  0.058445\n",
       "2019-09-05    0.571984  10568.231667  0.004737\n",
       "2019-09-06    0.630653  10559.038333 -0.000870"
      ]
     },
     "execution_count": 35,
     "metadata": {},
     "output_type": "execute_result"
    }
   ],
   "source": [
    "timeseries = pd.concat([text, bitcoin], axis = 1, join=\"inner\")\n",
    "\n",
    "timeseries.head()"
   ]
  },
  {
   "cell_type": "raw",
   "metadata": {
    "Collapsed": "false"
   },
   "source": [
    "axw = timeseries[['sentiment_', 'returns']].plot(secondary_y = 'returns',\n",
    "                      title='Relationship betxeen sentiments and Bitcoins return')\n",
    "figw = axw.get_figure()"
   ]
  },
  {
   "cell_type": "markdown",
   "metadata": {
    "Collapsed": "false"
   },
   "source": [
    "## Granger test\n",
    "\n",
    "Test the Granger Causality between sentiment on social media and stock returns\n",
    "\n",
    "### How does Granger causality test work?\n",
    "\n",
    "It is based on the idea that if X causes Y, then the forecast of Y based on previous values of Y AND the previous values of X should outperform the forecast of Y based on previous values of Y alone.\n",
    "\n",
    "According to Statsmodels \n",
    "\n",
    "The Null hypothesis for `grangercausalitytests` is that the time series in the second column, x2, does NOT Granger cause the time series in the first column, x1. Grange causality means that past values of x2 have a statistically significant effect on the current value of x1, taking past values of x1 into account as regressors. We reject the null hypothesis that x2 does not Granger cause x1 if the pvalues are below a desired size of the test.\n",
    "\n",
    "The null hypothesis for all four test is that the coefficients corresponding to past values of the second time series are zero."
   ]
  },
  {
   "cell_type": "code",
   "execution_count": 25,
   "metadata": {
    "Collapsed": "false"
   },
   "outputs": [],
   "source": [
    "from statsmodels.tsa.stattools import grangercausalitytests"
   ]
  },
  {
   "cell_type": "code",
   "execution_count": 45,
   "metadata": {
    "Collapsed": "false"
   },
   "outputs": [
    {
     "name": "stdout",
     "output_type": "stream",
     "text": [
      "\n",
      "Granger Causality\n",
      "number of lags (no zero) 1\n",
      "ssr based F test:         F=6.1734  , p=0.0203  , df_denom=24, df_num=1\n",
      "ssr based chi2 test:   chi2=6.9451  , p=0.0084  , df=1\n",
      "likelihood ratio test: chi2=6.1805  , p=0.0129  , df=1\n",
      "parameter F test:         F=6.1734  , p=0.0203  , df_denom=24, df_num=1\n",
      "\n",
      "Granger Causality\n",
      "number of lags (no zero) 2\n",
      "ssr based F test:         F=3.8120  , p=0.0387  , df_denom=21, df_num=2\n",
      "ssr based chi2 test:   chi2=9.4392  , p=0.0089  , df=2\n",
      "likelihood ratio test: chi2=8.0528  , p=0.0178  , df=2\n",
      "parameter F test:         F=3.8120  , p=0.0387  , df_denom=21, df_num=2\n",
      "\n",
      "Granger Causality\n",
      "number of lags (no zero) 3\n",
      "ssr based F test:         F=2.8962  , p=0.0636  , df_denom=18, df_num=3\n",
      "ssr based chi2 test:   chi2=12.0675 , p=0.0072  , df=3\n",
      "likelihood ratio test: chi2=9.8466  , p=0.0199  , df=3\n",
      "parameter F test:         F=2.8962  , p=0.0636  , df_denom=18, df_num=3\n",
      "\n",
      "Granger Causality\n",
      "number of lags (no zero) 4\n",
      "ssr based F test:         F=1.7993  , p=0.1815  , df_denom=15, df_num=4\n",
      "ssr based chi2 test:   chi2=11.5153 , p=0.0213  , df=4\n",
      "likelihood ratio test: chi2=9.4058  , p=0.0517  , df=4\n",
      "parameter F test:         F=1.7993  , p=0.1815  , df_denom=15, df_num=4\n"
     ]
    },
    {
     "data": {
      "text/plain": [
       "{1: ({'ssr_ftest': (6.173380311607343, 0.020337464208066095, 24.0, 1),\n",
       "   'ssr_chi2test': (6.945052850558262, 0.00840513539154431, 1),\n",
       "   'lrtest': (6.180468984760751, 0.012916803591802393, 1),\n",
       "   'params_ftest': (6.173380311607351, 0.020337464208066012, 24.0, 1.0)},\n",
       "  [<statsmodels.regression.linear_model.RegressionResultsWrapper at 0x1a23b3ec18>,\n",
       "   <statsmodels.regression.linear_model.RegressionResultsWrapper at 0x1a23b3e780>,\n",
       "   array([[0., 1., 0.]])]),\n",
       " 2: ({'ssr_ftest': (3.8120034960677853, 0.03869306090356072, 21.0, 2),\n",
       "   'ssr_chi2test': (9.43924675216785, 0.008918536850265663, 2),\n",
       "   'lrtest': (8.052806666272886, 0.017838373399656837, 2),\n",
       "   'params_ftest': (3.812003496067782, 0.038693060903560846, 21.0, 2.0)},\n",
       "  [<statsmodels.regression.linear_model.RegressionResultsWrapper at 0x1a23b3e160>,\n",
       "   <statsmodels.regression.linear_model.RegressionResultsWrapper at 0x1a23b3e5c0>,\n",
       "   array([[0., 0., 1., 0., 0.],\n",
       "          [0., 0., 0., 1., 0.]])]),\n",
       " 3: ({'ssr_ftest': (2.896190969989182, 0.0636132364036759, 18.0, 3),\n",
       "   'ssr_chi2test': (12.067462374954925, 0.00715559976190491, 3),\n",
       "   'lrtest': (9.846593374999571, 0.01991618465612495, 3),\n",
       "   'params_ftest': (2.896190969989186, 0.06361323640367571, 18.0, 3.0)},\n",
       "  [<statsmodels.regression.linear_model.RegressionResultsWrapper at 0x1a23b3e0b8>,\n",
       "   <statsmodels.regression.linear_model.RegressionResultsWrapper at 0x1a23b42240>,\n",
       "   array([[0., 0., 0., 1., 0., 0., 0.],\n",
       "          [0., 0., 0., 0., 1., 0., 0.],\n",
       "          [0., 0., 0., 0., 0., 1., 0.]])]),\n",
       " 4: ({'ssr_ftest': (1.7992687456878513, 0.18154480315957142, 15.0, 4),\n",
       "   'ssr_chi2test': (11.515319972402247, 0.021344027689364758, 4),\n",
       "   'lrtest': (9.405847717476405, 0.05171823468876292, 4),\n",
       "   'params_ftest': (1.7992687456878624, 0.1815448031595696, 15.0, 4.0)},\n",
       "  [<statsmodels.regression.linear_model.RegressionResultsWrapper at 0x1a23b42da0>,\n",
       "   <statsmodels.regression.linear_model.RegressionResultsWrapper at 0x1a23b42780>,\n",
       "   array([[0., 0., 0., 0., 1., 0., 0., 0., 0.],\n",
       "          [0., 0., 0., 0., 0., 1., 0., 0., 0.],\n",
       "          [0., 0., 0., 0., 0., 0., 1., 0., 0.],\n",
       "          [0., 0., 0., 0., 0., 0., 0., 1., 0.]])])}"
      ]
     },
     "execution_count": 45,
     "metadata": {},
     "output_type": "execute_result"
    }
   ],
   "source": [
    "grangercausalitytests(timeseries[['returns', 'sentiment_']], maxlag=4)"
   ]
  },
  {
   "cell_type": "markdown",
   "metadata": {
    "Collapsed": "false"
   },
   "source": [
    "## Regress\n",
    "\n",
    "$$r_{i, t}=\\alpha+\\beta_{1} \\Delta s_{1, t}+\\beta_{2} \\Delta s_{i, t-1}+\\epsilon_{t}$$\n"
   ]
  },
  {
   "cell_type": "code",
   "execution_count": 51,
   "metadata": {
    "Collapsed": "false"
   },
   "outputs": [],
   "source": [
    "timeseries['sentiment_lag'] = timeseries['sentiment_'].shift(1)"
   ]
  },
  {
   "cell_type": "code",
   "execution_count": 47,
   "metadata": {
    "Collapsed": "false"
   },
   "outputs": [
    {
     "data": {
      "text/html": [
       "<div>\n",
       "<style scoped>\n",
       "    .dataframe tbody tr th:only-of-type {\n",
       "        vertical-align: middle;\n",
       "    }\n",
       "\n",
       "    .dataframe tbody tr th {\n",
       "        vertical-align: top;\n",
       "    }\n",
       "\n",
       "    .dataframe thead th {\n",
       "        text-align: right;\n",
       "    }\n",
       "</style>\n",
       "<table border=\"1\" class=\"dataframe\">\n",
       "  <thead>\n",
       "    <tr style=\"text-align: right;\">\n",
       "      <th></th>\n",
       "      <th>sentiment_</th>\n",
       "      <th>Value</th>\n",
       "      <th>returns</th>\n",
       "      <th>sentiment_lag</th>\n",
       "      <th>L_s1</th>\n",
       "      <th>L_s2</th>\n",
       "    </tr>\n",
       "  </thead>\n",
       "  <tbody>\n",
       "    <tr>\n",
       "      <th>2019-09-02</th>\n",
       "      <td>0.883838</td>\n",
       "      <td>9621.701667</td>\n",
       "      <td>0.003141</td>\n",
       "      <td>NaN</td>\n",
       "      <td>NaN</td>\n",
       "      <td>NaN</td>\n",
       "    </tr>\n",
       "    <tr>\n",
       "      <th>2019-09-03</th>\n",
       "      <td>0.842254</td>\n",
       "      <td>9937.605000</td>\n",
       "      <td>0.032832</td>\n",
       "      <td>0.883838</td>\n",
       "      <td>-0.047050</td>\n",
       "      <td>NaN</td>\n",
       "    </tr>\n",
       "    <tr>\n",
       "      <th>2019-09-04</th>\n",
       "      <td>0.735915</td>\n",
       "      <td>10518.406667</td>\n",
       "      <td>0.058445</td>\n",
       "      <td>0.842254</td>\n",
       "      <td>-0.126254</td>\n",
       "      <td>-0.047050</td>\n",
       "    </tr>\n",
       "    <tr>\n",
       "      <th>2019-09-05</th>\n",
       "      <td>0.571984</td>\n",
       "      <td>10568.231667</td>\n",
       "      <td>0.004737</td>\n",
       "      <td>0.735915</td>\n",
       "      <td>-0.222758</td>\n",
       "      <td>-0.126254</td>\n",
       "    </tr>\n",
       "    <tr>\n",
       "      <th>2019-09-06</th>\n",
       "      <td>0.630653</td>\n",
       "      <td>10559.038333</td>\n",
       "      <td>-0.000870</td>\n",
       "      <td>0.571984</td>\n",
       "      <td>0.102571</td>\n",
       "      <td>-0.222758</td>\n",
       "    </tr>\n",
       "  </tbody>\n",
       "</table>\n",
       "</div>"
      ],
      "text/plain": [
       "            sentiment_         Value   returns  sentiment_lag      L_s1  \\\n",
       "2019-09-02    0.883838   9621.701667  0.003141            NaN       NaN   \n",
       "2019-09-03    0.842254   9937.605000  0.032832       0.883838 -0.047050   \n",
       "2019-09-04    0.735915  10518.406667  0.058445       0.842254 -0.126254   \n",
       "2019-09-05    0.571984  10568.231667  0.004737       0.735915 -0.222758   \n",
       "2019-09-06    0.630653  10559.038333 -0.000870       0.571984  0.102571   \n",
       "\n",
       "                L_s2  \n",
       "2019-09-02       NaN  \n",
       "2019-09-03       NaN  \n",
       "2019-09-04 -0.047050  \n",
       "2019-09-05 -0.126254  \n",
       "2019-09-06 -0.222758  "
      ]
     },
     "execution_count": 47,
     "metadata": {},
     "output_type": "execute_result"
    }
   ],
   "source": [
    "timeseries['L_s1'] = timeseries['sentiment_'].pct_change(1)\n",
    "timeseries['L_s2'] = timeseries['sentiment_lag'].pct_change(1)\n",
    "timeseries.head()"
   ]
  },
  {
   "cell_type": "code",
   "execution_count": 48,
   "metadata": {
    "Collapsed": "false"
   },
   "outputs": [],
   "source": [
    "import statsmodels.api as sm\n",
    "import statsmodels.formula.api as smf"
   ]
  },
  {
   "cell_type": "code",
   "execution_count": 50,
   "metadata": {
    "Collapsed": "false"
   },
   "outputs": [
    {
     "data": {
      "text/html": [
       "<table class=\"simpletable\">\n",
       "<caption>OLS Regression Results</caption>\n",
       "<tr>\n",
       "  <th>Dep. Variable:</th>         <td>returns</td>     <th>  R-squared:         </th> <td>   0.097</td>\n",
       "</tr>\n",
       "<tr>\n",
       "  <th>Model:</th>                   <td>OLS</td>       <th>  Adj. R-squared:    </th> <td>   0.018</td>\n",
       "</tr>\n",
       "<tr>\n",
       "  <th>Method:</th>             <td>Least Squares</td>  <th>  F-statistic:       </th> <td>   1.229</td>\n",
       "</tr>\n",
       "<tr>\n",
       "  <th>Date:</th>             <td>Sun, 29 Sep 2019</td> <th>  Prob (F-statistic):</th>  <td> 0.311</td> \n",
       "</tr>\n",
       "<tr>\n",
       "  <th>Time:</th>                 <td>14:56:27</td>     <th>  Log-Likelihood:    </th> <td>  58.148</td>\n",
       "</tr>\n",
       "<tr>\n",
       "  <th>No. Observations:</th>      <td>    26</td>      <th>  AIC:               </th> <td>  -110.3</td>\n",
       "</tr>\n",
       "<tr>\n",
       "  <th>Df Residuals:</th>          <td>    23</td>      <th>  BIC:               </th> <td>  -106.5</td>\n",
       "</tr>\n",
       "<tr>\n",
       "  <th>Df Model:</th>              <td>     2</td>      <th>                     </th>     <td> </td>   \n",
       "</tr>\n",
       "<tr>\n",
       "  <th>Covariance Type:</th>      <td>nonrobust</td>    <th>                     </th>     <td> </td>   \n",
       "</tr>\n",
       "</table>\n",
       "<table class=\"simpletable\">\n",
       "<tr>\n",
       "      <td></td>         <th>coef</th>     <th>std err</th>      <th>t</th>      <th>P>|t|</th>  <th>[0.025</th>    <th>0.975]</th>  \n",
       "</tr>\n",
       "<tr>\n",
       "  <th>Intercept</th> <td>   -0.0086</td> <td>    0.005</td> <td>   -1.562</td> <td> 0.132</td> <td>   -0.020</td> <td>    0.003</td>\n",
       "</tr>\n",
       "<tr>\n",
       "  <th>L_s1</th>      <td>   -0.0237</td> <td>    0.021</td> <td>   -1.126</td> <td> 0.272</td> <td>   -0.067</td> <td>    0.020</td>\n",
       "</tr>\n",
       "<tr>\n",
       "  <th>L_s2</th>      <td>   -0.0340</td> <td>    0.024</td> <td>   -1.398</td> <td> 0.175</td> <td>   -0.084</td> <td>    0.016</td>\n",
       "</tr>\n",
       "</table>\n",
       "<table class=\"simpletable\">\n",
       "<tr>\n",
       "  <th>Omnibus:</th>       <td>13.096</td> <th>  Durbin-Watson:     </th> <td>   1.078</td>\n",
       "</tr>\n",
       "<tr>\n",
       "  <th>Prob(Omnibus):</th> <td> 0.001</td> <th>  Jarque-Bera (JB):  </th> <td>  19.479</td>\n",
       "</tr>\n",
       "<tr>\n",
       "  <th>Skew:</th>          <td>-0.908</td> <th>  Prob(JB):          </th> <td>5.89e-05</td>\n",
       "</tr>\n",
       "<tr>\n",
       "  <th>Kurtosis:</th>      <td> 6.832</td> <th>  Cond. No.          </th> <td>    4.92</td>\n",
       "</tr>\n",
       "</table><br/><br/>Warnings:<br/>[1] Standard Errors assume that the covariance matrix of the errors is correctly specified."
      ],
      "text/plain": [
       "<class 'statsmodels.iolib.summary.Summary'>\n",
       "\"\"\"\n",
       "                            OLS Regression Results                            \n",
       "==============================================================================\n",
       "Dep. Variable:                returns   R-squared:                       0.097\n",
       "Model:                            OLS   Adj. R-squared:                  0.018\n",
       "Method:                 Least Squares   F-statistic:                     1.229\n",
       "Date:                Sun, 29 Sep 2019   Prob (F-statistic):              0.311\n",
       "Time:                        14:56:27   Log-Likelihood:                 58.148\n",
       "No. Observations:                  26   AIC:                            -110.3\n",
       "Df Residuals:                      23   BIC:                            -106.5\n",
       "Df Model:                           2                                         \n",
       "Covariance Type:            nonrobust                                         \n",
       "==============================================================================\n",
       "                 coef    std err          t      P>|t|      [0.025      0.975]\n",
       "------------------------------------------------------------------------------\n",
       "Intercept     -0.0086      0.005     -1.562      0.132      -0.020       0.003\n",
       "L_s1          -0.0237      0.021     -1.126      0.272      -0.067       0.020\n",
       "L_s2          -0.0340      0.024     -1.398      0.175      -0.084       0.016\n",
       "==============================================================================\n",
       "Omnibus:                       13.096   Durbin-Watson:                   1.078\n",
       "Prob(Omnibus):                  0.001   Jarque-Bera (JB):               19.479\n",
       "Skew:                          -0.908   Prob(JB):                     5.89e-05\n",
       "Kurtosis:                       6.832   Cond. No.                         4.92\n",
       "==============================================================================\n",
       "\n",
       "Warnings:\n",
       "[1] Standard Errors assume that the covariance matrix of the errors is correctly specified.\n",
       "\"\"\""
      ]
     },
     "execution_count": 50,
     "metadata": {},
     "output_type": "execute_result"
    }
   ],
   "source": [
    "mod1 = smf.ols(formula='returns ~ L_s1 + L_s2', \n",
    "               data=timeseries).fit()\n",
    "mod1.summary()"
   ]
  },
  {
   "cell_type": "markdown",
   "metadata": {
    "Collapsed": "true"
   },
   "source": [
    "## test Lexicon L1"
   ]
  },
  {
   "cell_type": "code",
   "execution_count": null,
   "metadata": {
    "Collapsed": "false"
   },
   "outputs": [],
   "source": [
    "L1 = pd.read_csv('http://www.thomas-renault.com/l1_lexicon.csv', sep = \";\")\n",
    "L1.sort_values(by = 'keyword').head()"
   ]
  },
  {
   "cell_type": "code",
   "execution_count": null,
   "metadata": {
    "Collapsed": "false"
   },
   "outputs": [],
   "source": [
    "Word_tokenize = X_train.apply(word_tokenize) "
   ]
  },
  {
   "cell_type": "markdown",
   "metadata": {
    "Collapsed": "true"
   },
   "source": [
    "## Predict out of sample"
   ]
  },
  {
   "cell_type": "code",
   "execution_count": null,
   "metadata": {
    "Collapsed": "false"
   },
   "outputs": [],
   "source": [
    "query ={\n",
    "    \"sentiment\":\"Neutral\" \n",
    "}\n",
    "X_predict = metatransformation(query = query,\n",
    "                               to_train = False)"
   ]
  },
  {
   "cell_type": "code",
   "execution_count": null,
   "metadata": {
    "Collapsed": "false"
   },
   "outputs": [],
   "source": [
    "predicted = text_clf.predict(X_predict)"
   ]
  },
  {
   "cell_type": "code",
   "execution_count": null,
   "metadata": {
    "Collapsed": "false"
   },
   "outputs": [],
   "source": [
    "pd.concat([pd.Series(X_predict, name = 'body').reset_index(),\n",
    "          pd.Series(predicted, name = 'predict')], axis = 1)"
   ]
  },
  {
   "cell_type": "markdown",
   "metadata": {
    "Collapsed": "true"
   },
   "source": [
    "# Appendix: Details steps & analytics\n",
    "\n",
    "## Text Analysis Operations using NLTK\n",
    "\n",
    "We use the full set with Bullish and Bearish \n",
    "\n",
    "### Tokenise pandas series"
   ]
  },
  {
   "cell_type": "code",
   "execution_count": null,
   "metadata": {
    "Collapsed": "false"
   },
   "outputs": [],
   "source": [
    "from nltk.tokenize import word_tokenize\n",
    "from nltk.probability import FreqDist\n",
    "import matplotlib.pyplot as plt"
   ]
  },
  {
   "cell_type": "code",
   "execution_count": null,
   "metadata": {
    "Collapsed": "false"
   },
   "outputs": [],
   "source": [
    "Word_tokenize = X_train.apply(word_tokenize) "
   ]
  },
  {
   "cell_type": "code",
   "execution_count": null,
   "metadata": {
    "Collapsed": "false"
   },
   "outputs": [],
   "source": [
    "Word_tokenize.head()"
   ]
  },
  {
   "cell_type": "markdown",
   "metadata": {
    "Collapsed": "false"
   },
   "source": [
    "We need to flatten the list with NLTK"
   ]
  },
  {
   "cell_type": "code",
   "execution_count": null,
   "metadata": {
    "Collapsed": "false"
   },
   "outputs": [],
   "source": [
    "flattened_list = [y for x in Word_tokenize.tolist() for y in x]"
   ]
  },
  {
   "cell_type": "markdown",
   "metadata": {
    "Collapsed": "false"
   },
   "source": [
    "### Plot the frequency distribution"
   ]
  },
  {
   "cell_type": "code",
   "execution_count": null,
   "metadata": {
    "Collapsed": "false"
   },
   "outputs": [],
   "source": [
    "fdist = FreqDist(flattened_list)"
   ]
  },
  {
   "cell_type": "code",
   "execution_count": null,
   "metadata": {
    "Collapsed": "false"
   },
   "outputs": [],
   "source": [
    "fdist.plot(30,cumulative=False)\n",
    "plt.show()"
   ]
  },
  {
   "cell_type": "markdown",
   "metadata": {
    "Collapsed": "false"
   },
   "source": [
    "### TF-IDF:  Our approach\n",
    "\n",
    "As explained in the previous post, the tf-idf vectorization of a corpus of text documents assigns each word in a document a number that is proportional to its frequency in the document and inversely proportional to the number of documents in which it occurs\n",
    "\n",
    "TF: Term Frequency, which measures how frequently a term occurs in a document. Since every document is different in length, it is possible that a term would appear much more times in long documents than shorter ones. Thus, the term frequency is often divided by the document length (aka. the total number of terms in the document) as a way of normalization:\n",
    "\n",
    "TF(t) = (Number of times term t appears in a document) / (Total number of terms in the document).\n",
    "\n",
    "IDF: Inverse Document Frequency, which measures how important a term is. While computing TF, all terms are considered equally important. However it is known that certain terms, such as \"is\", \"of\", and \"that\", may appear a lot of times but have little importance. Thus we need to weigh down the frequent terms while scale up the rare ones, by computing the following:\n",
    "\n",
    "IDF(t) = log_e(Total number of documents / Number of documents with term t in it)."
   ]
  },
  {
   "cell_type": "code",
   "execution_count": null,
   "metadata": {
    "Collapsed": "false"
   },
   "outputs": [],
   "source": [
    "from sklearn.feature_extraction.text import TfidfTransformer\n",
    "from sklearn.feature_extraction.text import CountVectorizer"
   ]
  },
  {
   "cell_type": "markdown",
   "metadata": {
    "Collapsed": "false"
   },
   "source": [
    "Compute the IDFs"
   ]
  },
  {
   "cell_type": "markdown",
   "metadata": {
    "Collapsed": "false"
   },
   "source": [
    "Compute the TFIDF score\n",
    "\n",
    "The higher the TF*IDF score (weight), the rarer the term and vice versa."
   ]
  }
 ],
 "metadata": {
  "kernelspec": {
   "display_name": "Python 3",
   "language": "python",
   "name": "python3"
  },
  "language_info": {
   "codemirror_mode": {
    "name": "ipython",
    "version": 3
   },
   "file_extension": ".py",
   "mimetype": "text/x-python",
   "name": "python",
   "nbconvert_exporter": "python",
   "pygments_lexer": "ipython3",
   "version": "3.7.3"
  }
 },
 "nbformat": 4,
 "nbformat_minor": 4
}
