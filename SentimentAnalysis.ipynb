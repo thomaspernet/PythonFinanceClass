{
 "cells": [
  {
   "cell_type": "markdown",
   "metadata": {
    "Collapsed": "false"
   },
   "source": [
    "# Sentiment Anlysis\n",
    "\n",
    "Related paper : [IntradayonlineinvestorsentimentandreturnpatternsintheU.S.stockmarket](https://drive.google.com/open?id=1L8bS8vNTXS-HWToP4zMpqfT308n-LxZb)\n",
    "\n",
    "Lecture on sentiment analysis: [Project](https://drive.google.com/open?id=0B0rdK44Elj9RZzdYMnJzaTREaHlhOUlmNGd2Qzg3RFJTSDBn)\n",
    "\n",
    "## Steps:\n",
    "\n",
    "1. Clean the text\n",
    "2. Build a lexicon\n",
    "3. Build an ML model\n",
    "4. Compare with true value: [L1/L2](http://www.thomas-renault.com/data.php)\n",
    "5. Compute accuracy"
   ]
  },
  {
   "cell_type": "code",
   "execution_count": 1,
   "metadata": {
    "Collapsed": "false"
   },
   "outputs": [],
   "source": [
    "import pandas as pd\n",
    "import pymongo\n",
    "from pymongo import MongoClient"
   ]
  },
  {
   "cell_type": "markdown",
   "metadata": {
    "Collapsed": "false"
   },
   "source": [
    "## Create connection with Mongo"
   ]
  },
  {
   "cell_type": "code",
   "execution_count": 2,
   "metadata": {
    "Collapsed": "false"
   },
   "outputs": [],
   "source": [
    "client = MongoClient('localhost', 27017)\n",
    "\n",
    "### Client is the database\n",
    "db = client['StockTwitClass101']"
   ]
  },
  {
   "cell_type": "markdown",
   "metadata": {
    "Collapsed": "false"
   },
   "source": [
    "## Step 1: Clean the text\n",
    "\n",
    "1. Keep only twit with sentiment either `Bullish` or `Bearish` and remove multiple stock twits\n",
    "2. take negation into account, we add the prefix \"negtag_\" to all words following \"not\",\"no\",\"none\",\"neither\",\"never\" or “nobody”\n",
    "3. Convert emoji ;):):-)=):D as \"emojipos\"  :( :-( =( as\"emojineg\n",
    "4. Convert digit to \"_digit\"\n",
    "5. Remove when mention a user\n",
    "6. lemmatize corpus\n",
    "2. Remove Stop words\n"
   ]
  },
  {
   "cell_type": "code",
   "execution_count": 3,
   "metadata": {
    "Collapsed": "false"
   },
   "outputs": [],
   "source": [
    "#cursor = db.messages.find({\"sentimen\": { \"$ne\": \"Neutral\" }})\n",
    "#for document in cursor:\n",
    "#    if len(document['symbols']) == 2: \n",
    "#        print(document['body'])"
   ]
  },
  {
   "cell_type": "markdown",
   "metadata": {
    "Collapsed": "false"
   },
   "source": [
    "### Keep only twit with sentiment either Bullish or Bearish and remove multiple stock twits"
   ]
  },
  {
   "cell_type": "code",
   "execution_count": 4,
   "metadata": {
    "Collapsed": "false"
   },
   "outputs": [
    {
     "data": {
      "text/plain": [
       "(29316, 9)"
      ]
     },
     "execution_count": 4,
     "metadata": {},
     "output_type": "execute_result"
    }
   ],
   "source": [
    "query ={\n",
    "    \"sentiment\":{ \"$ne\": \"Neutral\" }\n",
    "}\n",
    "df = pd.DataFrame(list(db.messages.find(query)))\n",
    "\n",
    "df['count_stock'] = df['symbols'].apply(lambda x: len(x))\n",
    "\n",
    "df_toanalyse = df.copy()\n",
    "\n",
    "df_toanalyse = df_toanalyse[df_toanalyse['count_stock'].isin([1])]\n",
    "\n",
    "df_toanalyse.shape"
   ]
  },
  {
   "cell_type": "code",
   "execution_count": 5,
   "metadata": {
    "Collapsed": "false"
   },
   "outputs": [
    {
     "data": {
      "text/plain": [
       "sentiment\n",
       "Bearish     8548\n",
       "Bullish    20768\n",
       "Name: sentiment, dtype: int64"
      ]
     },
     "execution_count": 5,
     "metadata": {},
     "output_type": "execute_result"
    }
   ],
   "source": [
    "df_toanalyse.groupby('sentiment')['sentiment'].count()"
   ]
  },
  {
   "cell_type": "markdown",
   "metadata": {
    "Collapsed": "false"
   },
   "source": [
    "### take negation into account\n",
    "\n",
    "- \"not\",\"no\",\"none\",\"neither\",\"never\" or “nobody”"
   ]
  },
  {
   "cell_type": "code",
   "execution_count": 6,
   "metadata": {
    "Collapsed": "false"
   },
   "outputs": [],
   "source": [
    "df_toanalyse['body_'] = df_toanalyse['body'].replace(regex={r\"\\bnothing\\b\": 'nothing_negword',\n",
    "                                    r\"\\bno\\b\": 'no_negword',\n",
    "                                    r\"\\bnone\\b\": 'none_negword',\n",
    "                                    r\"\\bneither\\b\": 'neither_negword',\n",
    "                                    r\"\\bnever\\b\": 'never_negword',\n",
    "                                    r\"\\bnobody\\b\": 'nobody_negword'\n",
    "                                   })"
   ]
  },
  {
   "cell_type": "markdown",
   "metadata": {
    "Collapsed": "false"
   },
   "source": [
    "### Convert emojis\n",
    "\n",
    "**Positive emojis**\n",
    "\n",
    "- `;)`; `:)`; `:-)`; `=)`; `:D`\n",
    "    - as emojipos\n",
    "\n",
    "**Negative emojis**\n",
    "\n",
    "- `:(`, `:-(`, `=(`\n",
    "    - as emojineg"
   ]
  },
  {
   "cell_type": "code",
   "execution_count": 7,
   "metadata": {
    "Collapsed": "false"
   },
   "outputs": [],
   "source": [
    "#df_toanalyse[df_toanalyse['user'].isin(['ricardotubbsvicelord'])]['body']"
   ]
  },
  {
   "cell_type": "markdown",
   "metadata": {
    "Collapsed": "false"
   },
   "source": [
    "### Convert digit to \"_digit\""
   ]
  },
  {
   "cell_type": "code",
   "execution_count": 8,
   "metadata": {
    "Collapsed": "false"
   },
   "outputs": [],
   "source": [
    "df_toanalyse['body_'] = df_toanalyse['body_'].replace(regex={r\"\\d+\": 'isDigit'})"
   ]
  },
  {
   "cell_type": "markdown",
   "metadata": {
    "Collapsed": "false"
   },
   "source": [
    "### Remove @USER"
   ]
  },
  {
   "cell_type": "code",
   "execution_count": 9,
   "metadata": {
    "Collapsed": "false"
   },
   "outputs": [],
   "source": [
    "df_toanalyse['body_'] = df_toanalyse['body_'].replace(regex={r\"([@?])(\\w+)\\b\": 'user'})"
   ]
  },
  {
   "cell_type": "markdown",
   "metadata": {
    "Collapsed": "false"
   },
   "source": [
    "### Remove unicode issue\n",
    "\n",
    "- `&#`"
   ]
  },
  {
   "cell_type": "code",
   "execution_count": 10,
   "metadata": {
    "Collapsed": "false"
   },
   "outputs": [],
   "source": [
    "df_toanalyse['body_'] = df_toanalyse['body_'].replace(regex={r\"\\b&#\\b\": ' '})"
   ]
  },
  {
   "cell_type": "markdown",
   "metadata": {
    "Collapsed": "false"
   },
   "source": [
    "### to lower"
   ]
  },
  {
   "cell_type": "code",
   "execution_count": 11,
   "metadata": {
    "Collapsed": "false"
   },
   "outputs": [],
   "source": [
    "df_toanalyse['body_'] = df_toanalyse['body_'].str.lower()"
   ]
  },
  {
   "cell_type": "markdown",
   "metadata": {
    "Collapsed": "false"
   },
   "source": [
    "### lemmatize corpus"
   ]
  },
  {
   "cell_type": "code",
   "execution_count": 12,
   "metadata": {
    "Collapsed": "false"
   },
   "outputs": [
    {
     "name": "stderr",
     "output_type": "stream",
     "text": [
      "[nltk_data] Downloading package wordnet to /Users/thomas/nltk_data...\n",
      "[nltk_data]   Package wordnet is already up-to-date!\n",
      "[nltk_data] Downloading package punkt to /Users/thomas/nltk_data...\n",
      "[nltk_data]   Package punkt is already up-to-date!\n",
      "[nltk_data] Downloading package stopwords to\n",
      "[nltk_data]     /Users/thomas/nltk_data...\n",
      "[nltk_data]   Package stopwords is already up-to-date!\n"
     ]
    },
    {
     "data": {
      "text/plain": [
       "True"
      ]
     },
     "execution_count": 12,
     "metadata": {},
     "output_type": "execute_result"
    }
   ],
   "source": [
    "import nltk\n",
    "nltk.download('wordnet')\n",
    "nltk.download('punkt')\n",
    "nltk.download('stopwords')"
   ]
  },
  {
   "cell_type": "code",
   "execution_count": 13,
   "metadata": {
    "Collapsed": "false"
   },
   "outputs": [],
   "source": [
    "from nltk.stem import WordNetLemmatizer"
   ]
  },
  {
   "cell_type": "code",
   "execution_count": 14,
   "metadata": {
    "Collapsed": "false"
   },
   "outputs": [],
   "source": [
    "lemmatizer = WordNetLemmatizer()\n",
    "w_tokenizer = nltk.tokenize.WhitespaceTokenizer()"
   ]
  },
  {
   "cell_type": "code",
   "execution_count": 15,
   "metadata": {
    "Collapsed": "false"
   },
   "outputs": [],
   "source": [
    "def lemmatize_text(text):\n",
    "    lem =  [lemmatizer.lemmatize(w) for w in w_tokenizer.tokenize(text)]\n",
    "    document = ' '.join(lem)\n",
    "    return document"
   ]
  },
  {
   "cell_type": "code",
   "execution_count": 16,
   "metadata": {
    "Collapsed": "false"
   },
   "outputs": [],
   "source": [
    "df_toanalyse['body_lemmatize'] = df_toanalyse['body_'].apply(lemmatize_text)"
   ]
  },
  {
   "cell_type": "markdown",
   "metadata": {
    "Collapsed": "false"
   },
   "source": [
    "### Remove Stop word\n",
    "\n",
    "Using Scikit learn library"
   ]
  },
  {
   "cell_type": "code",
   "execution_count": 17,
   "metadata": {
    "Collapsed": "false"
   },
   "outputs": [
    {
     "data": {
      "text/html": [
       "<div>\n",
       "<style scoped>\n",
       "    .dataframe tbody tr th:only-of-type {\n",
       "        vertical-align: middle;\n",
       "    }\n",
       "\n",
       "    .dataframe tbody tr th {\n",
       "        vertical-align: top;\n",
       "    }\n",
       "\n",
       "    .dataframe thead th {\n",
       "        text-align: right;\n",
       "    }\n",
       "</style>\n",
       "<table border=\"1\" class=\"dataframe\">\n",
       "  <thead>\n",
       "    <tr style=\"text-align: right;\">\n",
       "      <th></th>\n",
       "      <th>_id</th>\n",
       "      <th>body</th>\n",
       "      <th>created_at</th>\n",
       "      <th>id</th>\n",
       "      <th>sentiment</th>\n",
       "      <th>sentiment_</th>\n",
       "      <th>symbols</th>\n",
       "      <th>user</th>\n",
       "      <th>count_stock</th>\n",
       "      <th>body_</th>\n",
       "      <th>body_lemmatize</th>\n",
       "    </tr>\n",
       "  </thead>\n",
       "  <tbody>\n",
       "    <tr>\n",
       "      <th>0</th>\n",
       "      <td>5d8e4264a840b5ab5bac84a0</td>\n",
       "      <td>$BTC.X the bottom is 7960...it is written</td>\n",
       "      <td>2019-09-27T17:09:13Z</td>\n",
       "      <td>178878941</td>\n",
       "      <td>Bullish</td>\n",
       "      <td>1</td>\n",
       "      <td>[Bitcoin BTC/USD]</td>\n",
       "      <td>ricardotubbsvicelord</td>\n",
       "      <td>1</td>\n",
       "      <td>$btc.x the bottom is isdigit...it is written</td>\n",
       "      <td>$btc.x the bottom is isdigit...it is written</td>\n",
       "    </tr>\n",
       "    <tr>\n",
       "      <th>1</th>\n",
       "      <td>5d8e4264a840b5ab5bac84a2</td>\n",
       "      <td>$BTC.X When September futures expire this thin...</td>\n",
       "      <td>2019-09-27T17:08:38Z</td>\n",
       "      <td>178878838</td>\n",
       "      <td>Bullish</td>\n",
       "      <td>1</td>\n",
       "      <td>[Bitcoin BTC/USD]</td>\n",
       "      <td>carlsagan</td>\n",
       "      <td>1</td>\n",
       "      <td>$btc.x when september futures expire this thin...</td>\n",
       "      <td>$btc.x when september future expire this thing...</td>\n",
       "    </tr>\n",
       "  </tbody>\n",
       "</table>\n",
       "</div>"
      ],
      "text/plain": [
       "                        _id  \\\n",
       "0  5d8e4264a840b5ab5bac84a0   \n",
       "1  5d8e4264a840b5ab5bac84a2   \n",
       "\n",
       "                                                body            created_at  \\\n",
       "0          $BTC.X the bottom is 7960...it is written  2019-09-27T17:09:13Z   \n",
       "1  $BTC.X When September futures expire this thin...  2019-09-27T17:08:38Z   \n",
       "\n",
       "          id sentiment  sentiment_            symbols                  user  \\\n",
       "0  178878941   Bullish           1  [Bitcoin BTC/USD]  ricardotubbsvicelord   \n",
       "1  178878838   Bullish           1  [Bitcoin BTC/USD]             carlsagan   \n",
       "\n",
       "   count_stock                                              body_  \\\n",
       "0            1       $btc.x the bottom is isdigit...it is written   \n",
       "1            1  $btc.x when september futures expire this thin...   \n",
       "\n",
       "                                      body_lemmatize  \n",
       "0       $btc.x the bottom is isdigit...it is written  \n",
       "1  $btc.x when september future expire this thing...  "
      ]
     },
     "execution_count": 17,
     "metadata": {},
     "output_type": "execute_result"
    }
   ],
   "source": [
    "df_toanalyse.head(2)"
   ]
  },
  {
   "cell_type": "code",
   "execution_count": 18,
   "metadata": {
    "Collapsed": "false"
   },
   "outputs": [],
   "source": [
    "from sklearn.feature_extraction.text import CountVectorizer\n",
    "from nltk.corpus import stopwords"
   ]
  },
  {
   "cell_type": "code",
   "execution_count": 19,
   "metadata": {
    "Collapsed": "false"
   },
   "outputs": [],
   "source": [
    "count_vect = CountVectorizer(max_features=1500,\n",
    "                             min_df=10,\n",
    "                             max_df=0.7,\n",
    "                             stop_words=stopwords.words('english')\n",
    "                            )"
   ]
  },
  {
   "cell_type": "code",
   "execution_count": 20,
   "metadata": {
    "Collapsed": "false"
   },
   "outputs": [
    {
     "data": {
      "text/plain": [
       "(29316, 1500)"
      ]
     },
     "execution_count": 20,
     "metadata": {},
     "output_type": "execute_result"
    }
   ],
   "source": [
    "X_train_counts = count_vect.fit_transform(df_toanalyse['body_lemmatize'])\n",
    "X_train_counts.shape"
   ]
  },
  {
   "cell_type": "markdown",
   "metadata": {
    "Collapsed": "false"
   },
   "source": [
    "Example of tokenisation"
   ]
  },
  {
   "cell_type": "code",
   "execution_count": 21,
   "metadata": {
    "Collapsed": "false"
   },
   "outputs": [
    {
     "name": "stdout",
     "output_type": "stream",
     "text": [
      "bottom 153\n",
      "isdigit 685\n",
      "september 1164\n",
      "future 523\n",
      "expire 435\n"
     ]
    }
   ],
   "source": [
    "i = 0\n",
    "for key, value in count_vect.vocabulary_.items():\n",
    "    if i < 5:\n",
    "        print(key, value)\n",
    "    else:\n",
    "        break\n",
    "    i+=1\n"
   ]
  },
  {
   "cell_type": "markdown",
   "metadata": {
    "Collapsed": "false"
   },
   "source": [
    "As in the lecture, we can check the matrix in a Dataframe"
   ]
  },
  {
   "cell_type": "code",
   "execution_count": 22,
   "metadata": {
    "Collapsed": "false"
   },
   "outputs": [
    {
     "data": {
      "text/plain": [
       "29316"
      ]
     },
     "execution_count": 22,
     "metadata": {},
     "output_type": "execute_result"
    }
   ],
   "source": [
    "count_vect.get_feature_names()\n",
    "len(X_train_counts.toarray())"
   ]
  },
  {
   "cell_type": "code",
   "execution_count": 23,
   "metadata": {
    "Collapsed": "false"
   },
   "outputs": [
    {
     "data": {
      "text/plain": [
       "34"
      ]
     },
     "execution_count": 23,
     "metadata": {},
     "output_type": "execute_result"
    }
   ],
   "source": [
    "count_vect.vocabulary_.get(u'algorithm')"
   ]
  },
  {
   "cell_type": "code",
   "execution_count": 24,
   "metadata": {
    "Collapsed": "false"
   },
   "outputs": [],
   "source": [
    "from yellowbrick.text import FreqDistVisualizer\n",
    "from yellowbrick.datasets import load_hobbies"
   ]
  },
  {
   "cell_type": "code",
   "execution_count": 27,
   "metadata": {
    "Collapsed": "false"
   },
   "outputs": [],
   "source": [
    "features = count_vect.get_feature_names()"
   ]
  },
  {
   "cell_type": "code",
   "execution_count": 28,
   "metadata": {
    "Collapsed": "false"
   },
   "outputs": [
    {
     "data": {
      "image/png": "[encoded data removed]",
      "text/plain": [
       "<Figure size 432x288 with 1 Axes>"
      ]
     },
     "metadata": {
      "needs_background": "light"
     },
     "output_type": "display_data"
    },
    {
     "data": {
      "text/plain": [
       "<matplotlib.axes._subplots.AxesSubplot at 0x118955a20>"
      ]
     },
     "execution_count": 28,
     "metadata": {},
     "output_type": "execute_result"
    }
   ],
   "source": [
    "visualizer = FreqDistVisualizer(features=features, orient='v')\n",
    "visualizer.fit(X_train_counts)\n",
    "visualizer.poof()"
   ]
  },
  {
   "cell_type": "markdown",
   "metadata": {
    "Collapsed": "false"
   },
   "source": [
    "### "
   ]
  }
 ],
 "metadata": {
  "kernelspec": {
   "display_name": "Python 3",
   "language": "python",
   "name": "python3"
  },
  "language_info": {
   "codemirror_mode": {
    "name": "ipython",
    "version": 3
   },
   "file_extension": ".py",
   "mimetype": "text/x-python",
   "name": "python",
   "nbconvert_exporter": "python",
   "pygments_lexer": "ipython3",
   "version": "3.7.3"
  }
 },
 "nbformat": 4,
 "nbformat_minor": 4
}
